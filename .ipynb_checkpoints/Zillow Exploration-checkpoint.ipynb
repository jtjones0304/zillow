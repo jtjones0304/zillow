{
 "cells": [
  {
   "cell_type": "markdown",
   "metadata": {},
   "source": [
    "# Predicting Changes in the Zillow Home Value Index by Zip Code"
   ]
  },
  {
   "cell_type": "markdown",
   "metadata": {},
   "source": [
    "### Import Libraries"
   ]
  },
  {
   "cell_type": "code",
   "execution_count": 1417,
   "metadata": {},
   "outputs": [],
   "source": [
    "import pandas as pd\n",
    "import matplotlib as plt\n",
    "from functools import reduce\n",
    "from sklearn.model_selection import train_test_split\n",
    "import numpy as np\n",
    "import pickle\n",
    "from sklearn.linear_model import LinearRegression\n",
    "from sklearn.ensemble import RandomForestClassifier\n",
    "from sklearn.datasets import make_classification\n",
    "from sklearn.metrics import confusion_matrix\n",
    "from sklearn.metrics import f1_score\n",
    "from sklearn import metrics\n",
    "import matplotlib.pyplot as plt\n",
    "from xgboost import XGBClassifier\n",
    "\n",
    "from sklearn import preprocessing\n",
    "from sklearn.preprocessing import StandardScaler\n",
    "\n",
    "from sklearn.decomposition import PCA\n",
    "from sklearn.manifold import TSNE"
   ]
  },
  {
   "cell_type": "markdown",
   "metadata": {},
   "source": [
    "### Load Data"
   ]
  },
  {
   "cell_type": "code",
   "execution_count": 1418,
   "metadata": {},
   "outputs": [],
   "source": [
    "zhvi_data = pd.read_csv('/Users/philglazer/Desktop/zillow_data/Zip_Zhvi_SingleFamilyResidence.csv',encoding = \"ISO-8859-1\")"
   ]
  },
  {
   "cell_type": "code",
   "execution_count": 1419,
   "metadata": {},
   "outputs": [],
   "source": [
    "zhvi_rental_data = pd.read_csv('/Users/philglazer/Desktop/zillow_data/Zip_Zri_SingleFamilyResidenceRental.csv',encoding = \"ISO-8859-1\")"
   ]
  },
  {
   "cell_type": "code",
   "execution_count": 1420,
   "metadata": {},
   "outputs": [],
   "source": [
    "buyer_seller_index = pd.read_csv('/Users/philglazer/Desktop/zillow_data/BuyerSellerIndexCrossTime_Zip.csv',encoding = \"ISO-8859-1\")"
   ]
  },
  {
   "cell_type": "code",
   "execution_count": 1421,
   "metadata": {},
   "outputs": [],
   "source": [
    "# code to clean up date columns in the buyer_seller_index table; needed to be able to join with other tables on date\n",
    "# ex: turns '2018-6' into '2018-06', '2017-2' into '2017-02', etc.\n",
    "\n",
    "for c in buyer_seller_index.columns:\n",
    "    if '-' in c:\n",
    "        first_digit = c.split('-')[0]\n",
    "        second_digit = c.split('-')[1]\n",
    "        if int(second_digit) < 10:\n",
    "            temp = '0' + str(second_digit)\n",
    "            buyer_seller_index.rename(columns={c:first_digit+'-'+temp},inplace=True)\n",
    "        #print(c.split('-')[1])\n",
    "        "
   ]
  },
  {
   "cell_type": "code",
   "execution_count": 1422,
   "metadata": {},
   "outputs": [],
   "source": [
    "foreclosures_resales = pd.read_csv('/Users/philglazer/Desktop/zillow_data/SalesPrevForeclosed_Share_Zip.csv',encoding = \"ISO-8859-1\")"
   ]
  },
  {
   "cell_type": "code",
   "execution_count": 1423,
   "metadata": {},
   "outputs": [],
   "source": [
    "sale_price_data = pd.read_csv('/Users/philglazer/Desktop/zillow_data/Sale_Prices_Zip.csv')"
   ]
  },
  {
   "cell_type": "code",
   "execution_count": 1424,
   "metadata": {},
   "outputs": [],
   "source": [
    "sale_counts_data = pd.read_csv('/Users/philglazer/Desktop/zillow_data/Sale_Counts_Zip.csv')"
   ]
  },
  {
   "cell_type": "code",
   "execution_count": 1425,
   "metadata": {},
   "outputs": [],
   "source": [
    "median_listing_price_data = pd.read_csv('/Users/philglazer/Desktop/zillow_data/Zip_MedianListingPrice_AllHomes.csv',encoding = \"ISO-8859-1\")"
   ]
  },
  {
   "cell_type": "code",
   "execution_count": 1426,
   "metadata": {},
   "outputs": [],
   "source": [
    "median_listing_price_persqft_data = pd.read_csv('/Users/philglazer/Desktop/zillow_data/Zip_MedianListingPricePerSqft_AllHomes.csv',encoding = \"ISO-8859-1\")"
   ]
  },
  {
   "cell_type": "code",
   "execution_count": 1427,
   "metadata": {},
   "outputs": [],
   "source": [
    "percent_listings_price_reductions_data = pd.read_csv('/Users/philglazer/Desktop/zillow_data/Zip_PctOfListingsWithPriceReductions_AllHomes.csv',encoding = \"ISO-8859-1\")"
   ]
  },
  {
   "cell_type": "code",
   "execution_count": 1428,
   "metadata": {},
   "outputs": [],
   "source": [
    "median_percent_price_reductions_data = pd.read_csv('/Users/philglazer/Desktop/zillow_data/Zip_MedianPctOfPriceReduction_AllHomes.csv',encoding = \"ISO-8859-1\")"
   ]
  },
  {
   "cell_type": "code",
   "execution_count": 1429,
   "metadata": {},
   "outputs": [],
   "source": [
    "monthly_listings_allhomes_data = pd.read_csv('/Users/philglazer/Desktop/zillow_data/MonthlyListings_NSA_AllHomes_Zip.csv',encoding = \"ISO-8859-1\")"
   ]
  },
  {
   "cell_type": "code",
   "execution_count": 1430,
   "metadata": {},
   "outputs": [],
   "source": [
    "new_monthly_listings_nsa_allhomes_data = pd.read_csv('/Users/philglazer/Desktop/zillow_data/NewMonthlyListings_NSA_AllHomes_Zip.csv',encoding = \"ISO-8859-1\")"
   ]
  },
  {
   "cell_type": "code",
   "execution_count": 1431,
   "metadata": {},
   "outputs": [],
   "source": [
    "median_daily_listings_nsa_allhomes_data = pd.read_csv('/Users/philglazer/Desktop/zillow_data/MedianDailyListings_NSA_AllHomes_Zip.csv',encoding = \"ISO-8859-1\")"
   ]
  },
  {
   "cell_type": "code",
   "execution_count": 1432,
   "metadata": {},
   "outputs": [],
   "source": [
    "price_to_rent_ratio_data = pd.read_csv('/Users/philglazer/Desktop/zillow_data/Zip_PriceToRentRatio_AllHomes.csv',encoding = \"ISO-8859-1\")"
   ]
  },
  {
   "cell_type": "markdown",
   "metadata": {},
   "source": [
    "#### List of data available"
   ]
  },
  {
   "cell_type": "code",
   "execution_count": 1433,
   "metadata": {},
   "outputs": [],
   "source": [
    "# used later to iterate over the data sets available\n",
    "\n",
    "data_sets = [zhvi_data, zhvi_rental_data, foreclosures_resales, sale_price_data, sale_counts_data, median_listing_price_data, median_listing_price_persqft_data,\n",
    "            percent_listings_price_reductions_data, median_percent_price_reductions_data, monthly_listings_allhomes_data,\n",
    "            new_monthly_listings_nsa_allhomes_data, median_daily_listings_nsa_allhomes_data, price_to_rent_ratio_data]\n",
    "\n",
    "# removed, mostly empty:'new_monthly_listings_nsa':new_monthly_listings_nsa_allhomes_data, \n",
    "# removed, mostly empty:'median_listing_price_persqft':median_listing_price_persqft_data,\n",
    "# removed, mostly empty:'sale_price':sale_price_data, \n",
    "# removed, mostly empty:'sale_counts':sale_counts_data,\n",
    "\n",
    "data_sets_dict = {\n",
    "    'zhvi':zhvi_data,\n",
    "    'zhvi_rental':zhvi_rental_data,\n",
    "    'buyer_seller_index':buyer_seller_index,\n",
    "    'foreclose_resales':foreclosures_resales,\n",
    "    'median_listing_price':median_listing_price_data, \n",
    "    'percent_listing_price_reductions':percent_listings_price_reductions_data, \n",
    "    'median_percent_price_reductions':median_percent_price_reductions_data, \n",
    "    'monthly_listings_allhomes':monthly_listings_allhomes_data,\n",
    "    'median_daily_listings':median_daily_listings_nsa_allhomes_data, \n",
    "    'price_to_rent_ratio':price_to_rent_ratio_data\n",
    "}"
   ]
  },
  {
   "cell_type": "code",
   "execution_count": 1434,
   "metadata": {},
   "outputs": [
    {
     "data": {
      "text/html": [
       "<div>\n",
       "<style scoped>\n",
       "    .dataframe tbody tr th:only-of-type {\n",
       "        vertical-align: middle;\n",
       "    }\n",
       "\n",
       "    .dataframe tbody tr th {\n",
       "        vertical-align: top;\n",
       "    }\n",
       "\n",
       "    .dataframe thead th {\n",
       "        text-align: right;\n",
       "    }\n",
       "</style>\n",
       "<table border=\"1\" class=\"dataframe\">\n",
       "  <thead>\n",
       "    <tr style=\"text-align: right;\">\n",
       "      <th></th>\n",
       "      <th>RegionID</th>\n",
       "      <th>RegionName</th>\n",
       "      <th>City</th>\n",
       "      <th>State</th>\n",
       "      <th>Metro</th>\n",
       "      <th>CountyName</th>\n",
       "      <th>SizeRank</th>\n",
       "      <th>1996-04</th>\n",
       "      <th>1996-05</th>\n",
       "      <th>1996-06</th>\n",
       "      <th>...</th>\n",
       "      <th>2018-07</th>\n",
       "      <th>2018-08</th>\n",
       "      <th>2018-09</th>\n",
       "      <th>2018-10</th>\n",
       "      <th>2018-11</th>\n",
       "      <th>2018-12</th>\n",
       "      <th>2019-01</th>\n",
       "      <th>2019-02</th>\n",
       "      <th>2019-03</th>\n",
       "      <th>2019-04</th>\n",
       "    </tr>\n",
       "  </thead>\n",
       "  <tbody>\n",
       "    <tr>\n",
       "      <th>0</th>\n",
       "      <td>84654</td>\n",
       "      <td>60657</td>\n",
       "      <td>Chicago</td>\n",
       "      <td>IL</td>\n",
       "      <td>Chicago-Naperville-Elgin</td>\n",
       "      <td>Cook County</td>\n",
       "      <td>1</td>\n",
       "      <td>337200.0</td>\n",
       "      <td>338200.0</td>\n",
       "      <td>339000.0</td>\n",
       "      <td>...</td>\n",
       "      <td>1041900</td>\n",
       "      <td>1044100</td>\n",
       "      <td>1047700</td>\n",
       "      <td>1049600</td>\n",
       "      <td>1048500</td>\n",
       "      <td>1048500</td>\n",
       "      <td>1052700</td>\n",
       "      <td>1057800</td>\n",
       "      <td>1067100</td>\n",
       "      <td>1076100</td>\n",
       "    </tr>\n",
       "    <tr>\n",
       "      <th>1</th>\n",
       "      <td>91982</td>\n",
       "      <td>77494</td>\n",
       "      <td>Katy</td>\n",
       "      <td>TX</td>\n",
       "      <td>Houston-The Woodlands-Sugar Land</td>\n",
       "      <td>Harris County</td>\n",
       "      <td>2</td>\n",
       "      <td>210400.0</td>\n",
       "      <td>212200.0</td>\n",
       "      <td>212200.0</td>\n",
       "      <td>...</td>\n",
       "      <td>336800</td>\n",
       "      <td>338100</td>\n",
       "      <td>338500</td>\n",
       "      <td>337200</td>\n",
       "      <td>336200</td>\n",
       "      <td>336100</td>\n",
       "      <td>335300</td>\n",
       "      <td>334000</td>\n",
       "      <td>333400</td>\n",
       "      <td>333200</td>\n",
       "    </tr>\n",
       "    <tr>\n",
       "      <th>2</th>\n",
       "      <td>84616</td>\n",
       "      <td>60614</td>\n",
       "      <td>Chicago</td>\n",
       "      <td>IL</td>\n",
       "      <td>Chicago-Naperville-Elgin</td>\n",
       "      <td>Cook County</td>\n",
       "      <td>3</td>\n",
       "      <td>502900.0</td>\n",
       "      <td>504900.0</td>\n",
       "      <td>506300.0</td>\n",
       "      <td>...</td>\n",
       "      <td>1320100</td>\n",
       "      <td>1320200</td>\n",
       "      <td>1319100</td>\n",
       "      <td>1318200</td>\n",
       "      <td>1319600</td>\n",
       "      <td>1322700</td>\n",
       "      <td>1328100</td>\n",
       "      <td>1334600</td>\n",
       "      <td>1340900</td>\n",
       "      <td>1342900</td>\n",
       "    </tr>\n",
       "    <tr>\n",
       "      <th>3</th>\n",
       "      <td>91940</td>\n",
       "      <td>77449</td>\n",
       "      <td>Katy</td>\n",
       "      <td>TX</td>\n",
       "      <td>Houston-The Woodlands-Sugar Land</td>\n",
       "      <td>Harris County</td>\n",
       "      <td>4</td>\n",
       "      <td>95400.0</td>\n",
       "      <td>95600.0</td>\n",
       "      <td>95800.0</td>\n",
       "      <td>...</td>\n",
       "      <td>177400</td>\n",
       "      <td>178100</td>\n",
       "      <td>178700</td>\n",
       "      <td>179600</td>\n",
       "      <td>180300</td>\n",
       "      <td>180900</td>\n",
       "      <td>181900</td>\n",
       "      <td>183200</td>\n",
       "      <td>182900</td>\n",
       "      <td>181500</td>\n",
       "    </tr>\n",
       "    <tr>\n",
       "      <th>4</th>\n",
       "      <td>93144</td>\n",
       "      <td>79936</td>\n",
       "      <td>El Paso</td>\n",
       "      <td>TX</td>\n",
       "      <td>El Paso</td>\n",
       "      <td>El Paso County</td>\n",
       "      <td>5</td>\n",
       "      <td>77300.0</td>\n",
       "      <td>77300.0</td>\n",
       "      <td>77300.0</td>\n",
       "      <td>...</td>\n",
       "      <td>123700</td>\n",
       "      <td>124600</td>\n",
       "      <td>125700</td>\n",
       "      <td>126400</td>\n",
       "      <td>126800</td>\n",
       "      <td>127500</td>\n",
       "      <td>128100</td>\n",
       "      <td>128600</td>\n",
       "      <td>128800</td>\n",
       "      <td>128800</td>\n",
       "    </tr>\n",
       "  </tbody>\n",
       "</table>\n",
       "<p>5 rows × 284 columns</p>\n",
       "</div>"
      ],
      "text/plain": [
       "   RegionID  RegionName     City State                             Metro  \\\n",
       "0     84654       60657  Chicago    IL          Chicago-Naperville-Elgin   \n",
       "1     91982       77494     Katy    TX  Houston-The Woodlands-Sugar Land   \n",
       "2     84616       60614  Chicago    IL          Chicago-Naperville-Elgin   \n",
       "3     91940       77449     Katy    TX  Houston-The Woodlands-Sugar Land   \n",
       "4     93144       79936  El Paso    TX                           El Paso   \n",
       "\n",
       "       CountyName  SizeRank   1996-04   1996-05   1996-06  ...  2018-07  \\\n",
       "0     Cook County         1  337200.0  338200.0  339000.0  ...  1041900   \n",
       "1   Harris County         2  210400.0  212200.0  212200.0  ...   336800   \n",
       "2     Cook County         3  502900.0  504900.0  506300.0  ...  1320100   \n",
       "3   Harris County         4   95400.0   95600.0   95800.0  ...   177400   \n",
       "4  El Paso County         5   77300.0   77300.0   77300.0  ...   123700   \n",
       "\n",
       "   2018-08  2018-09  2018-10  2018-11  2018-12  2019-01  2019-02  2019-03  \\\n",
       "0  1044100  1047700  1049600  1048500  1048500  1052700  1057800  1067100   \n",
       "1   338100   338500   337200   336200   336100   335300   334000   333400   \n",
       "2  1320200  1319100  1318200  1319600  1322700  1328100  1334600  1340900   \n",
       "3   178100   178700   179600   180300   180900   181900   183200   182900   \n",
       "4   124600   125700   126400   126800   127500   128100   128600   128800   \n",
       "\n",
       "   2019-04  \n",
       "0  1076100  \n",
       "1   333200  \n",
       "2  1342900  \n",
       "3   181500  \n",
       "4   128800  \n",
       "\n",
       "[5 rows x 284 columns]"
      ]
     },
     "execution_count": 1434,
     "metadata": {},
     "output_type": "execute_result"
    }
   ],
   "source": [
    "zhvi_data.head(5)"
   ]
  },
  {
   "cell_type": "code",
   "execution_count": 1440,
   "metadata": {},
   "outputs": [],
   "source": [
    "modeled_zipcodes = [37042, 77479, 87114, 6010, 33908, 97229, 29732, 28314, 40475, 19111]"
   ]
  },
  {
   "cell_type": "markdown",
   "metadata": {},
   "source": [
    "### Helper Functions"
   ]
  },
  {
   "cell_type": "code",
   "execution_count": 1436,
   "metadata": {},
   "outputs": [],
   "source": [
    "# function that gets the row corresponding to a specific zip code from a given table\n",
    "# the columns/rows need to be flipped, but the column names are dropped before the table is transposed\n",
    "# resulting output is a dataframe with columns for date and value for a given zipcode and given data table\n",
    "\n",
    "\n",
    "col_names = ['RegionID','RegionName','StateName','SizeRank','RegionType',\n",
    "            'City','County','State','Metro','CountyName']\n",
    "\n",
    "def prepare_df_for_zip(zip_code, data_set):\n",
    "    data = data_set[data_set['RegionName']==zip_code]\n",
    "    for c in col_names:\n",
    "        if c in data.columns:\n",
    "            data.drop([c],axis=1,inplace=True)\n",
    "    data = data.transpose()\n",
    "    data['Date'] = data.index\n",
    "    return data[data['Date']>='2010-01']\n",
    "    "
   ]
  },
  {
   "cell_type": "code",
   "execution_count": 1437,
   "metadata": {},
   "outputs": [
    {
     "name": "stderr",
     "output_type": "stream",
     "text": [
      "/Users/philglazer/anaconda3/lib/python3.7/site-packages/pandas/core/frame.py:3940: SettingWithCopyWarning:\n",
      "\n",
      "\n",
      "A value is trying to be set on a copy of a slice from a DataFrame\n",
      "\n",
      "See the caveats in the documentation: http://pandas.pydata.org/pandas-docs/stable/indexing.html#indexing-view-versus-copy\n",
      "\n"
     ]
    },
    {
     "data": {
      "text/html": [
       "<div>\n",
       "<style scoped>\n",
       "    .dataframe tbody tr th:only-of-type {\n",
       "        vertical-align: middle;\n",
       "    }\n",
       "\n",
       "    .dataframe tbody tr th {\n",
       "        vertical-align: top;\n",
       "    }\n",
       "\n",
       "    .dataframe thead th {\n",
       "        text-align: right;\n",
       "    }\n",
       "</style>\n",
       "<table border=\"1\" class=\"dataframe\">\n",
       "  <thead>\n",
       "    <tr style=\"text-align: right;\">\n",
       "      <th></th>\n",
       "      <th>4</th>\n",
       "      <th>Date</th>\n",
       "    </tr>\n",
       "  </thead>\n",
       "  <tbody>\n",
       "    <tr>\n",
       "      <th>2010-01</th>\n",
       "      <td>117300.0</td>\n",
       "      <td>2010-01</td>\n",
       "    </tr>\n",
       "    <tr>\n",
       "      <th>2010-02</th>\n",
       "      <td>117300.0</td>\n",
       "      <td>2010-02</td>\n",
       "    </tr>\n",
       "    <tr>\n",
       "      <th>2010-03</th>\n",
       "      <td>116900.0</td>\n",
       "      <td>2010-03</td>\n",
       "    </tr>\n",
       "    <tr>\n",
       "      <th>2010-04</th>\n",
       "      <td>116100.0</td>\n",
       "      <td>2010-04</td>\n",
       "    </tr>\n",
       "    <tr>\n",
       "      <th>2010-05</th>\n",
       "      <td>115700.0</td>\n",
       "      <td>2010-05</td>\n",
       "    </tr>\n",
       "  </tbody>\n",
       "</table>\n",
       "</div>"
      ],
      "text/plain": [
       "                4     Date\n",
       "2010-01  117300.0  2010-01\n",
       "2010-02  117300.0  2010-02\n",
       "2010-03  116900.0  2010-03\n",
       "2010-04  116100.0  2010-04\n",
       "2010-05  115700.0  2010-05"
      ]
     },
     "execution_count": 1437,
     "metadata": {},
     "output_type": "execute_result"
    }
   ],
   "source": [
    "prepare_df_for_zip(79936, zhvi_data).head()"
   ]
  },
  {
   "cell_type": "code",
   "execution_count": 1438,
   "metadata": {},
   "outputs": [],
   "source": [
    "# function that iterates over the data sets available and applies prepare_df_for_zip to each and stores the results of each call\n",
    "# after gathering all data for a given zipcode, the function joins the data on date to return a dataframe\n",
    "\n",
    "def join_data_available(zip_code, data_sets):\n",
    "    master_df = pd.DataFrame()\n",
    "    df_list = []\n",
    "    for k in data_sets_dict.keys():\n",
    "        data = prepare_df_for_zip(zip_code, data_sets_dict[k])#.add_prefix(k)\n",
    "        \n",
    "        # check to replace a column with a numerical name with the data set name\n",
    "        for i in range(1750):\n",
    "                data.rename(columns={i:k}, inplace=True)\n",
    "        df_list.append(data)        \n",
    "        \n",
    "    df_final = reduce(lambda left,right: pd.merge(left,right,on='Date'), df_list)\n",
    "    return df_final\n"
   ]
  },
  {
   "cell_type": "code",
   "execution_count": 1446,
   "metadata": {},
   "outputs": [
    {
     "data": {
      "text/html": [
       "<div>\n",
       "<style scoped>\n",
       "    .dataframe tbody tr th:only-of-type {\n",
       "        vertical-align: middle;\n",
       "    }\n",
       "\n",
       "    .dataframe tbody tr th {\n",
       "        vertical-align: top;\n",
       "    }\n",
       "\n",
       "    .dataframe thead th {\n",
       "        text-align: right;\n",
       "    }\n",
       "</style>\n",
       "<table border=\"1\" class=\"dataframe\">\n",
       "  <thead>\n",
       "    <tr style=\"text-align: right;\">\n",
       "      <th></th>\n",
       "      <th>zhvi</th>\n",
       "      <th>Date</th>\n",
       "      <th>zhvi_rental</th>\n",
       "      <th>buyer_seller_index</th>\n",
       "      <th>foreclose_resales</th>\n",
       "      <th>median_listing_price</th>\n",
       "      <th>percent_listing_price_reductions</th>\n",
       "      <th>median_percent_price_reductions</th>\n",
       "      <th>monthly_listings_allhomes</th>\n",
       "      <th>median_daily_listings</th>\n",
       "      <th>price_to_rent_ratio</th>\n",
       "    </tr>\n",
       "  </thead>\n",
       "  <tbody>\n",
       "    <tr>\n",
       "      <th>0</th>\n",
       "      <td>120400.0</td>\n",
       "      <td>2013-01</td>\n",
       "      <td>926.0</td>\n",
       "      <td>0.49</td>\n",
       "      <td>0.022</td>\n",
       "      <td>139900.0</td>\n",
       "      <td>13.256484</td>\n",
       "      <td>3.793343</td>\n",
       "      <td>968.0</td>\n",
       "      <td>771.0</td>\n",
       "      <td>10.48</td>\n",
       "    </tr>\n",
       "    <tr>\n",
       "      <th>1</th>\n",
       "      <td>119600.0</td>\n",
       "      <td>2013-02</td>\n",
       "      <td>923.0</td>\n",
       "      <td>0.59</td>\n",
       "      <td>0.000</td>\n",
       "      <td>138975.0</td>\n",
       "      <td>13.656783</td>\n",
       "      <td>2.914286</td>\n",
       "      <td>1020.0</td>\n",
       "      <td>856.0</td>\n",
       "      <td>10.44</td>\n",
       "    </tr>\n",
       "    <tr>\n",
       "      <th>2</th>\n",
       "      <td>118500.0</td>\n",
       "      <td>2013-03</td>\n",
       "      <td>923.0</td>\n",
       "      <td>0.39</td>\n",
       "      <td>0.000</td>\n",
       "      <td>139900.0</td>\n",
       "      <td>16.651982</td>\n",
       "      <td>2.810078</td>\n",
       "      <td>1003.0</td>\n",
       "      <td>868.0</td>\n",
       "      <td>10.42</td>\n",
       "    </tr>\n",
       "    <tr>\n",
       "      <th>3</th>\n",
       "      <td>117600.0</td>\n",
       "      <td>2013-04</td>\n",
       "      <td>928.0</td>\n",
       "      <td>0.2</td>\n",
       "      <td>0.000</td>\n",
       "      <td>139950.0</td>\n",
       "      <td>12.814070</td>\n",
       "      <td>2.986796</td>\n",
       "      <td>1068.0</td>\n",
       "      <td>878.0</td>\n",
       "      <td>10.38</td>\n",
       "    </tr>\n",
       "    <tr>\n",
       "      <th>4</th>\n",
       "      <td>117000.0</td>\n",
       "      <td>2013-05</td>\n",
       "      <td>933.0</td>\n",
       "      <td>0.1</td>\n",
       "      <td>0.000</td>\n",
       "      <td>139900.0</td>\n",
       "      <td>14.285714</td>\n",
       "      <td>2.927731</td>\n",
       "      <td>1119.0</td>\n",
       "      <td>898.0</td>\n",
       "      <td>10.32</td>\n",
       "    </tr>\n",
       "  </tbody>\n",
       "</table>\n",
       "</div>"
      ],
      "text/plain": [
       "       zhvi     Date  zhvi_rental buyer_seller_index  foreclose_resales  \\\n",
       "0  120400.0  2013-01        926.0               0.49              0.022   \n",
       "1  119600.0  2013-02        923.0               0.59              0.000   \n",
       "2  118500.0  2013-03        923.0               0.39              0.000   \n",
       "3  117600.0  2013-04        928.0                0.2              0.000   \n",
       "4  117000.0  2013-05        933.0                0.1              0.000   \n",
       "\n",
       "   median_listing_price  percent_listing_price_reductions  \\\n",
       "0              139900.0                         13.256484   \n",
       "1              138975.0                         13.656783   \n",
       "2              139900.0                         16.651982   \n",
       "3              139950.0                         12.814070   \n",
       "4              139900.0                         14.285714   \n",
       "\n",
       "   median_percent_price_reductions  monthly_listings_allhomes  \\\n",
       "0                         3.793343                      968.0   \n",
       "1                         2.914286                     1020.0   \n",
       "2                         2.810078                     1003.0   \n",
       "3                         2.986796                     1068.0   \n",
       "4                         2.927731                     1119.0   \n",
       "\n",
       "   median_daily_listings  price_to_rent_ratio  \n",
       "0                  771.0                10.48  \n",
       "1                  856.0                10.44  \n",
       "2                  868.0                10.42  \n",
       "3                  878.0                10.38  \n",
       "4                  898.0                10.32  "
      ]
     },
     "execution_count": 1446,
     "metadata": {},
     "output_type": "execute_result"
    }
   ],
   "source": [
    "# example of the function being run\n",
    "\n",
    "join_data_available(37042,data_sets_dict).head()"
   ]
  },
  {
   "cell_type": "code",
   "execution_count": 1442,
   "metadata": {},
   "outputs": [],
   "source": [
    "# take in a list of zip codes and datasets and generate a joined dataframe of the results\n",
    "\n",
    "def make_joint_df_list_of_zips(list_of_zips, data_sets):\n",
    "    list_of_dfs = []\n",
    "    \n",
    "    # iterate over each zip code in the list of zip codes\n",
    "    for l in list_of_zips:\n",
    "\n",
    "        # get the data for a given zip code\n",
    "        data = join_data_available(l, data_sets_dict).set_index('Date')\n",
    "\n",
    "        # data cleaning item: converts object type to float to take as a model input\n",
    "        data[\"buyer_seller_index\"] = data[\"buyer_seller_index\"].astype(float)\n",
    "        \n",
    "        # applies a standard scaler to the values for a given zip code\n",
    "        scaler = StandardScaler()\n",
    "        data[['median_listing_price',\n",
    "         'percent_listing_price_reductions',\n",
    "         'median_percent_price_reductions',\n",
    "         'monthly_listings_allhomes',\n",
    "         'median_daily_listings',\n",
    "         'price_to_rent_ratio']] = scaler.fit_transform(data[['median_listing_price',\n",
    "         'percent_listing_price_reductions',\n",
    "         'median_percent_price_reductions',\n",
    "         'monthly_listings_allhomes',\n",
    "         'median_daily_listings',\n",
    "         'price_to_rent_ratio']])\n",
    "        \n",
    "        \n",
    "        # create ZHVI values 3mo, 6mo, 9mo, and 12mo ahead of the current month\n",
    "        data['zhvi_+3mo'] = data['zhvi'].shift(-3)\n",
    "        data['zhvi_+6mo'] = data['zhvi'].shift(-6)\n",
    "        data['zhvi_+9mo'] = data['zhvi'].shift(-9)\n",
    "        data['zhvi_+12mo'] = data['zhvi'].shift(-12)\n",
    "\n",
    "        # find the percent change in 3mo, 6mo, 9mo, and 12mo\n",
    "        data['pct_change_3mo'] = (data['zhvi_+3mo'] - data['zhvi'])/data['zhvi']\n",
    "        data['pct_change_6mo'] = (data['zhvi_+6mo'] - data['zhvi'])/data['zhvi']\n",
    "        data['pct_change_9mo'] = (data['zhvi_+9mo'] - data['zhvi'])/data['zhvi']\n",
    "        data['pct_change_12mo'] = (data['zhvi_+12mo'] - data['zhvi'])/data['zhvi']\n",
    "    \n",
    "        # classify if the change was positive at 3mo, 6mo, 9mo, and 12mo\n",
    "        data['positive_3mo_change'] = data['pct_change_3mo'].apply(lambda x: 1 if x>0 else 0)\n",
    "        data['positive_6mo_change'] = data['pct_change_6mo'].apply(lambda x: 1 if x>0 else 0)\n",
    "        data['positive_9mo_change'] = data['pct_change_9mo'].apply(lambda x: 1 if x>0 else 0)\n",
    "        data['positive_12mo_change'] = data['pct_change_12mo'].apply(lambda x: 1 if x>0 else 0)\n",
    "        \n",
    "        # classify if the change met the thresholds of 2%, 5%, and 10% for 12mo forward\n",
    "        data['two_percent_plus_12mo'] = data['pct_change_12mo'].apply(lambda x: 1 if x>0.02 else 0)\n",
    "        data['five_percent_plus_12mo'] = data['pct_change_12mo'].apply(lambda x: 1 if x>0.05 else 0)\n",
    "        data['ten_percent_plus_12mo'] = data['pct_change_12mo'].apply(lambda x: 1 if x>0.1 else 0)\n",
    "\n",
    "        # to be able to look forward 12mo, only look at values from a full year ago and later\n",
    "        data = data[data.index<'2018-05']\n",
    "\n",
    "        # return features as a dataframe\n",
    "        features = data[[\n",
    "         'buyer_seller_index',\n",
    "         'median_listing_price',\n",
    "         'percent_listing_price_reductions',\n",
    "         'median_percent_price_reductions',\n",
    "         'monthly_listings_allhomes',\n",
    "         'median_daily_listings',\n",
    "         'price_to_rent_ratio',\n",
    "         'five_percent_plus_12mo']]\n",
    "        \n",
    "        list_of_dfs.append(features)\n",
    "        \n",
    "    return pd.concat(list_of_dfs)"
   ]
  },
  {
   "cell_type": "markdown",
   "metadata": {},
   "source": [
    "## Dimensionality Reduction: PCA & t-SNE"
   ]
  },
  {
   "cell_type": "code",
   "execution_count": null,
   "metadata": {},
   "outputs": [
    {
     "name": "stderr",
     "output_type": "stream",
     "text": [
      "/Users/philglazer/anaconda3/lib/python3.7/site-packages/pandas/core/frame.py:3940: SettingWithCopyWarning:\n",
      "\n",
      "\n",
      "A value is trying to be set on a copy of a slice from a DataFrame\n",
      "\n",
      "See the caveats in the documentation: http://pandas.pydata.org/pandas-docs/stable/indexing.html#indexing-view-versus-copy\n",
      "\n",
      "/Users/philglazer/anaconda3/lib/python3.7/site-packages/pandas/core/frame.py:3940: SettingWithCopyWarning:\n",
      "\n",
      "\n",
      "A value is trying to be set on a copy of a slice from a DataFrame\n",
      "\n",
      "See the caveats in the documentation: http://pandas.pydata.org/pandas-docs/stable/indexing.html#indexing-view-versus-copy\n",
      "\n",
      "/Users/philglazer/anaconda3/lib/python3.7/site-packages/pandas/core/frame.py:3940: SettingWithCopyWarning:\n",
      "\n",
      "\n",
      "A value is trying to be set on a copy of a slice from a DataFrame\n",
      "\n",
      "See the caveats in the documentation: http://pandas.pydata.org/pandas-docs/stable/indexing.html#indexing-view-versus-copy\n",
      "\n",
      "/Users/philglazer/anaconda3/lib/python3.7/site-packages/pandas/core/frame.py:3940: SettingWithCopyWarning:\n",
      "\n",
      "\n",
      "A value is trying to be set on a copy of a slice from a DataFrame\n",
      "\n",
      "See the caveats in the documentation: http://pandas.pydata.org/pandas-docs/stable/indexing.html#indexing-view-versus-copy\n",
      "\n",
      "/Users/philglazer/anaconda3/lib/python3.7/site-packages/pandas/core/frame.py:3940: SettingWithCopyWarning:\n",
      "\n",
      "\n",
      "A value is trying to be set on a copy of a slice from a DataFrame\n",
      "\n",
      "See the caveats in the documentation: http://pandas.pydata.org/pandas-docs/stable/indexing.html#indexing-view-versus-copy\n",
      "\n"
     ]
    }
   ],
   "source": [
    "# get the data to visualize; change the list 'modeled_zipcodes' to the zip code(s) of interest for PCA/t-SNE\n",
    "input_data = make_joint_df_list_of_zips(modeled_zipcodes, data_sets_dict)"
   ]
  },
  {
   "cell_type": "markdown",
   "metadata": {},
   "source": [
    "### PCA"
   ]
  },
  {
   "cell_type": "code",
   "execution_count": 1410,
   "metadata": {},
   "outputs": [],
   "source": [
    "pca = PCA(n_components=2)"
   ]
  },
  {
   "cell_type": "code",
   "execution_count": 1411,
   "metadata": {},
   "outputs": [],
   "source": [
    "target_value = input_data['five_percent_plus_12mo']"
   ]
  },
  {
   "cell_type": "code",
   "execution_count": 1412,
   "metadata": {},
   "outputs": [],
   "source": [
    "pca_input = pca.fit_transform(input_data[['buyer_seller_index',\n",
    "         'median_listing_price',\n",
    "         'percent_listing_price_reductions',\n",
    "         'median_percent_price_reductions',\n",
    "         'monthly_listings_allhomes',\n",
    "         'median_daily_listings',\n",
    "         'price_to_rent_ratio']])"
   ]
  },
  {
   "cell_type": "code",
   "execution_count": 1413,
   "metadata": {},
   "outputs": [],
   "source": [
    "principal_components_df = pd.DataFrame(data=pca_input,columns=['principal component 1','principal component 2'])"
   ]
  },
  {
   "cell_type": "code",
   "execution_count": 1414,
   "metadata": {},
   "outputs": [],
   "source": [
    "principal_components_df.reset_index(drop=True, inplace=True)\n",
    "target_value.reset_index(drop=True, inplace=True)\n",
    "\n",
    "display_df = pd.concat([principal_components_df, target_value], axis=1)"
   ]
  },
  {
   "cell_type": "code",
   "execution_count": 1416,
   "metadata": {},
   "outputs": [
    {
     "data": {
      "image/png": "[encoded data removed]",
      "text/plain": [
       "<Figure size 576x576 with 1 Axes>"
      ]
     },
     "metadata": {
      "needs_background": "light"
     },
     "output_type": "display_data"
    }
   ],
   "source": [
    "fig = plt.figure(figsize = (8,8))\n",
    "ax = fig.add_subplot(1,1,1) \n",
    "ax.set_xlabel('Component 1', fontsize = 15)\n",
    "ax.set_ylabel('Component 2', fontsize = 15)\n",
    "ax.set_title('PCA: All ZIP Codes', fontsize = 20)\n",
    "targets = [0,1]\n",
    "colors = ['r','g']\n",
    "for target, color in zip(targets,colors):\n",
    "    indicesToKeep = target_value == target\n",
    "    ax.scatter(display_df.loc[indicesToKeep, 'principal component 1']\n",
    "               , display_df.loc[indicesToKeep, 'principal component 2']\n",
    "               , c = color\n",
    "               , s = 50)\n",
    "ax.legend(targets)\n",
    "ax.grid()\n",
    "\n",
    "plt.show()"
   ]
  },
  {
   "cell_type": "markdown",
   "metadata": {},
   "source": [
    "### t-SNE"
   ]
  },
  {
   "cell_type": "code",
   "execution_count": 1336,
   "metadata": {},
   "outputs": [],
   "source": [
    "tsne = TSNE(n_components=2)\n",
    "target_value = input_data['five_percent_plus_12mo']\n",
    "tsne_results = tsne.fit_transform(input_data[['buyer_seller_index',\n",
    "         'median_listing_price',\n",
    "         'percent_listing_price_reductions',\n",
    "         'median_percent_price_reductions',\n",
    "         'monthly_listings_allhomes',\n",
    "         'median_daily_listings',\n",
    "         'price_to_rent_ratio']])\n"
   ]
  },
  {
   "cell_type": "code",
   "execution_count": 1337,
   "metadata": {},
   "outputs": [],
   "source": [
    "tsne_Df = pd.DataFrame(data=tsne_results,columns=['principal component 1','principal component 2'])"
   ]
  },
  {
   "cell_type": "code",
   "execution_count": 1338,
   "metadata": {},
   "outputs": [],
   "source": [
    "tsne_Df.reset_index(drop=True, inplace=True)\n",
    "target_value.reset_index(drop=True, inplace=True)\n",
    "\n",
    "tsne_finalDf = pd.concat([tsne_Df, target_value], axis=1)"
   ]
  },
  {
   "cell_type": "code",
   "execution_count": 1339,
   "metadata": {},
   "outputs": [
    {
     "data": {
      "image/png": "[encoded data removed]",
      "text/plain": [
       "<Figure size 576x576 with 1 Axes>"
      ]
     },
     "metadata": {
      "needs_background": "light"
     },
     "output_type": "display_data"
    }
   ],
   "source": [
    "fig = plt.figure(figsize = (8,8))\n",
    "ax = fig.add_subplot(1,1,1) \n",
    "ax.set_xlabel('Component 1', fontsize = 15)\n",
    "ax.set_ylabel('Component 2', fontsize = 15)\n",
    "ax.set_title('t-SNE: All ZIP Codes', fontsize = 20)\n",
    "targets = [1,0]\n",
    "colors = ['r', 'g','b']\n",
    "for target, color in zip(targets,colors):\n",
    "    indicesToKeep = target_value == target\n",
    "    ax.scatter(tsne_finalDf.loc[indicesToKeep, 'principal component 1']\n",
    "               , tsne_finalDf.loc[indicesToKeep, 'principal component 2']\n",
    "               , c = color\n",
    "               , s = 50)\n",
    "ax.legend(targets)\n",
    "ax.grid()\n",
    "\n",
    "plt.show()"
   ]
  },
  {
   "cell_type": "code",
   "execution_count": 1287,
   "metadata": {},
   "outputs": [],
   "source": [
    "def join_data_available_list_of_zips(list_of_zips, data_sets):\n",
    "    master_dict = {}\n",
    "    for l in list_of_zips:\n",
    "        master_dict[l] = join_data_available(l, data_sets)\n",
    "        \n",
    "    return master_dict"
   ]
  },
  {
   "cell_type": "code",
   "execution_count": 1252,
   "metadata": {},
   "outputs": [
    {
     "name": "stderr",
     "output_type": "stream",
     "text": [
      "/Users/philglazer/anaconda3/lib/python3.7/site-packages/pandas/core/frame.py:3940: SettingWithCopyWarning:\n",
      "\n",
      "\n",
      "A value is trying to be set on a copy of a slice from a DataFrame\n",
      "\n",
      "See the caveats in the documentation: http://pandas.pydata.org/pandas-docs/stable/indexing.html#indexing-view-versus-copy\n",
      "\n"
     ]
    }
   ],
   "source": [
    "inter = join_data_available_list_of_zips(modeled_zipcodes, data_sets_dict)"
   ]
  },
  {
   "cell_type": "code",
   "execution_count": 1296,
   "metadata": {},
   "outputs": [
    {
     "name": "stderr",
     "output_type": "stream",
     "text": [
      "/Users/philglazer/anaconda3/lib/python3.7/site-packages/pandas/core/frame.py:3940: SettingWithCopyWarning:\n",
      "\n",
      "\n",
      "A value is trying to be set on a copy of a slice from a DataFrame\n",
      "\n",
      "See the caveats in the documentation: http://pandas.pydata.org/pandas-docs/stable/indexing.html#indexing-view-versus-copy\n",
      "\n"
     ]
    }
   ],
   "source": [
    "data_output = join_data_available_list_of_zips(modeled_zipcodes, data_sets_dict)"
   ]
  },
  {
   "cell_type": "code",
   "execution_count": 1444,
   "metadata": {},
   "outputs": [],
   "source": [
    "# save data to pickle file to be used in web app\n",
    "pickle_out = open(\"modeled_zipcodes_data.pickle\",\"wb\")\n",
    "pickle.dump(data_output, pickle_out)\n",
    "pickle_out.close()"
   ]
  },
  {
   "cell_type": "code",
   "execution_count": 1291,
   "metadata": {},
   "outputs": [],
   "source": [
    "# code that takes in a zip_code and loads all available data, then performs train/test split and model fitting with a \n",
    "# random forest classifier\n",
    "\n",
    "def run_full_model(zip_code, target_col):\n",
    "    data = join_data_available(zip_code, data_sets_dict).set_index('Date')\n",
    "    \n",
    "    # converts object type to float to take as a model input\n",
    "    data[\"buyer_seller_index\"] = data[\"buyer_seller_index\"].astype(float)\n",
    "    \n",
    "    scaler = StandardScaler()\n",
    "    data[['median_listing_price',\n",
    "     'percent_listing_price_reductions',\n",
    "     'median_percent_price_reductions',\n",
    "     'monthly_listings_allhomes',\n",
    "     'median_daily_listings',\n",
    "     'price_to_rent_ratio']] = scaler.fit_transform(data[['median_listing_price',\n",
    "     'percent_listing_price_reductions',\n",
    "     'median_percent_price_reductions',\n",
    "     'monthly_listings_allhomes',\n",
    "     'median_daily_listings',\n",
    "     'price_to_rent_ratio']])\n",
    "    \n",
    "    data['zhvi_+3mo'] = data['zhvi'].shift(-3)\n",
    "    data['zhvi_+6mo'] = data['zhvi'].shift(-6)\n",
    "    data['zhvi_+9mo'] = data['zhvi'].shift(-9)\n",
    "    data['zhvi_+12mo'] = data['zhvi'].shift(-12)\n",
    "\n",
    "    data['pct_change_3mo'] = (data['zhvi_+3mo'] - data['zhvi'])/data['zhvi']\n",
    "    data['pct_change_6mo'] = (data['zhvi_+6mo'] - data['zhvi'])/data['zhvi']\n",
    "    data['pct_change_9mo'] = (data['zhvi_+9mo'] - data['zhvi'])/data['zhvi']\n",
    "    data['pct_change_12mo'] = (data['zhvi_+12mo'] - data['zhvi'])/data['zhvi']\n",
    "\n",
    "    data['positive_3mo_change'] = data['pct_change_3mo'].apply(lambda x: 1 if x>0 else 0)\n",
    "    data['positive_6mo_change'] = data['pct_change_6mo'].apply(lambda x: 1 if x>0 else 0)\n",
    "    data['positive_9mo_change'] = data['pct_change_9mo'].apply(lambda x: 1 if x>0 else 0)\n",
    "    data['positive_12mo_change'] = data['pct_change_12mo'].apply(lambda x: 1 if x>0 else 0)\n",
    "    \n",
    "    data['two_percent_plus_12mo'] = data['pct_change_12mo'].apply(lambda x: 1 if x>0.02 else 0)\n",
    "    data['five_percent_plus_12mo'] = data['pct_change_12mo'].apply(lambda x: 1 if x>0.05 else 0)\n",
    "    data['ten_percent_plus_12mo'] = data['pct_change_12mo'].apply(lambda x: 1 if x>0.1 else 0)\n",
    "    \n",
    "    # some NaN values after this date\n",
    "    data = data[data.index<'2018-05']\n",
    "    \n",
    "    # make this an input variable\n",
    "    # testing removal of features:'zhvi','zhvi_rental',\n",
    "    features = data[[\n",
    "     'buyer_seller_index',\n",
    "     'median_listing_price',\n",
    "     'percent_listing_price_reductions',\n",
    "     'median_percent_price_reductions',\n",
    "     'monthly_listings_allhomes',\n",
    "     'median_daily_listings',\n",
    "     'price_to_rent_ratio']]\n",
    "    \n",
    "    #,'foreclose_resales' -> removed, values only current through 2019-01\n",
    "    \n",
    "    #,'buyer_seller_index' -> removed, data type caused an XGBoost error?\n",
    "    \n",
    "    # make this an input variable\n",
    "    target = data[target_col]\n",
    "    \n",
    "    # adjust to deal with date range\n",
    "    features = features[features.index>='2013-01']\n",
    "    target = target #[12:]\n",
    "    \n",
    "    X_train, X_test, y_train, y_test = train_test_split(features, target, test_size=0.33, random_state=42)\n",
    "    \n",
    "    \n",
    "    # Random Classifier Fitting\n",
    "    clf = RandomForestClassifier(n_estimators=100, max_depth=2, random_state=0)\n",
    "    clf.fit(X_train, y_train)\n",
    "    \n",
    "    print(clf.feature_importances_)\n",
    "    \n",
    "    y_pred = clf.predict(X_test)\n",
    "    #print(clf.predict_proba(X_test))\n",
    "    y_proba = pd.DataFrame(clf.predict_proba(X_test))[1]\n",
    "    #print(y_proba)\n",
    "    fpr, tpr, thresholds = metrics.roc_curve(y_test, y_proba)\n",
    "    \n",
    "    x = fpr\n",
    "    y = tpr\n",
    "\n",
    "    # This is the ROC curve\n",
    "    plt.plot(x,y)\n",
    "    plt.show() \n",
    "\n",
    "    # This is the AUC\n",
    "    auc = np.trapz(y,x)\n",
    "    \n",
    "    print(\"AUC: \",metrics.auc(fpr, tpr))\n",
    "    \n",
    "    print(\"---------\")\n",
    "    print(\"Predicting \" + target_col + \"...\")\n",
    "    print(\"Random Forest F1 Score:\",f1_score(y_test, y_pred, average='weighted'))\n",
    "    random_forest_f1 = f1_score(y_test, y_pred, average='weighted')\n",
    "    print(pd.crosstab(y_test, y_pred, rownames=['Actual Result'], colnames=['Predicted Result']))\n",
    "    \n",
    "    # XGBoost Classifier\n",
    "    model = XGBClassifier(scale_pos_weight=1,learning_rate=0.3,\n",
    "                      colsample_bytree=0.4,subsample=0.8,objective='binary:logistic',\n",
    "                     n_estimators=100,reg_alpha=0.3,max_depth=6,gamma=10)\n",
    "    model.fit(X_train, y_train)\n",
    "    xgboost_predictions = model.predict(X_test)\n",
    "    pd.crosstab(y_test, xgboost_predictions, rownames=['Actual Result'], colnames=['Predicted Result'])\n",
    "    print(\"XGBoost F1 Score:\",f1_score(y_test, xgboost_predictions, average='weighted'))\n",
    "    print(pd.crosstab(y_test, xgboost_predictions, rownames=['Actual Result'], colnames=['Predicted Result']))\n",
    "    xgboost_f1 = f1_score(y_test, xgboost_predictions, average='weighted')\n",
    "    \n",
    "    if random_forest_f1>=xgboost_f1:\n",
    "        return clf\n",
    "    else:\n",
    "        return model\n",
    "    \n",
    "    data['zhvi'].plot()"
   ]
  },
  {
   "cell_type": "code",
   "execution_count": 1292,
   "metadata": {},
   "outputs": [
    {
     "name": "stderr",
     "output_type": "stream",
     "text": [
      "/Users/philglazer/anaconda3/lib/python3.7/site-packages/pandas/core/frame.py:3940: SettingWithCopyWarning:\n",
      "\n",
      "\n",
      "A value is trying to be set on a copy of a slice from a DataFrame\n",
      "\n",
      "See the caveats in the documentation: http://pandas.pydata.org/pandas-docs/stable/indexing.html#indexing-view-versus-copy\n",
      "\n"
     ]
    },
    {
     "name": "stdout",
     "output_type": "stream",
     "text": [
      "[0.1522281  0.07859916 0.34194477 0.11878304 0.07743816 0.11816525\n",
      " 0.11284153]\n"
     ]
    },
    {
     "data": {
      "image/png": "[encoded data removed]",
      "text/plain": [
       "<Figure size 432x288 with 1 Axes>"
      ]
     },
     "metadata": {
      "needs_background": "light"
     },
     "output_type": "display_data"
    },
    {
     "name": "stdout",
     "output_type": "stream",
     "text": [
      "AUC:  0.8839285714285714\n",
      "---------\n",
      "Predicting positive_6mo_change...\n",
      "Random Forest F1 Score: 0.8181818181818182\n",
      "Predicted Result  0   1\n",
      "Actual Result          \n",
      "0                 6   2\n",
      "1                 2  12\n",
      "XGBoost F1 Score: 0.494949494949495\n",
      "Predicted Result   1\n",
      "Actual Result       \n",
      "0                  8\n",
      "1                 14\n"
     ]
    },
    {
     "name": "stderr",
     "output_type": "stream",
     "text": [
      "/Users/philglazer/anaconda3/lib/python3.7/site-packages/sklearn/metrics/classification.py:1143: UndefinedMetricWarning:\n",
      "\n",
      "F-score is ill-defined and being set to 0.0 in labels with no predicted samples.\n",
      "\n"
     ]
    }
   ],
   "source": [
    "returned_model = run_full_model(37042, 'positive_6mo_change')"
   ]
  },
  {
   "cell_type": "markdown",
   "metadata": {},
   "source": [
    "### Iterate Over Predictions"
   ]
  },
  {
   "cell_type": "code",
   "execution_count": 1106,
   "metadata": {},
   "outputs": [],
   "source": [
    "prediction_list = ['positive_3mo_change', 'positive_6mo_change', 'positive_12mo_change', \n",
    "                   'two_percent_plus_12mo', 'five_percent_plus_12mo'] \n",
    "# 'positive_3mo_change', 'positive_6mo_change', 'positive_12mo_change', ,'ten_percent_plus_12mo' removed for being imbalanced\n",
    "\n",
    "# iterate over a list of types of predictions and show the results for each\n",
    "def iterate_over_predictions(zip_code, prediction_list):\n",
    "    for p in prediction_list:\n",
    "        print(run_full_model(zip_code,p))"
   ]
  },
  {
   "cell_type": "code",
   "execution_count": 1293,
   "metadata": {
    "scrolled": true
   },
   "outputs": [
    {
     "name": "stderr",
     "output_type": "stream",
     "text": [
      "/Users/philglazer/anaconda3/lib/python3.7/site-packages/pandas/core/frame.py:3940: SettingWithCopyWarning:\n",
      "\n",
      "\n",
      "A value is trying to be set on a copy of a slice from a DataFrame\n",
      "\n",
      "See the caveats in the documentation: http://pandas.pydata.org/pandas-docs/stable/indexing.html#indexing-view-versus-copy\n",
      "\n"
     ]
    },
    {
     "name": "stdout",
     "output_type": "stream",
     "text": [
      "[0.06890525 0.13398226 0.28662752 0.12230862 0.0763358  0.1063531\n",
      " 0.20548745]\n"
     ]
    },
    {
     "data": {
      "image/png": "[encoded data removed]",
      "text/plain": [
       "<Figure size 432x288 with 1 Axes>"
      ]
     },
     "metadata": {
      "needs_background": "light"
     },
     "output_type": "display_data"
    },
    {
     "name": "stdout",
     "output_type": "stream",
     "text": [
      "AUC:  0.8285714285714285\n",
      "---------\n",
      "Predicting positive_3mo_change...\n",
      "Random Forest F1 Score: 0.7365967365967365\n",
      "Predicted Result  0   1\n",
      "Actual Result          \n",
      "0                 6   1\n",
      "1                 5  10\n",
      "XGBoost F1 Score: 0.7801544860368389\n",
      "Predicted Result  0   1\n",
      "Actual Result          \n",
      "0                 6   1\n",
      "1                 4  11\n",
      "XGBClassifier(base_score=0.5, booster='gbtree', colsample_bylevel=1,\n",
      "       colsample_bytree=0.4, gamma=10, learning_rate=0.3, max_delta_step=0,\n",
      "       max_depth=6, min_child_weight=1, missing=None, n_estimators=100,\n",
      "       n_jobs=1, nthread=None, objective='binary:logistic', random_state=0,\n",
      "       reg_alpha=0.3, reg_lambda=1, scale_pos_weight=1, seed=None,\n",
      "       silent=True, subsample=0.8)\n"
     ]
    },
    {
     "name": "stderr",
     "output_type": "stream",
     "text": [
      "/Users/philglazer/anaconda3/lib/python3.7/site-packages/pandas/core/frame.py:3940: SettingWithCopyWarning:\n",
      "\n",
      "\n",
      "A value is trying to be set on a copy of a slice from a DataFrame\n",
      "\n",
      "See the caveats in the documentation: http://pandas.pydata.org/pandas-docs/stable/indexing.html#indexing-view-versus-copy\n",
      "\n"
     ]
    },
    {
     "name": "stdout",
     "output_type": "stream",
     "text": [
      "[0.1522281  0.07859916 0.34194477 0.11878304 0.07743816 0.11816525\n",
      " 0.11284153]\n"
     ]
    },
    {
     "data": {
      "image/png": "[encoded data removed]",
      "text/plain": [
       "<Figure size 432x288 with 1 Axes>"
      ]
     },
     "metadata": {
      "needs_background": "light"
     },
     "output_type": "display_data"
    },
    {
     "name": "stdout",
     "output_type": "stream",
     "text": [
      "AUC:  0.8839285714285714\n",
      "---------\n",
      "Predicting positive_6mo_change...\n",
      "Random Forest F1 Score: 0.8181818181818182\n",
      "Predicted Result  0   1\n",
      "Actual Result          \n",
      "0                 6   2\n",
      "1                 2  12\n",
      "XGBoost F1 Score: 0.494949494949495\n",
      "Predicted Result   1\n",
      "Actual Result       \n",
      "0                  8\n",
      "1                 14\n",
      "RandomForestClassifier(bootstrap=True, class_weight=None, criterion='gini',\n",
      "            max_depth=2, max_features='auto', max_leaf_nodes=None,\n",
      "            min_impurity_decrease=0.0, min_impurity_split=None,\n",
      "            min_samples_leaf=1, min_samples_split=2,\n",
      "            min_weight_fraction_leaf=0.0, n_estimators=100, n_jobs=None,\n",
      "            oob_score=False, random_state=0, verbose=0, warm_start=False)\n"
     ]
    },
    {
     "name": "stderr",
     "output_type": "stream",
     "text": [
      "/Users/philglazer/anaconda3/lib/python3.7/site-packages/sklearn/metrics/classification.py:1143: UndefinedMetricWarning:\n",
      "\n",
      "F-score is ill-defined and being set to 0.0 in labels with no predicted samples.\n",
      "\n",
      "/Users/philglazer/anaconda3/lib/python3.7/site-packages/pandas/core/frame.py:3940: SettingWithCopyWarning:\n",
      "\n",
      "\n",
      "A value is trying to be set on a copy of a slice from a DataFrame\n",
      "\n",
      "See the caveats in the documentation: http://pandas.pydata.org/pandas-docs/stable/indexing.html#indexing-view-versus-copy\n",
      "\n"
     ]
    },
    {
     "name": "stdout",
     "output_type": "stream",
     "text": [
      "[0.22916267 0.1889636  0.11361163 0.08211502 0.18651752 0.16380747\n",
      " 0.0358221 ]\n"
     ]
    },
    {
     "data": {
      "image/png": "[encoded data removed]",
      "text/plain": [
       "<Figure size 432x288 with 1 Axes>"
      ]
     },
     "metadata": {
      "needs_background": "light"
     },
     "output_type": "display_data"
    },
    {
     "name": "stdout",
     "output_type": "stream",
     "text": [
      "AUC:  0.85\n",
      "---------\n",
      "Predicting positive_12mo_change...\n",
      "Random Forest F1 Score: 0.8755244755244757\n",
      "Predicted Result  0   1\n",
      "Actual Result          \n",
      "0                 1   1\n",
      "1                 2  18\n",
      "XGBoost F1 Score: 0.8658008658008658\n",
      "Predicted Result   1\n",
      "Actual Result       \n",
      "0                  2\n",
      "1                 20\n",
      "RandomForestClassifier(bootstrap=True, class_weight=None, criterion='gini',\n",
      "            max_depth=2, max_features='auto', max_leaf_nodes=None,\n",
      "            min_impurity_decrease=0.0, min_impurity_split=None,\n",
      "            min_samples_leaf=1, min_samples_split=2,\n",
      "            min_weight_fraction_leaf=0.0, n_estimators=100, n_jobs=None,\n",
      "            oob_score=False, random_state=0, verbose=0, warm_start=False)\n"
     ]
    },
    {
     "name": "stderr",
     "output_type": "stream",
     "text": [
      "/Users/philglazer/anaconda3/lib/python3.7/site-packages/sklearn/metrics/classification.py:1143: UndefinedMetricWarning:\n",
      "\n",
      "F-score is ill-defined and being set to 0.0 in labels with no predicted samples.\n",
      "\n",
      "/Users/philglazer/anaconda3/lib/python3.7/site-packages/pandas/core/frame.py:3940: SettingWithCopyWarning:\n",
      "\n",
      "\n",
      "A value is trying to be set on a copy of a slice from a DataFrame\n",
      "\n",
      "See the caveats in the documentation: http://pandas.pydata.org/pandas-docs/stable/indexing.html#indexing-view-versus-copy\n",
      "\n"
     ]
    },
    {
     "name": "stdout",
     "output_type": "stream",
     "text": [
      "[0.0885857  0.30319216 0.17086362 0.0090725  0.156837   0.14048673\n",
      " 0.13096229]\n"
     ]
    },
    {
     "data": {
      "image/png": "[encoded data removed]",
      "text/plain": [
       "<Figure size 432x288 with 1 Axes>"
      ]
     },
     "metadata": {
      "needs_background": "light"
     },
     "output_type": "display_data"
    },
    {
     "name": "stdout",
     "output_type": "stream",
     "text": [
      "AUC:  1.0\n",
      "---------\n",
      "Predicting two_percent_plus_12mo...\n",
      "Random Forest F1 Score: 1.0\n",
      "Predicted Result   0   1\n",
      "Actual Result           \n",
      "0                 11   0\n",
      "1                  0  11\n",
      "XGBoost F1 Score: 1.0\n",
      "Predicted Result   0   1\n",
      "Actual Result           \n",
      "0                 11   0\n",
      "1                  0  11\n",
      "RandomForestClassifier(bootstrap=True, class_weight=None, criterion='gini',\n",
      "            max_depth=2, max_features='auto', max_leaf_nodes=None,\n",
      "            min_impurity_decrease=0.0, min_impurity_split=None,\n",
      "            min_samples_leaf=1, min_samples_split=2,\n",
      "            min_weight_fraction_leaf=0.0, n_estimators=100, n_jobs=None,\n",
      "            oob_score=False, random_state=0, verbose=0, warm_start=False)\n"
     ]
    },
    {
     "name": "stderr",
     "output_type": "stream",
     "text": [
      "/Users/philglazer/anaconda3/lib/python3.7/site-packages/pandas/core/frame.py:3940: SettingWithCopyWarning:\n",
      "\n",
      "\n",
      "A value is trying to be set on a copy of a slice from a DataFrame\n",
      "\n",
      "See the caveats in the documentation: http://pandas.pydata.org/pandas-docs/stable/indexing.html#indexing-view-versus-copy\n",
      "\n"
     ]
    },
    {
     "name": "stdout",
     "output_type": "stream",
     "text": [
      "[0.19648142 0.29209166 0.12433287 0.0436542  0.13032636 0.12208397\n",
      " 0.09102953]\n"
     ]
    },
    {
     "data": {
      "image/png": "[encoded data removed]",
      "text/plain": [
       "<Figure size 432x288 with 1 Axes>"
      ]
     },
     "metadata": {
      "needs_background": "light"
     },
     "output_type": "display_data"
    },
    {
     "name": "stdout",
     "output_type": "stream",
     "text": [
      "AUC:  0.9305555555555556\n",
      "---------\n",
      "Predicting five_percent_plus_12mo...\n",
      "Random Forest F1 Score: 0.951912951912952\n",
      "Predicted Result   0  1\n",
      "Actual Result          \n",
      "0                 18  0\n",
      "1                  1  3\n",
      "XGBoost F1 Score: 0.951912951912952\n",
      "Predicted Result   0  1\n",
      "Actual Result          \n",
      "0                 18  0\n",
      "1                  1  3\n",
      "RandomForestClassifier(bootstrap=True, class_weight=None, criterion='gini',\n",
      "            max_depth=2, max_features='auto', max_leaf_nodes=None,\n",
      "            min_impurity_decrease=0.0, min_impurity_split=None,\n",
      "            min_samples_leaf=1, min_samples_split=2,\n",
      "            min_weight_fraction_leaf=0.0, n_estimators=100, n_jobs=None,\n",
      "            oob_score=False, random_state=0, verbose=0, warm_start=False)\n"
     ]
    },
    {
     "name": "stderr",
     "output_type": "stream",
     "text": [
      "/Users/philglazer/anaconda3/lib/python3.7/site-packages/pandas/core/frame.py:3940: SettingWithCopyWarning:\n",
      "\n",
      "\n",
      "A value is trying to be set on a copy of a slice from a DataFrame\n",
      "\n",
      "See the caveats in the documentation: http://pandas.pydata.org/pandas-docs/stable/indexing.html#indexing-view-versus-copy\n",
      "\n"
     ]
    },
    {
     "name": "stdout",
     "output_type": "stream",
     "text": [
      "[0.19473617 0.10639839 0.06196964 0.09988552 0.14479189 0.09828771\n",
      " 0.2939307 ]\n"
     ]
    },
    {
     "data": {
      "image/png": "[encoded data removed]",
      "text/plain": [
       "<Figure size 432x288 with 1 Axes>"
      ]
     },
     "metadata": {
      "needs_background": "light"
     },
     "output_type": "display_data"
    },
    {
     "name": "stdout",
     "output_type": "stream",
     "text": [
      "AUC:  0.9166666666666667\n",
      "---------\n",
      "Predicting positive_3mo_change...\n",
      "Random Forest F1 Score: 0.7363636363636363\n",
      "Predicted Result   1\n",
      "Actual Result       \n",
      "0                  4\n",
      "1                 18\n",
      "XGBoost F1 Score: 0.7363636363636363\n",
      "Predicted Result   1\n",
      "Actual Result       \n",
      "0                  4\n",
      "1                 18\n",
      "RandomForestClassifier(bootstrap=True, class_weight=None, criterion='gini',\n",
      "            max_depth=2, max_features='auto', max_leaf_nodes=None,\n",
      "            min_impurity_decrease=0.0, min_impurity_split=None,\n",
      "            min_samples_leaf=1, min_samples_split=2,\n",
      "            min_weight_fraction_leaf=0.0, n_estimators=100, n_jobs=None,\n",
      "            oob_score=False, random_state=0, verbose=0, warm_start=False)\n"
     ]
    },
    {
     "name": "stderr",
     "output_type": "stream",
     "text": [
      "/Users/philglazer/anaconda3/lib/python3.7/site-packages/sklearn/metrics/classification.py:1143: UndefinedMetricWarning:\n",
      "\n",
      "F-score is ill-defined and being set to 0.0 in labels with no predicted samples.\n",
      "\n",
      "/Users/philglazer/anaconda3/lib/python3.7/site-packages/pandas/core/frame.py:3940: SettingWithCopyWarning:\n",
      "\n",
      "\n",
      "A value is trying to be set on a copy of a slice from a DataFrame\n",
      "\n",
      "See the caveats in the documentation: http://pandas.pydata.org/pandas-docs/stable/indexing.html#indexing-view-versus-copy\n",
      "\n"
     ]
    },
    {
     "name": "stdout",
     "output_type": "stream",
     "text": [
      "[0.23910521 0.15360077 0.09531932 0.06505488 0.11499501 0.11876717\n",
      " 0.21315764]\n"
     ]
    },
    {
     "data": {
      "image/png": "[encoded data removed]",
      "text/plain": [
       "<Figure size 432x288 with 1 Axes>"
      ]
     },
     "metadata": {
      "needs_background": "light"
     },
     "output_type": "display_data"
    },
    {
     "name": "stdout",
     "output_type": "stream",
     "text": [
      "AUC:  0.8771929824561403\n",
      "---------\n",
      "Predicting positive_6mo_change...\n",
      "Random Forest F1 Score: 0.8004434589800443\n",
      "Predicted Result   1\n",
      "Actual Result       \n",
      "0                  3\n",
      "1                 19\n",
      "XGBoost F1 Score: 0.8004434589800443\n",
      "Predicted Result   1\n",
      "Actual Result       \n",
      "0                  3\n",
      "1                 19\n",
      "RandomForestClassifier(bootstrap=True, class_weight=None, criterion='gini',\n",
      "            max_depth=2, max_features='auto', max_leaf_nodes=None,\n",
      "            min_impurity_decrease=0.0, min_impurity_split=None,\n",
      "            min_samples_leaf=1, min_samples_split=2,\n",
      "            min_weight_fraction_leaf=0.0, n_estimators=100, n_jobs=None,\n",
      "            oob_score=False, random_state=0, verbose=0, warm_start=False)\n"
     ]
    },
    {
     "name": "stderr",
     "output_type": "stream",
     "text": [
      "/Users/philglazer/anaconda3/lib/python3.7/site-packages/sklearn/metrics/classification.py:1143: UndefinedMetricWarning:\n",
      "\n",
      "F-score is ill-defined and being set to 0.0 in labels with no predicted samples.\n",
      "\n",
      "/Users/philglazer/anaconda3/lib/python3.7/site-packages/pandas/core/frame.py:3940: SettingWithCopyWarning:\n",
      "\n",
      "\n",
      "A value is trying to be set on a copy of a slice from a DataFrame\n",
      "\n",
      "See the caveats in the documentation: http://pandas.pydata.org/pandas-docs/stable/indexing.html#indexing-view-versus-copy\n",
      "\n"
     ]
    },
    {
     "name": "stdout",
     "output_type": "stream",
     "text": [
      "[0.2342915  0.20846975 0.10325439 0.05665702 0.12138483 0.1460784\n",
      " 0.12986411]\n"
     ]
    },
    {
     "data": {
      "image/png": "[encoded data removed]",
      "text/plain": [
       "<Figure size 432x288 with 1 Axes>"
      ]
     },
     "metadata": {
      "needs_background": "light"
     },
     "output_type": "display_data"
    },
    {
     "name": "stdout",
     "output_type": "stream",
     "text": [
      "AUC:  1.0\n",
      "---------\n",
      "Predicting positive_12mo_change...\n",
      "Random Forest F1 Score: 1.0\n",
      "Predicted Result  0   1\n",
      "Actual Result          \n",
      "0                 1   0\n",
      "1                 0  21\n",
      "XGBoost F1 Score: 0.9323467230443975\n",
      "Predicted Result   1\n",
      "Actual Result       \n",
      "0                  1\n",
      "1                 21\n",
      "RandomForestClassifier(bootstrap=True, class_weight=None, criterion='gini',\n",
      "            max_depth=2, max_features='auto', max_leaf_nodes=None,\n",
      "            min_impurity_decrease=0.0, min_impurity_split=None,\n",
      "            min_samples_leaf=1, min_samples_split=2,\n",
      "            min_weight_fraction_leaf=0.0, n_estimators=100, n_jobs=None,\n",
      "            oob_score=False, random_state=0, verbose=0, warm_start=False)\n"
     ]
    },
    {
     "name": "stderr",
     "output_type": "stream",
     "text": [
      "/Users/philglazer/anaconda3/lib/python3.7/site-packages/sklearn/metrics/classification.py:1143: UndefinedMetricWarning:\n",
      "\n",
      "F-score is ill-defined and being set to 0.0 in labels with no predicted samples.\n",
      "\n",
      "/Users/philglazer/anaconda3/lib/python3.7/site-packages/pandas/core/frame.py:3940: SettingWithCopyWarning:\n",
      "\n",
      "\n",
      "A value is trying to be set on a copy of a slice from a DataFrame\n",
      "\n",
      "See the caveats in the documentation: http://pandas.pydata.org/pandas-docs/stable/indexing.html#indexing-view-versus-copy\n",
      "\n"
     ]
    },
    {
     "name": "stdout",
     "output_type": "stream",
     "text": [
      "[0.2956263  0.02187858 0.06824495 0.02878169 0.1405002  0.16199735\n",
      " 0.28297093]\n"
     ]
    },
    {
     "data": {
      "image/png": "[encoded data removed]",
      "text/plain": [
       "<Figure size 432x288 with 1 Axes>"
      ]
     },
     "metadata": {
      "needs_background": "light"
     },
     "output_type": "display_data"
    },
    {
     "name": "stdout",
     "output_type": "stream",
     "text": [
      "AUC:  1.0\n",
      "---------\n",
      "Predicting two_percent_plus_12mo...\n",
      "Random Forest F1 Score: 1.0\n",
      "Predicted Result  0   1\n",
      "Actual Result          \n",
      "0                 8   0\n",
      "1                 0  14\n",
      "XGBoost F1 Score: 0.9550406020994257\n",
      "Predicted Result  0   1\n",
      "Actual Result          \n",
      "0                 8   0\n",
      "1                 1  13\n",
      "RandomForestClassifier(bootstrap=True, class_weight=None, criterion='gini',\n",
      "            max_depth=2, max_features='auto', max_leaf_nodes=None,\n",
      "            min_impurity_decrease=0.0, min_impurity_split=None,\n",
      "            min_samples_leaf=1, min_samples_split=2,\n",
      "            min_weight_fraction_leaf=0.0, n_estimators=100, n_jobs=None,\n",
      "            oob_score=False, random_state=0, verbose=0, warm_start=False)\n"
     ]
    },
    {
     "name": "stderr",
     "output_type": "stream",
     "text": [
      "/Users/philglazer/anaconda3/lib/python3.7/site-packages/pandas/core/frame.py:3940: SettingWithCopyWarning:\n",
      "\n",
      "\n",
      "A value is trying to be set on a copy of a slice from a DataFrame\n",
      "\n",
      "See the caveats in the documentation: http://pandas.pydata.org/pandas-docs/stable/indexing.html#indexing-view-versus-copy\n",
      "\n"
     ]
    },
    {
     "name": "stdout",
     "output_type": "stream",
     "text": [
      "[0.30830437 0.03071023 0.07268913 0.02972655 0.1111658  0.13147888\n",
      " 0.31592505]\n"
     ]
    },
    {
     "data": {
      "image/png": "[encoded data removed]",
      "text/plain": [
       "<Figure size 432x288 with 1 Axes>"
      ]
     },
     "metadata": {
      "needs_background": "light"
     },
     "output_type": "display_data"
    },
    {
     "name": "stdout",
     "output_type": "stream",
     "text": [
      "AUC:  1.0\n",
      "---------\n",
      "Predicting five_percent_plus_12mo...\n",
      "Random Forest F1 Score: 1.0\n",
      "Predicted Result  0   1\n",
      "Actual Result          \n",
      "0                 9   0\n",
      "1                 0  13\n",
      "XGBoost F1 Score: 1.0\n",
      "Predicted Result  0   1\n",
      "Actual Result          \n",
      "0                 9   0\n",
      "1                 0  13\n",
      "RandomForestClassifier(bootstrap=True, class_weight=None, criterion='gini',\n",
      "            max_depth=2, max_features='auto', max_leaf_nodes=None,\n",
      "            min_impurity_decrease=0.0, min_impurity_split=None,\n",
      "            min_samples_leaf=1, min_samples_split=2,\n",
      "            min_weight_fraction_leaf=0.0, n_estimators=100, n_jobs=None,\n",
      "            oob_score=False, random_state=0, verbose=0, warm_start=False)\n"
     ]
    },
    {
     "name": "stderr",
     "output_type": "stream",
     "text": [
      "/Users/philglazer/anaconda3/lib/python3.7/site-packages/pandas/core/frame.py:3940: SettingWithCopyWarning:\n",
      "\n",
      "\n",
      "A value is trying to be set on a copy of a slice from a DataFrame\n",
      "\n",
      "See the caveats in the documentation: http://pandas.pydata.org/pandas-docs/stable/indexing.html#indexing-view-versus-copy\n",
      "\n"
     ]
    },
    {
     "name": "stdout",
     "output_type": "stream",
     "text": [
      "[0.27420668 0.16651658 0.09711494 0.13830056 0.08131912 0.0660123\n",
      " 0.17652981]\n"
     ]
    },
    {
     "data": {
      "image/png": "[encoded data removed]",
      "text/plain": [
       "<Figure size 432x288 with 1 Axes>"
      ]
     },
     "metadata": {
      "needs_background": "light"
     },
     "output_type": "display_data"
    },
    {
     "name": "stdout",
     "output_type": "stream",
     "text": [
      "AUC:  0.84375\n",
      "---------\n",
      "Predicting positive_3mo_change...\n",
      "Random Forest F1 Score: 0.7828282828282828\n",
      "Predicted Result  0   1\n",
      "Actual Result          \n",
      "0                 2   4\n",
      "1                 0  16\n",
      "XGBoost F1 Score: 0.6124401913875599\n",
      "Predicted Result   1\n",
      "Actual Result       \n",
      "0                  6\n",
      "1                 16\n",
      "RandomForestClassifier(bootstrap=True, class_weight=None, criterion='gini',\n",
      "            max_depth=2, max_features='auto', max_leaf_nodes=None,\n",
      "            min_impurity_decrease=0.0, min_impurity_split=None,\n",
      "            min_samples_leaf=1, min_samples_split=2,\n",
      "            min_weight_fraction_leaf=0.0, n_estimators=100, n_jobs=None,\n",
      "            oob_score=False, random_state=0, verbose=0, warm_start=False)\n"
     ]
    },
    {
     "name": "stderr",
     "output_type": "stream",
     "text": [
      "/Users/philglazer/anaconda3/lib/python3.7/site-packages/sklearn/metrics/classification.py:1143: UndefinedMetricWarning:\n",
      "\n",
      "F-score is ill-defined and being set to 0.0 in labels with no predicted samples.\n",
      "\n",
      "/Users/philglazer/anaconda3/lib/python3.7/site-packages/pandas/core/frame.py:3940: SettingWithCopyWarning:\n",
      "\n",
      "\n",
      "A value is trying to be set on a copy of a slice from a DataFrame\n",
      "\n",
      "See the caveats in the documentation: http://pandas.pydata.org/pandas-docs/stable/indexing.html#indexing-view-versus-copy\n",
      "\n"
     ]
    },
    {
     "name": "stdout",
     "output_type": "stream",
     "text": [
      "[0.146161   0.15914269 0.09976292 0.15642362 0.08891211 0.05641688\n",
      " 0.27318077]\n"
     ]
    },
    {
     "data": {
      "image/png": "[encoded data removed]",
      "text/plain": [
       "<Figure size 432x288 with 1 Axes>"
      ]
     },
     "metadata": {
      "needs_background": "light"
     },
     "output_type": "display_data"
    },
    {
     "name": "stdout",
     "output_type": "stream",
     "text": [
      "AUC:  0.6979166666666667\n",
      "---------\n",
      "Predicting positive_6mo_change...\n",
      "Random Forest F1 Score: 0.6124401913875599\n",
      "Predicted Result   1\n",
      "Actual Result       \n",
      "0                  6\n",
      "1                 16\n",
      "XGBoost F1 Score: 0.6124401913875599\n",
      "Predicted Result   1\n",
      "Actual Result       \n",
      "0                  6\n",
      "1                 16\n",
      "RandomForestClassifier(bootstrap=True, class_weight=None, criterion='gini',\n",
      "            max_depth=2, max_features='auto', max_leaf_nodes=None,\n",
      "            min_impurity_decrease=0.0, min_impurity_split=None,\n",
      "            min_samples_leaf=1, min_samples_split=2,\n",
      "            min_weight_fraction_leaf=0.0, n_estimators=100, n_jobs=None,\n",
      "            oob_score=False, random_state=0, verbose=0, warm_start=False)\n"
     ]
    },
    {
     "name": "stderr",
     "output_type": "stream",
     "text": [
      "/Users/philglazer/anaconda3/lib/python3.7/site-packages/sklearn/metrics/classification.py:1143: UndefinedMetricWarning:\n",
      "\n",
      "F-score is ill-defined and being set to 0.0 in labels with no predicted samples.\n",
      "\n"
     ]
    },
    {
     "name": "stdout",
     "output_type": "stream",
     "text": [
      "[0.09495117 0.13298577 0.08571354 0.14066414 0.04137997 0.01781461\n",
      " 0.1464908 ]\n"
     ]
    },
    {
     "name": "stderr",
     "output_type": "stream",
     "text": [
      "/Users/philglazer/anaconda3/lib/python3.7/site-packages/pandas/core/frame.py:3940: SettingWithCopyWarning:\n",
      "\n",
      "\n",
      "A value is trying to be set on a copy of a slice from a DataFrame\n",
      "\n",
      "See the caveats in the documentation: http://pandas.pydata.org/pandas-docs/stable/indexing.html#indexing-view-versus-copy\n",
      "\n"
     ]
    },
    {
     "data": {
      "image/png": "[encoded data removed]",
      "text/plain": [
       "<Figure size 432x288 with 1 Axes>"
      ]
     },
     "metadata": {
      "needs_background": "light"
     },
     "output_type": "display_data"
    },
    {
     "name": "stdout",
     "output_type": "stream",
     "text": [
      "AUC:  0.8947368421052632\n",
      "---------\n",
      "Predicting positive_12mo_change...\n",
      "Random Forest F1 Score: 0.8004434589800443\n",
      "Predicted Result   1\n",
      "Actual Result       \n",
      "0                  3\n",
      "1                 19\n",
      "XGBoost F1 Score: 0.8004434589800443\n",
      "Predicted Result   1\n",
      "Actual Result       \n",
      "0                  3\n",
      "1                 19\n",
      "RandomForestClassifier(bootstrap=True, class_weight=None, criterion='gini',\n",
      "            max_depth=2, max_features='auto', max_leaf_nodes=None,\n",
      "            min_impurity_decrease=0.0, min_impurity_split=None,\n",
      "            min_samples_leaf=1, min_samples_split=2,\n",
      "            min_weight_fraction_leaf=0.0, n_estimators=100, n_jobs=None,\n",
      "            oob_score=False, random_state=0, verbose=0, warm_start=False)\n"
     ]
    },
    {
     "name": "stderr",
     "output_type": "stream",
     "text": [
      "/Users/philglazer/anaconda3/lib/python3.7/site-packages/sklearn/metrics/classification.py:1143: UndefinedMetricWarning:\n",
      "\n",
      "F-score is ill-defined and being set to 0.0 in labels with no predicted samples.\n",
      "\n",
      "/Users/philglazer/anaconda3/lib/python3.7/site-packages/pandas/core/frame.py:3940: SettingWithCopyWarning:\n",
      "\n",
      "\n",
      "A value is trying to be set on a copy of a slice from a DataFrame\n",
      "\n",
      "See the caveats in the documentation: http://pandas.pydata.org/pandas-docs/stable/indexing.html#indexing-view-versus-copy\n",
      "\n"
     ]
    },
    {
     "name": "stdout",
     "output_type": "stream",
     "text": [
      "[0.13476954 0.19998964 0.13150707 0.10908808 0.09371784 0.17532945\n",
      " 0.15559837]\n"
     ]
    },
    {
     "data": {
      "image/png": "[encoded data removed]",
      "text/plain": [
       "<Figure size 432x288 with 1 Axes>"
      ]
     },
     "metadata": {
      "needs_background": "light"
     },
     "output_type": "display_data"
    },
    {
     "name": "stdout",
     "output_type": "stream",
     "text": [
      "AUC:  0.875\n",
      "---------\n",
      "Predicting two_percent_plus_12mo...\n",
      "Random Forest F1 Score: 0.47933884297520657\n",
      "Predicted Result  0   1\n",
      "Actual Result          \n",
      "0                 1   9\n",
      "1                 0  12\n",
      "XGBoost F1 Score: 0.38502673796791437\n",
      "Predicted Result   1\n",
      "Actual Result       \n",
      "0                 10\n",
      "1                 12\n",
      "RandomForestClassifier(bootstrap=True, class_weight=None, criterion='gini',\n",
      "            max_depth=2, max_features='auto', max_leaf_nodes=None,\n",
      "            min_impurity_decrease=0.0, min_impurity_split=None,\n",
      "            min_samples_leaf=1, min_samples_split=2,\n",
      "            min_weight_fraction_leaf=0.0, n_estimators=100, n_jobs=None,\n",
      "            oob_score=False, random_state=0, verbose=0, warm_start=False)\n"
     ]
    },
    {
     "name": "stderr",
     "output_type": "stream",
     "text": [
      "/Users/philglazer/anaconda3/lib/python3.7/site-packages/sklearn/metrics/classification.py:1143: UndefinedMetricWarning:\n",
      "\n",
      "F-score is ill-defined and being set to 0.0 in labels with no predicted samples.\n",
      "\n",
      "/Users/philglazer/anaconda3/lib/python3.7/site-packages/pandas/core/frame.py:3940: SettingWithCopyWarning:\n",
      "\n",
      "\n",
      "A value is trying to be set on a copy of a slice from a DataFrame\n",
      "\n",
      "See the caveats in the documentation: http://pandas.pydata.org/pandas-docs/stable/indexing.html#indexing-view-versus-copy\n",
      "\n"
     ]
    },
    {
     "name": "stdout",
     "output_type": "stream",
     "text": [
      "[0.31241255 0.35548337 0.05449492 0.09073347 0.01227654 0.04034338\n",
      " 0.13425576]\n"
     ]
    },
    {
     "data": {
      "image/png": "[encoded data removed]",
      "text/plain": [
       "<Figure size 432x288 with 1 Axes>"
      ]
     },
     "metadata": {
      "needs_background": "light"
     },
     "output_type": "display_data"
    },
    {
     "name": "stdout",
     "output_type": "stream",
     "text": [
      "AUC:  1.0\n",
      "---------\n",
      "Predicting five_percent_plus_12mo...\n",
      "Random Forest F1 Score: 0.955276907001045\n",
      "Predicted Result   0  1\n",
      "Actual Result          \n",
      "0                 14  1\n",
      "1                  0  7\n",
      "XGBoost F1 Score: 0.955276907001045\n",
      "Predicted Result   0  1\n",
      "Actual Result          \n",
      "0                 14  1\n",
      "1                  0  7\n",
      "RandomForestClassifier(bootstrap=True, class_weight=None, criterion='gini',\n",
      "            max_depth=2, max_features='auto', max_leaf_nodes=None,\n",
      "            min_impurity_decrease=0.0, min_impurity_split=None,\n",
      "            min_samples_leaf=1, min_samples_split=2,\n",
      "            min_weight_fraction_leaf=0.0, n_estimators=100, n_jobs=None,\n",
      "            oob_score=False, random_state=0, verbose=0, warm_start=False)\n"
     ]
    },
    {
     "name": "stderr",
     "output_type": "stream",
     "text": [
      "/Users/philglazer/anaconda3/lib/python3.7/site-packages/pandas/core/frame.py:3940: SettingWithCopyWarning:\n",
      "\n",
      "\n",
      "A value is trying to be set on a copy of a slice from a DataFrame\n",
      "\n",
      "See the caveats in the documentation: http://pandas.pydata.org/pandas-docs/stable/indexing.html#indexing-view-versus-copy\n",
      "\n"
     ]
    },
    {
     "name": "stdout",
     "output_type": "stream",
     "text": [
      "[0.15676484 0.24014504 0.09877289 0.09394446 0.19744715 0.118176\n",
      " 0.09474961]\n"
     ]
    },
    {
     "data": {
      "image/png": "[encoded data removed]",
      "text/plain": [
       "<Figure size 432x288 with 1 Axes>"
      ]
     },
     "metadata": {
      "needs_background": "light"
     },
     "output_type": "display_data"
    },
    {
     "name": "stdout",
     "output_type": "stream",
     "text": [
      "AUC:  0.7333333333333333\n",
      "---------\n",
      "Predicting positive_3mo_change...\n",
      "Random Forest F1 Score: 0.6562173458725181\n",
      "Predicted Result  0   1\n",
      "Actual Result          \n",
      "0                 4   6\n",
      "1                 1  11\n",
      "XGBoost F1 Score: 0.38502673796791437\n",
      "Predicted Result   1\n",
      "Actual Result       \n",
      "0                 10\n",
      "1                 12\n",
      "RandomForestClassifier(bootstrap=True, class_weight=None, criterion='gini',\n",
      "            max_depth=2, max_features='auto', max_leaf_nodes=None,\n",
      "            min_impurity_decrease=0.0, min_impurity_split=None,\n",
      "            min_samples_leaf=1, min_samples_split=2,\n",
      "            min_weight_fraction_leaf=0.0, n_estimators=100, n_jobs=None,\n",
      "            oob_score=False, random_state=0, verbose=0, warm_start=False)\n"
     ]
    },
    {
     "name": "stderr",
     "output_type": "stream",
     "text": [
      "/Users/philglazer/anaconda3/lib/python3.7/site-packages/sklearn/metrics/classification.py:1143: UndefinedMetricWarning:\n",
      "\n",
      "F-score is ill-defined and being set to 0.0 in labels with no predicted samples.\n",
      "\n",
      "/Users/philglazer/anaconda3/lib/python3.7/site-packages/pandas/core/frame.py:3940: SettingWithCopyWarning:\n",
      "\n",
      "\n",
      "A value is trying to be set on a copy of a slice from a DataFrame\n",
      "\n",
      "See the caveats in the documentation: http://pandas.pydata.org/pandas-docs/stable/indexing.html#indexing-view-versus-copy\n",
      "\n"
     ]
    },
    {
     "name": "stdout",
     "output_type": "stream",
     "text": [
      "[0.21527321 0.07406169 0.08443828 0.07729535 0.2558338  0.18263578\n",
      " 0.11046189]\n"
     ]
    },
    {
     "data": {
      "image/png": "[encoded data removed]",
      "text/plain": [
       "<Figure size 432x288 with 1 Axes>"
      ]
     },
     "metadata": {
      "needs_background": "light"
     },
     "output_type": "display_data"
    },
    {
     "name": "stdout",
     "output_type": "stream",
     "text": [
      "AUC:  0.7719298245614035\n",
      "---------\n",
      "Predicting positive_6mo_change...\n",
      "Random Forest F1 Score: 0.7858897858897861\n",
      "Predicted Result  0   1\n",
      "Actual Result          \n",
      "0                 1   2\n",
      "1                 3  16\n",
      "XGBoost F1 Score: 0.6877005347593584\n",
      "Predicted Result  0   1\n",
      "Actual Result          \n",
      "0                 1   2\n",
      "1                 6  13\n",
      "RandomForestClassifier(bootstrap=True, class_weight=None, criterion='gini',\n",
      "            max_depth=2, max_features='auto', max_leaf_nodes=None,\n",
      "            min_impurity_decrease=0.0, min_impurity_split=None,\n",
      "            min_samples_leaf=1, min_samples_split=2,\n",
      "            min_weight_fraction_leaf=0.0, n_estimators=100, n_jobs=None,\n",
      "            oob_score=False, random_state=0, verbose=0, warm_start=False)\n"
     ]
    },
    {
     "name": "stderr",
     "output_type": "stream",
     "text": [
      "/Users/philglazer/anaconda3/lib/python3.7/site-packages/pandas/core/frame.py:3940: SettingWithCopyWarning:\n",
      "\n",
      "\n",
      "A value is trying to be set on a copy of a slice from a DataFrame\n",
      "\n",
      "See the caveats in the documentation: http://pandas.pydata.org/pandas-docs/stable/indexing.html#indexing-view-versus-copy\n",
      "\n"
     ]
    },
    {
     "name": "stdout",
     "output_type": "stream",
     "text": [
      "[0.08821896 0.21737659 0.10638776 0.04171854 0.22202426 0.16974811\n",
      " 0.15452578]\n"
     ]
    },
    {
     "data": {
      "image/png": "[encoded data removed]",
      "text/plain": [
       "<Figure size 432x288 with 1 Axes>"
      ]
     },
     "metadata": {
      "needs_background": "light"
     },
     "output_type": "display_data"
    },
    {
     "name": "stdout",
     "output_type": "stream",
     "text": [
      "AUC:  0.9882352941176471\n",
      "---------\n",
      "Predicting positive_12mo_change...\n",
      "Random Forest F1 Score: 0.8399438399438399\n",
      "Predicted Result  0   1\n",
      "Actual Result          \n",
      "0                 2   3\n",
      "1                 0  17\n",
      "XGBoost F1 Score: 0.6736596736596737\n",
      "Predicted Result   1\n",
      "Actual Result       \n",
      "0                  5\n",
      "1                 17\n",
      "RandomForestClassifier(bootstrap=True, class_weight=None, criterion='gini',\n",
      "            max_depth=2, max_features='auto', max_leaf_nodes=None,\n",
      "            min_impurity_decrease=0.0, min_impurity_split=None,\n",
      "            min_samples_leaf=1, min_samples_split=2,\n",
      "            min_weight_fraction_leaf=0.0, n_estimators=100, n_jobs=None,\n",
      "            oob_score=False, random_state=0, verbose=0, warm_start=False)\n"
     ]
    },
    {
     "name": "stderr",
     "output_type": "stream",
     "text": [
      "/Users/philglazer/anaconda3/lib/python3.7/site-packages/sklearn/metrics/classification.py:1143: UndefinedMetricWarning:\n",
      "\n",
      "F-score is ill-defined and being set to 0.0 in labels with no predicted samples.\n",
      "\n"
     ]
    },
    {
     "name": "stdout",
     "output_type": "stream",
     "text": [
      "[0.09969953 0.22224036 0.07288211 0.12204496 0.12259417 0.07999564\n",
      " 0.28054323]\n"
     ]
    },
    {
     "name": "stderr",
     "output_type": "stream",
     "text": [
      "/Users/philglazer/anaconda3/lib/python3.7/site-packages/pandas/core/frame.py:3940: SettingWithCopyWarning:\n",
      "\n",
      "\n",
      "A value is trying to be set on a copy of a slice from a DataFrame\n",
      "\n",
      "See the caveats in the documentation: http://pandas.pydata.org/pandas-docs/stable/indexing.html#indexing-view-versus-copy\n",
      "\n"
     ]
    },
    {
     "data": {
      "image/png": "[encoded data removed]",
      "text/plain": [
       "<Figure size 432x288 with 1 Axes>"
      ]
     },
     "metadata": {
      "needs_background": "light"
     },
     "output_type": "display_data"
    },
    {
     "name": "stdout",
     "output_type": "stream",
     "text": [
      "AUC:  0.7264957264957266\n",
      "---------\n",
      "Predicting two_percent_plus_12mo...\n",
      "Random Forest F1 Score: 0.6393939393939394\n",
      "Predicted Result  0  1\n",
      "Actual Result         \n",
      "0                 6  3\n",
      "1                 5  8\n",
      "XGBoost F1 Score: 0.23753665689149564\n",
      "Predicted Result   0\n",
      "Actual Result       \n",
      "0                  9\n",
      "1                 13\n",
      "RandomForestClassifier(bootstrap=True, class_weight=None, criterion='gini',\n",
      "            max_depth=2, max_features='auto', max_leaf_nodes=None,\n",
      "            min_impurity_decrease=0.0, min_impurity_split=None,\n",
      "            min_samples_leaf=1, min_samples_split=2,\n",
      "            min_weight_fraction_leaf=0.0, n_estimators=100, n_jobs=None,\n",
      "            oob_score=False, random_state=0, verbose=0, warm_start=False)\n"
     ]
    },
    {
     "name": "stderr",
     "output_type": "stream",
     "text": [
      "/Users/philglazer/anaconda3/lib/python3.7/site-packages/sklearn/metrics/classification.py:1143: UndefinedMetricWarning:\n",
      "\n",
      "F-score is ill-defined and being set to 0.0 in labels with no predicted samples.\n",
      "\n",
      "/Users/philglazer/anaconda3/lib/python3.7/site-packages/pandas/core/frame.py:3940: SettingWithCopyWarning:\n",
      "\n",
      "\n",
      "A value is trying to be set on a copy of a slice from a DataFrame\n",
      "\n",
      "See the caveats in the documentation: http://pandas.pydata.org/pandas-docs/stable/indexing.html#indexing-view-versus-copy\n",
      "\n"
     ]
    },
    {
     "name": "stdout",
     "output_type": "stream",
     "text": [
      "[0.22094598 0.06213797 0.08223018 0.12446069 0.05810188 0.05826875\n",
      " 0.39385456]\n"
     ]
    },
    {
     "data": {
      "image/png": "[encoded data removed]",
      "text/plain": [
       "<Figure size 432x288 with 1 Axes>"
      ]
     },
     "metadata": {
      "needs_background": "light"
     },
     "output_type": "display_data"
    },
    {
     "name": "stdout",
     "output_type": "stream",
     "text": [
      "AUC:  1.0\n",
      "---------\n",
      "Predicting five_percent_plus_12mo...\n",
      "Random Forest F1 Score: 0.827972027972028\n",
      "Predicted Result   0  1\n",
      "Actual Result          \n",
      "0                 18  0\n",
      "1                  3  1\n",
      "XGBoost F1 Score: 0.7363636363636363\n",
      "Predicted Result   0\n",
      "Actual Result       \n",
      "0                 18\n",
      "1                  4\n",
      "RandomForestClassifier(bootstrap=True, class_weight=None, criterion='gini',\n",
      "            max_depth=2, max_features='auto', max_leaf_nodes=None,\n",
      "            min_impurity_decrease=0.0, min_impurity_split=None,\n",
      "            min_samples_leaf=1, min_samples_split=2,\n",
      "            min_weight_fraction_leaf=0.0, n_estimators=100, n_jobs=None,\n",
      "            oob_score=False, random_state=0, verbose=0, warm_start=False)\n"
     ]
    },
    {
     "name": "stderr",
     "output_type": "stream",
     "text": [
      "/Users/philglazer/anaconda3/lib/python3.7/site-packages/sklearn/metrics/classification.py:1143: UndefinedMetricWarning:\n",
      "\n",
      "F-score is ill-defined and being set to 0.0 in labels with no predicted samples.\n",
      "\n",
      "/Users/philglazer/anaconda3/lib/python3.7/site-packages/pandas/core/frame.py:3940: SettingWithCopyWarning:\n",
      "\n",
      "\n",
      "A value is trying to be set on a copy of a slice from a DataFrame\n",
      "\n",
      "See the caveats in the documentation: http://pandas.pydata.org/pandas-docs/stable/indexing.html#indexing-view-versus-copy\n",
      "\n"
     ]
    },
    {
     "name": "stdout",
     "output_type": "stream",
     "text": [
      "[0.27513045 0.06838564 0.13627687 0.08115037 0.07956228 0.13757644\n",
      " 0.22191795]\n"
     ]
    },
    {
     "data": {
      "image/png": "[encoded data removed]",
      "text/plain": [
       "<Figure size 432x288 with 1 Axes>"
      ]
     },
     "metadata": {
      "needs_background": "light"
     },
     "output_type": "display_data"
    },
    {
     "name": "stdout",
     "output_type": "stream",
     "text": [
      "AUC:  0.9027777777777777\n",
      "---------\n",
      "Predicting positive_3mo_change...\n",
      "Random Forest F1 Score: 0.7363636363636363\n",
      "Predicted Result   1\n",
      "Actual Result       \n",
      "0                  4\n",
      "1                 18\n",
      "XGBoost F1 Score: 0.7363636363636363\n",
      "Predicted Result   1\n",
      "Actual Result       \n",
      "0                  4\n",
      "1                 18\n",
      "RandomForestClassifier(bootstrap=True, class_weight=None, criterion='gini',\n",
      "            max_depth=2, max_features='auto', max_leaf_nodes=None,\n",
      "            min_impurity_decrease=0.0, min_impurity_split=None,\n",
      "            min_samples_leaf=1, min_samples_split=2,\n",
      "            min_weight_fraction_leaf=0.0, n_estimators=100, n_jobs=None,\n",
      "            oob_score=False, random_state=0, verbose=0, warm_start=False)\n"
     ]
    },
    {
     "name": "stderr",
     "output_type": "stream",
     "text": [
      "/Users/philglazer/anaconda3/lib/python3.7/site-packages/sklearn/metrics/classification.py:1143: UndefinedMetricWarning:\n",
      "\n",
      "F-score is ill-defined and being set to 0.0 in labels with no predicted samples.\n",
      "\n",
      "/Users/philglazer/anaconda3/lib/python3.7/site-packages/pandas/core/frame.py:3940: SettingWithCopyWarning:\n",
      "\n",
      "\n",
      "A value is trying to be set on a copy of a slice from a DataFrame\n",
      "\n",
      "See the caveats in the documentation: http://pandas.pydata.org/pandas-docs/stable/indexing.html#indexing-view-versus-copy\n",
      "\n"
     ]
    },
    {
     "name": "stdout",
     "output_type": "stream",
     "text": [
      "[0.21529359 0.06351834 0.17282917 0.10470581 0.10219697 0.06102137\n",
      " 0.28043474]\n"
     ]
    },
    {
     "data": {
      "image/png": "[encoded data removed]",
      "text/plain": [
       "<Figure size 432x288 with 1 Axes>"
      ]
     },
     "metadata": {
      "needs_background": "light"
     },
     "output_type": "display_data"
    },
    {
     "name": "stdout",
     "output_type": "stream",
     "text": [
      "AUC:  0.9824561403508772\n",
      "---------\n",
      "Predicting positive_6mo_change...\n",
      "Random Forest F1 Score: 0.8004434589800443\n",
      "Predicted Result   1\n",
      "Actual Result       \n",
      "0                  3\n",
      "1                 19\n",
      "XGBoost F1 Score: 0.8004434589800443\n",
      "Predicted Result   1\n",
      "Actual Result       \n",
      "0                  3\n",
      "1                 19\n",
      "RandomForestClassifier(bootstrap=True, class_weight=None, criterion='gini',\n",
      "            max_depth=2, max_features='auto', max_leaf_nodes=None,\n",
      "            min_impurity_decrease=0.0, min_impurity_split=None,\n",
      "            min_samples_leaf=1, min_samples_split=2,\n",
      "            min_weight_fraction_leaf=0.0, n_estimators=100, n_jobs=None,\n",
      "            oob_score=False, random_state=0, verbose=0, warm_start=False)\n"
     ]
    },
    {
     "name": "stderr",
     "output_type": "stream",
     "text": [
      "/Users/philglazer/anaconda3/lib/python3.7/site-packages/sklearn/metrics/classification.py:1143: UndefinedMetricWarning:\n",
      "\n",
      "F-score is ill-defined and being set to 0.0 in labels with no predicted samples.\n",
      "\n",
      "/Users/philglazer/anaconda3/lib/python3.7/site-packages/pandas/core/frame.py:3940: SettingWithCopyWarning:\n",
      "\n",
      "\n",
      "A value is trying to be set on a copy of a slice from a DataFrame\n",
      "\n",
      "See the caveats in the documentation: http://pandas.pydata.org/pandas-docs/stable/indexing.html#indexing-view-versus-copy\n",
      "\n"
     ]
    },
    {
     "ename": "KeyboardInterrupt",
     "evalue": "",
     "output_type": "error",
     "traceback": [
      "\u001b[0;31m---------------------------------------------------------------------------\u001b[0m",
      "\u001b[0;31mKeyboardInterrupt\u001b[0m                         Traceback (most recent call last)",
      "\u001b[0;32m<ipython-input-1293-7f7751dec3e5>\u001b[0m in \u001b[0;36m<module>\u001b[0;34m\u001b[0m\n\u001b[1;32m      1\u001b[0m \u001b[0;32mfor\u001b[0m \u001b[0mm\u001b[0m \u001b[0;32min\u001b[0m \u001b[0mmodeled_zipcodes\u001b[0m\u001b[0;34m:\u001b[0m\u001b[0;34m\u001b[0m\u001b[0;34m\u001b[0m\u001b[0m\n\u001b[0;32m----> 2\u001b[0;31m     \u001b[0miterate_over_predictions\u001b[0m\u001b[0;34m(\u001b[0m\u001b[0mm\u001b[0m\u001b[0;34m,\u001b[0m \u001b[0mprediction_list\u001b[0m\u001b[0;34m)\u001b[0m\u001b[0;34m\u001b[0m\u001b[0;34m\u001b[0m\u001b[0m\n\u001b[0m",
      "\u001b[0;32m<ipython-input-1106-9844ae70c855>\u001b[0m in \u001b[0;36miterate_over_predictions\u001b[0;34m(zip_code, prediction_list)\u001b[0m\n\u001b[1;32m      6\u001b[0m \u001b[0;32mdef\u001b[0m \u001b[0miterate_over_predictions\u001b[0m\u001b[0;34m(\u001b[0m\u001b[0mzip_code\u001b[0m\u001b[0;34m,\u001b[0m \u001b[0mprediction_list\u001b[0m\u001b[0;34m)\u001b[0m\u001b[0;34m:\u001b[0m\u001b[0;34m\u001b[0m\u001b[0;34m\u001b[0m\u001b[0m\n\u001b[1;32m      7\u001b[0m     \u001b[0;32mfor\u001b[0m \u001b[0mp\u001b[0m \u001b[0;32min\u001b[0m \u001b[0mprediction_list\u001b[0m\u001b[0;34m:\u001b[0m\u001b[0;34m\u001b[0m\u001b[0;34m\u001b[0m\u001b[0m\n\u001b[0;32m----> 8\u001b[0;31m         \u001b[0mprint\u001b[0m\u001b[0;34m(\u001b[0m\u001b[0mrun_full_model\u001b[0m\u001b[0;34m(\u001b[0m\u001b[0mzip_code\u001b[0m\u001b[0;34m,\u001b[0m\u001b[0mp\u001b[0m\u001b[0;34m)\u001b[0m\u001b[0;34m)\u001b[0m\u001b[0;34m\u001b[0m\u001b[0;34m\u001b[0m\u001b[0m\n\u001b[0m",
      "\u001b[0;32m<ipython-input-1291-29749b319880>\u001b[0m in \u001b[0;36mrun_full_model\u001b[0;34m(zip_code, target_col)\u001b[0m\n\u001b[1;32m      3\u001b[0m \u001b[0;34m\u001b[0m\u001b[0m\n\u001b[1;32m      4\u001b[0m \u001b[0;32mdef\u001b[0m \u001b[0mrun_full_model\u001b[0m\u001b[0;34m(\u001b[0m\u001b[0mzip_code\u001b[0m\u001b[0;34m,\u001b[0m \u001b[0mtarget_col\u001b[0m\u001b[0;34m)\u001b[0m\u001b[0;34m:\u001b[0m\u001b[0;34m\u001b[0m\u001b[0;34m\u001b[0m\u001b[0m\n\u001b[0;32m----> 5\u001b[0;31m     \u001b[0mdata\u001b[0m \u001b[0;34m=\u001b[0m \u001b[0mjoin_data_available\u001b[0m\u001b[0;34m(\u001b[0m\u001b[0mzip_code\u001b[0m\u001b[0;34m,\u001b[0m \u001b[0mdata_sets_dict\u001b[0m\u001b[0;34m)\u001b[0m\u001b[0;34m.\u001b[0m\u001b[0mset_index\u001b[0m\u001b[0;34m(\u001b[0m\u001b[0;34m'Date'\u001b[0m\u001b[0;34m)\u001b[0m\u001b[0;34m\u001b[0m\u001b[0;34m\u001b[0m\u001b[0m\n\u001b[0m\u001b[1;32m      6\u001b[0m \u001b[0;34m\u001b[0m\u001b[0m\n\u001b[1;32m      7\u001b[0m     \u001b[0;31m# converts object type to float to take as a model input\u001b[0m\u001b[0;34m\u001b[0m\u001b[0;34m\u001b[0m\u001b[0;34m\u001b[0m\u001b[0m\n",
      "\u001b[0;32m<ipython-input-985-b6330f205236>\u001b[0m in \u001b[0;36mjoin_data_available\u001b[0;34m(zip_code, data_sets)\u001b[0m\n\u001b[1;32m      8\u001b[0m         \u001b[0mdata\u001b[0m \u001b[0;34m=\u001b[0m \u001b[0mprepare_df_for_zip\u001b[0m\u001b[0;34m(\u001b[0m\u001b[0mzip_code\u001b[0m\u001b[0;34m,\u001b[0m \u001b[0mdata_sets_dict\u001b[0m\u001b[0;34m[\u001b[0m\u001b[0mk\u001b[0m\u001b[0;34m]\u001b[0m\u001b[0;34m)\u001b[0m\u001b[0;31m#.add_prefix(k)\u001b[0m\u001b[0;34m\u001b[0m\u001b[0;34m\u001b[0m\u001b[0m\n\u001b[1;32m      9\u001b[0m         \u001b[0;32mfor\u001b[0m \u001b[0mi\u001b[0m \u001b[0;32min\u001b[0m \u001b[0mrange\u001b[0m\u001b[0;34m(\u001b[0m\u001b[0;36m1750\u001b[0m\u001b[0;34m)\u001b[0m\u001b[0;34m:\u001b[0m\u001b[0;34m\u001b[0m\u001b[0;34m\u001b[0m\u001b[0m\n\u001b[0;32m---> 10\u001b[0;31m                 \u001b[0mdata\u001b[0m\u001b[0;34m.\u001b[0m\u001b[0mrename\u001b[0m\u001b[0;34m(\u001b[0m\u001b[0mcolumns\u001b[0m\u001b[0;34m=\u001b[0m\u001b[0;34m{\u001b[0m\u001b[0mi\u001b[0m\u001b[0;34m:\u001b[0m\u001b[0mk\u001b[0m\u001b[0;34m}\u001b[0m\u001b[0;34m,\u001b[0m \u001b[0minplace\u001b[0m\u001b[0;34m=\u001b[0m\u001b[0;32mTrue\u001b[0m\u001b[0;34m)\u001b[0m\u001b[0;34m\u001b[0m\u001b[0;34m\u001b[0m\u001b[0m\n\u001b[0m\u001b[1;32m     11\u001b[0m         \u001b[0mdf_list\u001b[0m\u001b[0;34m.\u001b[0m\u001b[0mappend\u001b[0m\u001b[0;34m(\u001b[0m\u001b[0mdata\u001b[0m\u001b[0;34m)\u001b[0m\u001b[0;34m\u001b[0m\u001b[0;34m\u001b[0m\u001b[0m\n\u001b[1;32m     12\u001b[0m \u001b[0;34m\u001b[0m\u001b[0m\n",
      "\u001b[0;32m~/anaconda3/lib/python3.7/site-packages/pandas/util/_decorators.py\u001b[0m in \u001b[0;36mwrapper\u001b[0;34m(*args, **kwargs)\u001b[0m\n\u001b[1;32m    195\u001b[0m         \u001b[0;34m@\u001b[0m\u001b[0mwraps\u001b[0m\u001b[0;34m(\u001b[0m\u001b[0mfunc\u001b[0m\u001b[0;34m)\u001b[0m\u001b[0;34m\u001b[0m\u001b[0;34m\u001b[0m\u001b[0m\n\u001b[1;32m    196\u001b[0m         \u001b[0;32mdef\u001b[0m \u001b[0mwrapper\u001b[0m\u001b[0;34m(\u001b[0m\u001b[0;34m*\u001b[0m\u001b[0margs\u001b[0m\u001b[0;34m,\u001b[0m \u001b[0;34m**\u001b[0m\u001b[0mkwargs\u001b[0m\u001b[0;34m)\u001b[0m\u001b[0;34m:\u001b[0m\u001b[0;34m\u001b[0m\u001b[0;34m\u001b[0m\u001b[0m\n\u001b[0;32m--> 197\u001b[0;31m             \u001b[0;32mreturn\u001b[0m \u001b[0mfunc\u001b[0m\u001b[0;34m(\u001b[0m\u001b[0;34m*\u001b[0m\u001b[0margs\u001b[0m\u001b[0;34m,\u001b[0m \u001b[0;34m**\u001b[0m\u001b[0mkwargs\u001b[0m\u001b[0;34m)\u001b[0m\u001b[0;34m\u001b[0m\u001b[0;34m\u001b[0m\u001b[0m\n\u001b[0m\u001b[1;32m    198\u001b[0m \u001b[0;34m\u001b[0m\u001b[0m\n\u001b[1;32m    199\u001b[0m         \u001b[0;32mif\u001b[0m \u001b[0;32mnot\u001b[0m \u001b[0mPY2\u001b[0m\u001b[0;34m:\u001b[0m\u001b[0;34m\u001b[0m\u001b[0;34m\u001b[0m\u001b[0m\n",
      "\u001b[0;32m~/anaconda3/lib/python3.7/site-packages/pandas/core/frame.py\u001b[0m in \u001b[0;36mrename\u001b[0;34m(self, *args, **kwargs)\u001b[0m\n\u001b[1;32m   4023\u001b[0m         \u001b[0mkwargs\u001b[0m\u001b[0;34m.\u001b[0m\u001b[0mpop\u001b[0m\u001b[0;34m(\u001b[0m\u001b[0;34m'axis'\u001b[0m\u001b[0;34m,\u001b[0m \u001b[0;32mNone\u001b[0m\u001b[0;34m)\u001b[0m\u001b[0;34m\u001b[0m\u001b[0;34m\u001b[0m\u001b[0m\n\u001b[1;32m   4024\u001b[0m         \u001b[0mkwargs\u001b[0m\u001b[0;34m.\u001b[0m\u001b[0mpop\u001b[0m\u001b[0;34m(\u001b[0m\u001b[0;34m'mapper'\u001b[0m\u001b[0;34m,\u001b[0m \u001b[0;32mNone\u001b[0m\u001b[0;34m)\u001b[0m\u001b[0;34m\u001b[0m\u001b[0;34m\u001b[0m\u001b[0m\n\u001b[0;32m-> 4025\u001b[0;31m         \u001b[0;32mreturn\u001b[0m \u001b[0msuper\u001b[0m\u001b[0;34m(\u001b[0m\u001b[0mDataFrame\u001b[0m\u001b[0;34m,\u001b[0m \u001b[0mself\u001b[0m\u001b[0;34m)\u001b[0m\u001b[0;34m.\u001b[0m\u001b[0mrename\u001b[0m\u001b[0;34m(\u001b[0m\u001b[0;34m**\u001b[0m\u001b[0mkwargs\u001b[0m\u001b[0;34m)\u001b[0m\u001b[0;34m\u001b[0m\u001b[0;34m\u001b[0m\u001b[0m\n\u001b[0m\u001b[1;32m   4026\u001b[0m \u001b[0;34m\u001b[0m\u001b[0m\n\u001b[1;32m   4027\u001b[0m     \u001b[0;34m@\u001b[0m\u001b[0mSubstitution\u001b[0m\u001b[0;34m(\u001b[0m\u001b[0;34m**\u001b[0m\u001b[0m_shared_doc_kwargs\u001b[0m\u001b[0;34m)\u001b[0m\u001b[0;34m\u001b[0m\u001b[0;34m\u001b[0m\u001b[0m\n",
      "\u001b[0;32m~/anaconda3/lib/python3.7/site-packages/pandas/core/generic.py\u001b[0m in \u001b[0;36mrename\u001b[0;34m(self, *args, **kwargs)\u001b[0m\n\u001b[1;32m   1089\u001b[0m                 \u001b[0mlevel\u001b[0m \u001b[0;34m=\u001b[0m \u001b[0mself\u001b[0m\u001b[0;34m.\u001b[0m\u001b[0maxes\u001b[0m\u001b[0;34m[\u001b[0m\u001b[0maxis\u001b[0m\u001b[0;34m]\u001b[0m\u001b[0;34m.\u001b[0m\u001b[0m_get_level_number\u001b[0m\u001b[0;34m(\u001b[0m\u001b[0mlevel\u001b[0m\u001b[0;34m)\u001b[0m\u001b[0;34m\u001b[0m\u001b[0;34m\u001b[0m\u001b[0m\n\u001b[1;32m   1090\u001b[0m             result._data = result._data.rename_axis(f, axis=baxis, copy=copy,\n\u001b[0;32m-> 1091\u001b[0;31m                                                     level=level)\n\u001b[0m\u001b[1;32m   1092\u001b[0m             \u001b[0mresult\u001b[0m\u001b[0;34m.\u001b[0m\u001b[0m_clear_item_cache\u001b[0m\u001b[0;34m(\u001b[0m\u001b[0;34m)\u001b[0m\u001b[0;34m\u001b[0m\u001b[0;34m\u001b[0m\u001b[0m\n\u001b[1;32m   1093\u001b[0m \u001b[0;34m\u001b[0m\u001b[0m\n",
      "\u001b[0;32m~/anaconda3/lib/python3.7/site-packages/pandas/core/internals/managers.py\u001b[0m in \u001b[0;36mrename_axis\u001b[0;34m(self, mapper, axis, copy, level)\u001b[0m\n\u001b[1;32m    169\u001b[0m         \"\"\"\n\u001b[1;32m    170\u001b[0m         \u001b[0mobj\u001b[0m \u001b[0;34m=\u001b[0m \u001b[0mself\u001b[0m\u001b[0;34m.\u001b[0m\u001b[0mcopy\u001b[0m\u001b[0;34m(\u001b[0m\u001b[0mdeep\u001b[0m\u001b[0;34m=\u001b[0m\u001b[0mcopy\u001b[0m\u001b[0;34m)\u001b[0m\u001b[0;34m\u001b[0m\u001b[0;34m\u001b[0m\u001b[0m\n\u001b[0;32m--> 171\u001b[0;31m         \u001b[0mobj\u001b[0m\u001b[0;34m.\u001b[0m\u001b[0mset_axis\u001b[0m\u001b[0;34m(\u001b[0m\u001b[0maxis\u001b[0m\u001b[0;34m,\u001b[0m \u001b[0m_transform_index\u001b[0m\u001b[0;34m(\u001b[0m\u001b[0mself\u001b[0m\u001b[0;34m.\u001b[0m\u001b[0maxes\u001b[0m\u001b[0;34m[\u001b[0m\u001b[0maxis\u001b[0m\u001b[0;34m]\u001b[0m\u001b[0;34m,\u001b[0m \u001b[0mmapper\u001b[0m\u001b[0;34m,\u001b[0m \u001b[0mlevel\u001b[0m\u001b[0;34m)\u001b[0m\u001b[0;34m)\u001b[0m\u001b[0;34m\u001b[0m\u001b[0;34m\u001b[0m\u001b[0m\n\u001b[0m\u001b[1;32m    172\u001b[0m         \u001b[0;32mreturn\u001b[0m \u001b[0mobj\u001b[0m\u001b[0;34m\u001b[0m\u001b[0;34m\u001b[0m\u001b[0m\n\u001b[1;32m    173\u001b[0m \u001b[0;34m\u001b[0m\u001b[0m\n",
      "\u001b[0;32m~/anaconda3/lib/python3.7/site-packages/pandas/core/internals/managers.py\u001b[0m in \u001b[0;36m_transform_index\u001b[0;34m(index, func, level)\u001b[0m\n\u001b[1;32m   2003\u001b[0m     \u001b[0;32melse\u001b[0m\u001b[0;34m:\u001b[0m\u001b[0;34m\u001b[0m\u001b[0;34m\u001b[0m\u001b[0m\n\u001b[1;32m   2004\u001b[0m         \u001b[0mitems\u001b[0m \u001b[0;34m=\u001b[0m \u001b[0;34m[\u001b[0m\u001b[0mfunc\u001b[0m\u001b[0;34m(\u001b[0m\u001b[0mx\u001b[0m\u001b[0;34m)\u001b[0m \u001b[0;32mfor\u001b[0m \u001b[0mx\u001b[0m \u001b[0;32min\u001b[0m \u001b[0mindex\u001b[0m\u001b[0;34m]\u001b[0m\u001b[0;34m\u001b[0m\u001b[0;34m\u001b[0m\u001b[0m\n\u001b[0;32m-> 2005\u001b[0;31m         \u001b[0;32mreturn\u001b[0m \u001b[0mIndex\u001b[0m\u001b[0;34m(\u001b[0m\u001b[0mitems\u001b[0m\u001b[0;34m,\u001b[0m \u001b[0mname\u001b[0m\u001b[0;34m=\u001b[0m\u001b[0mindex\u001b[0m\u001b[0;34m.\u001b[0m\u001b[0mname\u001b[0m\u001b[0;34m,\u001b[0m \u001b[0mtupleize_cols\u001b[0m\u001b[0;34m=\u001b[0m\u001b[0;32mFalse\u001b[0m\u001b[0;34m)\u001b[0m\u001b[0;34m\u001b[0m\u001b[0;34m\u001b[0m\u001b[0m\n\u001b[0m\u001b[1;32m   2006\u001b[0m \u001b[0;34m\u001b[0m\u001b[0m\n\u001b[1;32m   2007\u001b[0m \u001b[0;34m\u001b[0m\u001b[0m\n",
      "\u001b[0;32m~/anaconda3/lib/python3.7/site-packages/pandas/core/indexes/base.py\u001b[0m in \u001b[0;36m__new__\u001b[0;34m(cls, data, dtype, copy, name, fastpath, tupleize_cols, **kwargs)\u001b[0m\n\u001b[1;32m    277\u001b[0m \u001b[0;34m\u001b[0m\u001b[0m\n\u001b[1;32m    278\u001b[0m         \u001b[0;31m# categorical\u001b[0m\u001b[0;34m\u001b[0m\u001b[0;34m\u001b[0m\u001b[0;34m\u001b[0m\u001b[0m\n\u001b[0;32m--> 279\u001b[0;31m         \u001b[0;32melif\u001b[0m \u001b[0mis_categorical_dtype\u001b[0m\u001b[0;34m(\u001b[0m\u001b[0mdata\u001b[0m\u001b[0;34m)\u001b[0m \u001b[0;32mor\u001b[0m \u001b[0mis_categorical_dtype\u001b[0m\u001b[0;34m(\u001b[0m\u001b[0mdtype\u001b[0m\u001b[0;34m)\u001b[0m\u001b[0;34m:\u001b[0m\u001b[0;34m\u001b[0m\u001b[0;34m\u001b[0m\u001b[0m\n\u001b[0m\u001b[1;32m    280\u001b[0m             \u001b[0;32mfrom\u001b[0m \u001b[0;34m.\u001b[0m\u001b[0mcategory\u001b[0m \u001b[0;32mimport\u001b[0m \u001b[0mCategoricalIndex\u001b[0m\u001b[0;34m\u001b[0m\u001b[0;34m\u001b[0m\u001b[0m\n\u001b[1;32m    281\u001b[0m             return CategoricalIndex(data, dtype=dtype, copy=copy, name=name,\n",
      "\u001b[0;32m~/anaconda3/lib/python3.7/site-packages/pandas/core/dtypes/common.py\u001b[0m in \u001b[0;36mis_categorical_dtype\u001b[0;34m(arr_or_dtype)\u001b[0m\n\u001b[1;32m    600\u001b[0m     \u001b[0;32mif\u001b[0m \u001b[0marr_or_dtype\u001b[0m \u001b[0;32mis\u001b[0m \u001b[0;32mNone\u001b[0m\u001b[0;34m:\u001b[0m\u001b[0;34m\u001b[0m\u001b[0;34m\u001b[0m\u001b[0m\n\u001b[1;32m    601\u001b[0m         \u001b[0;32mreturn\u001b[0m \u001b[0;32mFalse\u001b[0m\u001b[0;34m\u001b[0m\u001b[0;34m\u001b[0m\u001b[0m\n\u001b[0;32m--> 602\u001b[0;31m     \u001b[0;32mreturn\u001b[0m \u001b[0mCategoricalDtype\u001b[0m\u001b[0;34m.\u001b[0m\u001b[0mis_dtype\u001b[0m\u001b[0;34m(\u001b[0m\u001b[0marr_or_dtype\u001b[0m\u001b[0;34m)\u001b[0m\u001b[0;34m\u001b[0m\u001b[0;34m\u001b[0m\u001b[0m\n\u001b[0m\u001b[1;32m    603\u001b[0m \u001b[0;34m\u001b[0m\u001b[0m\n\u001b[1;32m    604\u001b[0m \u001b[0;34m\u001b[0m\u001b[0m\n",
      "\u001b[0;32m~/anaconda3/lib/python3.7/site-packages/pandas/core/dtypes/base.py\u001b[0m in \u001b[0;36mis_dtype\u001b[0;34m(cls, dtype)\u001b[0m\n\u001b[1;32m     99\u001b[0m \u001b[0;34m\u001b[0m\u001b[0m\n\u001b[1;32m    100\u001b[0m         if isinstance(dtype, (ABCSeries, ABCIndexClass,\n\u001b[0;32m--> 101\u001b[0;31m                               ABCDataFrame, np.dtype)):\n\u001b[0m\u001b[1;32m    102\u001b[0m             \u001b[0;31m# https://github.com/pandas-dev/pandas/issues/22960\u001b[0m\u001b[0;34m\u001b[0m\u001b[0;34m\u001b[0m\u001b[0;34m\u001b[0m\u001b[0m\n\u001b[1;32m    103\u001b[0m             \u001b[0;31m# avoid passing data to `construct_from_string`. This could\u001b[0m\u001b[0;34m\u001b[0m\u001b[0;34m\u001b[0m\u001b[0;34m\u001b[0m\u001b[0m\n",
      "\u001b[0;32m~/anaconda3/lib/python3.7/site-packages/pandas/core/dtypes/generic.py\u001b[0m in \u001b[0;36m_check\u001b[0;34m(cls, inst)\u001b[0m\n\u001b[1;32m      7\u001b[0m     \u001b[0;34m@\u001b[0m\u001b[0mclassmethod\u001b[0m\u001b[0;34m\u001b[0m\u001b[0;34m\u001b[0m\u001b[0m\n\u001b[1;32m      8\u001b[0m     \u001b[0;32mdef\u001b[0m \u001b[0m_check\u001b[0m\u001b[0;34m(\u001b[0m\u001b[0mcls\u001b[0m\u001b[0;34m,\u001b[0m \u001b[0minst\u001b[0m\u001b[0;34m)\u001b[0m\u001b[0;34m:\u001b[0m\u001b[0;34m\u001b[0m\u001b[0;34m\u001b[0m\u001b[0m\n\u001b[0;32m----> 9\u001b[0;31m         \u001b[0;32mreturn\u001b[0m \u001b[0mgetattr\u001b[0m\u001b[0;34m(\u001b[0m\u001b[0minst\u001b[0m\u001b[0;34m,\u001b[0m \u001b[0mattr\u001b[0m\u001b[0;34m,\u001b[0m \u001b[0;34m'_typ'\u001b[0m\u001b[0;34m)\u001b[0m \u001b[0;32min\u001b[0m \u001b[0mcomp\u001b[0m\u001b[0;34m\u001b[0m\u001b[0;34m\u001b[0m\u001b[0m\n\u001b[0m\u001b[1;32m     10\u001b[0m \u001b[0;34m\u001b[0m\u001b[0m\n\u001b[1;32m     11\u001b[0m     \u001b[0mdct\u001b[0m \u001b[0;34m=\u001b[0m \u001b[0mdict\u001b[0m\u001b[0;34m(\u001b[0m\u001b[0m__instancecheck__\u001b[0m\u001b[0;34m=\u001b[0m\u001b[0m_check\u001b[0m\u001b[0;34m,\u001b[0m \u001b[0m__subclasscheck__\u001b[0m\u001b[0;34m=\u001b[0m\u001b[0m_check\u001b[0m\u001b[0;34m)\u001b[0m\u001b[0;34m\u001b[0m\u001b[0;34m\u001b[0m\u001b[0m\n",
      "\u001b[0;31mKeyboardInterrupt\u001b[0m: "
     ]
    }
   ],
   "source": [
    "for m in modeled_zipcodes:\n",
    "    iterate_over_predictions(m, prediction_list)"
   ]
  },
  {
   "cell_type": "code",
   "execution_count": 1009,
   "metadata": {},
   "outputs": [],
   "source": [
    "# iterate over a list of types of predictions and get the best model for each prediction, save to a [dictionary]?\n",
    "\n",
    "def gather_models_zip(zip_code, prediction_list):\n",
    "    models_dict = {}\n",
    "    for p in prediction_list:\n",
    "        models_dict[p] = run_full_model(zip_code,p)\n",
    "    return models_dict"
   ]
  },
  {
   "cell_type": "code",
   "execution_count": 1010,
   "metadata": {
    "scrolled": true
   },
   "outputs": [
    {
     "name": "stderr",
     "output_type": "stream",
     "text": [
      "/Users/philglazer/anaconda3/lib/python3.7/site-packages/pandas/core/frame.py:3940: SettingWithCopyWarning:\n",
      "\n",
      "\n",
      "A value is trying to be set on a copy of a slice from a DataFrame\n",
      "\n",
      "See the caveats in the documentation: http://pandas.pydata.org/pandas-docs/stable/indexing.html#indexing-view-versus-copy\n",
      "\n"
     ]
    },
    {
     "name": "stdout",
     "output_type": "stream",
     "text": [
      "[0.31806897 0.0549442  0.14948799 0.03701764 0.07307767 0.15223911\n",
      " 0.21516443]\n",
      "---------\n",
      "Predicting positive_3mo_change...\n",
      "Random Forest F1 Score: 0.9526695526695526\n",
      "Predicted Result  0   1\n",
      "Actual Result          \n",
      "0                 4   1\n",
      "1                 0  17\n",
      "XGBoost F1 Score: 0.6736596736596737\n",
      "Predicted Result   1\n",
      "Actual Result       \n",
      "0                  5\n",
      "1                 17\n"
     ]
    },
    {
     "name": "stderr",
     "output_type": "stream",
     "text": [
      "/Users/philglazer/anaconda3/lib/python3.7/site-packages/sklearn/metrics/classification.py:1143: UndefinedMetricWarning:\n",
      "\n",
      "F-score is ill-defined and being set to 0.0 in labels with no predicted samples.\n",
      "\n",
      "/Users/philglazer/anaconda3/lib/python3.7/site-packages/pandas/core/frame.py:3940: SettingWithCopyWarning:\n",
      "\n",
      "\n",
      "A value is trying to be set on a copy of a slice from a DataFrame\n",
      "\n",
      "See the caveats in the documentation: http://pandas.pydata.org/pandas-docs/stable/indexing.html#indexing-view-versus-copy\n",
      "\n"
     ]
    },
    {
     "name": "stdout",
     "output_type": "stream",
     "text": [
      "[0.35351473 0.07952628 0.05824746 0.09667748 0.10822902 0.07365014\n",
      " 0.23015489]\n",
      "---------\n",
      "Predicting positive_6mo_change...\n",
      "Random Forest F1 Score: 1.0\n",
      "Predicted Result  0   1\n",
      "Actual Result          \n",
      "0                 4   0\n",
      "1                 0  18\n",
      "XGBoost F1 Score: 0.7363636363636363\n",
      "Predicted Result   1\n",
      "Actual Result       \n",
      "0                  4\n",
      "1                 18\n"
     ]
    },
    {
     "name": "stderr",
     "output_type": "stream",
     "text": [
      "/Users/philglazer/anaconda3/lib/python3.7/site-packages/sklearn/metrics/classification.py:1143: UndefinedMetricWarning:\n",
      "\n",
      "F-score is ill-defined and being set to 0.0 in labels with no predicted samples.\n",
      "\n",
      "/Users/philglazer/anaconda3/lib/python3.7/site-packages/pandas/core/frame.py:3940: SettingWithCopyWarning:\n",
      "\n",
      "\n",
      "A value is trying to be set on a copy of a slice from a DataFrame\n",
      "\n",
      "See the caveats in the documentation: http://pandas.pydata.org/pandas-docs/stable/indexing.html#indexing-view-versus-copy\n",
      "\n"
     ]
    },
    {
     "name": "stdout",
     "output_type": "stream",
     "text": [
      "[0.33582065 0.07782843 0.03485946 0.16836697 0.09124368 0.05235119\n",
      " 0.23952962]\n",
      "---------\n",
      "Predicting positive_12mo_change...\n",
      "Random Forest F1 Score: 0.8715338715338716\n",
      "Predicted Result  0   1\n",
      "Actual Result          \n",
      "0                 2   1\n",
      "1                 2  17\n",
      "XGBoost F1 Score: 0.8004434589800443\n",
      "Predicted Result   1\n",
      "Actual Result       \n",
      "0                  3\n",
      "1                 19\n"
     ]
    },
    {
     "name": "stderr",
     "output_type": "stream",
     "text": [
      "/Users/philglazer/anaconda3/lib/python3.7/site-packages/sklearn/metrics/classification.py:1143: UndefinedMetricWarning:\n",
      "\n",
      "F-score is ill-defined and being set to 0.0 in labels with no predicted samples.\n",
      "\n",
      "/Users/philglazer/anaconda3/lib/python3.7/site-packages/pandas/core/frame.py:3940: SettingWithCopyWarning:\n",
      "\n",
      "\n",
      "A value is trying to be set on a copy of a slice from a DataFrame\n",
      "\n",
      "See the caveats in the documentation: http://pandas.pydata.org/pandas-docs/stable/indexing.html#indexing-view-versus-copy\n",
      "\n"
     ]
    },
    {
     "name": "stdout",
     "output_type": "stream",
     "text": [
      "[0.29773204 0.11190981 0.06350553 0.11983203 0.08527267 0.04012233\n",
      " 0.28162559]\n",
      "---------\n",
      "Predicting two_percent_plus_12mo...\n",
      "Random Forest F1 Score: 0.8053475935828878\n",
      "Predicted Result  0   1\n",
      "Actual Result          \n",
      "0                 3   3\n",
      "1                 1  15\n",
      "XGBoost F1 Score: 0.6124401913875599\n",
      "Predicted Result   1\n",
      "Actual Result       \n",
      "0                  6\n",
      "1                 16\n"
     ]
    },
    {
     "name": "stderr",
     "output_type": "stream",
     "text": [
      "/Users/philglazer/anaconda3/lib/python3.7/site-packages/sklearn/metrics/classification.py:1143: UndefinedMetricWarning:\n",
      "\n",
      "F-score is ill-defined and being set to 0.0 in labels with no predicted samples.\n",
      "\n",
      "/Users/philglazer/anaconda3/lib/python3.7/site-packages/pandas/core/frame.py:3940: SettingWithCopyWarning:\n",
      "\n",
      "\n",
      "A value is trying to be set on a copy of a slice from a DataFrame\n",
      "\n",
      "See the caveats in the documentation: http://pandas.pydata.org/pandas-docs/stable/indexing.html#indexing-view-versus-copy\n",
      "\n"
     ]
    },
    {
     "name": "stdout",
     "output_type": "stream",
     "text": [
      "[0.31954668 0.12658443 0.11807664 0.04878831 0.06808655 0.03051754\n",
      " 0.28839986]\n",
      "---------\n",
      "Predicting five_percent_plus_12mo...\n",
      "Random Forest F1 Score: 0.9546395633352156\n",
      "Predicted Result   0   1\n",
      "Actual Result           \n",
      "0                 10   0\n",
      "1                  1  11\n",
      "XGBoost F1 Score: 0.8627893845285151\n",
      "Predicted Result   0  1\n",
      "Actual Result          \n",
      "0                 10  0\n",
      "1                  3  9\n"
     ]
    },
    {
     "name": "stderr",
     "output_type": "stream",
     "text": [
      "/Users/philglazer/anaconda3/lib/python3.7/site-packages/pandas/core/frame.py:3940: SettingWithCopyWarning:\n",
      "\n",
      "\n",
      "A value is trying to be set on a copy of a slice from a DataFrame\n",
      "\n",
      "See the caveats in the documentation: http://pandas.pydata.org/pandas-docs/stable/indexing.html#indexing-view-versus-copy\n",
      "\n"
     ]
    },
    {
     "name": "stdout",
     "output_type": "stream",
     "text": [
      "[0.02855022 0.12096558 0.20021013 0.03997154 0.0717228  0.02489801\n",
      " 0.12368172]\n",
      "---------\n",
      "Predicting ten_percent_plus_12mo...\n",
      "Random Forest F1 Score: 0.7363636363636363\n",
      "Predicted Result   0\n",
      "Actual Result       \n",
      "0                 18\n",
      "1                  4\n",
      "XGBoost F1 Score: 0.7363636363636363\n",
      "Predicted Result   0\n",
      "Actual Result       \n",
      "0                 18\n",
      "1                  4\n"
     ]
    },
    {
     "name": "stderr",
     "output_type": "stream",
     "text": [
      "/Users/philglazer/anaconda3/lib/python3.7/site-packages/sklearn/metrics/classification.py:1143: UndefinedMetricWarning:\n",
      "\n",
      "F-score is ill-defined and being set to 0.0 in labels with no predicted samples.\n",
      "\n"
     ]
    },
    {
     "data": {
      "text/plain": [
       "{'positive_3mo_change': RandomForestClassifier(bootstrap=True, class_weight=None, criterion='gini',\n",
       "             max_depth=2, max_features='auto', max_leaf_nodes=None,\n",
       "             min_impurity_decrease=0.0, min_impurity_split=None,\n",
       "             min_samples_leaf=1, min_samples_split=2,\n",
       "             min_weight_fraction_leaf=0.0, n_estimators=100, n_jobs=None,\n",
       "             oob_score=False, random_state=0, verbose=0, warm_start=False),\n",
       " 'positive_6mo_change': RandomForestClassifier(bootstrap=True, class_weight=None, criterion='gini',\n",
       "             max_depth=2, max_features='auto', max_leaf_nodes=None,\n",
       "             min_impurity_decrease=0.0, min_impurity_split=None,\n",
       "             min_samples_leaf=1, min_samples_split=2,\n",
       "             min_weight_fraction_leaf=0.0, n_estimators=100, n_jobs=None,\n",
       "             oob_score=False, random_state=0, verbose=0, warm_start=False),\n",
       " 'positive_12mo_change': RandomForestClassifier(bootstrap=True, class_weight=None, criterion='gini',\n",
       "             max_depth=2, max_features='auto', max_leaf_nodes=None,\n",
       "             min_impurity_decrease=0.0, min_impurity_split=None,\n",
       "             min_samples_leaf=1, min_samples_split=2,\n",
       "             min_weight_fraction_leaf=0.0, n_estimators=100, n_jobs=None,\n",
       "             oob_score=False, random_state=0, verbose=0, warm_start=False),\n",
       " 'two_percent_plus_12mo': RandomForestClassifier(bootstrap=True, class_weight=None, criterion='gini',\n",
       "             max_depth=2, max_features='auto', max_leaf_nodes=None,\n",
       "             min_impurity_decrease=0.0, min_impurity_split=None,\n",
       "             min_samples_leaf=1, min_samples_split=2,\n",
       "             min_weight_fraction_leaf=0.0, n_estimators=100, n_jobs=None,\n",
       "             oob_score=False, random_state=0, verbose=0, warm_start=False),\n",
       " 'five_percent_plus_12mo': RandomForestClassifier(bootstrap=True, class_weight=None, criterion='gini',\n",
       "             max_depth=2, max_features='auto', max_leaf_nodes=None,\n",
       "             min_impurity_decrease=0.0, min_impurity_split=None,\n",
       "             min_samples_leaf=1, min_samples_split=2,\n",
       "             min_weight_fraction_leaf=0.0, n_estimators=100, n_jobs=None,\n",
       "             oob_score=False, random_state=0, verbose=0, warm_start=False),\n",
       " 'ten_percent_plus_12mo': RandomForestClassifier(bootstrap=True, class_weight=None, criterion='gini',\n",
       "             max_depth=2, max_features='auto', max_leaf_nodes=None,\n",
       "             min_impurity_decrease=0.0, min_impurity_split=None,\n",
       "             min_samples_leaf=1, min_samples_split=2,\n",
       "             min_weight_fraction_leaf=0.0, n_estimators=100, n_jobs=None,\n",
       "             oob_score=False, random_state=0, verbose=0, warm_start=False)}"
      ]
     },
     "execution_count": 1010,
     "metadata": {},
     "output_type": "execute_result"
    }
   ],
   "source": [
    "gather_models_zip(77494, prediction_list)"
   ]
  },
  {
   "cell_type": "code",
   "execution_count": 1014,
   "metadata": {},
   "outputs": [],
   "source": [
    "# iterate over a list of zip codes and get the models for each prediction in prediction list\n",
    "# combine the models dictionary for each zip code into a master dictionary\n",
    "\n",
    "def gather_models_list_of_zips(list_of_zips, prediction_list):\n",
    "    master_dict = {}\n",
    "    for l in list_of_zips:\n",
    "        data = gather_models_zip(l,prediction_list)\n",
    "        master_dict[l] = data\n",
    "    \n",
    "    return master_dict"
   ]
  },
  {
   "cell_type": "code",
   "execution_count": 1294,
   "metadata": {},
   "outputs": [
    {
     "name": "stdout",
     "output_type": "stream",
     "text": [
      "[0.06890525 0.13398226 0.28662752 0.12230862 0.0763358  0.1063531\n",
      " 0.20548745]\n"
     ]
    },
    {
     "data": {
      "image/png": "[encoded data removed]",
      "text/plain": [
       "<Figure size 432x288 with 1 Axes>"
      ]
     },
     "metadata": {
      "needs_background": "light"
     },
     "output_type": "display_data"
    },
    {
     "name": "stdout",
     "output_type": "stream",
     "text": [
      "AUC:  0.8285714285714285\n",
      "---------\n",
      "Predicting positive_3mo_change...\n",
      "Random Forest F1 Score: 0.7365967365967365\n",
      "Predicted Result  0   1\n",
      "Actual Result          \n",
      "0                 6   1\n",
      "1                 5  10\n",
      "XGBoost F1 Score: 0.7801544860368389\n",
      "Predicted Result  0   1\n",
      "Actual Result          \n",
      "0                 6   1\n",
      "1                 4  11\n"
     ]
    },
    {
     "name": "stderr",
     "output_type": "stream",
     "text": [
      "/Users/philglazer/anaconda3/lib/python3.7/site-packages/pandas/core/frame.py:3940: SettingWithCopyWarning:\n",
      "\n",
      "\n",
      "A value is trying to be set on a copy of a slice from a DataFrame\n",
      "\n",
      "See the caveats in the documentation: http://pandas.pydata.org/pandas-docs/stable/indexing.html#indexing-view-versus-copy\n",
      "\n"
     ]
    },
    {
     "name": "stdout",
     "output_type": "stream",
     "text": [
      "[0.1522281  0.07859916 0.34194477 0.11878304 0.07743816 0.11816525\n",
      " 0.11284153]\n"
     ]
    },
    {
     "data": {
      "image/png": "[encoded data removed]",
      "text/plain": [
       "<Figure size 432x288 with 1 Axes>"
      ]
     },
     "metadata": {
      "needs_background": "light"
     },
     "output_type": "display_data"
    },
    {
     "name": "stdout",
     "output_type": "stream",
     "text": [
      "AUC:  0.8839285714285714\n",
      "---------\n",
      "Predicting positive_6mo_change...\n",
      "Random Forest F1 Score: 0.8181818181818182\n",
      "Predicted Result  0   1\n",
      "Actual Result          \n",
      "0                 6   2\n",
      "1                 2  12\n",
      "XGBoost F1 Score: 0.494949494949495\n",
      "Predicted Result   1\n",
      "Actual Result       \n",
      "0                  8\n",
      "1                 14\n"
     ]
    },
    {
     "name": "stderr",
     "output_type": "stream",
     "text": [
      "/Users/philglazer/anaconda3/lib/python3.7/site-packages/sklearn/metrics/classification.py:1143: UndefinedMetricWarning:\n",
      "\n",
      "F-score is ill-defined and being set to 0.0 in labels with no predicted samples.\n",
      "\n",
      "/Users/philglazer/anaconda3/lib/python3.7/site-packages/pandas/core/frame.py:3940: SettingWithCopyWarning:\n",
      "\n",
      "\n",
      "A value is trying to be set on a copy of a slice from a DataFrame\n",
      "\n",
      "See the caveats in the documentation: http://pandas.pydata.org/pandas-docs/stable/indexing.html#indexing-view-versus-copy\n",
      "\n"
     ]
    },
    {
     "name": "stdout",
     "output_type": "stream",
     "text": [
      "[0.22916267 0.1889636  0.11361163 0.08211502 0.18651752 0.16380747\n",
      " 0.0358221 ]\n"
     ]
    },
    {
     "data": {
      "image/png": "[encoded data removed]",
      "text/plain": [
       "<Figure size 432x288 with 1 Axes>"
      ]
     },
     "metadata": {
      "needs_background": "light"
     },
     "output_type": "display_data"
    },
    {
     "name": "stdout",
     "output_type": "stream",
     "text": [
      "AUC:  0.85\n",
      "---------\n",
      "Predicting positive_12mo_change...\n",
      "Random Forest F1 Score: 0.8755244755244757\n",
      "Predicted Result  0   1\n",
      "Actual Result          \n",
      "0                 1   1\n",
      "1                 2  18\n",
      "XGBoost F1 Score: 0.8658008658008658\n",
      "Predicted Result   1\n",
      "Actual Result       \n",
      "0                  2\n",
      "1                 20\n"
     ]
    },
    {
     "name": "stderr",
     "output_type": "stream",
     "text": [
      "/Users/philglazer/anaconda3/lib/python3.7/site-packages/sklearn/metrics/classification.py:1143: UndefinedMetricWarning:\n",
      "\n",
      "F-score is ill-defined and being set to 0.0 in labels with no predicted samples.\n",
      "\n",
      "/Users/philglazer/anaconda3/lib/python3.7/site-packages/pandas/core/frame.py:3940: SettingWithCopyWarning:\n",
      "\n",
      "\n",
      "A value is trying to be set on a copy of a slice from a DataFrame\n",
      "\n",
      "See the caveats in the documentation: http://pandas.pydata.org/pandas-docs/stable/indexing.html#indexing-view-versus-copy\n",
      "\n"
     ]
    },
    {
     "name": "stdout",
     "output_type": "stream",
     "text": [
      "[0.0885857  0.30319216 0.17086362 0.0090725  0.156837   0.14048673\n",
      " 0.13096229]\n"
     ]
    },
    {
     "data": {
      "image/png": "[encoded data removed]",
      "text/plain": [
       "<Figure size 432x288 with 1 Axes>"
      ]
     },
     "metadata": {
      "needs_background": "light"
     },
     "output_type": "display_data"
    },
    {
     "name": "stdout",
     "output_type": "stream",
     "text": [
      "AUC:  1.0\n",
      "---------\n",
      "Predicting two_percent_plus_12mo...\n",
      "Random Forest F1 Score: 1.0\n",
      "Predicted Result   0   1\n",
      "Actual Result           \n",
      "0                 11   0\n",
      "1                  0  11\n",
      "XGBoost F1 Score: 1.0\n",
      "Predicted Result   0   1\n",
      "Actual Result           \n",
      "0                 11   0\n",
      "1                  0  11\n"
     ]
    },
    {
     "name": "stderr",
     "output_type": "stream",
     "text": [
      "/Users/philglazer/anaconda3/lib/python3.7/site-packages/pandas/core/frame.py:3940: SettingWithCopyWarning:\n",
      "\n",
      "\n",
      "A value is trying to be set on a copy of a slice from a DataFrame\n",
      "\n",
      "See the caveats in the documentation: http://pandas.pydata.org/pandas-docs/stable/indexing.html#indexing-view-versus-copy\n",
      "\n"
     ]
    },
    {
     "name": "stdout",
     "output_type": "stream",
     "text": [
      "[0.19648142 0.29209166 0.12433287 0.0436542  0.13032636 0.12208397\n",
      " 0.09102953]\n"
     ]
    },
    {
     "data": {
      "image/png": "[encoded data removed]",
      "text/plain": [
       "<Figure size 432x288 with 1 Axes>"
      ]
     },
     "metadata": {
      "needs_background": "light"
     },
     "output_type": "display_data"
    },
    {
     "name": "stdout",
     "output_type": "stream",
     "text": [
      "AUC:  0.9305555555555556\n",
      "---------\n",
      "Predicting five_percent_plus_12mo...\n",
      "Random Forest F1 Score: 0.951912951912952\n",
      "Predicted Result   0  1\n",
      "Actual Result          \n",
      "0                 18  0\n",
      "1                  1  3\n",
      "XGBoost F1 Score: 0.951912951912952\n",
      "Predicted Result   0  1\n",
      "Actual Result          \n",
      "0                 18  0\n",
      "1                  1  3\n"
     ]
    },
    {
     "name": "stderr",
     "output_type": "stream",
     "text": [
      "/Users/philglazer/anaconda3/lib/python3.7/site-packages/pandas/core/frame.py:3940: SettingWithCopyWarning:\n",
      "\n",
      "\n",
      "A value is trying to be set on a copy of a slice from a DataFrame\n",
      "\n",
      "See the caveats in the documentation: http://pandas.pydata.org/pandas-docs/stable/indexing.html#indexing-view-versus-copy\n",
      "\n"
     ]
    },
    {
     "name": "stdout",
     "output_type": "stream",
     "text": [
      "[0.19473617 0.10639839 0.06196964 0.09988552 0.14479189 0.09828771\n",
      " 0.2939307 ]\n"
     ]
    },
    {
     "data": {
      "image/png": "[encoded data removed]",
      "text/plain": [
       "<Figure size 432x288 with 1 Axes>"
      ]
     },
     "metadata": {
      "needs_background": "light"
     },
     "output_type": "display_data"
    },
    {
     "name": "stdout",
     "output_type": "stream",
     "text": [
      "AUC:  0.9166666666666667\n",
      "---------\n",
      "Predicting positive_3mo_change...\n",
      "Random Forest F1 Score: 0.7363636363636363\n",
      "Predicted Result   1\n",
      "Actual Result       \n",
      "0                  4\n",
      "1                 18\n",
      "XGBoost F1 Score: 0.7363636363636363\n",
      "Predicted Result   1\n",
      "Actual Result       \n",
      "0                  4\n",
      "1                 18\n"
     ]
    },
    {
     "name": "stderr",
     "output_type": "stream",
     "text": [
      "/Users/philglazer/anaconda3/lib/python3.7/site-packages/sklearn/metrics/classification.py:1143: UndefinedMetricWarning:\n",
      "\n",
      "F-score is ill-defined and being set to 0.0 in labels with no predicted samples.\n",
      "\n",
      "/Users/philglazer/anaconda3/lib/python3.7/site-packages/pandas/core/frame.py:3940: SettingWithCopyWarning:\n",
      "\n",
      "\n",
      "A value is trying to be set on a copy of a slice from a DataFrame\n",
      "\n",
      "See the caveats in the documentation: http://pandas.pydata.org/pandas-docs/stable/indexing.html#indexing-view-versus-copy\n",
      "\n"
     ]
    },
    {
     "name": "stdout",
     "output_type": "stream",
     "text": [
      "[0.23910521 0.15360077 0.09531932 0.06505488 0.11499501 0.11876717\n",
      " 0.21315764]\n"
     ]
    },
    {
     "data": {
      "image/png": "[encoded data removed]",
      "text/plain": [
       "<Figure size 432x288 with 1 Axes>"
      ]
     },
     "metadata": {
      "needs_background": "light"
     },
     "output_type": "display_data"
    },
    {
     "name": "stdout",
     "output_type": "stream",
     "text": [
      "AUC:  0.8771929824561403\n",
      "---------\n",
      "Predicting positive_6mo_change...\n",
      "Random Forest F1 Score: 0.8004434589800443\n",
      "Predicted Result   1\n",
      "Actual Result       \n",
      "0                  3\n",
      "1                 19\n",
      "XGBoost F1 Score: 0.8004434589800443\n",
      "Predicted Result   1\n",
      "Actual Result       \n",
      "0                  3\n",
      "1                 19\n"
     ]
    },
    {
     "name": "stderr",
     "output_type": "stream",
     "text": [
      "/Users/philglazer/anaconda3/lib/python3.7/site-packages/sklearn/metrics/classification.py:1143: UndefinedMetricWarning:\n",
      "\n",
      "F-score is ill-defined and being set to 0.0 in labels with no predicted samples.\n",
      "\n",
      "/Users/philglazer/anaconda3/lib/python3.7/site-packages/pandas/core/frame.py:3940: SettingWithCopyWarning:\n",
      "\n",
      "\n",
      "A value is trying to be set on a copy of a slice from a DataFrame\n",
      "\n",
      "See the caveats in the documentation: http://pandas.pydata.org/pandas-docs/stable/indexing.html#indexing-view-versus-copy\n",
      "\n"
     ]
    },
    {
     "name": "stdout",
     "output_type": "stream",
     "text": [
      "[0.2342915  0.20846975 0.10325439 0.05665702 0.12138483 0.1460784\n",
      " 0.12986411]\n"
     ]
    },
    {
     "data": {
      "image/png": "[encoded data removed]",
      "text/plain": [
       "<Figure size 432x288 with 1 Axes>"
      ]
     },
     "metadata": {
      "needs_background": "light"
     },
     "output_type": "display_data"
    },
    {
     "name": "stdout",
     "output_type": "stream",
     "text": [
      "AUC:  1.0\n",
      "---------\n",
      "Predicting positive_12mo_change...\n",
      "Random Forest F1 Score: 1.0\n",
      "Predicted Result  0   1\n",
      "Actual Result          \n",
      "0                 1   0\n",
      "1                 0  21\n",
      "XGBoost F1 Score: 0.9323467230443975\n",
      "Predicted Result   1\n",
      "Actual Result       \n",
      "0                  1\n",
      "1                 21\n"
     ]
    },
    {
     "name": "stderr",
     "output_type": "stream",
     "text": [
      "/Users/philglazer/anaconda3/lib/python3.7/site-packages/sklearn/metrics/classification.py:1143: UndefinedMetricWarning:\n",
      "\n",
      "F-score is ill-defined and being set to 0.0 in labels with no predicted samples.\n",
      "\n"
     ]
    },
    {
     "name": "stdout",
     "output_type": "stream",
     "text": [
      "[0.2956263  0.02187858 0.06824495 0.02878169 0.1405002  0.16199735\n",
      " 0.28297093]\n"
     ]
    },
    {
     "name": "stderr",
     "output_type": "stream",
     "text": [
      "/Users/philglazer/anaconda3/lib/python3.7/site-packages/pandas/core/frame.py:3940: SettingWithCopyWarning:\n",
      "\n",
      "\n",
      "A value is trying to be set on a copy of a slice from a DataFrame\n",
      "\n",
      "See the caveats in the documentation: http://pandas.pydata.org/pandas-docs/stable/indexing.html#indexing-view-versus-copy\n",
      "\n"
     ]
    },
    {
     "data": {
      "image/png": "[encoded data removed]",
      "text/plain": [
       "<Figure size 432x288 with 1 Axes>"
      ]
     },
     "metadata": {
      "needs_background": "light"
     },
     "output_type": "display_data"
    },
    {
     "name": "stdout",
     "output_type": "stream",
     "text": [
      "AUC:  1.0\n",
      "---------\n",
      "Predicting two_percent_plus_12mo...\n",
      "Random Forest F1 Score: 1.0\n",
      "Predicted Result  0   1\n",
      "Actual Result          \n",
      "0                 8   0\n",
      "1                 0  14\n",
      "XGBoost F1 Score: 0.9550406020994257\n",
      "Predicted Result  0   1\n",
      "Actual Result          \n",
      "0                 8   0\n",
      "1                 1  13\n"
     ]
    },
    {
     "name": "stderr",
     "output_type": "stream",
     "text": [
      "/Users/philglazer/anaconda3/lib/python3.7/site-packages/pandas/core/frame.py:3940: SettingWithCopyWarning:\n",
      "\n",
      "\n",
      "A value is trying to be set on a copy of a slice from a DataFrame\n",
      "\n",
      "See the caveats in the documentation: http://pandas.pydata.org/pandas-docs/stable/indexing.html#indexing-view-versus-copy\n",
      "\n"
     ]
    },
    {
     "name": "stdout",
     "output_type": "stream",
     "text": [
      "[0.30830437 0.03071023 0.07268913 0.02972655 0.1111658  0.13147888\n",
      " 0.31592505]\n"
     ]
    },
    {
     "data": {
      "image/png": "[encoded data removed]",
      "text/plain": [
       "<Figure size 432x288 with 1 Axes>"
      ]
     },
     "metadata": {
      "needs_background": "light"
     },
     "output_type": "display_data"
    },
    {
     "name": "stdout",
     "output_type": "stream",
     "text": [
      "AUC:  1.0\n",
      "---------\n",
      "Predicting five_percent_plus_12mo...\n",
      "Random Forest F1 Score: 1.0\n",
      "Predicted Result  0   1\n",
      "Actual Result          \n",
      "0                 9   0\n",
      "1                 0  13\n",
      "XGBoost F1 Score: 1.0\n",
      "Predicted Result  0   1\n",
      "Actual Result          \n",
      "0                 9   0\n",
      "1                 0  13\n"
     ]
    },
    {
     "name": "stderr",
     "output_type": "stream",
     "text": [
      "/Users/philglazer/anaconda3/lib/python3.7/site-packages/pandas/core/frame.py:3940: SettingWithCopyWarning:\n",
      "\n",
      "\n",
      "A value is trying to be set on a copy of a slice from a DataFrame\n",
      "\n",
      "See the caveats in the documentation: http://pandas.pydata.org/pandas-docs/stable/indexing.html#indexing-view-versus-copy\n",
      "\n"
     ]
    },
    {
     "name": "stdout",
     "output_type": "stream",
     "text": [
      "[0.27420668 0.16651658 0.09711494 0.13830056 0.08131912 0.0660123\n",
      " 0.17652981]\n"
     ]
    },
    {
     "data": {
      "image/png": "[encoded data removed]",
      "text/plain": [
       "<Figure size 432x288 with 1 Axes>"
      ]
     },
     "metadata": {
      "needs_background": "light"
     },
     "output_type": "display_data"
    },
    {
     "name": "stdout",
     "output_type": "stream",
     "text": [
      "AUC:  0.84375\n",
      "---------\n",
      "Predicting positive_3mo_change...\n",
      "Random Forest F1 Score: 0.7828282828282828\n",
      "Predicted Result  0   1\n",
      "Actual Result          \n",
      "0                 2   4\n",
      "1                 0  16\n",
      "XGBoost F1 Score: 0.6124401913875599\n",
      "Predicted Result   1\n",
      "Actual Result       \n",
      "0                  6\n",
      "1                 16\n"
     ]
    },
    {
     "name": "stderr",
     "output_type": "stream",
     "text": [
      "/Users/philglazer/anaconda3/lib/python3.7/site-packages/sklearn/metrics/classification.py:1143: UndefinedMetricWarning:\n",
      "\n",
      "F-score is ill-defined and being set to 0.0 in labels with no predicted samples.\n",
      "\n",
      "/Users/philglazer/anaconda3/lib/python3.7/site-packages/pandas/core/frame.py:3940: SettingWithCopyWarning:\n",
      "\n",
      "\n",
      "A value is trying to be set on a copy of a slice from a DataFrame\n",
      "\n",
      "See the caveats in the documentation: http://pandas.pydata.org/pandas-docs/stable/indexing.html#indexing-view-versus-copy\n",
      "\n"
     ]
    },
    {
     "name": "stdout",
     "output_type": "stream",
     "text": [
      "[0.146161   0.15914269 0.09976292 0.15642362 0.08891211 0.05641688\n",
      " 0.27318077]\n"
     ]
    },
    {
     "data": {
      "image/png": "[encoded data removed]",
      "text/plain": [
       "<Figure size 432x288 with 1 Axes>"
      ]
     },
     "metadata": {
      "needs_background": "light"
     },
     "output_type": "display_data"
    },
    {
     "name": "stdout",
     "output_type": "stream",
     "text": [
      "AUC:  0.6979166666666667\n",
      "---------\n",
      "Predicting positive_6mo_change...\n",
      "Random Forest F1 Score: 0.6124401913875599\n",
      "Predicted Result   1\n",
      "Actual Result       \n",
      "0                  6\n",
      "1                 16\n",
      "XGBoost F1 Score: 0.6124401913875599\n",
      "Predicted Result   1\n",
      "Actual Result       \n",
      "0                  6\n",
      "1                 16\n"
     ]
    },
    {
     "name": "stderr",
     "output_type": "stream",
     "text": [
      "/Users/philglazer/anaconda3/lib/python3.7/site-packages/sklearn/metrics/classification.py:1143: UndefinedMetricWarning:\n",
      "\n",
      "F-score is ill-defined and being set to 0.0 in labels with no predicted samples.\n",
      "\n",
      "/Users/philglazer/anaconda3/lib/python3.7/site-packages/pandas/core/frame.py:3940: SettingWithCopyWarning:\n",
      "\n",
      "\n",
      "A value is trying to be set on a copy of a slice from a DataFrame\n",
      "\n",
      "See the caveats in the documentation: http://pandas.pydata.org/pandas-docs/stable/indexing.html#indexing-view-versus-copy\n",
      "\n"
     ]
    },
    {
     "name": "stdout",
     "output_type": "stream",
     "text": [
      "[0.09495117 0.13298577 0.08571354 0.14066414 0.04137997 0.01781461\n",
      " 0.1464908 ]\n"
     ]
    },
    {
     "data": {
      "image/png": "[encoded data removed]",
      "text/plain": [
       "<Figure size 432x288 with 1 Axes>"
      ]
     },
     "metadata": {
      "needs_background": "light"
     },
     "output_type": "display_data"
    },
    {
     "name": "stdout",
     "output_type": "stream",
     "text": [
      "AUC:  0.8947368421052632\n",
      "---------\n",
      "Predicting positive_12mo_change...\n",
      "Random Forest F1 Score: 0.8004434589800443\n",
      "Predicted Result   1\n",
      "Actual Result       \n",
      "0                  3\n",
      "1                 19\n",
      "XGBoost F1 Score: 0.8004434589800443\n",
      "Predicted Result   1\n",
      "Actual Result       \n",
      "0                  3\n",
      "1                 19\n"
     ]
    },
    {
     "name": "stderr",
     "output_type": "stream",
     "text": [
      "/Users/philglazer/anaconda3/lib/python3.7/site-packages/sklearn/metrics/classification.py:1143: UndefinedMetricWarning:\n",
      "\n",
      "F-score is ill-defined and being set to 0.0 in labels with no predicted samples.\n",
      "\n"
     ]
    },
    {
     "name": "stdout",
     "output_type": "stream",
     "text": [
      "[0.13476954 0.19998964 0.13150707 0.10908808 0.09371784 0.17532945\n",
      " 0.15559837]\n"
     ]
    },
    {
     "name": "stderr",
     "output_type": "stream",
     "text": [
      "/Users/philglazer/anaconda3/lib/python3.7/site-packages/pandas/core/frame.py:3940: SettingWithCopyWarning:\n",
      "\n",
      "\n",
      "A value is trying to be set on a copy of a slice from a DataFrame\n",
      "\n",
      "See the caveats in the documentation: http://pandas.pydata.org/pandas-docs/stable/indexing.html#indexing-view-versus-copy\n",
      "\n"
     ]
    },
    {
     "data": {
      "image/png": "[encoded data removed]",
      "text/plain": [
       "<Figure size 432x288 with 1 Axes>"
      ]
     },
     "metadata": {
      "needs_background": "light"
     },
     "output_type": "display_data"
    },
    {
     "name": "stdout",
     "output_type": "stream",
     "text": [
      "AUC:  0.875\n",
      "---------\n",
      "Predicting two_percent_plus_12mo...\n",
      "Random Forest F1 Score: 0.47933884297520657\n",
      "Predicted Result  0   1\n",
      "Actual Result          \n",
      "0                 1   9\n",
      "1                 0  12\n",
      "XGBoost F1 Score: 0.38502673796791437\n",
      "Predicted Result   1\n",
      "Actual Result       \n",
      "0                 10\n",
      "1                 12\n"
     ]
    },
    {
     "name": "stderr",
     "output_type": "stream",
     "text": [
      "/Users/philglazer/anaconda3/lib/python3.7/site-packages/sklearn/metrics/classification.py:1143: UndefinedMetricWarning:\n",
      "\n",
      "F-score is ill-defined and being set to 0.0 in labels with no predicted samples.\n",
      "\n"
     ]
    },
    {
     "name": "stdout",
     "output_type": "stream",
     "text": [
      "[0.31241255 0.35548337 0.05449492 0.09073347 0.01227654 0.04034338\n",
      " 0.13425576]\n"
     ]
    },
    {
     "name": "stderr",
     "output_type": "stream",
     "text": [
      "/Users/philglazer/anaconda3/lib/python3.7/site-packages/pandas/core/frame.py:3940: SettingWithCopyWarning:\n",
      "\n",
      "\n",
      "A value is trying to be set on a copy of a slice from a DataFrame\n",
      "\n",
      "See the caveats in the documentation: http://pandas.pydata.org/pandas-docs/stable/indexing.html#indexing-view-versus-copy\n",
      "\n"
     ]
    },
    {
     "data": {
      "image/png": "[encoded data removed]",
      "text/plain": [
       "<Figure size 432x288 with 1 Axes>"
      ]
     },
     "metadata": {
      "needs_background": "light"
     },
     "output_type": "display_data"
    },
    {
     "name": "stdout",
     "output_type": "stream",
     "text": [
      "AUC:  1.0\n",
      "---------\n",
      "Predicting five_percent_plus_12mo...\n",
      "Random Forest F1 Score: 0.955276907001045\n",
      "Predicted Result   0  1\n",
      "Actual Result          \n",
      "0                 14  1\n",
      "1                  0  7\n",
      "XGBoost F1 Score: 0.955276907001045\n",
      "Predicted Result   0  1\n",
      "Actual Result          \n",
      "0                 14  1\n",
      "1                  0  7\n"
     ]
    },
    {
     "name": "stderr",
     "output_type": "stream",
     "text": [
      "/Users/philglazer/anaconda3/lib/python3.7/site-packages/pandas/core/frame.py:3940: SettingWithCopyWarning:\n",
      "\n",
      "\n",
      "A value is trying to be set on a copy of a slice from a DataFrame\n",
      "\n",
      "See the caveats in the documentation: http://pandas.pydata.org/pandas-docs/stable/indexing.html#indexing-view-versus-copy\n",
      "\n"
     ]
    },
    {
     "name": "stdout",
     "output_type": "stream",
     "text": [
      "[0.15676484 0.24014504 0.09877289 0.09394446 0.19744715 0.118176\n",
      " 0.09474961]\n"
     ]
    },
    {
     "data": {
      "image/png": "[encoded data removed]",
      "text/plain": [
       "<Figure size 432x288 with 1 Axes>"
      ]
     },
     "metadata": {
      "needs_background": "light"
     },
     "output_type": "display_data"
    },
    {
     "name": "stdout",
     "output_type": "stream",
     "text": [
      "AUC:  0.7333333333333333\n",
      "---------\n",
      "Predicting positive_3mo_change...\n",
      "Random Forest F1 Score: 0.6562173458725181\n",
      "Predicted Result  0   1\n",
      "Actual Result          \n",
      "0                 4   6\n",
      "1                 1  11\n",
      "XGBoost F1 Score: 0.38502673796791437\n",
      "Predicted Result   1\n",
      "Actual Result       \n",
      "0                 10\n",
      "1                 12\n"
     ]
    },
    {
     "name": "stderr",
     "output_type": "stream",
     "text": [
      "/Users/philglazer/anaconda3/lib/python3.7/site-packages/sklearn/metrics/classification.py:1143: UndefinedMetricWarning:\n",
      "\n",
      "F-score is ill-defined and being set to 0.0 in labels with no predicted samples.\n",
      "\n",
      "/Users/philglazer/anaconda3/lib/python3.7/site-packages/pandas/core/frame.py:3940: SettingWithCopyWarning:\n",
      "\n",
      "\n",
      "A value is trying to be set on a copy of a slice from a DataFrame\n",
      "\n",
      "See the caveats in the documentation: http://pandas.pydata.org/pandas-docs/stable/indexing.html#indexing-view-versus-copy\n",
      "\n"
     ]
    },
    {
     "name": "stdout",
     "output_type": "stream",
     "text": [
      "[0.21527321 0.07406169 0.08443828 0.07729535 0.2558338  0.18263578\n",
      " 0.11046189]\n"
     ]
    },
    {
     "data": {
      "image/png": "[encoded data removed]",
      "text/plain": [
       "<Figure size 432x288 with 1 Axes>"
      ]
     },
     "metadata": {
      "needs_background": "light"
     },
     "output_type": "display_data"
    },
    {
     "name": "stdout",
     "output_type": "stream",
     "text": [
      "AUC:  0.7719298245614035\n",
      "---------\n",
      "Predicting positive_6mo_change...\n",
      "Random Forest F1 Score: 0.7858897858897861\n",
      "Predicted Result  0   1\n",
      "Actual Result          \n",
      "0                 1   2\n",
      "1                 3  16\n",
      "XGBoost F1 Score: 0.6877005347593584\n",
      "Predicted Result  0   1\n",
      "Actual Result          \n",
      "0                 1   2\n",
      "1                 6  13\n"
     ]
    },
    {
     "name": "stderr",
     "output_type": "stream",
     "text": [
      "/Users/philglazer/anaconda3/lib/python3.7/site-packages/pandas/core/frame.py:3940: SettingWithCopyWarning:\n",
      "\n",
      "\n",
      "A value is trying to be set on a copy of a slice from a DataFrame\n",
      "\n",
      "See the caveats in the documentation: http://pandas.pydata.org/pandas-docs/stable/indexing.html#indexing-view-versus-copy\n",
      "\n"
     ]
    },
    {
     "name": "stdout",
     "output_type": "stream",
     "text": [
      "[0.08821896 0.21737659 0.10638776 0.04171854 0.22202426 0.16974811\n",
      " 0.15452578]\n"
     ]
    },
    {
     "data": {
      "image/png": "[encoded data removed]",
      "text/plain": [
       "<Figure size 432x288 with 1 Axes>"
      ]
     },
     "metadata": {
      "needs_background": "light"
     },
     "output_type": "display_data"
    },
    {
     "name": "stdout",
     "output_type": "stream",
     "text": [
      "AUC:  0.9882352941176471\n",
      "---------\n",
      "Predicting positive_12mo_change...\n",
      "Random Forest F1 Score: 0.8399438399438399\n",
      "Predicted Result  0   1\n",
      "Actual Result          \n",
      "0                 2   3\n",
      "1                 0  17\n",
      "XGBoost F1 Score: 0.6736596736596737\n",
      "Predicted Result   1\n",
      "Actual Result       \n",
      "0                  5\n",
      "1                 17\n"
     ]
    },
    {
     "name": "stderr",
     "output_type": "stream",
     "text": [
      "/Users/philglazer/anaconda3/lib/python3.7/site-packages/sklearn/metrics/classification.py:1143: UndefinedMetricWarning:\n",
      "\n",
      "F-score is ill-defined and being set to 0.0 in labels with no predicted samples.\n",
      "\n",
      "/Users/philglazer/anaconda3/lib/python3.7/site-packages/pandas/core/frame.py:3940: SettingWithCopyWarning:\n",
      "\n",
      "\n",
      "A value is trying to be set on a copy of a slice from a DataFrame\n",
      "\n",
      "See the caveats in the documentation: http://pandas.pydata.org/pandas-docs/stable/indexing.html#indexing-view-versus-copy\n",
      "\n"
     ]
    },
    {
     "name": "stdout",
     "output_type": "stream",
     "text": [
      "[0.09969953 0.22224036 0.07288211 0.12204496 0.12259417 0.07999564\n",
      " 0.28054323]\n"
     ]
    },
    {
     "data": {
      "image/png": "[encoded data removed]",
      "text/plain": [
       "<Figure size 432x288 with 1 Axes>"
      ]
     },
     "metadata": {
      "needs_background": "light"
     },
     "output_type": "display_data"
    },
    {
     "name": "stdout",
     "output_type": "stream",
     "text": [
      "AUC:  0.7264957264957266\n",
      "---------\n",
      "Predicting two_percent_plus_12mo...\n",
      "Random Forest F1 Score: 0.6393939393939394\n",
      "Predicted Result  0  1\n",
      "Actual Result         \n",
      "0                 6  3\n",
      "1                 5  8\n",
      "XGBoost F1 Score: 0.23753665689149564\n",
      "Predicted Result   0\n",
      "Actual Result       \n",
      "0                  9\n",
      "1                 13\n"
     ]
    },
    {
     "name": "stderr",
     "output_type": "stream",
     "text": [
      "/Users/philglazer/anaconda3/lib/python3.7/site-packages/sklearn/metrics/classification.py:1143: UndefinedMetricWarning:\n",
      "\n",
      "F-score is ill-defined and being set to 0.0 in labels with no predicted samples.\n",
      "\n",
      "/Users/philglazer/anaconda3/lib/python3.7/site-packages/pandas/core/frame.py:3940: SettingWithCopyWarning:\n",
      "\n",
      "\n",
      "A value is trying to be set on a copy of a slice from a DataFrame\n",
      "\n",
      "See the caveats in the documentation: http://pandas.pydata.org/pandas-docs/stable/indexing.html#indexing-view-versus-copy\n",
      "\n"
     ]
    },
    {
     "name": "stdout",
     "output_type": "stream",
     "text": [
      "[0.22094598 0.06213797 0.08223018 0.12446069 0.05810188 0.05826875\n",
      " 0.39385456]\n"
     ]
    },
    {
     "data": {
      "image/png": "[encoded data removed]",
      "text/plain": [
       "<Figure size 432x288 with 1 Axes>"
      ]
     },
     "metadata": {
      "needs_background": "light"
     },
     "output_type": "display_data"
    },
    {
     "name": "stdout",
     "output_type": "stream",
     "text": [
      "AUC:  1.0\n",
      "---------\n",
      "Predicting five_percent_plus_12mo...\n",
      "Random Forest F1 Score: 0.827972027972028\n",
      "Predicted Result   0  1\n",
      "Actual Result          \n",
      "0                 18  0\n",
      "1                  3  1\n",
      "XGBoost F1 Score: 0.7363636363636363\n",
      "Predicted Result   0\n",
      "Actual Result       \n",
      "0                 18\n",
      "1                  4\n"
     ]
    },
    {
     "name": "stderr",
     "output_type": "stream",
     "text": [
      "/Users/philglazer/anaconda3/lib/python3.7/site-packages/sklearn/metrics/classification.py:1143: UndefinedMetricWarning:\n",
      "\n",
      "F-score is ill-defined and being set to 0.0 in labels with no predicted samples.\n",
      "\n",
      "/Users/philglazer/anaconda3/lib/python3.7/site-packages/pandas/core/frame.py:3940: SettingWithCopyWarning:\n",
      "\n",
      "\n",
      "A value is trying to be set on a copy of a slice from a DataFrame\n",
      "\n",
      "See the caveats in the documentation: http://pandas.pydata.org/pandas-docs/stable/indexing.html#indexing-view-versus-copy\n",
      "\n"
     ]
    },
    {
     "name": "stdout",
     "output_type": "stream",
     "text": [
      "[0.27513045 0.06838564 0.13627687 0.08115037 0.07956228 0.13757644\n",
      " 0.22191795]\n"
     ]
    },
    {
     "data": {
      "image/png": "[encoded data removed]",
      "text/plain": [
       "<Figure size 432x288 with 1 Axes>"
      ]
     },
     "metadata": {
      "needs_background": "light"
     },
     "output_type": "display_data"
    },
    {
     "name": "stdout",
     "output_type": "stream",
     "text": [
      "AUC:  0.9027777777777777\n",
      "---------\n",
      "Predicting positive_3mo_change...\n",
      "Random Forest F1 Score: 0.7363636363636363\n",
      "Predicted Result   1\n",
      "Actual Result       \n",
      "0                  4\n",
      "1                 18\n",
      "XGBoost F1 Score: 0.7363636363636363\n",
      "Predicted Result   1\n",
      "Actual Result       \n",
      "0                  4\n",
      "1                 18\n"
     ]
    },
    {
     "name": "stderr",
     "output_type": "stream",
     "text": [
      "/Users/philglazer/anaconda3/lib/python3.7/site-packages/sklearn/metrics/classification.py:1143: UndefinedMetricWarning:\n",
      "\n",
      "F-score is ill-defined and being set to 0.0 in labels with no predicted samples.\n",
      "\n",
      "/Users/philglazer/anaconda3/lib/python3.7/site-packages/pandas/core/frame.py:3940: SettingWithCopyWarning:\n",
      "\n",
      "\n",
      "A value is trying to be set on a copy of a slice from a DataFrame\n",
      "\n",
      "See the caveats in the documentation: http://pandas.pydata.org/pandas-docs/stable/indexing.html#indexing-view-versus-copy\n",
      "\n"
     ]
    },
    {
     "name": "stdout",
     "output_type": "stream",
     "text": [
      "[0.21529359 0.06351834 0.17282917 0.10470581 0.10219697 0.06102137\n",
      " 0.28043474]\n"
     ]
    },
    {
     "data": {
      "image/png": "[encoded data removed]",
      "text/plain": [
       "<Figure size 432x288 with 1 Axes>"
      ]
     },
     "metadata": {
      "needs_background": "light"
     },
     "output_type": "display_data"
    },
    {
     "name": "stdout",
     "output_type": "stream",
     "text": [
      "AUC:  0.9824561403508772\n",
      "---------\n",
      "Predicting positive_6mo_change...\n",
      "Random Forest F1 Score: 0.8004434589800443\n",
      "Predicted Result   1\n",
      "Actual Result       \n",
      "0                  3\n",
      "1                 19\n",
      "XGBoost F1 Score: 0.8004434589800443\n",
      "Predicted Result   1\n",
      "Actual Result       \n",
      "0                  3\n",
      "1                 19\n"
     ]
    },
    {
     "name": "stderr",
     "output_type": "stream",
     "text": [
      "/Users/philglazer/anaconda3/lib/python3.7/site-packages/sklearn/metrics/classification.py:1143: UndefinedMetricWarning:\n",
      "\n",
      "F-score is ill-defined and being set to 0.0 in labels with no predicted samples.\n",
      "\n",
      "/Users/philglazer/anaconda3/lib/python3.7/site-packages/pandas/core/frame.py:3940: SettingWithCopyWarning:\n",
      "\n",
      "\n",
      "A value is trying to be set on a copy of a slice from a DataFrame\n",
      "\n",
      "See the caveats in the documentation: http://pandas.pydata.org/pandas-docs/stable/indexing.html#indexing-view-versus-copy\n",
      "\n"
     ]
    },
    {
     "name": "stdout",
     "output_type": "stream",
     "text": [
      "[0.20479081 0.07673935 0.14500501 0.10882096 0.09148696 0.05073322\n",
      " 0.3224237 ]\n"
     ]
    },
    {
     "data": {
      "image/png": "[encoded data removed]",
      "text/plain": [
       "<Figure size 432x288 with 1 Axes>"
      ]
     },
     "metadata": {
      "needs_background": "light"
     },
     "output_type": "display_data"
    },
    {
     "name": "stdout",
     "output_type": "stream",
     "text": [
      "AUC:  1.0\n",
      "---------\n",
      "Predicting positive_12mo_change...\n",
      "Random Forest F1 Score: 1.0\n",
      "Predicted Result  0   1\n",
      "Actual Result          \n",
      "0                 1   0\n",
      "1                 0  21\n",
      "XGBoost F1 Score: 0.9323467230443975\n",
      "Predicted Result   1\n",
      "Actual Result       \n",
      "0                  1\n",
      "1                 21\n"
     ]
    },
    {
     "name": "stderr",
     "output_type": "stream",
     "text": [
      "/Users/philglazer/anaconda3/lib/python3.7/site-packages/sklearn/metrics/classification.py:1143: UndefinedMetricWarning:\n",
      "\n",
      "F-score is ill-defined and being set to 0.0 in labels with no predicted samples.\n",
      "\n",
      "/Users/philglazer/anaconda3/lib/python3.7/site-packages/pandas/core/frame.py:3940: SettingWithCopyWarning:\n",
      "\n",
      "\n",
      "A value is trying to be set on a copy of a slice from a DataFrame\n",
      "\n",
      "See the caveats in the documentation: http://pandas.pydata.org/pandas-docs/stable/indexing.html#indexing-view-versus-copy\n",
      "\n"
     ]
    },
    {
     "name": "stdout",
     "output_type": "stream",
     "text": [
      "[0.05153762 0.10235125 0.26829303 0.13997427 0.07673067 0.149268\n",
      " 0.21184516]\n"
     ]
    },
    {
     "data": {
      "image/png": "[encoded data removed]",
      "text/plain": [
       "<Figure size 432x288 with 1 Axes>"
      ]
     },
     "metadata": {
      "needs_background": "light"
     },
     "output_type": "display_data"
    },
    {
     "name": "stdout",
     "output_type": "stream",
     "text": [
      "AUC:  0.9166666666666666\n",
      "---------\n",
      "Predicting two_percent_plus_12mo...\n",
      "Random Forest F1 Score: 0.9090909090909091\n",
      "Predicted Result  0   1\n",
      "Actual Result          \n",
      "0                 3   1\n",
      "1                 1  17\n",
      "XGBoost F1 Score: 0.7363636363636363\n",
      "Predicted Result   1\n",
      "Actual Result       \n",
      "0                  4\n",
      "1                 18\n"
     ]
    },
    {
     "name": "stderr",
     "output_type": "stream",
     "text": [
      "/Users/philglazer/anaconda3/lib/python3.7/site-packages/sklearn/metrics/classification.py:1143: UndefinedMetricWarning:\n",
      "\n",
      "F-score is ill-defined and being set to 0.0 in labels with no predicted samples.\n",
      "\n",
      "/Users/philglazer/anaconda3/lib/python3.7/site-packages/pandas/core/frame.py:3940: SettingWithCopyWarning:\n",
      "\n",
      "\n",
      "A value is trying to be set on a copy of a slice from a DataFrame\n",
      "\n",
      "See the caveats in the documentation: http://pandas.pydata.org/pandas-docs/stable/indexing.html#indexing-view-versus-copy\n",
      "\n"
     ]
    },
    {
     "name": "stdout",
     "output_type": "stream",
     "text": [
      "[0.11625009 0.11387306 0.15763811 0.12671105 0.05159254 0.08175802\n",
      " 0.35217712]\n"
     ]
    },
    {
     "data": {
      "image/png": "[encoded data removed]",
      "text/plain": [
       "<Figure size 432x288 with 1 Axes>"
      ]
     },
     "metadata": {
      "needs_background": "light"
     },
     "output_type": "display_data"
    },
    {
     "name": "stdout",
     "output_type": "stream",
     "text": [
      "AUC:  0.9914529914529915\n",
      "---------\n",
      "Predicting five_percent_plus_12mo...\n",
      "Random Forest F1 Score: 0.9098484848484848\n",
      "Predicted Result  0   1\n",
      "Actual Result          \n",
      "0                 9   0\n",
      "1                 2  11\n",
      "XGBoost F1 Score: 0.8181818181818182\n",
      "Predicted Result  0  1\n",
      "Actual Result         \n",
      "0                 9  0\n",
      "1                 4  9\n"
     ]
    },
    {
     "name": "stderr",
     "output_type": "stream",
     "text": [
      "/Users/philglazer/anaconda3/lib/python3.7/site-packages/pandas/core/frame.py:3940: SettingWithCopyWarning:\n",
      "\n",
      "\n",
      "A value is trying to be set on a copy of a slice from a DataFrame\n",
      "\n",
      "See the caveats in the documentation: http://pandas.pydata.org/pandas-docs/stable/indexing.html#indexing-view-versus-copy\n",
      "\n"
     ]
    },
    {
     "name": "stdout",
     "output_type": "stream",
     "text": [
      "[0.1310376  0.14524945 0.05943777 0.20375395 0.14247723 0.07759753\n",
      " 0.15044646]\n"
     ]
    },
    {
     "data": {
      "image/png": "[encoded data removed]",
      "text/plain": [
       "<Figure size 432x288 with 1 Axes>"
      ]
     },
     "metadata": {
      "needs_background": "light"
     },
     "output_type": "display_data"
    },
    {
     "name": "stdout",
     "output_type": "stream",
     "text": [
      "AUC:  0.6666666666666667\n",
      "---------\n",
      "Predicting positive_3mo_change...\n",
      "Random Forest F1 Score: 0.8004434589800443\n",
      "Predicted Result   1\n",
      "Actual Result       \n",
      "0                  3\n",
      "1                 19\n",
      "XGBoost F1 Score: 0.8004434589800443\n",
      "Predicted Result   1\n",
      "Actual Result       \n",
      "0                  3\n",
      "1                 19\n"
     ]
    },
    {
     "name": "stderr",
     "output_type": "stream",
     "text": [
      "/Users/philglazer/anaconda3/lib/python3.7/site-packages/sklearn/metrics/classification.py:1143: UndefinedMetricWarning:\n",
      "\n",
      "F-score is ill-defined and being set to 0.0 in labels with no predicted samples.\n",
      "\n",
      "/Users/philglazer/anaconda3/lib/python3.7/site-packages/pandas/core/frame.py:3940: SettingWithCopyWarning:\n",
      "\n",
      "\n",
      "A value is trying to be set on a copy of a slice from a DataFrame\n",
      "\n",
      "See the caveats in the documentation: http://pandas.pydata.org/pandas-docs/stable/indexing.html#indexing-view-versus-copy\n",
      "\n"
     ]
    },
    {
     "name": "stdout",
     "output_type": "stream",
     "text": [
      "[0.07061714 0.16098671 0.06892863 0.16837055 0.11241212 0.09065414\n",
      " 0.18803071]\n"
     ]
    },
    {
     "data": {
      "image/png": "[encoded data removed]",
      "text/plain": [
       "<Figure size 432x288 with 1 Axes>"
      ]
     },
     "metadata": {
      "needs_background": "light"
     },
     "output_type": "display_data"
    },
    {
     "name": "stdout",
     "output_type": "stream",
     "text": [
      "AUC:  1.0\n",
      "---------\n",
      "Predicting positive_6mo_change...\n",
      "Random Forest F1 Score: 0.8658008658008658\n",
      "Predicted Result   1\n",
      "Actual Result       \n",
      "0                  2\n",
      "1                 20\n",
      "XGBoost F1 Score: 0.8658008658008658\n",
      "Predicted Result   1\n",
      "Actual Result       \n",
      "0                  2\n",
      "1                 20\n"
     ]
    },
    {
     "name": "stderr",
     "output_type": "stream",
     "text": [
      "/Users/philglazer/anaconda3/lib/python3.7/site-packages/sklearn/metrics/classification.py:1143: UndefinedMetricWarning:\n",
      "\n",
      "F-score is ill-defined and being set to 0.0 in labels with no predicted samples.\n",
      "\n",
      "/Users/philglazer/anaconda3/lib/python3.7/site-packages/pandas/core/frame.py:3940: SettingWithCopyWarning:\n",
      "\n",
      "\n",
      "A value is trying to be set on a copy of a slice from a DataFrame\n",
      "\n",
      "See the caveats in the documentation: http://pandas.pydata.org/pandas-docs/stable/indexing.html#indexing-view-versus-copy\n",
      "\n"
     ]
    },
    {
     "name": "stdout",
     "output_type": "stream",
     "text": [
      "[0.06332279 0.13895315 0.09844359 0.09843419 0.1475375  0.03121332\n",
      " 0.10209547]\n"
     ]
    },
    {
     "data": {
      "image/png": "[encoded data removed]",
      "text/plain": [
       "<Figure size 432x288 with 1 Axes>"
      ]
     },
     "metadata": {
      "needs_background": "light"
     },
     "output_type": "display_data"
    },
    {
     "name": "stdout",
     "output_type": "stream",
     "text": [
      "AUC:  0.9047619047619048\n",
      "---------\n",
      "Predicting positive_12mo_change...\n",
      "Random Forest F1 Score: 0.9323467230443975\n",
      "Predicted Result   1\n",
      "Actual Result       \n",
      "0                  1\n",
      "1                 21\n",
      "XGBoost F1 Score: 0.9323467230443975\n",
      "Predicted Result   1\n",
      "Actual Result       \n",
      "0                  1\n",
      "1                 21\n"
     ]
    },
    {
     "name": "stderr",
     "output_type": "stream",
     "text": [
      "/Users/philglazer/anaconda3/lib/python3.7/site-packages/sklearn/metrics/classification.py:1143: UndefinedMetricWarning:\n",
      "\n",
      "F-score is ill-defined and being set to 0.0 in labels with no predicted samples.\n",
      "\n",
      "/Users/philglazer/anaconda3/lib/python3.7/site-packages/pandas/core/frame.py:3940: SettingWithCopyWarning:\n",
      "\n",
      "\n",
      "A value is trying to be set on a copy of a slice from a DataFrame\n",
      "\n",
      "See the caveats in the documentation: http://pandas.pydata.org/pandas-docs/stable/indexing.html#indexing-view-versus-copy\n",
      "\n"
     ]
    },
    {
     "name": "stdout",
     "output_type": "stream",
     "text": [
      "[0.08803483 0.38669867 0.12781116 0.10241267 0.08265221 0.0635393\n",
      " 0.14885116]\n"
     ]
    },
    {
     "data": {
      "image/png": "[encoded data removed]",
      "text/plain": [
       "<Figure size 432x288 with 1 Axes>"
      ]
     },
     "metadata": {
      "needs_background": "light"
     },
     "output_type": "display_data"
    },
    {
     "name": "stdout",
     "output_type": "stream",
     "text": [
      "AUC:  0.9722222222222222\n",
      "---------\n",
      "Predicting two_percent_plus_12mo...\n",
      "Random Forest F1 Score: 0.8963317384370018\n",
      "Predicted Result  0   1\n",
      "Actual Result          \n",
      "0                 2   2\n",
      "1                 0  18\n",
      "XGBoost F1 Score: 0.7363636363636363\n",
      "Predicted Result   1\n",
      "Actual Result       \n",
      "0                  4\n",
      "1                 18\n"
     ]
    },
    {
     "name": "stderr",
     "output_type": "stream",
     "text": [
      "/Users/philglazer/anaconda3/lib/python3.7/site-packages/sklearn/metrics/classification.py:1143: UndefinedMetricWarning:\n",
      "\n",
      "F-score is ill-defined and being set to 0.0 in labels with no predicted samples.\n",
      "\n",
      "/Users/philglazer/anaconda3/lib/python3.7/site-packages/pandas/core/frame.py:3940: SettingWithCopyWarning:\n",
      "\n",
      "\n",
      "A value is trying to be set on a copy of a slice from a DataFrame\n",
      "\n",
      "See the caveats in the documentation: http://pandas.pydata.org/pandas-docs/stable/indexing.html#indexing-view-versus-copy\n",
      "\n"
     ]
    },
    {
     "name": "stdout",
     "output_type": "stream",
     "text": [
      "[0.07218719 0.46643964 0.0408971  0.08237115 0.06858284 0.01989171\n",
      " 0.24963036]\n"
     ]
    },
    {
     "data": {
      "image/png": "[encoded data removed]",
      "text/plain": [
       "<Figure size 432x288 with 1 Axes>"
      ]
     },
     "metadata": {
      "needs_background": "light"
     },
     "output_type": "display_data"
    },
    {
     "name": "stdout",
     "output_type": "stream",
     "text": [
      "AUC:  0.9821428571428571\n",
      "---------\n",
      "Predicting five_percent_plus_12mo...\n",
      "Random Forest F1 Score: 0.9538140020898641\n",
      "Predicted Result  0   1\n",
      "Actual Result          \n",
      "0                 7   1\n",
      "1                 0  14\n",
      "XGBoost F1 Score: 0.9550406020994257\n",
      "Predicted Result  0   1\n",
      "Actual Result          \n",
      "0                 8   0\n",
      "1                 1  13\n"
     ]
    },
    {
     "name": "stderr",
     "output_type": "stream",
     "text": [
      "/Users/philglazer/anaconda3/lib/python3.7/site-packages/pandas/core/frame.py:3940: SettingWithCopyWarning:\n",
      "\n",
      "\n",
      "A value is trying to be set on a copy of a slice from a DataFrame\n",
      "\n",
      "See the caveats in the documentation: http://pandas.pydata.org/pandas-docs/stable/indexing.html#indexing-view-versus-copy\n",
      "\n"
     ]
    },
    {
     "name": "stdout",
     "output_type": "stream",
     "text": [
      "[0.20683204 0.18758757 0.05218657 0.09015111 0.12004393 0.05466387\n",
      " 0.27853492]\n"
     ]
    },
    {
     "data": {
      "image/png": "[encoded data removed]",
      "text/plain": [
       "<Figure size 432x288 with 1 Axes>"
      ]
     },
     "metadata": {
      "needs_background": "light"
     },
     "output_type": "display_data"
    },
    {
     "name": "stdout",
     "output_type": "stream",
     "text": [
      "AUC:  0.8194444444444444\n",
      "---------\n",
      "Predicting positive_3mo_change...\n",
      "Random Forest F1 Score: 0.7363636363636363\n",
      "Predicted Result   1\n",
      "Actual Result       \n",
      "0                  4\n",
      "1                 18\n",
      "XGBoost F1 Score: 0.7363636363636363\n",
      "Predicted Result   1\n",
      "Actual Result       \n",
      "0                  4\n",
      "1                 18\n"
     ]
    },
    {
     "name": "stderr",
     "output_type": "stream",
     "text": [
      "/Users/philglazer/anaconda3/lib/python3.7/site-packages/sklearn/metrics/classification.py:1143: UndefinedMetricWarning:\n",
      "\n",
      "F-score is ill-defined and being set to 0.0 in labels with no predicted samples.\n",
      "\n",
      "/Users/philglazer/anaconda3/lib/python3.7/site-packages/pandas/core/frame.py:3940: SettingWithCopyWarning:\n",
      "\n",
      "\n",
      "A value is trying to be set on a copy of a slice from a DataFrame\n",
      "\n",
      "See the caveats in the documentation: http://pandas.pydata.org/pandas-docs/stable/indexing.html#indexing-view-versus-copy\n",
      "\n"
     ]
    },
    {
     "name": "stdout",
     "output_type": "stream",
     "text": [
      "[0.14217267 0.23082971 0.04160481 0.09345916 0.12879851 0.16461519\n",
      " 0.18851994]\n"
     ]
    },
    {
     "data": {
      "image/png": "[encoded data removed]",
      "text/plain": [
       "<Figure size 432x288 with 1 Axes>"
      ]
     },
     "metadata": {
      "needs_background": "light"
     },
     "output_type": "display_data"
    },
    {
     "name": "stdout",
     "output_type": "stream",
     "text": [
      "AUC:  0.8421052631578947\n",
      "---------\n",
      "Predicting positive_6mo_change...\n",
      "Random Forest F1 Score: 0.8004434589800443\n",
      "Predicted Result   1\n",
      "Actual Result       \n",
      "0                  3\n",
      "1                 19\n",
      "XGBoost F1 Score: 0.8004434589800443\n",
      "Predicted Result   1\n",
      "Actual Result       \n",
      "0                  3\n",
      "1                 19\n"
     ]
    },
    {
     "name": "stderr",
     "output_type": "stream",
     "text": [
      "/Users/philglazer/anaconda3/lib/python3.7/site-packages/sklearn/metrics/classification.py:1143: UndefinedMetricWarning:\n",
      "\n",
      "F-score is ill-defined and being set to 0.0 in labels with no predicted samples.\n",
      "\n",
      "/Users/philglazer/anaconda3/lib/python3.7/site-packages/pandas/core/frame.py:3940: SettingWithCopyWarning:\n",
      "\n",
      "\n",
      "A value is trying to be set on a copy of a slice from a DataFrame\n",
      "\n",
      "See the caveats in the documentation: http://pandas.pydata.org/pandas-docs/stable/indexing.html#indexing-view-versus-copy\n",
      "\n"
     ]
    },
    {
     "name": "stdout",
     "output_type": "stream",
     "text": [
      "[0.11931273 0.13390216 0.26210997 0.08754385 0.12413491 0.1201541\n",
      " 0.06284229]\n"
     ]
    },
    {
     "data": {
      "image/png": "[encoded data removed]",
      "text/plain": [
       "<Figure size 432x288 with 1 Axes>"
      ]
     },
     "metadata": {
      "needs_background": "light"
     },
     "output_type": "display_data"
    },
    {
     "name": "stdout",
     "output_type": "stream",
     "text": [
      "AUC:  0.9298245614035088\n",
      "---------\n",
      "Predicting positive_12mo_change...\n",
      "Random Forest F1 Score: 0.8004434589800443\n",
      "Predicted Result   1\n",
      "Actual Result       \n",
      "0                  3\n",
      "1                 19\n",
      "XGBoost F1 Score: 0.8004434589800443\n",
      "Predicted Result   1\n",
      "Actual Result       \n",
      "0                  3\n",
      "1                 19\n"
     ]
    },
    {
     "name": "stderr",
     "output_type": "stream",
     "text": [
      "/Users/philglazer/anaconda3/lib/python3.7/site-packages/sklearn/metrics/classification.py:1143: UndefinedMetricWarning:\n",
      "\n",
      "F-score is ill-defined and being set to 0.0 in labels with no predicted samples.\n",
      "\n",
      "/Users/philglazer/anaconda3/lib/python3.7/site-packages/pandas/core/frame.py:3940: SettingWithCopyWarning:\n",
      "\n",
      "\n",
      "A value is trying to be set on a copy of a slice from a DataFrame\n",
      "\n",
      "See the caveats in the documentation: http://pandas.pydata.org/pandas-docs/stable/indexing.html#indexing-view-versus-copy\n",
      "\n"
     ]
    },
    {
     "name": "stdout",
     "output_type": "stream",
     "text": [
      "[0.18256831 0.16568422 0.04397163 0.15545113 0.17818707 0.15840338\n",
      " 0.10573426]\n"
     ]
    },
    {
     "data": {
      "image/png": "[encoded data removed]",
      "text/plain": [
       "<Figure size 432x288 with 1 Axes>"
      ]
     },
     "metadata": {
      "needs_background": "light"
     },
     "output_type": "display_data"
    },
    {
     "name": "stdout",
     "output_type": "stream",
     "text": [
      "AUC:  0.9333333333333333\n",
      "---------\n",
      "Predicting two_percent_plus_12mo...\n",
      "Random Forest F1 Score: 0.6887700534759358\n",
      "Predicted Result  0   1\n",
      "Actual Result          \n",
      "0                 2   5\n",
      "1                 1  14\n",
      "XGBoost F1 Score: 0.5528255528255529\n",
      "Predicted Result   1\n",
      "Actual Result       \n",
      "0                  7\n",
      "1                 15\n"
     ]
    },
    {
     "name": "stderr",
     "output_type": "stream",
     "text": [
      "/Users/philglazer/anaconda3/lib/python3.7/site-packages/sklearn/metrics/classification.py:1143: UndefinedMetricWarning:\n",
      "\n",
      "F-score is ill-defined and being set to 0.0 in labels with no predicted samples.\n",
      "\n",
      "/Users/philglazer/anaconda3/lib/python3.7/site-packages/pandas/core/frame.py:3940: SettingWithCopyWarning:\n",
      "\n",
      "\n",
      "A value is trying to be set on a copy of a slice from a DataFrame\n",
      "\n",
      "See the caveats in the documentation: http://pandas.pydata.org/pandas-docs/stable/indexing.html#indexing-view-versus-copy\n",
      "\n"
     ]
    },
    {
     "name": "stdout",
     "output_type": "stream",
     "text": [
      "[0.19299956 0.24904863 0.05705846 0.15638105 0.15605788 0.14579852\n",
      " 0.0426559 ]\n"
     ]
    },
    {
     "data": {
      "image/png": "[encoded data removed]",
      "text/plain": [
       "<Figure size 432x288 with 1 Axes>"
      ]
     },
     "metadata": {
      "needs_background": "light"
     },
     "output_type": "display_data"
    },
    {
     "name": "stdout",
     "output_type": "stream",
     "text": [
      "AUC:  0.9750000000000001\n",
      "---------\n",
      "Predicting five_percent_plus_12mo...\n",
      "Random Forest F1 Score: 0.8627751196172249\n",
      "Predicted Result  0   1\n",
      "Actual Result          \n",
      "0                 8   2\n",
      "1                 1  11\n",
      "XGBoost F1 Score: 0.5606060606060606\n",
      "Predicted Result  0   1\n",
      "Actual Result          \n",
      "0                 2   8\n",
      "1                 0  12\n"
     ]
    },
    {
     "name": "stderr",
     "output_type": "stream",
     "text": [
      "/Users/philglazer/anaconda3/lib/python3.7/site-packages/pandas/core/frame.py:3940: SettingWithCopyWarning:\n",
      "\n",
      "\n",
      "A value is trying to be set on a copy of a slice from a DataFrame\n",
      "\n",
      "See the caveats in the documentation: http://pandas.pydata.org/pandas-docs/stable/indexing.html#indexing-view-versus-copy\n",
      "\n"
     ]
    },
    {
     "name": "stdout",
     "output_type": "stream",
     "text": [
      "[0.08243951 0.27454015 0.07647702 0.12828745 0.14258694 0.10926657\n",
      " 0.18640236]\n"
     ]
    },
    {
     "data": {
      "image/png": "[encoded data removed]",
      "text/plain": [
       "<Figure size 432x288 with 1 Axes>"
      ]
     },
     "metadata": {
      "needs_background": "light"
     },
     "output_type": "display_data"
    },
    {
     "name": "stdout",
     "output_type": "stream",
     "text": [
      "AUC:  0.5726495726495726\n",
      "---------\n",
      "Predicting positive_3mo_change...\n",
      "Random Forest F1 Score: 0.4171122994652407\n",
      "Predicted Result  0   1\n",
      "Actual Result          \n",
      "0                 0   9\n",
      "1                 1  12\n",
      "XGBoost F1 Score: 0.438961038961039\n",
      "Predicted Result   1\n",
      "Actual Result       \n",
      "0                  9\n",
      "1                 13\n"
     ]
    },
    {
     "name": "stderr",
     "output_type": "stream",
     "text": [
      "/Users/philglazer/anaconda3/lib/python3.7/site-packages/sklearn/metrics/classification.py:1143: UndefinedMetricWarning:\n",
      "\n",
      "F-score is ill-defined and being set to 0.0 in labels with no predicted samples.\n",
      "\n",
      "/Users/philglazer/anaconda3/lib/python3.7/site-packages/pandas/core/frame.py:3940: SettingWithCopyWarning:\n",
      "\n",
      "\n",
      "A value is trying to be set on a copy of a slice from a DataFrame\n",
      "\n",
      "See the caveats in the documentation: http://pandas.pydata.org/pandas-docs/stable/indexing.html#indexing-view-versus-copy\n",
      "\n"
     ]
    },
    {
     "name": "stdout",
     "output_type": "stream",
     "text": [
      "[0.12916325 0.18218296 0.15372901 0.20511143 0.16647601 0.12163651\n",
      " 0.04170083]\n"
     ]
    },
    {
     "data": {
      "image/png": "[encoded data removed]",
      "text/plain": [
       "<Figure size 432x288 with 1 Axes>"
      ]
     },
     "metadata": {
      "needs_background": "light"
     },
     "output_type": "display_data"
    },
    {
     "name": "stdout",
     "output_type": "stream",
     "text": [
      "AUC:  0.7264957264957266\n",
      "---------\n",
      "Predicting positive_6mo_change...\n",
      "Random Forest F1 Score: 0.6846590909090909\n",
      "Predicted Result  0   1\n",
      "Actual Result          \n",
      "0                 3   6\n",
      "1                 0  13\n",
      "XGBoost F1 Score: 0.438961038961039\n",
      "Predicted Result   1\n",
      "Actual Result       \n",
      "0                  9\n",
      "1                 13\n"
     ]
    },
    {
     "name": "stderr",
     "output_type": "stream",
     "text": [
      "/Users/philglazer/anaconda3/lib/python3.7/site-packages/sklearn/metrics/classification.py:1143: UndefinedMetricWarning:\n",
      "\n",
      "F-score is ill-defined and being set to 0.0 in labels with no predicted samples.\n",
      "\n",
      "/Users/philglazer/anaconda3/lib/python3.7/site-packages/pandas/core/frame.py:3940: SettingWithCopyWarning:\n",
      "\n",
      "\n",
      "A value is trying to be set on a copy of a slice from a DataFrame\n",
      "\n",
      "See the caveats in the documentation: http://pandas.pydata.org/pandas-docs/stable/indexing.html#indexing-view-versus-copy\n",
      "\n"
     ]
    },
    {
     "name": "stdout",
     "output_type": "stream",
     "text": [
      "[0.11115343 0.13606971 0.10262609 0.2381674  0.21314522 0.16089677\n",
      " 0.03794139]\n"
     ]
    },
    {
     "data": {
      "image/png": "[encoded data removed]",
      "text/plain": [
       "<Figure size 432x288 with 1 Axes>"
      ]
     },
     "metadata": {
      "needs_background": "light"
     },
     "output_type": "display_data"
    },
    {
     "name": "stdout",
     "output_type": "stream",
     "text": [
      "AUC:  0.7946428571428572\n",
      "---------\n",
      "Predicting positive_12mo_change...\n",
      "Random Forest F1 Score: 0.6225108225108226\n",
      "Predicted Result  0   1\n",
      "Actual Result          \n",
      "0                 3   5\n",
      "1                 3  11\n",
      "XGBoost F1 Score: 0.494949494949495\n",
      "Predicted Result   1\n",
      "Actual Result       \n",
      "0                  8\n",
      "1                 14\n"
     ]
    },
    {
     "name": "stderr",
     "output_type": "stream",
     "text": [
      "/Users/philglazer/anaconda3/lib/python3.7/site-packages/sklearn/metrics/classification.py:1143: UndefinedMetricWarning:\n",
      "\n",
      "F-score is ill-defined and being set to 0.0 in labels with no predicted samples.\n",
      "\n",
      "/Users/philglazer/anaconda3/lib/python3.7/site-packages/pandas/core/frame.py:3940: SettingWithCopyWarning:\n",
      "\n",
      "\n",
      "A value is trying to be set on a copy of a slice from a DataFrame\n",
      "\n",
      "See the caveats in the documentation: http://pandas.pydata.org/pandas-docs/stable/indexing.html#indexing-view-versus-copy\n",
      "\n"
     ]
    },
    {
     "name": "stdout",
     "output_type": "stream",
     "text": [
      "[0.07076447 0.21857199 0.05695563 0.18148976 0.19219231 0.15484879\n",
      " 0.12517706]\n"
     ]
    },
    {
     "data": {
      "image/png": "[encoded data removed]",
      "text/plain": [
       "<Figure size 432x288 with 1 Axes>"
      ]
     },
     "metadata": {
      "needs_background": "light"
     },
     "output_type": "display_data"
    },
    {
     "name": "stdout",
     "output_type": "stream",
     "text": [
      "AUC:  0.75\n",
      "---------\n",
      "Predicting two_percent_plus_12mo...\n",
      "Random Forest F1 Score: 0.6721763085399449\n",
      "Predicted Result   0  1\n",
      "Actual Result          \n",
      "0                 13  3\n",
      "1                  4  2\n",
      "XGBoost F1 Score: 0.6124401913875599\n",
      "Predicted Result   0\n",
      "Actual Result       \n",
      "0                 16\n",
      "1                  6\n"
     ]
    },
    {
     "name": "stderr",
     "output_type": "stream",
     "text": [
      "/Users/philglazer/anaconda3/lib/python3.7/site-packages/sklearn/metrics/classification.py:1143: UndefinedMetricWarning:\n",
      "\n",
      "F-score is ill-defined and being set to 0.0 in labels with no predicted samples.\n",
      "\n",
      "/Users/philglazer/anaconda3/lib/python3.7/site-packages/pandas/core/frame.py:3940: SettingWithCopyWarning:\n",
      "\n",
      "\n",
      "A value is trying to be set on a copy of a slice from a DataFrame\n",
      "\n",
      "See the caveats in the documentation: http://pandas.pydata.org/pandas-docs/stable/indexing.html#indexing-view-versus-copy\n",
      "\n"
     ]
    },
    {
     "name": "stdout",
     "output_type": "stream",
     "text": [
      "[0.08986336 0.04547629 0.18679179 0.10527314 0.0736098  0.04373741\n",
      " 0.05524821]\n"
     ]
    },
    {
     "name": "stderr",
     "output_type": "stream",
     "text": [
      "/Users/philglazer/anaconda3/lib/python3.7/site-packages/sklearn/metrics/ranking.py:656: UndefinedMetricWarning:\n",
      "\n",
      "No positive samples in y_true, true positive value should be meaningless\n",
      "\n"
     ]
    },
    {
     "data": {
      "image/png": "[encoded data removed]",
      "text/plain": [
       "<Figure size 432x288 with 1 Axes>"
      ]
     },
     "metadata": {
      "needs_background": "light"
     },
     "output_type": "display_data"
    },
    {
     "name": "stdout",
     "output_type": "stream",
     "text": [
      "AUC:  nan\n",
      "---------\n",
      "Predicting five_percent_plus_12mo...\n",
      "Random Forest F1 Score: 1.0\n",
      "Predicted Result   0\n",
      "Actual Result       \n",
      "0                 22\n",
      "XGBoost F1 Score: 1.0\n",
      "Predicted Result   0\n",
      "Actual Result       \n",
      "0                 22\n"
     ]
    },
    {
     "name": "stderr",
     "output_type": "stream",
     "text": [
      "/Users/philglazer/anaconda3/lib/python3.7/site-packages/pandas/core/frame.py:3940: SettingWithCopyWarning:\n",
      "\n",
      "\n",
      "A value is trying to be set on a copy of a slice from a DataFrame\n",
      "\n",
      "See the caveats in the documentation: http://pandas.pydata.org/pandas-docs/stable/indexing.html#indexing-view-versus-copy\n",
      "\n"
     ]
    },
    {
     "name": "stdout",
     "output_type": "stream",
     "text": [
      "[0.06152005 0.13476841 0.11221484 0.12114332 0.28058283 0.25894628\n",
      " 0.03082427]\n"
     ]
    },
    {
     "data": {
      "image/png": "[encoded data removed]",
      "text/plain": [
       "<Figure size 432x288 with 1 Axes>"
      ]
     },
     "metadata": {
      "needs_background": "light"
     },
     "output_type": "display_data"
    },
    {
     "name": "stdout",
     "output_type": "stream",
     "text": [
      "AUC:  0.8235294117647058\n",
      "---------\n",
      "Predicting positive_3mo_change...\n",
      "Random Forest F1 Score: 0.7272727272727273\n",
      "Predicted Result  0   1\n",
      "Actual Result          \n",
      "0                 2   3\n",
      "1                 3  14\n",
      "XGBoost F1 Score: 0.6736596736596737\n",
      "Predicted Result   1\n",
      "Actual Result       \n",
      "0                  5\n",
      "1                 17\n"
     ]
    },
    {
     "name": "stderr",
     "output_type": "stream",
     "text": [
      "/Users/philglazer/anaconda3/lib/python3.7/site-packages/sklearn/metrics/classification.py:1143: UndefinedMetricWarning:\n",
      "\n",
      "F-score is ill-defined and being set to 0.0 in labels with no predicted samples.\n",
      "\n",
      "/Users/philglazer/anaconda3/lib/python3.7/site-packages/pandas/core/frame.py:3940: SettingWithCopyWarning:\n",
      "\n",
      "\n",
      "A value is trying to be set on a copy of a slice from a DataFrame\n",
      "\n",
      "See the caveats in the documentation: http://pandas.pydata.org/pandas-docs/stable/indexing.html#indexing-view-versus-copy\n",
      "\n"
     ]
    },
    {
     "name": "stdout",
     "output_type": "stream",
     "text": [
      "[0.08313006 0.10199958 0.1217085  0.10894127 0.31213881 0.21971065\n",
      " 0.05237115]\n"
     ]
    },
    {
     "data": {
      "image/png": "[encoded data removed]",
      "text/plain": [
       "<Figure size 432x288 with 1 Axes>"
      ]
     },
     "metadata": {
      "needs_background": "light"
     },
     "output_type": "display_data"
    },
    {
     "name": "stdout",
     "output_type": "stream",
     "text": [
      "AUC:  0.8854166666666667\n",
      "---------\n",
      "Predicting positive_6mo_change...\n",
      "Random Forest F1 Score: 0.8053475935828878\n",
      "Predicted Result  0   1\n",
      "Actual Result          \n",
      "0                 3   3\n",
      "1                 1  15\n",
      "XGBoost F1 Score: 0.6124401913875599\n",
      "Predicted Result   1\n",
      "Actual Result       \n",
      "0                  6\n",
      "1                 16\n"
     ]
    },
    {
     "name": "stderr",
     "output_type": "stream",
     "text": [
      "/Users/philglazer/anaconda3/lib/python3.7/site-packages/sklearn/metrics/classification.py:1143: UndefinedMetricWarning:\n",
      "\n",
      "F-score is ill-defined and being set to 0.0 in labels with no predicted samples.\n",
      "\n",
      "/Users/philglazer/anaconda3/lib/python3.7/site-packages/pandas/core/frame.py:3940: SettingWithCopyWarning:\n",
      "\n",
      "\n",
      "A value is trying to be set on a copy of a slice from a DataFrame\n",
      "\n",
      "See the caveats in the documentation: http://pandas.pydata.org/pandas-docs/stable/indexing.html#indexing-view-versus-copy\n",
      "\n"
     ]
    },
    {
     "name": "stdout",
     "output_type": "stream",
     "text": [
      "[0.08906324 0.19133372 0.04551384 0.1022439  0.09433056 0.06655366\n",
      " 0.06096108]\n"
     ]
    },
    {
     "data": {
      "image/png": "[encoded data removed]",
      "text/plain": [
       "<Figure size 432x288 with 1 Axes>"
      ]
     },
     "metadata": {
      "needs_background": "light"
     },
     "output_type": "display_data"
    },
    {
     "name": "stdout",
     "output_type": "stream",
     "text": [
      "AUC:  0.925\n",
      "---------\n",
      "Predicting positive_12mo_change...\n",
      "Random Forest F1 Score: 0.8658008658008658\n",
      "Predicted Result   1\n",
      "Actual Result       \n",
      "0                  2\n",
      "1                 20\n",
      "XGBoost F1 Score: 0.8658008658008658\n",
      "Predicted Result   1\n",
      "Actual Result       \n",
      "0                  2\n",
      "1                 20\n"
     ]
    },
    {
     "name": "stderr",
     "output_type": "stream",
     "text": [
      "/Users/philglazer/anaconda3/lib/python3.7/site-packages/sklearn/metrics/classification.py:1143: UndefinedMetricWarning:\n",
      "\n",
      "F-score is ill-defined and being set to 0.0 in labels with no predicted samples.\n",
      "\n",
      "/Users/philglazer/anaconda3/lib/python3.7/site-packages/pandas/core/frame.py:3940: SettingWithCopyWarning:\n",
      "\n",
      "\n",
      "A value is trying to be set on a copy of a slice from a DataFrame\n",
      "\n",
      "See the caveats in the documentation: http://pandas.pydata.org/pandas-docs/stable/indexing.html#indexing-view-versus-copy\n",
      "\n"
     ]
    },
    {
     "name": "stdout",
     "output_type": "stream",
     "text": [
      "[0.05904671 0.18375561 0.03834119 0.0992474  0.32288364 0.26404765\n",
      " 0.03267779]\n"
     ]
    },
    {
     "data": {
      "image/png": "[encoded data removed]",
      "text/plain": [
       "<Figure size 432x288 with 1 Axes>"
      ]
     },
     "metadata": {
      "needs_background": "light"
     },
     "output_type": "display_data"
    },
    {
     "name": "stdout",
     "output_type": "stream",
     "text": [
      "AUC:  1.0\n",
      "---------\n",
      "Predicting two_percent_plus_12mo...\n",
      "Random Forest F1 Score: 0.9542583732057417\n",
      "Predicted Result  0   1\n",
      "Actual Result          \n",
      "0                 9   1\n",
      "1                 0  12\n",
      "XGBoost F1 Score: 0.38502673796791437\n",
      "Predicted Result   1\n",
      "Actual Result       \n",
      "0                 10\n",
      "1                 12\n"
     ]
    },
    {
     "name": "stderr",
     "output_type": "stream",
     "text": [
      "/Users/philglazer/anaconda3/lib/python3.7/site-packages/sklearn/metrics/classification.py:1143: UndefinedMetricWarning:\n",
      "\n",
      "F-score is ill-defined and being set to 0.0 in labels with no predicted samples.\n",
      "\n",
      "/Users/philglazer/anaconda3/lib/python3.7/site-packages/pandas/core/frame.py:3940: SettingWithCopyWarning:\n",
      "\n",
      "\n",
      "A value is trying to be set on a copy of a slice from a DataFrame\n",
      "\n",
      "See the caveats in the documentation: http://pandas.pydata.org/pandas-docs/stable/indexing.html#indexing-view-versus-copy\n",
      "\n"
     ]
    },
    {
     "name": "stdout",
     "output_type": "stream",
     "text": [
      "[0.07846334 0.143334   0.0403531  0.14360471 0.27610105 0.201116\n",
      " 0.11702781]\n"
     ]
    },
    {
     "data": {
      "image/png": "[encoded data removed]",
      "text/plain": [
       "<Figure size 432x288 with 1 Axes>"
      ]
     },
     "metadata": {
      "needs_background": "light"
     },
     "output_type": "display_data"
    },
    {
     "name": "stdout",
     "output_type": "stream",
     "text": [
      "AUC:  0.9316239316239316\n",
      "---------\n",
      "Predicting five_percent_plus_12mo...\n",
      "Random Forest F1 Score: 0.8621509209744506\n",
      "Predicted Result   0  1\n",
      "Actual Result          \n",
      "0                 12  1\n",
      "1                  2  7\n",
      "XGBoost F1 Score: 0.8181818181818182\n",
      "Predicted Result   0  1\n",
      "Actual Result          \n",
      "0                 11  2\n",
      "1                  2  7\n"
     ]
    },
    {
     "name": "stderr",
     "output_type": "stream",
     "text": [
      "/Users/philglazer/anaconda3/lib/python3.7/site-packages/pandas/core/frame.py:3940: SettingWithCopyWarning:\n",
      "\n",
      "\n",
      "A value is trying to be set on a copy of a slice from a DataFrame\n",
      "\n",
      "See the caveats in the documentation: http://pandas.pydata.org/pandas-docs/stable/indexing.html#indexing-view-versus-copy\n",
      "\n"
     ]
    },
    {
     "name": "stdout",
     "output_type": "stream",
     "text": [
      "[0.24550867 0.11487954 0.09546178 0.13332217 0.16788727 0.15999293\n",
      " 0.08294764]\n"
     ]
    },
    {
     "data": {
      "image/png": "[encoded data removed]",
      "text/plain": [
       "<Figure size 432x288 with 1 Axes>"
      ]
     },
     "metadata": {
      "needs_background": "light"
     },
     "output_type": "display_data"
    },
    {
     "name": "stdout",
     "output_type": "stream",
     "text": [
      "AUC:  0.9375\n",
      "---------\n",
      "Predicting positive_3mo_change...\n",
      "Random Forest F1 Score: 0.6988636363636365\n",
      "Predicted Result  0   1\n",
      "Actual Result          \n",
      "0                 3   5\n",
      "1                 1  13\n",
      "XGBoost F1 Score: 0.494949494949495\n",
      "Predicted Result   1\n",
      "Actual Result       \n",
      "0                  8\n",
      "1                 14\n"
     ]
    },
    {
     "name": "stderr",
     "output_type": "stream",
     "text": [
      "/Users/philglazer/anaconda3/lib/python3.7/site-packages/sklearn/metrics/classification.py:1143: UndefinedMetricWarning:\n",
      "\n",
      "F-score is ill-defined and being set to 0.0 in labels with no predicted samples.\n",
      "\n",
      "/Users/philglazer/anaconda3/lib/python3.7/site-packages/pandas/core/frame.py:3940: SettingWithCopyWarning:\n",
      "\n",
      "\n",
      "A value is trying to be set on a copy of a slice from a DataFrame\n",
      "\n",
      "See the caveats in the documentation: http://pandas.pydata.org/pandas-docs/stable/indexing.html#indexing-view-versus-copy\n",
      "\n"
     ]
    },
    {
     "name": "stdout",
     "output_type": "stream",
     "text": [
      "[0.23358446 0.19459528 0.04000381 0.11882205 0.13347655 0.18812774\n",
      " 0.09139011]\n"
     ]
    },
    {
     "data": {
      "image/png": "[encoded data removed]",
      "text/plain": [
       "<Figure size 432x288 with 1 Axes>"
      ]
     },
     "metadata": {
      "needs_background": "light"
     },
     "output_type": "display_data"
    },
    {
     "name": "stdout",
     "output_type": "stream",
     "text": [
      "AUC:  0.9743589743589743\n",
      "---------\n",
      "Predicting positive_6mo_change...\n",
      "Random Forest F1 Score: 0.6846590909090909\n",
      "Predicted Result  0   1\n",
      "Actual Result          \n",
      "0                 3   6\n",
      "1                 0  13\n",
      "XGBoost F1 Score: 0.438961038961039\n",
      "Predicted Result   1\n",
      "Actual Result       \n",
      "0                  9\n",
      "1                 13\n"
     ]
    },
    {
     "name": "stderr",
     "output_type": "stream",
     "text": [
      "/Users/philglazer/anaconda3/lib/python3.7/site-packages/sklearn/metrics/classification.py:1143: UndefinedMetricWarning:\n",
      "\n",
      "F-score is ill-defined and being set to 0.0 in labels with no predicted samples.\n",
      "\n",
      "/Users/philglazer/anaconda3/lib/python3.7/site-packages/pandas/core/frame.py:3940: SettingWithCopyWarning:\n",
      "\n",
      "\n",
      "A value is trying to be set on a copy of a slice from a DataFrame\n",
      "\n",
      "See the caveats in the documentation: http://pandas.pydata.org/pandas-docs/stable/indexing.html#indexing-view-versus-copy\n",
      "\n"
     ]
    },
    {
     "name": "stdout",
     "output_type": "stream",
     "text": [
      "[0.21832543 0.1828667  0.04951243 0.09712239 0.19977692 0.14746684\n",
      " 0.10492928]\n"
     ]
    },
    {
     "data": {
      "image/png": "[encoded data removed]",
      "text/plain": [
       "<Figure size 432x288 with 1 Axes>"
      ]
     },
     "metadata": {
      "needs_background": "light"
     },
     "output_type": "display_data"
    },
    {
     "name": "stdout",
     "output_type": "stream",
     "text": [
      "AUC:  0.9666666666666668\n",
      "---------\n",
      "Predicting positive_12mo_change...\n",
      "Random Forest F1 Score: 0.754440961337513\n",
      "Predicted Result  0   1\n",
      "Actual Result          \n",
      "0                 5   5\n",
      "1                 0  12\n",
      "XGBoost F1 Score: 0.38502673796791437\n",
      "Predicted Result   1\n",
      "Actual Result       \n",
      "0                 10\n",
      "1                 12\n"
     ]
    },
    {
     "name": "stderr",
     "output_type": "stream",
     "text": [
      "/Users/philglazer/anaconda3/lib/python3.7/site-packages/sklearn/metrics/classification.py:1143: UndefinedMetricWarning:\n",
      "\n",
      "F-score is ill-defined and being set to 0.0 in labels with no predicted samples.\n",
      "\n",
      "/Users/philglazer/anaconda3/lib/python3.7/site-packages/pandas/core/frame.py:3940: SettingWithCopyWarning:\n",
      "\n",
      "\n",
      "A value is trying to be set on a copy of a slice from a DataFrame\n",
      "\n",
      "See the caveats in the documentation: http://pandas.pydata.org/pandas-docs/stable/indexing.html#indexing-view-versus-copy\n",
      "\n"
     ]
    },
    {
     "name": "stdout",
     "output_type": "stream",
     "text": [
      "[0.20445128 0.17604298 0.03803851 0.08340199 0.20172324 0.19694716\n",
      " 0.09939485]\n"
     ]
    },
    {
     "data": {
      "image/png": "[encoded data removed]",
      "text/plain": [
       "<Figure size 432x288 with 1 Axes>"
      ]
     },
     "metadata": {
      "needs_background": "light"
     },
     "output_type": "display_data"
    },
    {
     "name": "stdout",
     "output_type": "stream",
     "text": [
      "AUC:  0.9666666666666667\n",
      "---------\n",
      "Predicting two_percent_plus_12mo...\n",
      "Random Forest F1 Score: 0.8084415584415584\n",
      "Predicted Result  0   1\n",
      "Actual Result          \n",
      "0                 6   4\n",
      "1                 0  12\n",
      "XGBoost F1 Score: 0.38502673796791437\n",
      "Predicted Result   1\n",
      "Actual Result       \n",
      "0                 10\n",
      "1                 12\n"
     ]
    },
    {
     "name": "stderr",
     "output_type": "stream",
     "text": [
      "/Users/philglazer/anaconda3/lib/python3.7/site-packages/sklearn/metrics/classification.py:1143: UndefinedMetricWarning:\n",
      "\n",
      "F-score is ill-defined and being set to 0.0 in labels with no predicted samples.\n",
      "\n",
      "/Users/philglazer/anaconda3/lib/python3.7/site-packages/pandas/core/frame.py:3940: SettingWithCopyWarning:\n",
      "\n",
      "\n",
      "A value is trying to be set on a copy of a slice from a DataFrame\n",
      "\n",
      "See the caveats in the documentation: http://pandas.pydata.org/pandas-docs/stable/indexing.html#indexing-view-versus-copy\n",
      "\n"
     ]
    },
    {
     "name": "stdout",
     "output_type": "stream",
     "text": [
      "[0.27842521 0.17767957 0.02364304 0.06813198 0.14224818 0.1508245\n",
      " 0.15904751]\n"
     ]
    },
    {
     "data": {
      "image/png": "[encoded data removed]",
      "text/plain": [
       "<Figure size 432x288 with 1 Axes>"
      ]
     },
     "metadata": {
      "needs_background": "light"
     },
     "output_type": "display_data"
    },
    {
     "name": "stdout",
     "output_type": "stream",
     "text": [
      "AUC:  0.9834710743801652\n",
      "---------\n",
      "Predicting five_percent_plus_12mo...\n",
      "Random Forest F1 Score: 0.9544513457556936\n",
      "Predicted Result   0   1\n",
      "Actual Result           \n",
      "0                 11   0\n",
      "1                  1  10\n",
      "XGBoost F1 Score: 0.8610526315789474\n",
      "Predicted Result  0   1\n",
      "Actual Result          \n",
      "0                 8   3\n",
      "1                 0  11\n"
     ]
    }
   ],
   "source": [
    "output = gather_models_list_of_zips(modeled_zipcodes, prediction_list)"
   ]
  },
  {
   "cell_type": "code",
   "execution_count": 1295,
   "metadata": {},
   "outputs": [],
   "source": [
    "# save models to pickle file to be used in web app\n",
    "pickle_out = open(\"modeled_zipcodes_dict.pickle\",\"wb\")\n",
    "pickle.dump(output, pickle_out)\n",
    "pickle_out.close()"
   ]
  },
  {
   "cell_type": "markdown",
   "metadata": {},
   "source": [
    "### Get Feature Importances"
   ]
  },
  {
   "cell_type": "code",
   "execution_count": 1299,
   "metadata": {},
   "outputs": [],
   "source": [
    "predictions = ['positive_3mo_change','positive_6mo_change','positive_12mo_change',\n",
    "              'two_percent_plus_12mo', 'five_percent_plus_12mo']"
   ]
  },
  {
   "cell_type": "code",
   "execution_count": 1315,
   "metadata": {},
   "outputs": [
    {
     "data": {
      "text/html": [
       "<div>\n",
       "<style scoped>\n",
       "    .dataframe tbody tr th:only-of-type {\n",
       "        vertical-align: middle;\n",
       "    }\n",
       "\n",
       "    .dataframe tbody tr th {\n",
       "        vertical-align: top;\n",
       "    }\n",
       "\n",
       "    .dataframe thead th {\n",
       "        text-align: right;\n",
       "    }\n",
       "</style>\n",
       "<table border=\"1\" class=\"dataframe\">\n",
       "  <thead>\n",
       "    <tr style=\"text-align: right;\">\n",
       "      <th></th>\n",
       "      <th>0</th>\n",
       "      <th>1</th>\n",
       "      <th>2</th>\n",
       "      <th>3</th>\n",
       "      <th>4</th>\n",
       "      <th>5</th>\n",
       "      <th>6</th>\n",
       "    </tr>\n",
       "  </thead>\n",
       "  <tbody>\n",
       "    <tr>\n",
       "      <th>0</th>\n",
       "      <td>0.229163</td>\n",
       "      <td>0.188964</td>\n",
       "      <td>0.113612</td>\n",
       "      <td>0.082115</td>\n",
       "      <td>0.186518</td>\n",
       "      <td>0.163807</td>\n",
       "      <td>0.035822</td>\n",
       "    </tr>\n",
       "    <tr>\n",
       "      <th>1</th>\n",
       "      <td>0.234292</td>\n",
       "      <td>0.208470</td>\n",
       "      <td>0.103254</td>\n",
       "      <td>0.056657</td>\n",
       "      <td>0.121385</td>\n",
       "      <td>0.146078</td>\n",
       "      <td>0.129864</td>\n",
       "    </tr>\n",
       "    <tr>\n",
       "      <th>2</th>\n",
       "      <td>0.094951</td>\n",
       "      <td>0.132986</td>\n",
       "      <td>0.085714</td>\n",
       "      <td>0.140664</td>\n",
       "      <td>0.041380</td>\n",
       "      <td>0.017815</td>\n",
       "      <td>0.146491</td>\n",
       "    </tr>\n",
       "    <tr>\n",
       "      <th>3</th>\n",
       "      <td>0.088219</td>\n",
       "      <td>0.217377</td>\n",
       "      <td>0.106388</td>\n",
       "      <td>0.041719</td>\n",
       "      <td>0.222024</td>\n",
       "      <td>0.169748</td>\n",
       "      <td>0.154526</td>\n",
       "    </tr>\n",
       "    <tr>\n",
       "      <th>4</th>\n",
       "      <td>0.204791</td>\n",
       "      <td>0.076739</td>\n",
       "      <td>0.145005</td>\n",
       "      <td>0.108821</td>\n",
       "      <td>0.091487</td>\n",
       "      <td>0.050733</td>\n",
       "      <td>0.322424</td>\n",
       "    </tr>\n",
       "    <tr>\n",
       "      <th>5</th>\n",
       "      <td>0.063323</td>\n",
       "      <td>0.138953</td>\n",
       "      <td>0.098444</td>\n",
       "      <td>0.098434</td>\n",
       "      <td>0.147538</td>\n",
       "      <td>0.031213</td>\n",
       "      <td>0.102095</td>\n",
       "    </tr>\n",
       "    <tr>\n",
       "      <th>6</th>\n",
       "      <td>0.119313</td>\n",
       "      <td>0.133902</td>\n",
       "      <td>0.262110</td>\n",
       "      <td>0.087544</td>\n",
       "      <td>0.124135</td>\n",
       "      <td>0.120154</td>\n",
       "      <td>0.062842</td>\n",
       "    </tr>\n",
       "    <tr>\n",
       "      <th>7</th>\n",
       "      <td>0.111153</td>\n",
       "      <td>0.136070</td>\n",
       "      <td>0.102626</td>\n",
       "      <td>0.238167</td>\n",
       "      <td>0.213145</td>\n",
       "      <td>0.160897</td>\n",
       "      <td>0.037941</td>\n",
       "    </tr>\n",
       "    <tr>\n",
       "      <th>8</th>\n",
       "      <td>0.089063</td>\n",
       "      <td>0.191334</td>\n",
       "      <td>0.045514</td>\n",
       "      <td>0.102244</td>\n",
       "      <td>0.094331</td>\n",
       "      <td>0.066554</td>\n",
       "      <td>0.060961</td>\n",
       "    </tr>\n",
       "    <tr>\n",
       "      <th>9</th>\n",
       "      <td>0.218325</td>\n",
       "      <td>0.182867</td>\n",
       "      <td>0.049512</td>\n",
       "      <td>0.097122</td>\n",
       "      <td>0.199777</td>\n",
       "      <td>0.147467</td>\n",
       "      <td>0.104929</td>\n",
       "    </tr>\n",
       "  </tbody>\n",
       "</table>\n",
       "</div>"
      ],
      "text/plain": [
       "          0         1         2         3         4         5         6\n",
       "0  0.229163  0.188964  0.113612  0.082115  0.186518  0.163807  0.035822\n",
       "1  0.234292  0.208470  0.103254  0.056657  0.121385  0.146078  0.129864\n",
       "2  0.094951  0.132986  0.085714  0.140664  0.041380  0.017815  0.146491\n",
       "3  0.088219  0.217377  0.106388  0.041719  0.222024  0.169748  0.154526\n",
       "4  0.204791  0.076739  0.145005  0.108821  0.091487  0.050733  0.322424\n",
       "5  0.063323  0.138953  0.098444  0.098434  0.147538  0.031213  0.102095\n",
       "6  0.119313  0.133902  0.262110  0.087544  0.124135  0.120154  0.062842\n",
       "7  0.111153  0.136070  0.102626  0.238167  0.213145  0.160897  0.037941\n",
       "8  0.089063  0.191334  0.045514  0.102244  0.094331  0.066554  0.060961\n",
       "9  0.218325  0.182867  0.049512  0.097122  0.199777  0.147467  0.104929"
      ]
     },
     "execution_count": 1315,
     "metadata": {},
     "output_type": "execute_result"
    }
   ],
   "source": [
    "feature_importance_dict = {}\n",
    "\n",
    "for p in predictions:\n",
    "    for o in output.keys():\n",
    "        if p in feature_importance_dict.keys():\n",
    "            feature_importance_dict[p].append(output[o][p].feature_importances_)\n",
    "        else:\n",
    "            feature_importance_dict[p] = [output[o][p].feature_importances_]\n",
    "        #print(output[o][p].feature_importances_)\n",
    "        \n",
    "pd.DataFrame(feature_importance_dict['positive_12mo_change'])"
   ]
  },
  {
   "cell_type": "code",
   "execution_count": 1004,
   "metadata": {},
   "outputs": [
    {
     "name": "stderr",
     "output_type": "stream",
     "text": [
      "/Users/philglazer/anaconda3/lib/python3.7/site-packages/pandas/core/frame.py:3940: SettingWithCopyWarning:\n",
      "\n",
      "\n",
      "A value is trying to be set on a copy of a slice from a DataFrame\n",
      "\n",
      "See the caveats in the documentation: http://pandas.pydata.org/pandas-docs/stable/indexing.html#indexing-view-versus-copy\n",
      "\n"
     ]
    },
    {
     "name": "stdout",
     "output_type": "stream",
     "text": [
      "[0.31806897 0.0549442  0.14948799 0.03701764 0.07307767 0.15223911\n",
      " 0.21516443]\n",
      "---------\n",
      "Predicting positive_3mo_change...\n",
      "Random Forest F1 Score: 0.9526695526695526\n",
      "Predicted Result  0   1\n",
      "Actual Result          \n",
      "0                 4   1\n",
      "1                 0  17\n",
      "XGBoost F1 Score: 0.6736596736596737\n",
      "Predicted Result   1\n",
      "Actual Result       \n",
      "0                  5\n",
      "1                 17\n",
      "None\n"
     ]
    },
    {
     "name": "stderr",
     "output_type": "stream",
     "text": [
      "/Users/philglazer/anaconda3/lib/python3.7/site-packages/sklearn/metrics/classification.py:1143: UndefinedMetricWarning:\n",
      "\n",
      "F-score is ill-defined and being set to 0.0 in labels with no predicted samples.\n",
      "\n",
      "/Users/philglazer/anaconda3/lib/python3.7/site-packages/pandas/core/frame.py:3940: SettingWithCopyWarning:\n",
      "\n",
      "\n",
      "A value is trying to be set on a copy of a slice from a DataFrame\n",
      "\n",
      "See the caveats in the documentation: http://pandas.pydata.org/pandas-docs/stable/indexing.html#indexing-view-versus-copy\n",
      "\n"
     ]
    },
    {
     "name": "stdout",
     "output_type": "stream",
     "text": [
      "[0.35351473 0.07952628 0.05824746 0.09667748 0.10822902 0.07365014\n",
      " 0.23015489]\n",
      "---------\n",
      "Predicting positive_6mo_change...\n",
      "Random Forest F1 Score: 1.0\n",
      "Predicted Result  0   1\n",
      "Actual Result          \n",
      "0                 4   0\n",
      "1                 0  18\n",
      "XGBoost F1 Score: 0.7363636363636363\n",
      "Predicted Result   1\n",
      "Actual Result       \n",
      "0                  4\n",
      "1                 18\n",
      "None\n"
     ]
    },
    {
     "name": "stderr",
     "output_type": "stream",
     "text": [
      "/Users/philglazer/anaconda3/lib/python3.7/site-packages/sklearn/metrics/classification.py:1143: UndefinedMetricWarning:\n",
      "\n",
      "F-score is ill-defined and being set to 0.0 in labels with no predicted samples.\n",
      "\n",
      "/Users/philglazer/anaconda3/lib/python3.7/site-packages/pandas/core/frame.py:3940: SettingWithCopyWarning:\n",
      "\n",
      "\n",
      "A value is trying to be set on a copy of a slice from a DataFrame\n",
      "\n",
      "See the caveats in the documentation: http://pandas.pydata.org/pandas-docs/stable/indexing.html#indexing-view-versus-copy\n",
      "\n"
     ]
    },
    {
     "name": "stdout",
     "output_type": "stream",
     "text": [
      "[0.33582065 0.07782843 0.03485946 0.16836697 0.09124368 0.05235119\n",
      " 0.23952962]\n",
      "---------\n",
      "Predicting positive_12mo_change...\n",
      "Random Forest F1 Score: 0.8715338715338716\n",
      "Predicted Result  0   1\n",
      "Actual Result          \n",
      "0                 2   1\n",
      "1                 2  17\n",
      "XGBoost F1 Score: 0.8004434589800443\n",
      "Predicted Result   1\n",
      "Actual Result       \n",
      "0                  3\n",
      "1                 19\n",
      "None\n"
     ]
    },
    {
     "name": "stderr",
     "output_type": "stream",
     "text": [
      "/Users/philglazer/anaconda3/lib/python3.7/site-packages/sklearn/metrics/classification.py:1143: UndefinedMetricWarning:\n",
      "\n",
      "F-score is ill-defined and being set to 0.0 in labels with no predicted samples.\n",
      "\n",
      "/Users/philglazer/anaconda3/lib/python3.7/site-packages/pandas/core/frame.py:3940: SettingWithCopyWarning:\n",
      "\n",
      "\n",
      "A value is trying to be set on a copy of a slice from a DataFrame\n",
      "\n",
      "See the caveats in the documentation: http://pandas.pydata.org/pandas-docs/stable/indexing.html#indexing-view-versus-copy\n",
      "\n"
     ]
    },
    {
     "name": "stdout",
     "output_type": "stream",
     "text": [
      "[0.29773204 0.11190981 0.06350553 0.11983203 0.08527267 0.04012233\n",
      " 0.28162559]\n",
      "---------\n",
      "Predicting two_percent_plus_12mo...\n",
      "Random Forest F1 Score: 0.8053475935828878\n",
      "Predicted Result  0   1\n",
      "Actual Result          \n",
      "0                 3   3\n",
      "1                 1  15\n",
      "XGBoost F1 Score: 0.6124401913875599\n",
      "Predicted Result   1\n",
      "Actual Result       \n",
      "0                  6\n",
      "1                 16\n",
      "None\n"
     ]
    },
    {
     "name": "stderr",
     "output_type": "stream",
     "text": [
      "/Users/philglazer/anaconda3/lib/python3.7/site-packages/sklearn/metrics/classification.py:1143: UndefinedMetricWarning:\n",
      "\n",
      "F-score is ill-defined and being set to 0.0 in labels with no predicted samples.\n",
      "\n",
      "/Users/philglazer/anaconda3/lib/python3.7/site-packages/pandas/core/frame.py:3940: SettingWithCopyWarning:\n",
      "\n",
      "\n",
      "A value is trying to be set on a copy of a slice from a DataFrame\n",
      "\n",
      "See the caveats in the documentation: http://pandas.pydata.org/pandas-docs/stable/indexing.html#indexing-view-versus-copy\n",
      "\n"
     ]
    },
    {
     "name": "stdout",
     "output_type": "stream",
     "text": [
      "[0.31954668 0.12658443 0.11807664 0.04878831 0.06808655 0.03051754\n",
      " 0.28839986]\n",
      "---------\n",
      "Predicting five_percent_plus_12mo...\n",
      "Random Forest F1 Score: 0.9546395633352156\n",
      "Predicted Result   0   1\n",
      "Actual Result           \n",
      "0                 10   0\n",
      "1                  1  11\n",
      "XGBoost F1 Score: 0.8627893845285151\n",
      "Predicted Result   0  1\n",
      "Actual Result          \n",
      "0                 10  0\n",
      "1                  3  9\n",
      "None\n"
     ]
    },
    {
     "name": "stderr",
     "output_type": "stream",
     "text": [
      "/Users/philglazer/anaconda3/lib/python3.7/site-packages/pandas/core/frame.py:3940: SettingWithCopyWarning:\n",
      "\n",
      "\n",
      "A value is trying to be set on a copy of a slice from a DataFrame\n",
      "\n",
      "See the caveats in the documentation: http://pandas.pydata.org/pandas-docs/stable/indexing.html#indexing-view-versus-copy\n",
      "\n"
     ]
    },
    {
     "name": "stdout",
     "output_type": "stream",
     "text": [
      "[0.02855022 0.12096558 0.20021013 0.03997154 0.0717228  0.02489801\n",
      " 0.12368172]\n",
      "---------\n",
      "Predicting ten_percent_plus_12mo...\n",
      "Random Forest F1 Score: 0.7363636363636363\n",
      "Predicted Result   0\n",
      "Actual Result       \n",
      "0                 18\n",
      "1                  4\n",
      "XGBoost F1 Score: 0.7363636363636363\n",
      "Predicted Result   0\n",
      "Actual Result       \n",
      "0                 18\n",
      "1                  4\n",
      "None\n"
     ]
    },
    {
     "name": "stderr",
     "output_type": "stream",
     "text": [
      "/Users/philglazer/anaconda3/lib/python3.7/site-packages/sklearn/metrics/classification.py:1143: UndefinedMetricWarning:\n",
      "\n",
      "F-score is ill-defined and being set to 0.0 in labels with no predicted samples.\n",
      "\n"
     ]
    },
    {
     "data": {
      "image/png": "[encoded data removed]",
      "text/plain": [
       "<Figure size 432x288 with 1 Axes>"
      ]
     },
     "metadata": {
      "needs_background": "light"
     },
     "output_type": "display_data"
    }
   ],
   "source": [
    "iterate_over_predictions(77494, prediction_list)"
   ]
  },
  {
   "cell_type": "code",
   "execution_count": 923,
   "metadata": {},
   "outputs": [],
   "source": [
    "# write a function that finds the area codes that have data that works\n",
    "\n",
    "def check_zip(zip_code, start_date, end_date):\n",
    "    data = join_data_available(zip_code, data_sets_dict)\n",
    "    data = data[data['Date']>=start_date] \n",
    "    data = data[data['Date']<=end_date]\n",
    "    \n",
    "    for c in data.columns:\n",
    "        if data[c].isnull().sum() > 0:\n",
    "            return False\n",
    "    \n",
    "    features = ['foreclose_resales',\n",
    "     'median_listing_price',\n",
    "     'percent_listing_price_reductions',\n",
    "     'median_percent_price_reductions',\n",
    "     'monthly_listings_allhomes',\n",
    "     'median_daily_listings',\n",
    "     'price_to_rent_ratio']\n",
    "    \n",
    "    for f in features:\n",
    "        if f not in data.columns:\n",
    "            return False\n",
    "    \n",
    "    return True"
   ]
  },
  {
   "cell_type": "code",
   "execution_count": 927,
   "metadata": {},
   "outputs": [],
   "source": [
    "def check_list_of_zips(list_of_zips, start_date, end_date):\n",
    "    i = 0\n",
    "    good_zips = []\n",
    "    for l in list_of_zips:\n",
    "        if check_zip(l,start_date,end_date):\n",
    "            good_zips.append(l)\n",
    "        print(i)\n",
    "        i+=1\n",
    "    return good_zips"
   ]
  }
 ],
 "metadata": {
  "kernelspec": {
   "display_name": "Python 3",
   "language": "python",
   "name": "python3"
  },
  "language_info": {
   "codemirror_mode": {
    "name": "ipython",
    "version": 3
   },
   "file_extension": ".py",
   "mimetype": "text/x-python",
   "name": "python",
   "nbconvert_exporter": "python",
   "pygments_lexer": "ipython3",
   "version": "3.7.3"
  }
 },
 "nbformat": 4,
 "nbformat_minor": 2
}
