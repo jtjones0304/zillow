{
 "cells": [
  {
   "cell_type": "markdown",
   "metadata": {},
   "source": [
    "# Predicting Changes in the Zillow Home Value Index by Zip Code"
   ]
  },
  {
   "cell_type": "markdown",
   "metadata": {},
   "source": [
    "In this notebook, I complete EDA of various Zillow data available by zip code, then build predictive models to estimate the probability that the Zillow Home Value Index (ZHVI) will change by *x* percent over the next *n* months for a given zip code. The resulting models may be a helpful tool for people considering selling their home in making decisions about when to sell over the next twelve months: sell now, wait three months, wait six months, wait a year, etc."
   ]
  },
  {
   "cell_type": "markdown",
   "metadata": {},
   "source": [
    "### Import Libraries"
   ]
  },
  {
   "cell_type": "code",
   "execution_count": 1158,
   "metadata": {},
   "outputs": [],
   "source": [
    "import pandas as pd\n",
    "import matplotlib as plt\n",
    "from functools import reduce\n",
    "from sklearn.model_selection import train_test_split\n",
    "import numpy as np\n",
    "import pickle\n",
    "from sklearn.linear_model import LinearRegression\n",
    "from sklearn.ensemble import RandomForestClassifier\n",
    "from sklearn.datasets import make_classification\n",
    "from sklearn.metrics import confusion_matrix\n",
    "from sklearn.metrics import f1_score\n",
    "from sklearn import metrics\n",
    "import matplotlib.pyplot as plt\n",
    "from xgboost import XGBClassifier\n",
    "\n",
    "from sklearn import preprocessing\n",
    "from sklearn.preprocessing import StandardScaler\n",
    "\n",
    "from sklearn.decomposition import PCA\n",
    "from sklearn.manifold import TSNE"
   ]
  },
  {
   "cell_type": "markdown",
   "metadata": {},
   "source": [
    "### Load Data"
   ]
  },
  {
   "cell_type": "code",
   "execution_count": 836,
   "metadata": {},
   "outputs": [],
   "source": [
    "zhvi_data = pd.read_csv('/Users/philglazer/Desktop/zillow_data/Zip_Zhvi_SingleFamilyResidence.csv',encoding = \"ISO-8859-1\")"
   ]
  },
  {
   "cell_type": "code",
   "execution_count": 837,
   "metadata": {},
   "outputs": [],
   "source": [
    "zhvi_rental_data = pd.read_csv('/Users/philglazer/Desktop/zillow_data/Zip_Zri_SingleFamilyResidenceRental.csv',encoding = \"ISO-8859-1\")"
   ]
  },
  {
   "cell_type": "code",
   "execution_count": 841,
   "metadata": {},
   "outputs": [],
   "source": [
    "buyer_seller_index = pd.read_csv('/Users/philglazer/Desktop/zillow_data/BuyerSellerIndexCrossTime_Zip.csv',encoding = \"ISO-8859-1\")"
   ]
  },
  {
   "cell_type": "code",
   "execution_count": 842,
   "metadata": {},
   "outputs": [],
   "source": [
    "# code to clean up date columns in the buyer_seller_index table; needed to be able to join with other tables on date\n",
    "# ex: turns '2018-6' into '2018-06', '2017-2' into '2017-02', etc.\n",
    "\n",
    "for c in buyer_seller_index.columns:\n",
    "    if '-' in c:\n",
    "        first_digit = c.split('-')[0]\n",
    "        second_digit = c.split('-')[1]\n",
    "        if int(second_digit) < 10:\n",
    "            temp = '0' + str(second_digit)\n",
    "            buyer_seller_index.rename(columns={c:first_digit+'-'+temp},inplace=True)\n",
    "        #print(c.split('-')[1])\n",
    "        "
   ]
  },
  {
   "cell_type": "code",
   "execution_count": 843,
   "metadata": {},
   "outputs": [],
   "source": [
    "foreclosures_resales = pd.read_csv('/Users/philglazer/Desktop/zillow_data/SalesPrevForeclosed_Share_Zip.csv',encoding = \"ISO-8859-1\")"
   ]
  },
  {
   "cell_type": "code",
   "execution_count": 844,
   "metadata": {},
   "outputs": [],
   "source": [
    "sale_price_data = pd.read_csv('/Users/philglazer/Desktop/zillow_data/Sale_Prices_Zip.csv')"
   ]
  },
  {
   "cell_type": "code",
   "execution_count": 845,
   "metadata": {},
   "outputs": [],
   "source": [
    "sale_counts_data = pd.read_csv('/Users/philglazer/Desktop/zillow_data/Sale_Counts_Zip.csv')"
   ]
  },
  {
   "cell_type": "code",
   "execution_count": 846,
   "metadata": {},
   "outputs": [],
   "source": [
    "median_listing_price_data = pd.read_csv('/Users/philglazer/Desktop/zillow_data/Zip_MedianListingPrice_AllHomes.csv',encoding = \"ISO-8859-1\")"
   ]
  },
  {
   "cell_type": "code",
   "execution_count": 847,
   "metadata": {},
   "outputs": [],
   "source": [
    "median_listing_price_persqft_data = pd.read_csv('/Users/philglazer/Desktop/zillow_data/Zip_MedianListingPricePerSqft_AllHomes.csv',encoding = \"ISO-8859-1\")"
   ]
  },
  {
   "cell_type": "code",
   "execution_count": 848,
   "metadata": {},
   "outputs": [],
   "source": [
    "percent_listings_price_reductions_data = pd.read_csv('/Users/philglazer/Desktop/zillow_data/Zip_PctOfListingsWithPriceReductions_AllHomes.csv',encoding = \"ISO-8859-1\")"
   ]
  },
  {
   "cell_type": "code",
   "execution_count": 849,
   "metadata": {},
   "outputs": [],
   "source": [
    "median_percent_price_reductions_data = pd.read_csv('/Users/philglazer/Desktop/zillow_data/Zip_MedianPctOfPriceReduction_AllHomes.csv',encoding = \"ISO-8859-1\")"
   ]
  },
  {
   "cell_type": "code",
   "execution_count": 850,
   "metadata": {},
   "outputs": [],
   "source": [
    "monthly_listings_allhomes_data = pd.read_csv('/Users/philglazer/Desktop/zillow_data/MonthlyListings_NSA_AllHomes_Zip.csv',encoding = \"ISO-8859-1\")"
   ]
  },
  {
   "cell_type": "code",
   "execution_count": 851,
   "metadata": {},
   "outputs": [],
   "source": [
    "new_monthly_listings_nsa_allhomes_data = pd.read_csv('/Users/philglazer/Desktop/zillow_data/NewMonthlyListings_NSA_AllHomes_Zip.csv',encoding = \"ISO-8859-1\")"
   ]
  },
  {
   "cell_type": "code",
   "execution_count": 852,
   "metadata": {},
   "outputs": [],
   "source": [
    "median_daily_listings_nsa_allhomes_data = pd.read_csv('/Users/philglazer/Desktop/zillow_data/MedianDailyListings_NSA_AllHomes_Zip.csv',encoding = \"ISO-8859-1\")"
   ]
  },
  {
   "cell_type": "code",
   "execution_count": 853,
   "metadata": {},
   "outputs": [],
   "source": [
    "price_to_rent_ratio_data = pd.read_csv('/Users/philglazer/Desktop/zillow_data/Zip_PriceToRentRatio_AllHomes.csv',encoding = \"ISO-8859-1\")"
   ]
  },
  {
   "cell_type": "markdown",
   "metadata": {},
   "source": [
    "#### List of data available"
   ]
  },
  {
   "cell_type": "code",
   "execution_count": 854,
   "metadata": {},
   "outputs": [],
   "source": [
    "# used later to iterate over the data sets available\n",
    "\n",
    "data_sets = [zhvi_data, zhvi_rental_data, foreclosures_resales, sale_price_data, sale_counts_data, median_listing_price_data, median_listing_price_persqft_data,\n",
    "            percent_listings_price_reductions_data, median_percent_price_reductions_data, monthly_listings_allhomes_data,\n",
    "            new_monthly_listings_nsa_allhomes_data, median_daily_listings_nsa_allhomes_data, price_to_rent_ratio_data]"
   ]
  },
  {
   "cell_type": "code",
   "execution_count": 855,
   "metadata": {},
   "outputs": [],
   "source": [
    "# removed, mostly empty:'new_monthly_listings_nsa':new_monthly_listings_nsa_allhomes_data, \n",
    "# removed, mostly empty:'median_listing_price_persqft':median_listing_price_persqft_data,\n",
    "# removed, mostly empty:'sale_price':sale_price_data, \n",
    "# removed, mostly empty:'sale_counts':sale_counts_data,\n",
    "\n",
    "\n",
    "\n",
    "data_sets_dict = {\n",
    "    'zhvi':zhvi_data,\n",
    "    'zhvi_rental':zhvi_rental_data,\n",
    "    'buyer_seller_index':buyer_seller_index,\n",
    "    'foreclose_resales':foreclosures_resales,\n",
    "    'median_listing_price':median_listing_price_data, \n",
    "    'percent_listing_price_reductions':percent_listings_price_reductions_data, \n",
    "    'median_percent_price_reductions':median_percent_price_reductions_data, \n",
    "    'monthly_listings_allhomes':monthly_listings_allhomes_data,\n",
    "    'median_daily_listings':median_daily_listings_nsa_allhomes_data, \n",
    "    'price_to_rent_ratio':price_to_rent_ratio_data\n",
    "}"
   ]
  },
  {
   "cell_type": "code",
   "execution_count": 1130,
   "metadata": {},
   "outputs": [
    {
     "data": {
      "text/html": [
       "<div>\n",
       "<style scoped>\n",
       "    .dataframe tbody tr th:only-of-type {\n",
       "        vertical-align: middle;\n",
       "    }\n",
       "\n",
       "    .dataframe tbody tr th {\n",
       "        vertical-align: top;\n",
       "    }\n",
       "\n",
       "    .dataframe thead th {\n",
       "        text-align: right;\n",
       "    }\n",
       "</style>\n",
       "<table border=\"1\" class=\"dataframe\">\n",
       "  <thead>\n",
       "    <tr style=\"text-align: right;\">\n",
       "      <th></th>\n",
       "      <th>RegionID</th>\n",
       "      <th>RegionName</th>\n",
       "      <th>City</th>\n",
       "      <th>State</th>\n",
       "      <th>Metro</th>\n",
       "      <th>CountyName</th>\n",
       "      <th>SizeRank</th>\n",
       "      <th>1996-04</th>\n",
       "      <th>1996-05</th>\n",
       "      <th>1996-06</th>\n",
       "      <th>...</th>\n",
       "      <th>2018-07</th>\n",
       "      <th>2018-08</th>\n",
       "      <th>2018-09</th>\n",
       "      <th>2018-10</th>\n",
       "      <th>2018-11</th>\n",
       "      <th>2018-12</th>\n",
       "      <th>2019-01</th>\n",
       "      <th>2019-02</th>\n",
       "      <th>2019-03</th>\n",
       "      <th>2019-04</th>\n",
       "    </tr>\n",
       "  </thead>\n",
       "  <tbody>\n",
       "    <tr>\n",
       "      <th>0</th>\n",
       "      <td>84654</td>\n",
       "      <td>60657</td>\n",
       "      <td>Chicago</td>\n",
       "      <td>IL</td>\n",
       "      <td>Chicago-Naperville-Elgin</td>\n",
       "      <td>Cook County</td>\n",
       "      <td>1</td>\n",
       "      <td>337200.0</td>\n",
       "      <td>338200.0</td>\n",
       "      <td>339000.0</td>\n",
       "      <td>...</td>\n",
       "      <td>1041900</td>\n",
       "      <td>1044100</td>\n",
       "      <td>1047700</td>\n",
       "      <td>1049600</td>\n",
       "      <td>1048500</td>\n",
       "      <td>1048500</td>\n",
       "      <td>1052700</td>\n",
       "      <td>1057800</td>\n",
       "      <td>1067100</td>\n",
       "      <td>1076100</td>\n",
       "    </tr>\n",
       "    <tr>\n",
       "      <th>1</th>\n",
       "      <td>91982</td>\n",
       "      <td>77494</td>\n",
       "      <td>Katy</td>\n",
       "      <td>TX</td>\n",
       "      <td>Houston-The Woodlands-Sugar Land</td>\n",
       "      <td>Harris County</td>\n",
       "      <td>2</td>\n",
       "      <td>210400.0</td>\n",
       "      <td>212200.0</td>\n",
       "      <td>212200.0</td>\n",
       "      <td>...</td>\n",
       "      <td>336800</td>\n",
       "      <td>338100</td>\n",
       "      <td>338500</td>\n",
       "      <td>337200</td>\n",
       "      <td>336200</td>\n",
       "      <td>336100</td>\n",
       "      <td>335300</td>\n",
       "      <td>334000</td>\n",
       "      <td>333400</td>\n",
       "      <td>333200</td>\n",
       "    </tr>\n",
       "    <tr>\n",
       "      <th>2</th>\n",
       "      <td>84616</td>\n",
       "      <td>60614</td>\n",
       "      <td>Chicago</td>\n",
       "      <td>IL</td>\n",
       "      <td>Chicago-Naperville-Elgin</td>\n",
       "      <td>Cook County</td>\n",
       "      <td>3</td>\n",
       "      <td>502900.0</td>\n",
       "      <td>504900.0</td>\n",
       "      <td>506300.0</td>\n",
       "      <td>...</td>\n",
       "      <td>1320100</td>\n",
       "      <td>1320200</td>\n",
       "      <td>1319100</td>\n",
       "      <td>1318200</td>\n",
       "      <td>1319600</td>\n",
       "      <td>1322700</td>\n",
       "      <td>1328100</td>\n",
       "      <td>1334600</td>\n",
       "      <td>1340900</td>\n",
       "      <td>1342900</td>\n",
       "    </tr>\n",
       "    <tr>\n",
       "      <th>3</th>\n",
       "      <td>91940</td>\n",
       "      <td>77449</td>\n",
       "      <td>Katy</td>\n",
       "      <td>TX</td>\n",
       "      <td>Houston-The Woodlands-Sugar Land</td>\n",
       "      <td>Harris County</td>\n",
       "      <td>4</td>\n",
       "      <td>95400.0</td>\n",
       "      <td>95600.0</td>\n",
       "      <td>95800.0</td>\n",
       "      <td>...</td>\n",
       "      <td>177400</td>\n",
       "      <td>178100</td>\n",
       "      <td>178700</td>\n",
       "      <td>179600</td>\n",
       "      <td>180300</td>\n",
       "      <td>180900</td>\n",
       "      <td>181900</td>\n",
       "      <td>183200</td>\n",
       "      <td>182900</td>\n",
       "      <td>181500</td>\n",
       "    </tr>\n",
       "    <tr>\n",
       "      <th>4</th>\n",
       "      <td>93144</td>\n",
       "      <td>79936</td>\n",
       "      <td>El Paso</td>\n",
       "      <td>TX</td>\n",
       "      <td>El Paso</td>\n",
       "      <td>El Paso County</td>\n",
       "      <td>5</td>\n",
       "      <td>77300.0</td>\n",
       "      <td>77300.0</td>\n",
       "      <td>77300.0</td>\n",
       "      <td>...</td>\n",
       "      <td>123700</td>\n",
       "      <td>124600</td>\n",
       "      <td>125700</td>\n",
       "      <td>126400</td>\n",
       "      <td>126800</td>\n",
       "      <td>127500</td>\n",
       "      <td>128100</td>\n",
       "      <td>128600</td>\n",
       "      <td>128800</td>\n",
       "      <td>128800</td>\n",
       "    </tr>\n",
       "    <tr>\n",
       "      <th>5</th>\n",
       "      <td>91733</td>\n",
       "      <td>77084</td>\n",
       "      <td>Houston</td>\n",
       "      <td>TX</td>\n",
       "      <td>Houston-The Woodlands-Sugar Land</td>\n",
       "      <td>Harris County</td>\n",
       "      <td>6</td>\n",
       "      <td>95000.0</td>\n",
       "      <td>95200.0</td>\n",
       "      <td>95400.0</td>\n",
       "      <td>...</td>\n",
       "      <td>167500</td>\n",
       "      <td>168800</td>\n",
       "      <td>169700</td>\n",
       "      <td>170900</td>\n",
       "      <td>172400</td>\n",
       "      <td>173800</td>\n",
       "      <td>175500</td>\n",
       "      <td>177400</td>\n",
       "      <td>177500</td>\n",
       "      <td>175900</td>\n",
       "    </tr>\n",
       "    <tr>\n",
       "      <th>6</th>\n",
       "      <td>61807</td>\n",
       "      <td>10467</td>\n",
       "      <td>New York</td>\n",
       "      <td>NY</td>\n",
       "      <td>New York-Newark-Jersey City</td>\n",
       "      <td>Bronx County</td>\n",
       "      <td>7</td>\n",
       "      <td>151900.0</td>\n",
       "      <td>151800.0</td>\n",
       "      <td>151800.0</td>\n",
       "      <td>...</td>\n",
       "      <td>429300</td>\n",
       "      <td>433000</td>\n",
       "      <td>434000</td>\n",
       "      <td>434800</td>\n",
       "      <td>438000</td>\n",
       "      <td>442700</td>\n",
       "      <td>446400</td>\n",
       "      <td>450400</td>\n",
       "      <td>455000</td>\n",
       "      <td>458300</td>\n",
       "    </tr>\n",
       "    <tr>\n",
       "      <th>7</th>\n",
       "      <td>62037</td>\n",
       "      <td>11226</td>\n",
       "      <td>New York</td>\n",
       "      <td>NY</td>\n",
       "      <td>New York-Newark-Jersey City</td>\n",
       "      <td>Kings County</td>\n",
       "      <td>8</td>\n",
       "      <td>161800.0</td>\n",
       "      <td>162200.0</td>\n",
       "      <td>162500.0</td>\n",
       "      <td>...</td>\n",
       "      <td>1061600</td>\n",
       "      <td>1093500</td>\n",
       "      <td>1115700</td>\n",
       "      <td>1126900</td>\n",
       "      <td>1119900</td>\n",
       "      <td>1093800</td>\n",
       "      <td>1058200</td>\n",
       "      <td>1032400</td>\n",
       "      <td>1035700</td>\n",
       "      <td>1056900</td>\n",
       "    </tr>\n",
       "    <tr>\n",
       "      <th>8</th>\n",
       "      <td>84640</td>\n",
       "      <td>60640</td>\n",
       "      <td>Chicago</td>\n",
       "      <td>IL</td>\n",
       "      <td>Chicago-Naperville-Elgin</td>\n",
       "      <td>Cook County</td>\n",
       "      <td>9</td>\n",
       "      <td>218500.0</td>\n",
       "      <td>218500.0</td>\n",
       "      <td>218500.0</td>\n",
       "      <td>...</td>\n",
       "      <td>760700</td>\n",
       "      <td>756900</td>\n",
       "      <td>755900</td>\n",
       "      <td>748900</td>\n",
       "      <td>745600</td>\n",
       "      <td>749500</td>\n",
       "      <td>753500</td>\n",
       "      <td>756800</td>\n",
       "      <td>776100</td>\n",
       "      <td>799400</td>\n",
       "    </tr>\n",
       "    <tr>\n",
       "      <th>9</th>\n",
       "      <td>97564</td>\n",
       "      <td>94109</td>\n",
       "      <td>San Francisco</td>\n",
       "      <td>CA</td>\n",
       "      <td>San Francisco-Oakland-Hayward</td>\n",
       "      <td>San Francisco County</td>\n",
       "      <td>10</td>\n",
       "      <td>767700.0</td>\n",
       "      <td>772800.0</td>\n",
       "      <td>778000.0</td>\n",
       "      <td>...</td>\n",
       "      <td>3960500</td>\n",
       "      <td>3973400</td>\n",
       "      <td>3986000</td>\n",
       "      <td>4005300</td>\n",
       "      <td>4001400</td>\n",
       "      <td>4010700</td>\n",
       "      <td>4013400</td>\n",
       "      <td>3970000</td>\n",
       "      <td>3942000</td>\n",
       "      <td>3951300</td>\n",
       "    </tr>\n",
       "    <tr>\n",
       "      <th>10</th>\n",
       "      <td>92593</td>\n",
       "      <td>78660</td>\n",
       "      <td>Pflugerville</td>\n",
       "      <td>TX</td>\n",
       "      <td>Austin-Round Rock</td>\n",
       "      <td>Travis County</td>\n",
       "      <td>11</td>\n",
       "      <td>138900.0</td>\n",
       "      <td>138600.0</td>\n",
       "      <td>138400.0</td>\n",
       "      <td>...</td>\n",
       "      <td>245500</td>\n",
       "      <td>246500</td>\n",
       "      <td>246900</td>\n",
       "      <td>247500</td>\n",
       "      <td>248700</td>\n",
       "      <td>249800</td>\n",
       "      <td>250300</td>\n",
       "      <td>250800</td>\n",
       "      <td>251900</td>\n",
       "      <td>252600</td>\n",
       "    </tr>\n",
       "    <tr>\n",
       "      <th>11</th>\n",
       "      <td>74101</td>\n",
       "      <td>37013</td>\n",
       "      <td>Nashville</td>\n",
       "      <td>TN</td>\n",
       "      <td>Nashville-Davidson--Murfreesboro--Franklin</td>\n",
       "      <td>Davidson County</td>\n",
       "      <td>12</td>\n",
       "      <td>110500.0</td>\n",
       "      <td>111200.0</td>\n",
       "      <td>112000.0</td>\n",
       "      <td>...</td>\n",
       "      <td>216000</td>\n",
       "      <td>218500</td>\n",
       "      <td>221500</td>\n",
       "      <td>224600</td>\n",
       "      <td>226900</td>\n",
       "      <td>228500</td>\n",
       "      <td>229800</td>\n",
       "      <td>230600</td>\n",
       "      <td>230200</td>\n",
       "      <td>229300</td>\n",
       "    </tr>\n",
       "    <tr>\n",
       "      <th>12</th>\n",
       "      <td>71831</td>\n",
       "      <td>32162</td>\n",
       "      <td>The Villages</td>\n",
       "      <td>FL</td>\n",
       "      <td>The Villages</td>\n",
       "      <td>Sumter County</td>\n",
       "      <td>13</td>\n",
       "      <td>101400.0</td>\n",
       "      <td>101000.0</td>\n",
       "      <td>100600.0</td>\n",
       "      <td>...</td>\n",
       "      <td>256900</td>\n",
       "      <td>258700</td>\n",
       "      <td>260800</td>\n",
       "      <td>263200</td>\n",
       "      <td>264600</td>\n",
       "      <td>265400</td>\n",
       "      <td>266600</td>\n",
       "      <td>267800</td>\n",
       "      <td>268700</td>\n",
       "      <td>269500</td>\n",
       "    </tr>\n",
       "    <tr>\n",
       "      <th>13</th>\n",
       "      <td>62045</td>\n",
       "      <td>11235</td>\n",
       "      <td>New York</td>\n",
       "      <td>NY</td>\n",
       "      <td>New York-Newark-Jersey City</td>\n",
       "      <td>Kings County</td>\n",
       "      <td>14</td>\n",
       "      <td>190200.0</td>\n",
       "      <td>190800.0</td>\n",
       "      <td>191400.0</td>\n",
       "      <td>...</td>\n",
       "      <td>821200</td>\n",
       "      <td>822500</td>\n",
       "      <td>828900</td>\n",
       "      <td>831100</td>\n",
       "      <td>823100</td>\n",
       "      <td>813600</td>\n",
       "      <td>811300</td>\n",
       "      <td>813400</td>\n",
       "      <td>813600</td>\n",
       "      <td>810700</td>\n",
       "    </tr>\n",
       "    <tr>\n",
       "      <th>14</th>\n",
       "      <td>62087</td>\n",
       "      <td>11375</td>\n",
       "      <td>New York</td>\n",
       "      <td>NY</td>\n",
       "      <td>New York-Newark-Jersey City</td>\n",
       "      <td>Queens County</td>\n",
       "      <td>15</td>\n",
       "      <td>251700.0</td>\n",
       "      <td>251200.0</td>\n",
       "      <td>251000.0</td>\n",
       "      <td>...</td>\n",
       "      <td>1080000</td>\n",
       "      <td>1074000</td>\n",
       "      <td>1074200</td>\n",
       "      <td>1079200</td>\n",
       "      <td>1092800</td>\n",
       "      <td>1100400</td>\n",
       "      <td>1098400</td>\n",
       "      <td>1094000</td>\n",
       "      <td>1093500</td>\n",
       "      <td>1092400</td>\n",
       "    </tr>\n",
       "    <tr>\n",
       "      <th>15</th>\n",
       "      <td>84646</td>\n",
       "      <td>60647</td>\n",
       "      <td>Chicago</td>\n",
       "      <td>IL</td>\n",
       "      <td>Chicago-Naperville-Elgin</td>\n",
       "      <td>Cook County</td>\n",
       "      <td>16</td>\n",
       "      <td>123900.0</td>\n",
       "      <td>123800.0</td>\n",
       "      <td>123600.0</td>\n",
       "      <td>...</td>\n",
       "      <td>475600</td>\n",
       "      <td>474800</td>\n",
       "      <td>476100</td>\n",
       "      <td>476500</td>\n",
       "      <td>475000</td>\n",
       "      <td>474300</td>\n",
       "      <td>476400</td>\n",
       "      <td>479000</td>\n",
       "      <td>479900</td>\n",
       "      <td>477700</td>\n",
       "    </tr>\n",
       "    <tr>\n",
       "      <th>16</th>\n",
       "      <td>96107</td>\n",
       "      <td>90250</td>\n",
       "      <td>Hawthorne</td>\n",
       "      <td>CA</td>\n",
       "      <td>Los Angeles-Long Beach-Anaheim</td>\n",
       "      <td>Los Angeles County</td>\n",
       "      <td>17</td>\n",
       "      <td>151500.0</td>\n",
       "      <td>151800.0</td>\n",
       "      <td>152000.0</td>\n",
       "      <td>...</td>\n",
       "      <td>626900</td>\n",
       "      <td>632500</td>\n",
       "      <td>638700</td>\n",
       "      <td>645600</td>\n",
       "      <td>651500</td>\n",
       "      <td>655100</td>\n",
       "      <td>658000</td>\n",
       "      <td>658200</td>\n",
       "      <td>656400</td>\n",
       "      <td>654900</td>\n",
       "    </tr>\n",
       "    <tr>\n",
       "      <th>17</th>\n",
       "      <td>74242</td>\n",
       "      <td>37211</td>\n",
       "      <td>Nashville</td>\n",
       "      <td>TN</td>\n",
       "      <td>Nashville-Davidson--Murfreesboro--Franklin</td>\n",
       "      <td>Davidson County</td>\n",
       "      <td>18</td>\n",
       "      <td>96200.0</td>\n",
       "      <td>96700.0</td>\n",
       "      <td>97200.0</td>\n",
       "      <td>...</td>\n",
       "      <td>267400</td>\n",
       "      <td>268700</td>\n",
       "      <td>270700</td>\n",
       "      <td>273000</td>\n",
       "      <td>274700</td>\n",
       "      <td>276100</td>\n",
       "      <td>277700</td>\n",
       "      <td>279100</td>\n",
       "      <td>278500</td>\n",
       "      <td>276600</td>\n",
       "    </tr>\n",
       "    <tr>\n",
       "      <th>18</th>\n",
       "      <td>62012</td>\n",
       "      <td>11201</td>\n",
       "      <td>New York</td>\n",
       "      <td>NY</td>\n",
       "      <td>New York-Newark-Jersey City</td>\n",
       "      <td>Kings County</td>\n",
       "      <td>19</td>\n",
       "      <td>NaN</td>\n",
       "      <td>NaN</td>\n",
       "      <td>NaN</td>\n",
       "      <td>...</td>\n",
       "      <td>4911600</td>\n",
       "      <td>4883400</td>\n",
       "      <td>4844300</td>\n",
       "      <td>4741300</td>\n",
       "      <td>4637500</td>\n",
       "      <td>4577200</td>\n",
       "      <td>4493700</td>\n",
       "      <td>4407100</td>\n",
       "      <td>4373700</td>\n",
       "      <td>4387000</td>\n",
       "    </tr>\n",
       "    <tr>\n",
       "      <th>19</th>\n",
       "      <td>92036</td>\n",
       "      <td>77573</td>\n",
       "      <td>League City</td>\n",
       "      <td>TX</td>\n",
       "      <td>Houston-The Woodlands-Sugar Land</td>\n",
       "      <td>Galveston County</td>\n",
       "      <td>20</td>\n",
       "      <td>141400.0</td>\n",
       "      <td>141000.0</td>\n",
       "      <td>140600.0</td>\n",
       "      <td>...</td>\n",
       "      <td>265600</td>\n",
       "      <td>267100</td>\n",
       "      <td>268600</td>\n",
       "      <td>269400</td>\n",
       "      <td>269700</td>\n",
       "      <td>270100</td>\n",
       "      <td>270800</td>\n",
       "      <td>271900</td>\n",
       "      <td>273000</td>\n",
       "      <td>272800</td>\n",
       "    </tr>\n",
       "    <tr>\n",
       "      <th>20</th>\n",
       "      <td>84620</td>\n",
       "      <td>60618</td>\n",
       "      <td>Chicago</td>\n",
       "      <td>IL</td>\n",
       "      <td>Chicago-Naperville-Elgin</td>\n",
       "      <td>Cook County</td>\n",
       "      <td>21</td>\n",
       "      <td>144000.0</td>\n",
       "      <td>144300.0</td>\n",
       "      <td>144300.0</td>\n",
       "      <td>...</td>\n",
       "      <td>469600</td>\n",
       "      <td>466300</td>\n",
       "      <td>465500</td>\n",
       "      <td>465600</td>\n",
       "      <td>465000</td>\n",
       "      <td>464200</td>\n",
       "      <td>463800</td>\n",
       "      <td>464100</td>\n",
       "      <td>464200</td>\n",
       "      <td>463100</td>\n",
       "    </tr>\n",
       "    <tr>\n",
       "      <th>21</th>\n",
       "      <td>92271</td>\n",
       "      <td>78130</td>\n",
       "      <td>New Braunfels</td>\n",
       "      <td>TX</td>\n",
       "      <td>San Antonio-New Braunfels</td>\n",
       "      <td>Comal County</td>\n",
       "      <td>22</td>\n",
       "      <td>123900.0</td>\n",
       "      <td>123900.0</td>\n",
       "      <td>123800.0</td>\n",
       "      <td>...</td>\n",
       "      <td>227500</td>\n",
       "      <td>228000</td>\n",
       "      <td>228800</td>\n",
       "      <td>229000</td>\n",
       "      <td>228900</td>\n",
       "      <td>229200</td>\n",
       "      <td>230100</td>\n",
       "      <td>231600</td>\n",
       "      <td>232900</td>\n",
       "      <td>232700</td>\n",
       "    </tr>\n",
       "    <tr>\n",
       "      <th>22</th>\n",
       "      <td>92045</td>\n",
       "      <td>77584</td>\n",
       "      <td>Pearland</td>\n",
       "      <td>TX</td>\n",
       "      <td>Houston-The Woodlands-Sugar Land</td>\n",
       "      <td>Brazoria County</td>\n",
       "      <td>23</td>\n",
       "      <td>138500.0</td>\n",
       "      <td>138700.0</td>\n",
       "      <td>139200.0</td>\n",
       "      <td>...</td>\n",
       "      <td>262500</td>\n",
       "      <td>263100</td>\n",
       "      <td>263300</td>\n",
       "      <td>263900</td>\n",
       "      <td>264900</td>\n",
       "      <td>266300</td>\n",
       "      <td>267600</td>\n",
       "      <td>268700</td>\n",
       "      <td>269200</td>\n",
       "      <td>269100</td>\n",
       "    </tr>\n",
       "    <tr>\n",
       "      <th>23</th>\n",
       "      <td>61625</td>\n",
       "      <td>10011</td>\n",
       "      <td>New York</td>\n",
       "      <td>NY</td>\n",
       "      <td>New York-Newark-Jersey City</td>\n",
       "      <td>New York County</td>\n",
       "      <td>24</td>\n",
       "      <td>NaN</td>\n",
       "      <td>NaN</td>\n",
       "      <td>NaN</td>\n",
       "      <td>...</td>\n",
       "      <td>11468600</td>\n",
       "      <td>11343000</td>\n",
       "      <td>11170900</td>\n",
       "      <td>10694100</td>\n",
       "      <td>10273000</td>\n",
       "      <td>10141100</td>\n",
       "      <td>10025500</td>\n",
       "      <td>9946000</td>\n",
       "      <td>9904600</td>\n",
       "      <td>9843700</td>\n",
       "    </tr>\n",
       "    <tr>\n",
       "      <th>24</th>\n",
       "      <td>61703</td>\n",
       "      <td>10128</td>\n",
       "      <td>New York</td>\n",
       "      <td>NY</td>\n",
       "      <td>New York-Newark-Jersey City</td>\n",
       "      <td>New York County</td>\n",
       "      <td>25</td>\n",
       "      <td>3668600.0</td>\n",
       "      <td>3696500.0</td>\n",
       "      <td>3722200.0</td>\n",
       "      <td>...</td>\n",
       "      <td>7390900</td>\n",
       "      <td>7382800</td>\n",
       "      <td>7273400</td>\n",
       "      <td>6936500</td>\n",
       "      <td>6586200</td>\n",
       "      <td>6452300</td>\n",
       "      <td>6429600</td>\n",
       "      <td>6543700</td>\n",
       "      <td>6793000</td>\n",
       "      <td>6943700</td>\n",
       "    </tr>\n",
       "    <tr>\n",
       "      <th>25</th>\n",
       "      <td>69816</td>\n",
       "      <td>28269</td>\n",
       "      <td>Charlotte</td>\n",
       "      <td>NC</td>\n",
       "      <td>Charlotte-Concord-Gastonia</td>\n",
       "      <td>Mecklenburg County</td>\n",
       "      <td>26</td>\n",
       "      <td>127800.0</td>\n",
       "      <td>128200.0</td>\n",
       "      <td>128500.0</td>\n",
       "      <td>...</td>\n",
       "      <td>200800</td>\n",
       "      <td>202400</td>\n",
       "      <td>204300</td>\n",
       "      <td>206600</td>\n",
       "      <td>208400</td>\n",
       "      <td>210200</td>\n",
       "      <td>212000</td>\n",
       "      <td>213300</td>\n",
       "      <td>213700</td>\n",
       "      <td>213500</td>\n",
       "    </tr>\n",
       "    <tr>\n",
       "      <th>26</th>\n",
       "      <td>66126</td>\n",
       "      <td>20002</td>\n",
       "      <td>Washington</td>\n",
       "      <td>DC</td>\n",
       "      <td>Washington-Arlington-Alexandria</td>\n",
       "      <td>District of Columbia</td>\n",
       "      <td>27</td>\n",
       "      <td>91700.0</td>\n",
       "      <td>92000.0</td>\n",
       "      <td>92300.0</td>\n",
       "      <td>...</td>\n",
       "      <td>702700</td>\n",
       "      <td>707300</td>\n",
       "      <td>713300</td>\n",
       "      <td>719200</td>\n",
       "      <td>722700</td>\n",
       "      <td>723900</td>\n",
       "      <td>722500</td>\n",
       "      <td>722100</td>\n",
       "      <td>716200</td>\n",
       "      <td>705200</td>\n",
       "    </tr>\n",
       "    <tr>\n",
       "      <th>27</th>\n",
       "      <td>92551</td>\n",
       "      <td>78613</td>\n",
       "      <td>Cedar Park</td>\n",
       "      <td>TX</td>\n",
       "      <td>Austin-Round Rock</td>\n",
       "      <td>Williamson County</td>\n",
       "      <td>28</td>\n",
       "      <td>169600.0</td>\n",
       "      <td>169000.0</td>\n",
       "      <td>168600.0</td>\n",
       "      <td>...</td>\n",
       "      <td>297000</td>\n",
       "      <td>297200</td>\n",
       "      <td>298000</td>\n",
       "      <td>299500</td>\n",
       "      <td>301700</td>\n",
       "      <td>304400</td>\n",
       "      <td>306800</td>\n",
       "      <td>308200</td>\n",
       "      <td>308400</td>\n",
       "      <td>307600</td>\n",
       "    </tr>\n",
       "    <tr>\n",
       "      <th>28</th>\n",
       "      <td>92515</td>\n",
       "      <td>78572</td>\n",
       "      <td>Mission</td>\n",
       "      <td>TX</td>\n",
       "      <td>McAllen-Edinburg-Mission</td>\n",
       "      <td>Hidalgo County</td>\n",
       "      <td>29</td>\n",
       "      <td>69900.0</td>\n",
       "      <td>69700.0</td>\n",
       "      <td>69600.0</td>\n",
       "      <td>...</td>\n",
       "      <td>107200</td>\n",
       "      <td>107300</td>\n",
       "      <td>107800</td>\n",
       "      <td>108100</td>\n",
       "      <td>108300</td>\n",
       "      <td>108500</td>\n",
       "      <td>108500</td>\n",
       "      <td>109100</td>\n",
       "      <td>109800</td>\n",
       "      <td>109800</td>\n",
       "    </tr>\n",
       "    <tr>\n",
       "      <th>29</th>\n",
       "      <td>71067</td>\n",
       "      <td>30349</td>\n",
       "      <td>Riverdale</td>\n",
       "      <td>GA</td>\n",
       "      <td>Atlanta-Sandy Springs-Roswell</td>\n",
       "      <td>Clayton County</td>\n",
       "      <td>30</td>\n",
       "      <td>90500.0</td>\n",
       "      <td>90700.0</td>\n",
       "      <td>91000.0</td>\n",
       "      <td>...</td>\n",
       "      <td>127000</td>\n",
       "      <td>127100</td>\n",
       "      <td>127900</td>\n",
       "      <td>129000</td>\n",
       "      <td>130300</td>\n",
       "      <td>131600</td>\n",
       "      <td>132700</td>\n",
       "      <td>133500</td>\n",
       "      <td>133800</td>\n",
       "      <td>133900</td>\n",
       "    </tr>\n",
       "    <tr>\n",
       "      <th>30</th>\n",
       "      <td>93123</td>\n",
       "      <td>79912</td>\n",
       "      <td>El Paso</td>\n",
       "      <td>TX</td>\n",
       "      <td>El Paso</td>\n",
       "      <td>El Paso County</td>\n",
       "      <td>31</td>\n",
       "      <td>119700.0</td>\n",
       "      <td>119700.0</td>\n",
       "      <td>119800.0</td>\n",
       "      <td>...</td>\n",
       "      <td>190600</td>\n",
       "      <td>190600</td>\n",
       "      <td>191200</td>\n",
       "      <td>191400</td>\n",
       "      <td>190900</td>\n",
       "      <td>190500</td>\n",
       "      <td>190800</td>\n",
       "      <td>191000</td>\n",
       "      <td>191100</td>\n",
       "      <td>191200</td>\n",
       "    </tr>\n",
       "    <tr>\n",
       "      <th>31</th>\n",
       "      <td>97771</td>\n",
       "      <td>94565</td>\n",
       "      <td>Pittsburg</td>\n",
       "      <td>CA</td>\n",
       "      <td>San Francisco-Oakland-Hayward</td>\n",
       "      <td>Contra Costa County</td>\n",
       "      <td>32</td>\n",
       "      <td>133700.0</td>\n",
       "      <td>134000.0</td>\n",
       "      <td>134200.0</td>\n",
       "      <td>...</td>\n",
       "      <td>430300</td>\n",
       "      <td>430700</td>\n",
       "      <td>432400</td>\n",
       "      <td>432900</td>\n",
       "      <td>430800</td>\n",
       "      <td>428500</td>\n",
       "      <td>427500</td>\n",
       "      <td>427600</td>\n",
       "      <td>428000</td>\n",
       "      <td>428500</td>\n",
       "    </tr>\n",
       "    <tr>\n",
       "      <th>32</th>\n",
       "      <td>96027</td>\n",
       "      <td>90046</td>\n",
       "      <td>Los Angeles</td>\n",
       "      <td>CA</td>\n",
       "      <td>Los Angeles-Long Beach-Anaheim</td>\n",
       "      <td>Los Angeles County</td>\n",
       "      <td>33</td>\n",
       "      <td>338300.0</td>\n",
       "      <td>339900.0</td>\n",
       "      <td>341700.0</td>\n",
       "      <td>...</td>\n",
       "      <td>1939200</td>\n",
       "      <td>1918200</td>\n",
       "      <td>1903900</td>\n",
       "      <td>1901900</td>\n",
       "      <td>1901200</td>\n",
       "      <td>1899900</td>\n",
       "      <td>1898200</td>\n",
       "      <td>1895000</td>\n",
       "      <td>1888900</td>\n",
       "      <td>1880800</td>\n",
       "    </tr>\n",
       "    <tr>\n",
       "      <th>33</th>\n",
       "      <td>91926</td>\n",
       "      <td>77433</td>\n",
       "      <td>Cypress</td>\n",
       "      <td>TX</td>\n",
       "      <td>Houston-The Woodlands-Sugar Land</td>\n",
       "      <td>Harris County</td>\n",
       "      <td>34</td>\n",
       "      <td>147300.0</td>\n",
       "      <td>147600.0</td>\n",
       "      <td>148100.0</td>\n",
       "      <td>...</td>\n",
       "      <td>254900</td>\n",
       "      <td>254900</td>\n",
       "      <td>254900</td>\n",
       "      <td>254800</td>\n",
       "      <td>254900</td>\n",
       "      <td>255500</td>\n",
       "      <td>256700</td>\n",
       "      <td>258100</td>\n",
       "      <td>258000</td>\n",
       "      <td>256800</td>\n",
       "    </tr>\n",
       "    <tr>\n",
       "      <th>34</th>\n",
       "      <td>90654</td>\n",
       "      <td>75052</td>\n",
       "      <td>Grand Prairie</td>\n",
       "      <td>TX</td>\n",
       "      <td>Dallas-Fort Worth-Arlington</td>\n",
       "      <td>Dallas County</td>\n",
       "      <td>35</td>\n",
       "      <td>100800.0</td>\n",
       "      <td>100900.0</td>\n",
       "      <td>101000.0</td>\n",
       "      <td>...</td>\n",
       "      <td>207400</td>\n",
       "      <td>208500</td>\n",
       "      <td>209700</td>\n",
       "      <td>211600</td>\n",
       "      <td>214300</td>\n",
       "      <td>217400</td>\n",
       "      <td>220400</td>\n",
       "      <td>222800</td>\n",
       "      <td>224200</td>\n",
       "      <td>224400</td>\n",
       "    </tr>\n",
       "    <tr>\n",
       "      <th>35</th>\n",
       "      <td>66133</td>\n",
       "      <td>20009</td>\n",
       "      <td>Washington</td>\n",
       "      <td>DC</td>\n",
       "      <td>Washington-Arlington-Alexandria</td>\n",
       "      <td>District of Columbia</td>\n",
       "      <td>36</td>\n",
       "      <td>174700.0</td>\n",
       "      <td>175500.0</td>\n",
       "      <td>176400.0</td>\n",
       "      <td>...</td>\n",
       "      <td>1092800</td>\n",
       "      <td>1089300</td>\n",
       "      <td>1090700</td>\n",
       "      <td>1088700</td>\n",
       "      <td>1079800</td>\n",
       "      <td>1071400</td>\n",
       "      <td>1067200</td>\n",
       "      <td>1068200</td>\n",
       "      <td>1071800</td>\n",
       "      <td>1072900</td>\n",
       "    </tr>\n",
       "    <tr>\n",
       "      <th>36</th>\n",
       "      <td>74126</td>\n",
       "      <td>37042</td>\n",
       "      <td>Clarksville</td>\n",
       "      <td>TN</td>\n",
       "      <td>Clarksville</td>\n",
       "      <td>Montgomery County</td>\n",
       "      <td>37</td>\n",
       "      <td>71100.0</td>\n",
       "      <td>72400.0</td>\n",
       "      <td>73600.0</td>\n",
       "      <td>...</td>\n",
       "      <td>133200</td>\n",
       "      <td>133900</td>\n",
       "      <td>134800</td>\n",
       "      <td>136000</td>\n",
       "      <td>137300</td>\n",
       "      <td>138200</td>\n",
       "      <td>139200</td>\n",
       "      <td>139500</td>\n",
       "      <td>139100</td>\n",
       "      <td>138400</td>\n",
       "    </tr>\n",
       "    <tr>\n",
       "      <th>37</th>\n",
       "      <td>89925</td>\n",
       "      <td>73099</td>\n",
       "      <td>Yukon</td>\n",
       "      <td>OK</td>\n",
       "      <td>Oklahoma City</td>\n",
       "      <td>Canadian County</td>\n",
       "      <td>38</td>\n",
       "      <td>83100.0</td>\n",
       "      <td>83800.0</td>\n",
       "      <td>84000.0</td>\n",
       "      <td>...</td>\n",
       "      <td>164400</td>\n",
       "      <td>165300</td>\n",
       "      <td>165900</td>\n",
       "      <td>166000</td>\n",
       "      <td>166100</td>\n",
       "      <td>166300</td>\n",
       "      <td>166600</td>\n",
       "      <td>166900</td>\n",
       "      <td>167200</td>\n",
       "      <td>167400</td>\n",
       "    </tr>\n",
       "    <tr>\n",
       "      <th>38</th>\n",
       "      <td>91922</td>\n",
       "      <td>77429</td>\n",
       "      <td>Cypress</td>\n",
       "      <td>TX</td>\n",
       "      <td>Houston-The Woodlands-Sugar Land</td>\n",
       "      <td>Harris County</td>\n",
       "      <td>39</td>\n",
       "      <td>149600.0</td>\n",
       "      <td>148800.0</td>\n",
       "      <td>148100.0</td>\n",
       "      <td>...</td>\n",
       "      <td>245800</td>\n",
       "      <td>245800</td>\n",
       "      <td>245500</td>\n",
       "      <td>245900</td>\n",
       "      <td>246900</td>\n",
       "      <td>248200</td>\n",
       "      <td>249800</td>\n",
       "      <td>251700</td>\n",
       "      <td>252300</td>\n",
       "      <td>251500</td>\n",
       "    </tr>\n",
       "    <tr>\n",
       "      <th>39</th>\n",
       "      <td>61802</td>\n",
       "      <td>10462</td>\n",
       "      <td>New York</td>\n",
       "      <td>NY</td>\n",
       "      <td>New York-Newark-Jersey City</td>\n",
       "      <td>Bronx County</td>\n",
       "      <td>40</td>\n",
       "      <td>153200.0</td>\n",
       "      <td>153400.0</td>\n",
       "      <td>153600.0</td>\n",
       "      <td>...</td>\n",
       "      <td>467600</td>\n",
       "      <td>473300</td>\n",
       "      <td>477200</td>\n",
       "      <td>481400</td>\n",
       "      <td>485100</td>\n",
       "      <td>487600</td>\n",
       "      <td>488500</td>\n",
       "      <td>489300</td>\n",
       "      <td>493900</td>\n",
       "      <td>499900</td>\n",
       "    </tr>\n",
       "    <tr>\n",
       "      <th>40</th>\n",
       "      <td>61796</td>\n",
       "      <td>10456</td>\n",
       "      <td>New York</td>\n",
       "      <td>NY</td>\n",
       "      <td>New York-Newark-Jersey City</td>\n",
       "      <td>Bronx County</td>\n",
       "      <td>41</td>\n",
       "      <td>NaN</td>\n",
       "      <td>NaN</td>\n",
       "      <td>NaN</td>\n",
       "      <td>...</td>\n",
       "      <td>396900</td>\n",
       "      <td>402000</td>\n",
       "      <td>411400</td>\n",
       "      <td>423100</td>\n",
       "      <td>436700</td>\n",
       "      <td>446100</td>\n",
       "      <td>446800</td>\n",
       "      <td>447600</td>\n",
       "      <td>447400</td>\n",
       "      <td>442900</td>\n",
       "    </tr>\n",
       "    <tr>\n",
       "      <th>41</th>\n",
       "      <td>91968</td>\n",
       "      <td>77479</td>\n",
       "      <td>Sugar Land</td>\n",
       "      <td>TX</td>\n",
       "      <td>Houston-The Woodlands-Sugar Land</td>\n",
       "      <td>Fort Bend County</td>\n",
       "      <td>42</td>\n",
       "      <td>189800.0</td>\n",
       "      <td>188500.0</td>\n",
       "      <td>187300.0</td>\n",
       "      <td>...</td>\n",
       "      <td>369800</td>\n",
       "      <td>369800</td>\n",
       "      <td>369200</td>\n",
       "      <td>367800</td>\n",
       "      <td>367900</td>\n",
       "      <td>369400</td>\n",
       "      <td>369800</td>\n",
       "      <td>369400</td>\n",
       "      <td>368500</td>\n",
       "      <td>367200</td>\n",
       "    </tr>\n",
       "    <tr>\n",
       "      <th>42</th>\n",
       "      <td>84615</td>\n",
       "      <td>60613</td>\n",
       "      <td>Chicago</td>\n",
       "      <td>IL</td>\n",
       "      <td>Chicago-Naperville-Elgin</td>\n",
       "      <td>Cook County</td>\n",
       "      <td>43</td>\n",
       "      <td>300600.0</td>\n",
       "      <td>302800.0</td>\n",
       "      <td>304700.0</td>\n",
       "      <td>...</td>\n",
       "      <td>1049600</td>\n",
       "      <td>1046700</td>\n",
       "      <td>1044500</td>\n",
       "      <td>1043700</td>\n",
       "      <td>1044400</td>\n",
       "      <td>1045800</td>\n",
       "      <td>1049000</td>\n",
       "      <td>1057000</td>\n",
       "      <td>1069000</td>\n",
       "      <td>1076300</td>\n",
       "    </tr>\n",
       "    <tr>\n",
       "      <th>43</th>\n",
       "      <td>86026</td>\n",
       "      <td>63376</td>\n",
       "      <td>Saint Peters</td>\n",
       "      <td>MO</td>\n",
       "      <td>St. Louis</td>\n",
       "      <td>Saint Charles County</td>\n",
       "      <td>44</td>\n",
       "      <td>98200.0</td>\n",
       "      <td>98700.0</td>\n",
       "      <td>99300.0</td>\n",
       "      <td>...</td>\n",
       "      <td>197100</td>\n",
       "      <td>199000</td>\n",
       "      <td>200700</td>\n",
       "      <td>201900</td>\n",
       "      <td>202800</td>\n",
       "      <td>203300</td>\n",
       "      <td>203800</td>\n",
       "      <td>204400</td>\n",
       "      <td>204100</td>\n",
       "      <td>203300</td>\n",
       "    </tr>\n",
       "    <tr>\n",
       "      <th>44</th>\n",
       "      <td>70829</td>\n",
       "      <td>30044</td>\n",
       "      <td>Lawrenceville</td>\n",
       "      <td>GA</td>\n",
       "      <td>Atlanta-Sandy Springs-Roswell</td>\n",
       "      <td>Gwinnett County</td>\n",
       "      <td>45</td>\n",
       "      <td>112000.0</td>\n",
       "      <td>112300.0</td>\n",
       "      <td>112600.0</td>\n",
       "      <td>...</td>\n",
       "      <td>189200</td>\n",
       "      <td>190300</td>\n",
       "      <td>191700</td>\n",
       "      <td>193900</td>\n",
       "      <td>195900</td>\n",
       "      <td>197400</td>\n",
       "      <td>198900</td>\n",
       "      <td>200200</td>\n",
       "      <td>200500</td>\n",
       "      <td>200000</td>\n",
       "    </tr>\n",
       "    <tr>\n",
       "      <th>45</th>\n",
       "      <td>91685</td>\n",
       "      <td>77036</td>\n",
       "      <td>Houston</td>\n",
       "      <td>TX</td>\n",
       "      <td>Houston-The Woodlands-Sugar Land</td>\n",
       "      <td>Harris County</td>\n",
       "      <td>46</td>\n",
       "      <td>120400.0</td>\n",
       "      <td>118700.0</td>\n",
       "      <td>117300.0</td>\n",
       "      <td>...</td>\n",
       "      <td>203400</td>\n",
       "      <td>204600</td>\n",
       "      <td>205600</td>\n",
       "      <td>206700</td>\n",
       "      <td>207400</td>\n",
       "      <td>208400</td>\n",
       "      <td>208900</td>\n",
       "      <td>208600</td>\n",
       "      <td>205800</td>\n",
       "      <td>202100</td>\n",
       "    </tr>\n",
       "    <tr>\n",
       "      <th>46</th>\n",
       "      <td>61803</td>\n",
       "      <td>10463</td>\n",
       "      <td>New York</td>\n",
       "      <td>NY</td>\n",
       "      <td>New York-Newark-Jersey City</td>\n",
       "      <td>New York County</td>\n",
       "      <td>47</td>\n",
       "      <td>185100.0</td>\n",
       "      <td>186100.0</td>\n",
       "      <td>187000.0</td>\n",
       "      <td>...</td>\n",
       "      <td>752900</td>\n",
       "      <td>753000</td>\n",
       "      <td>752600</td>\n",
       "      <td>754900</td>\n",
       "      <td>758100</td>\n",
       "      <td>760000</td>\n",
       "      <td>761200</td>\n",
       "      <td>768300</td>\n",
       "      <td>776300</td>\n",
       "      <td>780100</td>\n",
       "    </tr>\n",
       "    <tr>\n",
       "      <th>47</th>\n",
       "      <td>69823</td>\n",
       "      <td>28277</td>\n",
       "      <td>Charlotte</td>\n",
       "      <td>NC</td>\n",
       "      <td>Charlotte-Concord-Gastonia</td>\n",
       "      <td>Mecklenburg County</td>\n",
       "      <td>48</td>\n",
       "      <td>186400.0</td>\n",
       "      <td>187400.0</td>\n",
       "      <td>188300.0</td>\n",
       "      <td>...</td>\n",
       "      <td>359400</td>\n",
       "      <td>359600</td>\n",
       "      <td>361000</td>\n",
       "      <td>362600</td>\n",
       "      <td>363600</td>\n",
       "      <td>365300</td>\n",
       "      <td>367600</td>\n",
       "      <td>369200</td>\n",
       "      <td>369100</td>\n",
       "      <td>368100</td>\n",
       "    </tr>\n",
       "    <tr>\n",
       "      <th>48</th>\n",
       "      <td>70828</td>\n",
       "      <td>30043</td>\n",
       "      <td>Lawrenceville</td>\n",
       "      <td>GA</td>\n",
       "      <td>Atlanta-Sandy Springs-Roswell</td>\n",
       "      <td>Gwinnett County</td>\n",
       "      <td>49</td>\n",
       "      <td>135900.0</td>\n",
       "      <td>136100.0</td>\n",
       "      <td>136200.0</td>\n",
       "      <td>...</td>\n",
       "      <td>231800</td>\n",
       "      <td>232000</td>\n",
       "      <td>232900</td>\n",
       "      <td>235300</td>\n",
       "      <td>237700</td>\n",
       "      <td>238900</td>\n",
       "      <td>239800</td>\n",
       "      <td>240400</td>\n",
       "      <td>240800</td>\n",
       "      <td>240700</td>\n",
       "    </tr>\n",
       "    <tr>\n",
       "      <th>49</th>\n",
       "      <td>62023</td>\n",
       "      <td>11212</td>\n",
       "      <td>New York</td>\n",
       "      <td>NY</td>\n",
       "      <td>New York-Newark-Jersey City</td>\n",
       "      <td>Kings County</td>\n",
       "      <td>50</td>\n",
       "      <td>124900.0</td>\n",
       "      <td>124900.0</td>\n",
       "      <td>124900.0</td>\n",
       "      <td>...</td>\n",
       "      <td>438400</td>\n",
       "      <td>444000</td>\n",
       "      <td>450200</td>\n",
       "      <td>456200</td>\n",
       "      <td>459100</td>\n",
       "      <td>457600</td>\n",
       "      <td>455100</td>\n",
       "      <td>455700</td>\n",
       "      <td>457600</td>\n",
       "      <td>458200</td>\n",
       "    </tr>\n",
       "  </tbody>\n",
       "</table>\n",
       "<p>50 rows × 284 columns</p>\n",
       "</div>"
      ],
      "text/plain": [
       "    RegionID  RegionName           City State  \\\n",
       "0      84654       60657        Chicago    IL   \n",
       "1      91982       77494           Katy    TX   \n",
       "2      84616       60614        Chicago    IL   \n",
       "3      91940       77449           Katy    TX   \n",
       "4      93144       79936        El Paso    TX   \n",
       "5      91733       77084        Houston    TX   \n",
       "6      61807       10467       New York    NY   \n",
       "7      62037       11226       New York    NY   \n",
       "8      84640       60640        Chicago    IL   \n",
       "9      97564       94109  San Francisco    CA   \n",
       "10     92593       78660   Pflugerville    TX   \n",
       "11     74101       37013      Nashville    TN   \n",
       "12     71831       32162   The Villages    FL   \n",
       "13     62045       11235       New York    NY   \n",
       "14     62087       11375       New York    NY   \n",
       "15     84646       60647        Chicago    IL   \n",
       "16     96107       90250      Hawthorne    CA   \n",
       "17     74242       37211      Nashville    TN   \n",
       "18     62012       11201       New York    NY   \n",
       "19     92036       77573    League City    TX   \n",
       "20     84620       60618        Chicago    IL   \n",
       "21     92271       78130  New Braunfels    TX   \n",
       "22     92045       77584       Pearland    TX   \n",
       "23     61625       10011       New York    NY   \n",
       "24     61703       10128       New York    NY   \n",
       "25     69816       28269      Charlotte    NC   \n",
       "26     66126       20002     Washington    DC   \n",
       "27     92551       78613     Cedar Park    TX   \n",
       "28     92515       78572        Mission    TX   \n",
       "29     71067       30349      Riverdale    GA   \n",
       "30     93123       79912        El Paso    TX   \n",
       "31     97771       94565      Pittsburg    CA   \n",
       "32     96027       90046    Los Angeles    CA   \n",
       "33     91926       77433        Cypress    TX   \n",
       "34     90654       75052  Grand Prairie    TX   \n",
       "35     66133       20009     Washington    DC   \n",
       "36     74126       37042    Clarksville    TN   \n",
       "37     89925       73099          Yukon    OK   \n",
       "38     91922       77429        Cypress    TX   \n",
       "39     61802       10462       New York    NY   \n",
       "40     61796       10456       New York    NY   \n",
       "41     91968       77479     Sugar Land    TX   \n",
       "42     84615       60613        Chicago    IL   \n",
       "43     86026       63376   Saint Peters    MO   \n",
       "44     70829       30044  Lawrenceville    GA   \n",
       "45     91685       77036        Houston    TX   \n",
       "46     61803       10463       New York    NY   \n",
       "47     69823       28277      Charlotte    NC   \n",
       "48     70828       30043  Lawrenceville    GA   \n",
       "49     62023       11212       New York    NY   \n",
       "\n",
       "                                         Metro            CountyName  \\\n",
       "0                     Chicago-Naperville-Elgin           Cook County   \n",
       "1             Houston-The Woodlands-Sugar Land         Harris County   \n",
       "2                     Chicago-Naperville-Elgin           Cook County   \n",
       "3             Houston-The Woodlands-Sugar Land         Harris County   \n",
       "4                                      El Paso        El Paso County   \n",
       "5             Houston-The Woodlands-Sugar Land         Harris County   \n",
       "6                  New York-Newark-Jersey City          Bronx County   \n",
       "7                  New York-Newark-Jersey City          Kings County   \n",
       "8                     Chicago-Naperville-Elgin           Cook County   \n",
       "9                San Francisco-Oakland-Hayward  San Francisco County   \n",
       "10                           Austin-Round Rock         Travis County   \n",
       "11  Nashville-Davidson--Murfreesboro--Franklin       Davidson County   \n",
       "12                                The Villages         Sumter County   \n",
       "13                 New York-Newark-Jersey City          Kings County   \n",
       "14                 New York-Newark-Jersey City         Queens County   \n",
       "15                    Chicago-Naperville-Elgin           Cook County   \n",
       "16              Los Angeles-Long Beach-Anaheim    Los Angeles County   \n",
       "17  Nashville-Davidson--Murfreesboro--Franklin       Davidson County   \n",
       "18                 New York-Newark-Jersey City          Kings County   \n",
       "19            Houston-The Woodlands-Sugar Land      Galveston County   \n",
       "20                    Chicago-Naperville-Elgin           Cook County   \n",
       "21                   San Antonio-New Braunfels          Comal County   \n",
       "22            Houston-The Woodlands-Sugar Land       Brazoria County   \n",
       "23                 New York-Newark-Jersey City       New York County   \n",
       "24                 New York-Newark-Jersey City       New York County   \n",
       "25                  Charlotte-Concord-Gastonia    Mecklenburg County   \n",
       "26             Washington-Arlington-Alexandria  District of Columbia   \n",
       "27                           Austin-Round Rock     Williamson County   \n",
       "28                    McAllen-Edinburg-Mission        Hidalgo County   \n",
       "29               Atlanta-Sandy Springs-Roswell        Clayton County   \n",
       "30                                     El Paso        El Paso County   \n",
       "31               San Francisco-Oakland-Hayward   Contra Costa County   \n",
       "32              Los Angeles-Long Beach-Anaheim    Los Angeles County   \n",
       "33            Houston-The Woodlands-Sugar Land         Harris County   \n",
       "34                 Dallas-Fort Worth-Arlington         Dallas County   \n",
       "35             Washington-Arlington-Alexandria  District of Columbia   \n",
       "36                                 Clarksville     Montgomery County   \n",
       "37                               Oklahoma City       Canadian County   \n",
       "38            Houston-The Woodlands-Sugar Land         Harris County   \n",
       "39                 New York-Newark-Jersey City          Bronx County   \n",
       "40                 New York-Newark-Jersey City          Bronx County   \n",
       "41            Houston-The Woodlands-Sugar Land      Fort Bend County   \n",
       "42                    Chicago-Naperville-Elgin           Cook County   \n",
       "43                                   St. Louis  Saint Charles County   \n",
       "44               Atlanta-Sandy Springs-Roswell       Gwinnett County   \n",
       "45            Houston-The Woodlands-Sugar Land         Harris County   \n",
       "46                 New York-Newark-Jersey City       New York County   \n",
       "47                  Charlotte-Concord-Gastonia    Mecklenburg County   \n",
       "48               Atlanta-Sandy Springs-Roswell       Gwinnett County   \n",
       "49                 New York-Newark-Jersey City          Kings County   \n",
       "\n",
       "    SizeRank    1996-04    1996-05    1996-06  ...   2018-07   2018-08  \\\n",
       "0          1   337200.0   338200.0   339000.0  ...   1041900   1044100   \n",
       "1          2   210400.0   212200.0   212200.0  ...    336800    338100   \n",
       "2          3   502900.0   504900.0   506300.0  ...   1320100   1320200   \n",
       "3          4    95400.0    95600.0    95800.0  ...    177400    178100   \n",
       "4          5    77300.0    77300.0    77300.0  ...    123700    124600   \n",
       "5          6    95000.0    95200.0    95400.0  ...    167500    168800   \n",
       "6          7   151900.0   151800.0   151800.0  ...    429300    433000   \n",
       "7          8   161800.0   162200.0   162500.0  ...   1061600   1093500   \n",
       "8          9   218500.0   218500.0   218500.0  ...    760700    756900   \n",
       "9         10   767700.0   772800.0   778000.0  ...   3960500   3973400   \n",
       "10        11   138900.0   138600.0   138400.0  ...    245500    246500   \n",
       "11        12   110500.0   111200.0   112000.0  ...    216000    218500   \n",
       "12        13   101400.0   101000.0   100600.0  ...    256900    258700   \n",
       "13        14   190200.0   190800.0   191400.0  ...    821200    822500   \n",
       "14        15   251700.0   251200.0   251000.0  ...   1080000   1074000   \n",
       "15        16   123900.0   123800.0   123600.0  ...    475600    474800   \n",
       "16        17   151500.0   151800.0   152000.0  ...    626900    632500   \n",
       "17        18    96200.0    96700.0    97200.0  ...    267400    268700   \n",
       "18        19        NaN        NaN        NaN  ...   4911600   4883400   \n",
       "19        20   141400.0   141000.0   140600.0  ...    265600    267100   \n",
       "20        21   144000.0   144300.0   144300.0  ...    469600    466300   \n",
       "21        22   123900.0   123900.0   123800.0  ...    227500    228000   \n",
       "22        23   138500.0   138700.0   139200.0  ...    262500    263100   \n",
       "23        24        NaN        NaN        NaN  ...  11468600  11343000   \n",
       "24        25  3668600.0  3696500.0  3722200.0  ...   7390900   7382800   \n",
       "25        26   127800.0   128200.0   128500.0  ...    200800    202400   \n",
       "26        27    91700.0    92000.0    92300.0  ...    702700    707300   \n",
       "27        28   169600.0   169000.0   168600.0  ...    297000    297200   \n",
       "28        29    69900.0    69700.0    69600.0  ...    107200    107300   \n",
       "29        30    90500.0    90700.0    91000.0  ...    127000    127100   \n",
       "30        31   119700.0   119700.0   119800.0  ...    190600    190600   \n",
       "31        32   133700.0   134000.0   134200.0  ...    430300    430700   \n",
       "32        33   338300.0   339900.0   341700.0  ...   1939200   1918200   \n",
       "33        34   147300.0   147600.0   148100.0  ...    254900    254900   \n",
       "34        35   100800.0   100900.0   101000.0  ...    207400    208500   \n",
       "35        36   174700.0   175500.0   176400.0  ...   1092800   1089300   \n",
       "36        37    71100.0    72400.0    73600.0  ...    133200    133900   \n",
       "37        38    83100.0    83800.0    84000.0  ...    164400    165300   \n",
       "38        39   149600.0   148800.0   148100.0  ...    245800    245800   \n",
       "39        40   153200.0   153400.0   153600.0  ...    467600    473300   \n",
       "40        41        NaN        NaN        NaN  ...    396900    402000   \n",
       "41        42   189800.0   188500.0   187300.0  ...    369800    369800   \n",
       "42        43   300600.0   302800.0   304700.0  ...   1049600   1046700   \n",
       "43        44    98200.0    98700.0    99300.0  ...    197100    199000   \n",
       "44        45   112000.0   112300.0   112600.0  ...    189200    190300   \n",
       "45        46   120400.0   118700.0   117300.0  ...    203400    204600   \n",
       "46        47   185100.0   186100.0   187000.0  ...    752900    753000   \n",
       "47        48   186400.0   187400.0   188300.0  ...    359400    359600   \n",
       "48        49   135900.0   136100.0   136200.0  ...    231800    232000   \n",
       "49        50   124900.0   124900.0   124900.0  ...    438400    444000   \n",
       "\n",
       "     2018-09   2018-10   2018-11   2018-12   2019-01  2019-02  2019-03  \\\n",
       "0    1047700   1049600   1048500   1048500   1052700  1057800  1067100   \n",
       "1     338500    337200    336200    336100    335300   334000   333400   \n",
       "2    1319100   1318200   1319600   1322700   1328100  1334600  1340900   \n",
       "3     178700    179600    180300    180900    181900   183200   182900   \n",
       "4     125700    126400    126800    127500    128100   128600   128800   \n",
       "5     169700    170900    172400    173800    175500   177400   177500   \n",
       "6     434000    434800    438000    442700    446400   450400   455000   \n",
       "7    1115700   1126900   1119900   1093800   1058200  1032400  1035700   \n",
       "8     755900    748900    745600    749500    753500   756800   776100   \n",
       "9    3986000   4005300   4001400   4010700   4013400  3970000  3942000   \n",
       "10    246900    247500    248700    249800    250300   250800   251900   \n",
       "11    221500    224600    226900    228500    229800   230600   230200   \n",
       "12    260800    263200    264600    265400    266600   267800   268700   \n",
       "13    828900    831100    823100    813600    811300   813400   813600   \n",
       "14   1074200   1079200   1092800   1100400   1098400  1094000  1093500   \n",
       "15    476100    476500    475000    474300    476400   479000   479900   \n",
       "16    638700    645600    651500    655100    658000   658200   656400   \n",
       "17    270700    273000    274700    276100    277700   279100   278500   \n",
       "18   4844300   4741300   4637500   4577200   4493700  4407100  4373700   \n",
       "19    268600    269400    269700    270100    270800   271900   273000   \n",
       "20    465500    465600    465000    464200    463800   464100   464200   \n",
       "21    228800    229000    228900    229200    230100   231600   232900   \n",
       "22    263300    263900    264900    266300    267600   268700   269200   \n",
       "23  11170900  10694100  10273000  10141100  10025500  9946000  9904600   \n",
       "24   7273400   6936500   6586200   6452300   6429600  6543700  6793000   \n",
       "25    204300    206600    208400    210200    212000   213300   213700   \n",
       "26    713300    719200    722700    723900    722500   722100   716200   \n",
       "27    298000    299500    301700    304400    306800   308200   308400   \n",
       "28    107800    108100    108300    108500    108500   109100   109800   \n",
       "29    127900    129000    130300    131600    132700   133500   133800   \n",
       "30    191200    191400    190900    190500    190800   191000   191100   \n",
       "31    432400    432900    430800    428500    427500   427600   428000   \n",
       "32   1903900   1901900   1901200   1899900   1898200  1895000  1888900   \n",
       "33    254900    254800    254900    255500    256700   258100   258000   \n",
       "34    209700    211600    214300    217400    220400   222800   224200   \n",
       "35   1090700   1088700   1079800   1071400   1067200  1068200  1071800   \n",
       "36    134800    136000    137300    138200    139200   139500   139100   \n",
       "37    165900    166000    166100    166300    166600   166900   167200   \n",
       "38    245500    245900    246900    248200    249800   251700   252300   \n",
       "39    477200    481400    485100    487600    488500   489300   493900   \n",
       "40    411400    423100    436700    446100    446800   447600   447400   \n",
       "41    369200    367800    367900    369400    369800   369400   368500   \n",
       "42   1044500   1043700   1044400   1045800   1049000  1057000  1069000   \n",
       "43    200700    201900    202800    203300    203800   204400   204100   \n",
       "44    191700    193900    195900    197400    198900   200200   200500   \n",
       "45    205600    206700    207400    208400    208900   208600   205800   \n",
       "46    752600    754900    758100    760000    761200   768300   776300   \n",
       "47    361000    362600    363600    365300    367600   369200   369100   \n",
       "48    232900    235300    237700    238900    239800   240400   240800   \n",
       "49    450200    456200    459100    457600    455100   455700   457600   \n",
       "\n",
       "    2019-04  \n",
       "0   1076100  \n",
       "1    333200  \n",
       "2   1342900  \n",
       "3    181500  \n",
       "4    128800  \n",
       "5    175900  \n",
       "6    458300  \n",
       "7   1056900  \n",
       "8    799400  \n",
       "9   3951300  \n",
       "10   252600  \n",
       "11   229300  \n",
       "12   269500  \n",
       "13   810700  \n",
       "14  1092400  \n",
       "15   477700  \n",
       "16   654900  \n",
       "17   276600  \n",
       "18  4387000  \n",
       "19   272800  \n",
       "20   463100  \n",
       "21   232700  \n",
       "22   269100  \n",
       "23  9843700  \n",
       "24  6943700  \n",
       "25   213500  \n",
       "26   705200  \n",
       "27   307600  \n",
       "28   109800  \n",
       "29   133900  \n",
       "30   191200  \n",
       "31   428500  \n",
       "32  1880800  \n",
       "33   256800  \n",
       "34   224400  \n",
       "35  1072900  \n",
       "36   138400  \n",
       "37   167400  \n",
       "38   251500  \n",
       "39   499900  \n",
       "40   442900  \n",
       "41   367200  \n",
       "42  1076300  \n",
       "43   203300  \n",
       "44   200000  \n",
       "45   202100  \n",
       "46   780100  \n",
       "47   368100  \n",
       "48   240700  \n",
       "49   458200  \n",
       "\n",
       "[50 rows x 284 columns]"
      ]
     },
     "execution_count": 1130,
     "metadata": {},
     "output_type": "execute_result"
    }
   ],
   "source": [
    "zhvi_data.head(50)"
   ]
  },
  {
   "cell_type": "code",
   "execution_count": 1132,
   "metadata": {},
   "outputs": [],
   "source": [
    "modeled_zipcodes = [37042, 77479, 87114, 6010, 33908, 97229, 29732, 28314, 40475, 19111]"
   ]
  },
  {
   "cell_type": "code",
   "execution_count": 1138,
   "metadata": {},
   "outputs": [],
   "source": [
    "# save data down to a .csv for each zip code for visualization\n",
    "\n",
    "for m in modeled_zipcodes:\n",
    "    data = zhvi_data[zhvi_data['RegionName']==m].transpose()\n",
    "    data[-76:].to_csv(\"/Users/philglazer/Desktop/zhvi_values_\" + str(m) + \".csv\")"
   ]
  },
  {
   "cell_type": "markdown",
   "metadata": {},
   "source": [
    "### Helper Functions"
   ]
  },
  {
   "cell_type": "code",
   "execution_count": 857,
   "metadata": {},
   "outputs": [],
   "source": [
    "# function that gets the row corresponding to a specific zip code from a given table\n",
    "# the columns/rows need to be flipped, but the column names are dropped before the table is transposed\n",
    "# resulting output is a dataframe with columns for date and value for a given zipcode and given data table\n",
    "\n",
    "\n",
    "col_names = ['RegionID','RegionName','StateName','SizeRank','RegionType',\n",
    "            'City','County','State','Metro','CountyName']\n",
    "\n",
    "def prepare_df_for_zip(zip_code, data_set):\n",
    "    data = data_set[data_set['RegionName']==zip_code]\n",
    "    for c in col_names:\n",
    "        if c in data.columns:\n",
    "            data.drop([c],axis=1,inplace=True)\n",
    "    data = data.transpose()\n",
    "    data['Date'] = data.index\n",
    "    return data[data['Date']>='2010-01'] #.add_prefix('hello')\n",
    "    "
   ]
  },
  {
   "cell_type": "code",
   "execution_count": 858,
   "metadata": {},
   "outputs": [
    {
     "name": "stderr",
     "output_type": "stream",
     "text": [
      "/Users/philglazer/anaconda3/lib/python3.7/site-packages/pandas/core/frame.py:3940: SettingWithCopyWarning:\n",
      "\n",
      "\n",
      "A value is trying to be set on a copy of a slice from a DataFrame\n",
      "\n",
      "See the caveats in the documentation: http://pandas.pydata.org/pandas-docs/stable/indexing.html#indexing-view-versus-copy\n",
      "\n"
     ]
    },
    {
     "data": {
      "text/html": [
       "<div>\n",
       "<style scoped>\n",
       "    .dataframe tbody tr th:only-of-type {\n",
       "        vertical-align: middle;\n",
       "    }\n",
       "\n",
       "    .dataframe tbody tr th {\n",
       "        vertical-align: top;\n",
       "    }\n",
       "\n",
       "    .dataframe thead th {\n",
       "        text-align: right;\n",
       "    }\n",
       "</style>\n",
       "<table border=\"1\" class=\"dataframe\">\n",
       "  <thead>\n",
       "    <tr style=\"text-align: right;\">\n",
       "      <th></th>\n",
       "      <th>4</th>\n",
       "      <th>Date</th>\n",
       "    </tr>\n",
       "  </thead>\n",
       "  <tbody>\n",
       "    <tr>\n",
       "      <th>2010-01</th>\n",
       "      <td>117300.0</td>\n",
       "      <td>2010-01</td>\n",
       "    </tr>\n",
       "    <tr>\n",
       "      <th>2010-02</th>\n",
       "      <td>117300.0</td>\n",
       "      <td>2010-02</td>\n",
       "    </tr>\n",
       "    <tr>\n",
       "      <th>2010-03</th>\n",
       "      <td>116900.0</td>\n",
       "      <td>2010-03</td>\n",
       "    </tr>\n",
       "    <tr>\n",
       "      <th>2010-04</th>\n",
       "      <td>116100.0</td>\n",
       "      <td>2010-04</td>\n",
       "    </tr>\n",
       "    <tr>\n",
       "      <th>2010-05</th>\n",
       "      <td>115700.0</td>\n",
       "      <td>2010-05</td>\n",
       "    </tr>\n",
       "  </tbody>\n",
       "</table>\n",
       "</div>"
      ],
      "text/plain": [
       "                4     Date\n",
       "2010-01  117300.0  2010-01\n",
       "2010-02  117300.0  2010-02\n",
       "2010-03  116900.0  2010-03\n",
       "2010-04  116100.0  2010-04\n",
       "2010-05  115700.0  2010-05"
      ]
     },
     "execution_count": 858,
     "metadata": {},
     "output_type": "execute_result"
    }
   ],
   "source": [
    "prepare_df_for_zip(79936, zhvi_data).head()"
   ]
  },
  {
   "cell_type": "code",
   "execution_count": 985,
   "metadata": {},
   "outputs": [],
   "source": [
    "# function that iterates over the data sets available and applies prepare_df_for_zip to each and stores the results of each call\n",
    "# after gathering all data for a given zipcode, the function joins the data on date to return a dataframe\n",
    "\n",
    "def join_data_available(zip_code, data_sets):\n",
    "    master_df = pd.DataFrame()\n",
    "    df_list = []\n",
    "    for k in data_sets_dict.keys():\n",
    "        data = prepare_df_for_zip(zip_code, data_sets_dict[k])#.add_prefix(k)\n",
    "        for i in range(1750):\n",
    "                data.rename(columns={i:k}, inplace=True)\n",
    "        df_list.append(data)        \n",
    "        \n",
    "    df_final = reduce(lambda left,right: pd.merge(left,right,on='Date'), df_list)\n",
    "    return df_final\n",
    "    \n",
    "    #df_merged = reduce(lambda  left,right: pd.merge(left,right,on=['DATE'],how='outer'), data_frames)\n"
   ]
  },
  {
   "cell_type": "code",
   "execution_count": 1150,
   "metadata": {},
   "outputs": [
    {
     "data": {
      "text/html": [
       "<div>\n",
       "<style scoped>\n",
       "    .dataframe tbody tr th:only-of-type {\n",
       "        vertical-align: middle;\n",
       "    }\n",
       "\n",
       "    .dataframe tbody tr th {\n",
       "        vertical-align: top;\n",
       "    }\n",
       "\n",
       "    .dataframe thead th {\n",
       "        text-align: right;\n",
       "    }\n",
       "</style>\n",
       "<table border=\"1\" class=\"dataframe\">\n",
       "  <thead>\n",
       "    <tr style=\"text-align: right;\">\n",
       "      <th></th>\n",
       "      <th>zhvi</th>\n",
       "      <th>median_listing_price</th>\n",
       "      <th>percent_listing_price_reductions</th>\n",
       "      <th>median_percent_price_reductions</th>\n",
       "      <th>monthly_listings_allhomes</th>\n",
       "      <th>median_daily_listings</th>\n",
       "      <th>price_to_rent_ratio</th>\n",
       "    </tr>\n",
       "  </thead>\n",
       "  <tbody>\n",
       "    <tr>\n",
       "      <th>zhvi</th>\n",
       "      <td>1.000000</td>\n",
       "      <td>0.948334</td>\n",
       "      <td>-0.693878</td>\n",
       "      <td>-0.429393</td>\n",
       "      <td>-0.820992</td>\n",
       "      <td>-0.829060</td>\n",
       "      <td>0.939270</td>\n",
       "    </tr>\n",
       "    <tr>\n",
       "      <th>median_listing_price</th>\n",
       "      <td>0.948334</td>\n",
       "      <td>1.000000</td>\n",
       "      <td>-0.690667</td>\n",
       "      <td>-0.440182</td>\n",
       "      <td>-0.804277</td>\n",
       "      <td>-0.805994</td>\n",
       "      <td>0.889667</td>\n",
       "    </tr>\n",
       "    <tr>\n",
       "      <th>percent_listing_price_reductions</th>\n",
       "      <td>-0.693878</td>\n",
       "      <td>-0.690667</td>\n",
       "      <td>1.000000</td>\n",
       "      <td>0.377322</td>\n",
       "      <td>0.861920</td>\n",
       "      <td>0.856186</td>\n",
       "      <td>-0.766501</td>\n",
       "    </tr>\n",
       "    <tr>\n",
       "      <th>median_percent_price_reductions</th>\n",
       "      <td>-0.429393</td>\n",
       "      <td>-0.440182</td>\n",
       "      <td>0.377322</td>\n",
       "      <td>1.000000</td>\n",
       "      <td>0.471708</td>\n",
       "      <td>0.497123</td>\n",
       "      <td>-0.534803</td>\n",
       "    </tr>\n",
       "    <tr>\n",
       "      <th>monthly_listings_allhomes</th>\n",
       "      <td>-0.820992</td>\n",
       "      <td>-0.804277</td>\n",
       "      <td>0.861920</td>\n",
       "      <td>0.471708</td>\n",
       "      <td>1.000000</td>\n",
       "      <td>0.987454</td>\n",
       "      <td>-0.860882</td>\n",
       "    </tr>\n",
       "    <tr>\n",
       "      <th>median_daily_listings</th>\n",
       "      <td>-0.829060</td>\n",
       "      <td>-0.805994</td>\n",
       "      <td>0.856186</td>\n",
       "      <td>0.497123</td>\n",
       "      <td>0.987454</td>\n",
       "      <td>1.000000</td>\n",
       "      <td>-0.876693</td>\n",
       "    </tr>\n",
       "    <tr>\n",
       "      <th>price_to_rent_ratio</th>\n",
       "      <td>0.939270</td>\n",
       "      <td>0.889667</td>\n",
       "      <td>-0.766501</td>\n",
       "      <td>-0.534803</td>\n",
       "      <td>-0.860882</td>\n",
       "      <td>-0.876693</td>\n",
       "      <td>1.000000</td>\n",
       "    </tr>\n",
       "  </tbody>\n",
       "</table>\n",
       "</div>"
      ],
      "text/plain": [
       "                                      zhvi  median_listing_price  \\\n",
       "zhvi                              1.000000              0.948334   \n",
       "median_listing_price              0.948334              1.000000   \n",
       "percent_listing_price_reductions -0.693878             -0.690667   \n",
       "median_percent_price_reductions  -0.429393             -0.440182   \n",
       "monthly_listings_allhomes        -0.820992             -0.804277   \n",
       "median_daily_listings            -0.829060             -0.805994   \n",
       "price_to_rent_ratio               0.939270              0.889667   \n",
       "\n",
       "                                  percent_listing_price_reductions  \\\n",
       "zhvi                                                     -0.693878   \n",
       "median_listing_price                                     -0.690667   \n",
       "percent_listing_price_reductions                          1.000000   \n",
       "median_percent_price_reductions                           0.377322   \n",
       "monthly_listings_allhomes                                 0.861920   \n",
       "median_daily_listings                                     0.856186   \n",
       "price_to_rent_ratio                                      -0.766501   \n",
       "\n",
       "                                  median_percent_price_reductions  \\\n",
       "zhvi                                                    -0.429393   \n",
       "median_listing_price                                    -0.440182   \n",
       "percent_listing_price_reductions                         0.377322   \n",
       "median_percent_price_reductions                          1.000000   \n",
       "monthly_listings_allhomes                                0.471708   \n",
       "median_daily_listings                                    0.497123   \n",
       "price_to_rent_ratio                                     -0.534803   \n",
       "\n",
       "                                  monthly_listings_allhomes  \\\n",
       "zhvi                                              -0.820992   \n",
       "median_listing_price                              -0.804277   \n",
       "percent_listing_price_reductions                   0.861920   \n",
       "median_percent_price_reductions                    0.471708   \n",
       "monthly_listings_allhomes                          1.000000   \n",
       "median_daily_listings                              0.987454   \n",
       "price_to_rent_ratio                               -0.860882   \n",
       "\n",
       "                                  median_daily_listings  price_to_rent_ratio  \n",
       "zhvi                                          -0.829060             0.939270  \n",
       "median_listing_price                          -0.805994             0.889667  \n",
       "percent_listing_price_reductions               0.856186            -0.766501  \n",
       "median_percent_price_reductions                0.497123            -0.534803  \n",
       "monthly_listings_allhomes                      0.987454            -0.860882  \n",
       "median_daily_listings                          1.000000            -0.876693  \n",
       "price_to_rent_ratio                           -0.876693             1.000000  "
      ]
     },
     "execution_count": 1150,
     "metadata": {},
     "output_type": "execute_result"
    }
   ],
   "source": [
    "join_data_available(37042,data_sets_dict)[[\n",
    "     'zhvi',\n",
    "     'buyer_seller_index',\n",
    "     'median_listing_price',\n",
    "     'percent_listing_price_reductions',\n",
    "     'median_percent_price_reductions',\n",
    "     'monthly_listings_allhomes',\n",
    "     'median_daily_listings',\n",
    "     'price_to_rent_ratio']].corr()"
   ]
  },
  {
   "cell_type": "code",
   "execution_count": 1153,
   "metadata": {},
   "outputs": [],
   "source": [
    "modeled_zipcodes = [37042, 77479, 87114, 6010, 33908, 97229, 29732, 28314, 40475, 19111]"
   ]
  },
  {
   "cell_type": "code",
   "execution_count": 1185,
   "metadata": {},
   "outputs": [],
   "source": [
    "def make_joint_df_list_of_zips(list_of_zips, data_sets):\n",
    "    list_of_dfs = []\n",
    "    for l in list_of_zips:\n",
    "        #list_of_dfs.append(join_data_available(l, data_sets))\n",
    "        \n",
    "        data = join_data_available(l, data_sets_dict).set_index('Date')\n",
    "\n",
    "        # converts object type to float to take as a model input\n",
    "        data[\"buyer_seller_index\"] = data[\"buyer_seller_index\"].astype(float)\n",
    "\n",
    "        scaler = StandardScaler()\n",
    "        data[['median_listing_price',\n",
    "         'percent_listing_price_reductions',\n",
    "         'median_percent_price_reductions',\n",
    "         'monthly_listings_allhomes',\n",
    "         'median_daily_listings',\n",
    "         'price_to_rent_ratio']] = scaler.fit_transform(data[['median_listing_price',\n",
    "         'percent_listing_price_reductions',\n",
    "         'median_percent_price_reductions',\n",
    "         'monthly_listings_allhomes',\n",
    "         'median_daily_listings',\n",
    "         'price_to_rent_ratio']])\n",
    "\n",
    "        data['zhvi_+3mo'] = data['zhvi'].shift(-3)\n",
    "        data['zhvi_+6mo'] = data['zhvi'].shift(-6)\n",
    "        data['zhvi_+9mo'] = data['zhvi'].shift(-9)\n",
    "        data['zhvi_+12mo'] = data['zhvi'].shift(-12)\n",
    "\n",
    "        data['pct_change_3mo'] = (data['zhvi_+3mo'] - data['zhvi'])/data['zhvi']\n",
    "        data['pct_change_6mo'] = (data['zhvi_+6mo'] - data['zhvi'])/data['zhvi']\n",
    "        data['pct_change_9mo'] = (data['zhvi_+9mo'] - data['zhvi'])/data['zhvi']\n",
    "        data['pct_change_12mo'] = (data['zhvi_+12mo'] - data['zhvi'])/data['zhvi']\n",
    "\n",
    "        data['positive_3mo_change'] = data['pct_change_3mo'].apply(lambda x: 1 if x>0 else 0)\n",
    "        data['positive_6mo_change'] = data['pct_change_6mo'].apply(lambda x: 1 if x>0 else 0)\n",
    "        data['positive_9mo_change'] = data['pct_change_9mo'].apply(lambda x: 1 if x>0 else 0)\n",
    "        data['positive_12mo_change'] = data['pct_change_12mo'].apply(lambda x: 1 if x>0 else 0)\n",
    "\n",
    "        data['two_percent_plus_12mo'] = data['pct_change_12mo'].apply(lambda x: 1 if x>0.02 else 0)\n",
    "        data['five_percent_plus_12mo'] = data['pct_change_12mo'].apply(lambda x: 1 if x>0.05 else 0)\n",
    "        data['ten_percent_plus_12mo'] = data['pct_change_12mo'].apply(lambda x: 1 if x>0.1 else 0)\n",
    "\n",
    "        # some NaN values after this date\n",
    "        data = data[data.index<'2018-05']\n",
    "\n",
    "        # make this an input variable\n",
    "        # testing removal of features:'zhvi','zhvi_rental',\n",
    "        features = data[[\n",
    "         'buyer_seller_index',\n",
    "         'median_listing_price',\n",
    "         'percent_listing_price_reductions',\n",
    "         'median_percent_price_reductions',\n",
    "         'monthly_listings_allhomes',\n",
    "         'median_daily_listings',\n",
    "         'price_to_rent_ratio',\n",
    "         'five_percent_plus_12mo']]\n",
    "        \n",
    "        list_of_dfs.append(features)\n",
    "        \n",
    "    return pd.concat(list_of_dfs)"
   ]
  },
  {
   "cell_type": "code",
   "execution_count": 1281,
   "metadata": {},
   "outputs": [
    {
     "name": "stderr",
     "output_type": "stream",
     "text": [
      "/Users/philglazer/anaconda3/lib/python3.7/site-packages/pandas/core/frame.py:3940: SettingWithCopyWarning:\n",
      "\n",
      "\n",
      "A value is trying to be set on a copy of a slice from a DataFrame\n",
      "\n",
      "See the caveats in the documentation: http://pandas.pydata.org/pandas-docs/stable/indexing.html#indexing-view-versus-copy\n",
      "\n",
      "/Users/philglazer/anaconda3/lib/python3.7/site-packages/pandas/core/frame.py:3940: SettingWithCopyWarning:\n",
      "\n",
      "\n",
      "A value is trying to be set on a copy of a slice from a DataFrame\n",
      "\n",
      "See the caveats in the documentation: http://pandas.pydata.org/pandas-docs/stable/indexing.html#indexing-view-versus-copy\n",
      "\n",
      "/Users/philglazer/anaconda3/lib/python3.7/site-packages/pandas/core/frame.py:3940: SettingWithCopyWarning:\n",
      "\n",
      "\n",
      "A value is trying to be set on a copy of a slice from a DataFrame\n",
      "\n",
      "See the caveats in the documentation: http://pandas.pydata.org/pandas-docs/stable/indexing.html#indexing-view-versus-copy\n",
      "\n",
      "/Users/philglazer/anaconda3/lib/python3.7/site-packages/pandas/core/frame.py:3940: SettingWithCopyWarning:\n",
      "\n",
      "\n",
      "A value is trying to be set on a copy of a slice from a DataFrame\n",
      "\n",
      "See the caveats in the documentation: http://pandas.pydata.org/pandas-docs/stable/indexing.html#indexing-view-versus-copy\n",
      "\n",
      "/Users/philglazer/anaconda3/lib/python3.7/site-packages/pandas/core/frame.py:3940: SettingWithCopyWarning:\n",
      "\n",
      "\n",
      "A value is trying to be set on a copy of a slice from a DataFrame\n",
      "\n",
      "See the caveats in the documentation: http://pandas.pydata.org/pandas-docs/stable/indexing.html#indexing-view-versus-copy\n",
      "\n",
      "/Users/philglazer/anaconda3/lib/python3.7/site-packages/pandas/core/frame.py:3940: SettingWithCopyWarning:\n",
      "\n",
      "\n",
      "A value is trying to be set on a copy of a slice from a DataFrame\n",
      "\n",
      "See the caveats in the documentation: http://pandas.pydata.org/pandas-docs/stable/indexing.html#indexing-view-versus-copy\n",
      "\n",
      "/Users/philglazer/anaconda3/lib/python3.7/site-packages/pandas/core/frame.py:3940: SettingWithCopyWarning:\n",
      "\n",
      "\n",
      "A value is trying to be set on a copy of a slice from a DataFrame\n",
      "\n",
      "See the caveats in the documentation: http://pandas.pydata.org/pandas-docs/stable/indexing.html#indexing-view-versus-copy\n",
      "\n",
      "/Users/philglazer/anaconda3/lib/python3.7/site-packages/pandas/core/frame.py:3940: SettingWithCopyWarning:\n",
      "\n",
      "\n",
      "A value is trying to be set on a copy of a slice from a DataFrame\n",
      "\n",
      "See the caveats in the documentation: http://pandas.pydata.org/pandas-docs/stable/indexing.html#indexing-view-versus-copy\n",
      "\n",
      "/Users/philglazer/anaconda3/lib/python3.7/site-packages/pandas/core/frame.py:3940: SettingWithCopyWarning:\n",
      "\n",
      "\n",
      "A value is trying to be set on a copy of a slice from a DataFrame\n",
      "\n",
      "See the caveats in the documentation: http://pandas.pydata.org/pandas-docs/stable/indexing.html#indexing-view-versus-copy\n",
      "\n",
      "/Users/philglazer/anaconda3/lib/python3.7/site-packages/pandas/core/frame.py:3940: SettingWithCopyWarning:\n",
      "\n",
      "\n",
      "A value is trying to be set on a copy of a slice from a DataFrame\n",
      "\n",
      "See the caveats in the documentation: http://pandas.pydata.org/pandas-docs/stable/indexing.html#indexing-view-versus-copy\n",
      "\n"
     ]
    }
   ],
   "source": [
    "modeled_zipcodes = [37042, 77479, 87114, 6010, 33908, 97229, 29732, 28314, 40475, 19111]\n",
    "#modeled_zipcodes = [87114]\n",
    "tsne_data = make_joint_df_list_of_zips(modeled_zipcodes, data_sets_dict)"
   ]
  },
  {
   "cell_type": "code",
   "execution_count": 1282,
   "metadata": {},
   "outputs": [
    {
     "data": {
      "text/html": [
       "<div>\n",
       "<style scoped>\n",
       "    .dataframe tbody tr th:only-of-type {\n",
       "        vertical-align: middle;\n",
       "    }\n",
       "\n",
       "    .dataframe tbody tr th {\n",
       "        vertical-align: top;\n",
       "    }\n",
       "\n",
       "    .dataframe thead th {\n",
       "        text-align: right;\n",
       "    }\n",
       "</style>\n",
       "<table border=\"1\" class=\"dataframe\">\n",
       "  <thead>\n",
       "    <tr style=\"text-align: right;\">\n",
       "      <th></th>\n",
       "      <th>buyer_seller_index</th>\n",
       "      <th>median_listing_price</th>\n",
       "      <th>percent_listing_price_reductions</th>\n",
       "      <th>median_percent_price_reductions</th>\n",
       "      <th>monthly_listings_allhomes</th>\n",
       "      <th>median_daily_listings</th>\n",
       "      <th>price_to_rent_ratio</th>\n",
       "      <th>five_percent_plus_12mo</th>\n",
       "    </tr>\n",
       "    <tr>\n",
       "      <th>Date</th>\n",
       "      <th></th>\n",
       "      <th></th>\n",
       "      <th></th>\n",
       "      <th></th>\n",
       "      <th></th>\n",
       "      <th></th>\n",
       "      <th></th>\n",
       "      <th></th>\n",
       "    </tr>\n",
       "  </thead>\n",
       "  <tbody>\n",
       "    <tr>\n",
       "      <th>2013-01</th>\n",
       "      <td>0.49</td>\n",
       "      <td>-0.861583</td>\n",
       "      <td>0.759991</td>\n",
       "      <td>3.032607</td>\n",
       "      <td>0.929769</td>\n",
       "      <td>0.818580</td>\n",
       "      <td>-0.725977</td>\n",
       "      <td>0</td>\n",
       "    </tr>\n",
       "    <tr>\n",
       "      <th>2013-02</th>\n",
       "      <td>0.59</td>\n",
       "      <td>-0.923185</td>\n",
       "      <td>0.891470</td>\n",
       "      <td>0.850402</td>\n",
       "      <td>1.190147</td>\n",
       "      <td>1.273346</td>\n",
       "      <td>-0.803063</td>\n",
       "      <td>0</td>\n",
       "    </tr>\n",
       "    <tr>\n",
       "      <th>2013-03</th>\n",
       "      <td>0.39</td>\n",
       "      <td>-0.861583</td>\n",
       "      <td>1.875247</td>\n",
       "      <td>0.591711</td>\n",
       "      <td>1.105023</td>\n",
       "      <td>1.337549</td>\n",
       "      <td>-0.841606</td>\n",
       "      <td>0</td>\n",
       "    </tr>\n",
       "    <tr>\n",
       "      <th>2013-04</th>\n",
       "      <td>0.20</td>\n",
       "      <td>-0.858253</td>\n",
       "      <td>0.614679</td>\n",
       "      <td>1.030403</td>\n",
       "      <td>1.430495</td>\n",
       "      <td>1.391051</td>\n",
       "      <td>-0.918691</td>\n",
       "      <td>0</td>\n",
       "    </tr>\n",
       "    <tr>\n",
       "      <th>2013-05</th>\n",
       "      <td>0.10</td>\n",
       "      <td>-0.861583</td>\n",
       "      <td>1.098043</td>\n",
       "      <td>0.883779</td>\n",
       "      <td>1.685866</td>\n",
       "      <td>1.498055</td>\n",
       "      <td>-1.034320</td>\n",
       "      <td>0</td>\n",
       "    </tr>\n",
       "  </tbody>\n",
       "</table>\n",
       "</div>"
      ],
      "text/plain": [
       "         buyer_seller_index  median_listing_price  \\\n",
       "Date                                                \n",
       "2013-01                0.49             -0.861583   \n",
       "2013-02                0.59             -0.923185   \n",
       "2013-03                0.39             -0.861583   \n",
       "2013-04                0.20             -0.858253   \n",
       "2013-05                0.10             -0.861583   \n",
       "\n",
       "         percent_listing_price_reductions  median_percent_price_reductions  \\\n",
       "Date                                                                         \n",
       "2013-01                          0.759991                         3.032607   \n",
       "2013-02                          0.891470                         0.850402   \n",
       "2013-03                          1.875247                         0.591711   \n",
       "2013-04                          0.614679                         1.030403   \n",
       "2013-05                          1.098043                         0.883779   \n",
       "\n",
       "         monthly_listings_allhomes  median_daily_listings  \\\n",
       "Date                                                        \n",
       "2013-01                   0.929769               0.818580   \n",
       "2013-02                   1.190147               1.273346   \n",
       "2013-03                   1.105023               1.337549   \n",
       "2013-04                   1.430495               1.391051   \n",
       "2013-05                   1.685866               1.498055   \n",
       "\n",
       "         price_to_rent_ratio  five_percent_plus_12mo  \n",
       "Date                                                  \n",
       "2013-01            -0.725977                       0  \n",
       "2013-02            -0.803063                       0  \n",
       "2013-03            -0.841606                       0  \n",
       "2013-04            -0.918691                       0  \n",
       "2013-05            -1.034320                       0  "
      ]
     },
     "execution_count": 1282,
     "metadata": {},
     "output_type": "execute_result"
    }
   ],
   "source": [
    "tsne_data.head()"
   ]
  },
  {
   "cell_type": "code",
   "execution_count": 1283,
   "metadata": {},
   "outputs": [],
   "source": [
    "tsne = TSNE(n_components=2)\n",
    "target_value = tsne_data['five_percent_plus_12mo']\n",
    "tsne_results = tsne.fit_transform(tsne_data[['buyer_seller_index',\n",
    "         'median_listing_price',\n",
    "         'percent_listing_price_reductions',\n",
    "         'median_percent_price_reductions',\n",
    "         'monthly_listings_allhomes',\n",
    "         'median_daily_listings',\n",
    "         'price_to_rent_ratio']])\n"
   ]
  },
  {
   "cell_type": "code",
   "execution_count": 1284,
   "metadata": {},
   "outputs": [],
   "source": [
    "tsne_Df = pd.DataFrame(data=tsne_results,columns=['principal component 1','principal component 2'])"
   ]
  },
  {
   "cell_type": "code",
   "execution_count": 1285,
   "metadata": {},
   "outputs": [],
   "source": [
    "tsne_Df.reset_index(drop=True, inplace=True)\n",
    "target_value.reset_index(drop=True, inplace=True)\n",
    "\n",
    "tsne_finalDf = pd.concat([tsne_Df, target_value], axis=1)"
   ]
  },
  {
   "cell_type": "code",
   "execution_count": 1288,
   "metadata": {},
   "outputs": [
    {
     "data": {
      "image/png": "[encoded data removed]",
      "text/plain": [
       "<Figure size 576x576 with 1 Axes>"
      ]
     },
     "metadata": {
      "needs_background": "light"
     },
     "output_type": "display_data"
    }
   ],
   "source": [
    "fig = plt.figure(figsize = (8,8))\n",
    "ax = fig.add_subplot(1,1,1) \n",
    "ax.set_xlabel('Component 1', fontsize = 15)\n",
    "ax.set_ylabel('Component 2', fontsize = 15)\n",
    "ax.set_title('t-SNE: All ZIP Codes', fontsize = 20)\n",
    "targets = [1,0]\n",
    "colors = ['r', 'g','b']\n",
    "for target, color in zip(targets,colors):\n",
    "    indicesToKeep = target_value == target\n",
    "    ax.scatter(tsne_finalDf.loc[indicesToKeep, 'principal component 1']\n",
    "               , tsne_finalDf.loc[indicesToKeep, 'principal component 2']\n",
    "               , c = color\n",
    "               , s = 50)\n",
    "ax.legend(targets)\n",
    "ax.grid()\n",
    "\n",
    "plt.show()"
   ]
  },
  {
   "cell_type": "code",
   "execution_count": 1287,
   "metadata": {},
   "outputs": [],
   "source": [
    "def join_data_available_list_of_zips(list_of_zips, data_sets):\n",
    "    master_dict = {}\n",
    "    for l in list_of_zips:\n",
    "        master_dict[l] = join_data_available(l, data_sets)\n",
    "        \n",
    "    return master_dict"
   ]
  },
  {
   "cell_type": "code",
   "execution_count": 1252,
   "metadata": {},
   "outputs": [
    {
     "name": "stderr",
     "output_type": "stream",
     "text": [
      "/Users/philglazer/anaconda3/lib/python3.7/site-packages/pandas/core/frame.py:3940: SettingWithCopyWarning:\n",
      "\n",
      "\n",
      "A value is trying to be set on a copy of a slice from a DataFrame\n",
      "\n",
      "See the caveats in the documentation: http://pandas.pydata.org/pandas-docs/stable/indexing.html#indexing-view-versus-copy\n",
      "\n"
     ]
    }
   ],
   "source": [
    "inter = join_data_available_list_of_zips(modeled_zipcodes, data_sets_dict)"
   ]
  },
  {
   "cell_type": "code",
   "execution_count": 1296,
   "metadata": {},
   "outputs": [
    {
     "name": "stderr",
     "output_type": "stream",
     "text": [
      "/Users/philglazer/anaconda3/lib/python3.7/site-packages/pandas/core/frame.py:3940: SettingWithCopyWarning:\n",
      "\n",
      "\n",
      "A value is trying to be set on a copy of a slice from a DataFrame\n",
      "\n",
      "See the caveats in the documentation: http://pandas.pydata.org/pandas-docs/stable/indexing.html#indexing-view-versus-copy\n",
      "\n"
     ]
    }
   ],
   "source": [
    "good_zips = [77449, 37013, 37042, 77479]\n",
    "\n",
    "good_zips2 = [60629, 78704, 75287, 30024, 78745, 28027,\n",
    "              48197, 66062, 95630, 90044, 90805]\n",
    "\n",
    "good_zips3 = [92683, 37075, 87114, 6010, 78240, 87111, 76063, 33908, 97229, 91709, 92677]\n",
    "\n",
    "# gets the data for zip codes in a list of zip_codes; this is needed to feed into the web app to power the models\n",
    "data_output = join_data_available_list_of_zips(modeled_zipcodes, data_sets_dict)"
   ]
  },
  {
   "cell_type": "code",
   "execution_count": 1297,
   "metadata": {},
   "outputs": [],
   "source": [
    "pickle_out = open(\"modeled_zipcodes_data.pickle\",\"wb\")\n",
    "pickle.dump(data_output, pickle_out)\n",
    "pickle_out.close()"
   ]
  },
  {
   "cell_type": "code",
   "execution_count": 1039,
   "metadata": {},
   "outputs": [
    {
     "data": {
      "text/html": [
       "<div>\n",
       "<style scoped>\n",
       "    .dataframe tbody tr th:only-of-type {\n",
       "        vertical-align: middle;\n",
       "    }\n",
       "\n",
       "    .dataframe tbody tr th {\n",
       "        vertical-align: top;\n",
       "    }\n",
       "\n",
       "    .dataframe thead th {\n",
       "        text-align: right;\n",
       "    }\n",
       "</style>\n",
       "<table border=\"1\" class=\"dataframe\">\n",
       "  <thead>\n",
       "    <tr style=\"text-align: right;\">\n",
       "      <th></th>\n",
       "      <th>zhvi</th>\n",
       "      <th>Date</th>\n",
       "      <th>zhvi_rental</th>\n",
       "      <th>buyer_seller_index</th>\n",
       "      <th>foreclose_resales</th>\n",
       "      <th>median_listing_price</th>\n",
       "      <th>percent_listing_price_reductions</th>\n",
       "      <th>median_percent_price_reductions</th>\n",
       "      <th>monthly_listings_allhomes</th>\n",
       "      <th>median_daily_listings</th>\n",
       "      <th>price_to_rent_ratio</th>\n",
       "    </tr>\n",
       "  </thead>\n",
       "  <tbody>\n",
       "    <tr>\n",
       "      <th>0</th>\n",
       "      <td>113200.0</td>\n",
       "      <td>2013-01</td>\n",
       "      <td>1271.0</td>\n",
       "      <td>5.39</td>\n",
       "      <td>0.1867</td>\n",
       "      <td>99900.0</td>\n",
       "      <td>11.000000</td>\n",
       "      <td>7.240596</td>\n",
       "      <td>241.0</td>\n",
       "      <td>181.0</td>\n",
       "      <td>7.51</td>\n",
       "    </tr>\n",
       "    <tr>\n",
       "      <th>1</th>\n",
       "      <td>113400.0</td>\n",
       "      <td>2013-02</td>\n",
       "      <td>1274.0</td>\n",
       "      <td>2.55</td>\n",
       "      <td>0.2857</td>\n",
       "      <td>102500.0</td>\n",
       "      <td>11.805556</td>\n",
       "      <td>5.313402</td>\n",
       "      <td>221.0</td>\n",
       "      <td>174.0</td>\n",
       "      <td>7.53</td>\n",
       "    </tr>\n",
       "    <tr>\n",
       "      <th>2</th>\n",
       "      <td>113900.0</td>\n",
       "      <td>2013-03</td>\n",
       "      <td>1276.0</td>\n",
       "      <td>0.98</td>\n",
       "      <td>0.1724</td>\n",
       "      <td>99000.0</td>\n",
       "      <td>8.813559</td>\n",
       "      <td>8.060897</td>\n",
       "      <td>224.0</td>\n",
       "      <td>174.0</td>\n",
       "      <td>7.65</td>\n",
       "    </tr>\n",
       "    <tr>\n",
       "      <th>3</th>\n",
       "      <td>114700.0</td>\n",
       "      <td>2013-04</td>\n",
       "      <td>1284.0</td>\n",
       "      <td>0.69</td>\n",
       "      <td>0.3284</td>\n",
       "      <td>99900.0</td>\n",
       "      <td>7.692308</td>\n",
       "      <td>6.253909</td>\n",
       "      <td>242.0</td>\n",
       "      <td>194.0</td>\n",
       "      <td>7.77</td>\n",
       "    </tr>\n",
       "    <tr>\n",
       "      <th>4</th>\n",
       "      <td>116000.0</td>\n",
       "      <td>2013-05</td>\n",
       "      <td>1288.0</td>\n",
       "      <td>1.37</td>\n",
       "      <td>0.1846</td>\n",
       "      <td>101250.0</td>\n",
       "      <td>9.150327</td>\n",
       "      <td>8.386029</td>\n",
       "      <td>252.0</td>\n",
       "      <td>184.0</td>\n",
       "      <td>7.86</td>\n",
       "    </tr>\n",
       "    <tr>\n",
       "      <th>5</th>\n",
       "      <td>118000.0</td>\n",
       "      <td>2013-06</td>\n",
       "      <td>1292.0</td>\n",
       "      <td>2.45</td>\n",
       "      <td>0.3542</td>\n",
       "      <td>115000.0</td>\n",
       "      <td>11.575563</td>\n",
       "      <td>6.643240</td>\n",
       "      <td>247.0</td>\n",
       "      <td>186.0</td>\n",
       "      <td>7.95</td>\n",
       "    </tr>\n",
       "    <tr>\n",
       "      <th>6</th>\n",
       "      <td>119500.0</td>\n",
       "      <td>2013-07</td>\n",
       "      <td>1294.0</td>\n",
       "      <td>3.24</td>\n",
       "      <td>0.2800</td>\n",
       "      <td>115000.0</td>\n",
       "      <td>10.248447</td>\n",
       "      <td>5.221215</td>\n",
       "      <td>260.0</td>\n",
       "      <td>199.0</td>\n",
       "      <td>8.04</td>\n",
       "    </tr>\n",
       "    <tr>\n",
       "      <th>7</th>\n",
       "      <td>119700.0</td>\n",
       "      <td>2013-08</td>\n",
       "      <td>1299.0</td>\n",
       "      <td>3.73</td>\n",
       "      <td>0.2262</td>\n",
       "      <td>116500.0</td>\n",
       "      <td>14.121037</td>\n",
       "      <td>6.499430</td>\n",
       "      <td>268.0</td>\n",
       "      <td>201.0</td>\n",
       "      <td>8.05</td>\n",
       "    </tr>\n",
       "    <tr>\n",
       "      <th>8</th>\n",
       "      <td>119600.0</td>\n",
       "      <td>2013-09</td>\n",
       "      <td>1308.0</td>\n",
       "      <td>4.22</td>\n",
       "      <td>0.2090</td>\n",
       "      <td>117950.0</td>\n",
       "      <td>12.380952</td>\n",
       "      <td>6.071819</td>\n",
       "      <td>246.0</td>\n",
       "      <td>190.0</td>\n",
       "      <td>8.01</td>\n",
       "    </tr>\n",
       "    <tr>\n",
       "      <th>9</th>\n",
       "      <td>119700.0</td>\n",
       "      <td>2013-10</td>\n",
       "      <td>1324.0</td>\n",
       "      <td>5</td>\n",
       "      <td>0.2841</td>\n",
       "      <td>119000.0</td>\n",
       "      <td>15.362319</td>\n",
       "      <td>7.722008</td>\n",
       "      <td>289.0</td>\n",
       "      <td>218.0</td>\n",
       "      <td>7.96</td>\n",
       "    </tr>\n",
       "    <tr>\n",
       "      <th>10</th>\n",
       "      <td>119100.0</td>\n",
       "      <td>2013-11</td>\n",
       "      <td>1340.0</td>\n",
       "      <td>5.69</td>\n",
       "      <td>0.2436</td>\n",
       "      <td>119900.0</td>\n",
       "      <td>14.678899</td>\n",
       "      <td>4.003203</td>\n",
       "      <td>257.0</td>\n",
       "      <td>206.0</td>\n",
       "      <td>7.98</td>\n",
       "    </tr>\n",
       "    <tr>\n",
       "      <th>11</th>\n",
       "      <td>118400.0</td>\n",
       "      <td>2013-12</td>\n",
       "      <td>1349.0</td>\n",
       "      <td>5.98</td>\n",
       "      <td>0.2838</td>\n",
       "      <td>120000.0</td>\n",
       "      <td>12.542373</td>\n",
       "      <td>6.250000</td>\n",
       "      <td>239.0</td>\n",
       "      <td>198.0</td>\n",
       "      <td>7.98</td>\n",
       "    </tr>\n",
       "    <tr>\n",
       "      <th>12</th>\n",
       "      <td>118000.0</td>\n",
       "      <td>2014-01</td>\n",
       "      <td>1361.0</td>\n",
       "      <td>6.76</td>\n",
       "      <td>0.3467</td>\n",
       "      <td>120000.0</td>\n",
       "      <td>14.878893</td>\n",
       "      <td>4.334077</td>\n",
       "      <td>244.0</td>\n",
       "      <td>185.0</td>\n",
       "      <td>7.90</td>\n",
       "    </tr>\n",
       "    <tr>\n",
       "      <th>13</th>\n",
       "      <td>118200.0</td>\n",
       "      <td>2014-02</td>\n",
       "      <td>1358.0</td>\n",
       "      <td>7.16</td>\n",
       "      <td>0.1905</td>\n",
       "      <td>119900.0</td>\n",
       "      <td>13.356164</td>\n",
       "      <td>3.799557</td>\n",
       "      <td>241.0</td>\n",
       "      <td>184.0</td>\n",
       "      <td>8.07</td>\n",
       "    </tr>\n",
       "    <tr>\n",
       "      <th>14</th>\n",
       "      <td>118800.0</td>\n",
       "      <td>2014-03</td>\n",
       "      <td>1350.0</td>\n",
       "      <td>7.35</td>\n",
       "      <td>0.3600</td>\n",
       "      <td>124900.0</td>\n",
       "      <td>13.307985</td>\n",
       "      <td>5.067921</td>\n",
       "      <td>210.0</td>\n",
       "      <td>164.0</td>\n",
       "      <td>8.12</td>\n",
       "    </tr>\n",
       "    <tr>\n",
       "      <th>15</th>\n",
       "      <td>119800.0</td>\n",
       "      <td>2014-04</td>\n",
       "      <td>1327.0</td>\n",
       "      <td>3.92</td>\n",
       "      <td>0.1714</td>\n",
       "      <td>119900.0</td>\n",
       "      <td>10.652921</td>\n",
       "      <td>3.174603</td>\n",
       "      <td>218.0</td>\n",
       "      <td>137.0</td>\n",
       "      <td>8.16</td>\n",
       "    </tr>\n",
       "    <tr>\n",
       "      <th>16</th>\n",
       "      <td>120700.0</td>\n",
       "      <td>2014-05</td>\n",
       "      <td>1326.0</td>\n",
       "      <td>2.65</td>\n",
       "      <td>0.1867</td>\n",
       "      <td>123250.0</td>\n",
       "      <td>15.679443</td>\n",
       "      <td>3.840549</td>\n",
       "      <td>182.0</td>\n",
       "      <td>140.0</td>\n",
       "      <td>8.11</td>\n",
       "    </tr>\n",
       "    <tr>\n",
       "      <th>17</th>\n",
       "      <td>121500.0</td>\n",
       "      <td>2014-06</td>\n",
       "      <td>1327.0</td>\n",
       "      <td>1.08</td>\n",
       "      <td>0.2206</td>\n",
       "      <td>124438.0</td>\n",
       "      <td>9.836066</td>\n",
       "      <td>4.461440</td>\n",
       "      <td>208.0</td>\n",
       "      <td>148.0</td>\n",
       "      <td>8.15</td>\n",
       "    </tr>\n",
       "    <tr>\n",
       "      <th>18</th>\n",
       "      <td>122500.0</td>\n",
       "      <td>2014-07</td>\n",
       "      <td>1337.0</td>\n",
       "      <td>3.33</td>\n",
       "      <td>0.1286</td>\n",
       "      <td>126250.0</td>\n",
       "      <td>13.289037</td>\n",
       "      <td>4.761905</td>\n",
       "      <td>217.0</td>\n",
       "      <td>150.0</td>\n",
       "      <td>8.15</td>\n",
       "    </tr>\n",
       "    <tr>\n",
       "      <th>19</th>\n",
       "      <td>124100.0</td>\n",
       "      <td>2014-08</td>\n",
       "      <td>1344.0</td>\n",
       "      <td>4.61</td>\n",
       "      <td>0.1200</td>\n",
       "      <td>129450.0</td>\n",
       "      <td>18.556701</td>\n",
       "      <td>6.814081</td>\n",
       "      <td>208.0</td>\n",
       "      <td>160.0</td>\n",
       "      <td>8.12</td>\n",
       "    </tr>\n",
       "    <tr>\n",
       "      <th>20</th>\n",
       "      <td>125400.0</td>\n",
       "      <td>2014-09</td>\n",
       "      <td>1369.0</td>\n",
       "      <td>7.65</td>\n",
       "      <td>0.1011</td>\n",
       "      <td>129900.0</td>\n",
       "      <td>14.285714</td>\n",
       "      <td>6.071595</td>\n",
       "      <td>221.0</td>\n",
       "      <td>168.0</td>\n",
       "      <td>8.07</td>\n",
       "    </tr>\n",
       "    <tr>\n",
       "      <th>21</th>\n",
       "      <td>126100.0</td>\n",
       "      <td>2014-10</td>\n",
       "      <td>1385.0</td>\n",
       "      <td>7.25</td>\n",
       "      <td>0.0889</td>\n",
       "      <td>129900.0</td>\n",
       "      <td>16.000000</td>\n",
       "      <td>3.527913</td>\n",
       "      <td>239.0</td>\n",
       "      <td>172.0</td>\n",
       "      <td>8.10</td>\n",
       "    </tr>\n",
       "    <tr>\n",
       "      <th>22</th>\n",
       "      <td>127300.0</td>\n",
       "      <td>2014-11</td>\n",
       "      <td>1390.0</td>\n",
       "      <td>4.41</td>\n",
       "      <td>0.0417</td>\n",
       "      <td>124900.0</td>\n",
       "      <td>15.238095</td>\n",
       "      <td>4.718379</td>\n",
       "      <td>236.0</td>\n",
       "      <td>176.0</td>\n",
       "      <td>8.06</td>\n",
       "    </tr>\n",
       "    <tr>\n",
       "      <th>23</th>\n",
       "      <td>129400.0</td>\n",
       "      <td>2014-12</td>\n",
       "      <td>1381.0</td>\n",
       "      <td>3.82</td>\n",
       "      <td>0.0759</td>\n",
       "      <td>123000.0</td>\n",
       "      <td>12.457912</td>\n",
       "      <td>4.930358</td>\n",
       "      <td>234.0</td>\n",
       "      <td>165.0</td>\n",
       "      <td>8.08</td>\n",
       "    </tr>\n",
       "    <tr>\n",
       "      <th>24</th>\n",
       "      <td>131100.0</td>\n",
       "      <td>2015-01</td>\n",
       "      <td>1375.0</td>\n",
       "      <td>2.16</td>\n",
       "      <td>0.1449</td>\n",
       "      <td>124900.0</td>\n",
       "      <td>18.152866</td>\n",
       "      <td>3.502502</td>\n",
       "      <td>226.0</td>\n",
       "      <td>170.0</td>\n",
       "      <td>8.04</td>\n",
       "    </tr>\n",
       "    <tr>\n",
       "      <th>25</th>\n",
       "      <td>132100.0</td>\n",
       "      <td>2015-02</td>\n",
       "      <td>1373.0</td>\n",
       "      <td>1.96</td>\n",
       "      <td>0.1321</td>\n",
       "      <td>124950.0</td>\n",
       "      <td>16.286645</td>\n",
       "      <td>5.558644</td>\n",
       "      <td>224.0</td>\n",
       "      <td>161.0</td>\n",
       "      <td>8.03</td>\n",
       "    </tr>\n",
       "    <tr>\n",
       "      <th>26</th>\n",
       "      <td>132900.0</td>\n",
       "      <td>2015-03</td>\n",
       "      <td>1369.0</td>\n",
       "      <td>1.18</td>\n",
       "      <td>0.0882</td>\n",
       "      <td>127350.0</td>\n",
       "      <td>14.826498</td>\n",
       "      <td>5.611111</td>\n",
       "      <td>215.0</td>\n",
       "      <td>166.0</td>\n",
       "      <td>8.03</td>\n",
       "    </tr>\n",
       "    <tr>\n",
       "      <th>27</th>\n",
       "      <td>133900.0</td>\n",
       "      <td>2015-04</td>\n",
       "      <td>1365.0</td>\n",
       "      <td>3.43</td>\n",
       "      <td>0.0946</td>\n",
       "      <td>129000.0</td>\n",
       "      <td>11.936340</td>\n",
       "      <td>6.879936</td>\n",
       "      <td>262.0</td>\n",
       "      <td>164.0</td>\n",
       "      <td>8.12</td>\n",
       "    </tr>\n",
       "    <tr>\n",
       "      <th>28</th>\n",
       "      <td>134700.0</td>\n",
       "      <td>2015-05</td>\n",
       "      <td>1357.0</td>\n",
       "      <td>7.06</td>\n",
       "      <td>0.0725</td>\n",
       "      <td>136150.0</td>\n",
       "      <td>12.276215</td>\n",
       "      <td>5.520563</td>\n",
       "      <td>243.0</td>\n",
       "      <td>174.0</td>\n",
       "      <td>8.22</td>\n",
       "    </tr>\n",
       "    <tr>\n",
       "      <th>29</th>\n",
       "      <td>135500.0</td>\n",
       "      <td>2015-06</td>\n",
       "      <td>1350.0</td>\n",
       "      <td>9.02</td>\n",
       "      <td>0.1600</td>\n",
       "      <td>139900.0</td>\n",
       "      <td>12.383178</td>\n",
       "      <td>4.102564</td>\n",
       "      <td>251.0</td>\n",
       "      <td>194.0</td>\n",
       "      <td>8.32</td>\n",
       "    </tr>\n",
       "    <tr>\n",
       "      <th>...</th>\n",
       "      <td>...</td>\n",
       "      <td>...</td>\n",
       "      <td>...</td>\n",
       "      <td>...</td>\n",
       "      <td>...</td>\n",
       "      <td>...</td>\n",
       "      <td>...</td>\n",
       "      <td>...</td>\n",
       "      <td>...</td>\n",
       "      <td>...</td>\n",
       "      <td>...</td>\n",
       "    </tr>\n",
       "    <tr>\n",
       "      <th>46</th>\n",
       "      <td>152100.0</td>\n",
       "      <td>2016-11</td>\n",
       "      <td>1442.0</td>\n",
       "      <td>6.67</td>\n",
       "      <td>0.1139</td>\n",
       "      <td>150000.0</td>\n",
       "      <td>15.718157</td>\n",
       "      <td>3.419886</td>\n",
       "      <td>243.0</td>\n",
       "      <td>176.0</td>\n",
       "      <td>9.05</td>\n",
       "    </tr>\n",
       "    <tr>\n",
       "      <th>47</th>\n",
       "      <td>151900.0</td>\n",
       "      <td>2016-12</td>\n",
       "      <td>1440.0</td>\n",
       "      <td>5.59</td>\n",
       "      <td>0.1375</td>\n",
       "      <td>150000.0</td>\n",
       "      <td>14.197531</td>\n",
       "      <td>3.602402</td>\n",
       "      <td>212.0</td>\n",
       "      <td>172.0</td>\n",
       "      <td>9.11</td>\n",
       "    </tr>\n",
       "    <tr>\n",
       "      <th>48</th>\n",
       "      <td>151300.0</td>\n",
       "      <td>2017-01</td>\n",
       "      <td>1435.0</td>\n",
       "      <td>5.49</td>\n",
       "      <td>0.1216</td>\n",
       "      <td>152800.0</td>\n",
       "      <td>14.420063</td>\n",
       "      <td>3.658307</td>\n",
       "      <td>217.0</td>\n",
       "      <td>159.0</td>\n",
       "      <td>9.18</td>\n",
       "    </tr>\n",
       "    <tr>\n",
       "      <th>49</th>\n",
       "      <td>151600.0</td>\n",
       "      <td>2017-02</td>\n",
       "      <td>1431.0</td>\n",
       "      <td>4.51</td>\n",
       "      <td>0.2414</td>\n",
       "      <td>159900.0</td>\n",
       "      <td>16.065574</td>\n",
       "      <td>2.752294</td>\n",
       "      <td>211.0</td>\n",
       "      <td>158.0</td>\n",
       "      <td>9.20</td>\n",
       "    </tr>\n",
       "    <tr>\n",
       "      <th>50</th>\n",
       "      <td>152800.0</td>\n",
       "      <td>2017-03</td>\n",
       "      <td>1431.0</td>\n",
       "      <td>1.47</td>\n",
       "      <td>0.0959</td>\n",
       "      <td>165000.0</td>\n",
       "      <td>16.332378</td>\n",
       "      <td>2.744361</td>\n",
       "      <td>251.0</td>\n",
       "      <td>167.0</td>\n",
       "      <td>9.26</td>\n",
       "    </tr>\n",
       "    <tr>\n",
       "      <th>51</th>\n",
       "      <td>153800.0</td>\n",
       "      <td>2017-04</td>\n",
       "      <td>1434.0</td>\n",
       "      <td>0.49</td>\n",
       "      <td>0.1500</td>\n",
       "      <td>169900.0</td>\n",
       "      <td>15.773810</td>\n",
       "      <td>3.362757</td>\n",
       "      <td>214.0</td>\n",
       "      <td>158.0</td>\n",
       "      <td>9.10</td>\n",
       "    </tr>\n",
       "    <tr>\n",
       "      <th>52</th>\n",
       "      <td>154600.0</td>\n",
       "      <td>2017-05</td>\n",
       "      <td>1439.0</td>\n",
       "      <td>0.59</td>\n",
       "      <td>0.1477</td>\n",
       "      <td>169500.0</td>\n",
       "      <td>13.774105</td>\n",
       "      <td>3.535448</td>\n",
       "      <td>236.0</td>\n",
       "      <td>155.0</td>\n",
       "      <td>9.08</td>\n",
       "    </tr>\n",
       "    <tr>\n",
       "      <th>53</th>\n",
       "      <td>156000.0</td>\n",
       "      <td>2017-06</td>\n",
       "      <td>1444.0</td>\n",
       "      <td>2.06</td>\n",
       "      <td>0.0556</td>\n",
       "      <td>169900.0</td>\n",
       "      <td>14.945652</td>\n",
       "      <td>2.779322</td>\n",
       "      <td>229.0</td>\n",
       "      <td>169.0</td>\n",
       "      <td>9.04</td>\n",
       "    </tr>\n",
       "    <tr>\n",
       "      <th>54</th>\n",
       "      <td>157600.0</td>\n",
       "      <td>2017-07</td>\n",
       "      <td>1449.0</td>\n",
       "      <td>4.71</td>\n",
       "      <td>0.0364</td>\n",
       "      <td>166000.0</td>\n",
       "      <td>14.450867</td>\n",
       "      <td>3.474903</td>\n",
       "      <td>222.0</td>\n",
       "      <td>159.0</td>\n",
       "      <td>9.02</td>\n",
       "    </tr>\n",
       "    <tr>\n",
       "      <th>55</th>\n",
       "      <td>158800.0</td>\n",
       "      <td>2017-08</td>\n",
       "      <td>1453.0</td>\n",
       "      <td>6.37</td>\n",
       "      <td>0.1429</td>\n",
       "      <td>166400.0</td>\n",
       "      <td>17.002882</td>\n",
       "      <td>3.824051</td>\n",
       "      <td>243.0</td>\n",
       "      <td>160.0</td>\n",
       "      <td>9.03</td>\n",
       "    </tr>\n",
       "    <tr>\n",
       "      <th>56</th>\n",
       "      <td>159900.0</td>\n",
       "      <td>2017-09</td>\n",
       "      <td>1456.0</td>\n",
       "      <td>6.86</td>\n",
       "      <td>0.0875</td>\n",
       "      <td>169450.0</td>\n",
       "      <td>15.680473</td>\n",
       "      <td>3.145130</td>\n",
       "      <td>218.0</td>\n",
       "      <td>158.0</td>\n",
       "      <td>9.09</td>\n",
       "    </tr>\n",
       "    <tr>\n",
       "      <th>57</th>\n",
       "      <td>161000.0</td>\n",
       "      <td>2017-10</td>\n",
       "      <td>1456.0</td>\n",
       "      <td>6.18</td>\n",
       "      <td>0.0761</td>\n",
       "      <td>169900.0</td>\n",
       "      <td>16.871166</td>\n",
       "      <td>2.777793</td>\n",
       "      <td>217.0</td>\n",
       "      <td>158.0</td>\n",
       "      <td>9.31</td>\n",
       "    </tr>\n",
       "    <tr>\n",
       "      <th>58</th>\n",
       "      <td>162200.0</td>\n",
       "      <td>2017-11</td>\n",
       "      <td>1453.0</td>\n",
       "      <td>6.47</td>\n",
       "      <td>0.0972</td>\n",
       "      <td>169949.5</td>\n",
       "      <td>10.793651</td>\n",
       "      <td>2.812847</td>\n",
       "      <td>214.0</td>\n",
       "      <td>151.0</td>\n",
       "      <td>9.41</td>\n",
       "    </tr>\n",
       "    <tr>\n",
       "      <th>59</th>\n",
       "      <td>163200.0</td>\n",
       "      <td>2017-12</td>\n",
       "      <td>1448.0</td>\n",
       "      <td>5.78</td>\n",
       "      <td>0.0694</td>\n",
       "      <td>168702.5</td>\n",
       "      <td>10.211268</td>\n",
       "      <td>3.227889</td>\n",
       "      <td>181.0</td>\n",
       "      <td>136.0</td>\n",
       "      <td>9.46</td>\n",
       "    </tr>\n",
       "    <tr>\n",
       "      <th>60</th>\n",
       "      <td>164200.0</td>\n",
       "      <td>2018-01</td>\n",
       "      <td>1444.0</td>\n",
       "      <td>4.8</td>\n",
       "      <td>0.1186</td>\n",
       "      <td>164999.0</td>\n",
       "      <td>12.552301</td>\n",
       "      <td>3.975786</td>\n",
       "      <td>179.0</td>\n",
       "      <td>122.0</td>\n",
       "      <td>9.42</td>\n",
       "    </tr>\n",
       "    <tr>\n",
       "      <th>61</th>\n",
       "      <td>164600.0</td>\n",
       "      <td>2018-02</td>\n",
       "      <td>1443.0</td>\n",
       "      <td>5.88</td>\n",
       "      <td>0.1765</td>\n",
       "      <td>171400.0</td>\n",
       "      <td>15.384615</td>\n",
       "      <td>2.273761</td>\n",
       "      <td>178.0</td>\n",
       "      <td>132.0</td>\n",
       "      <td>9.41</td>\n",
       "    </tr>\n",
       "    <tr>\n",
       "      <th>62</th>\n",
       "      <td>164600.0</td>\n",
       "      <td>2018-03</td>\n",
       "      <td>1445.0</td>\n",
       "      <td>7.55</td>\n",
       "      <td>0.1746</td>\n",
       "      <td>169900.0</td>\n",
       "      <td>13.928571</td>\n",
       "      <td>2.785515</td>\n",
       "      <td>187.0</td>\n",
       "      <td>126.0</td>\n",
       "      <td>9.41</td>\n",
       "    </tr>\n",
       "    <tr>\n",
       "      <th>63</th>\n",
       "      <td>165300.0</td>\n",
       "      <td>2018-04</td>\n",
       "      <td>1445.0</td>\n",
       "      <td>8.43</td>\n",
       "      <td>0.0781</td>\n",
       "      <td>170700.0</td>\n",
       "      <td>14.981273</td>\n",
       "      <td>3.033088</td>\n",
       "      <td>166.0</td>\n",
       "      <td>110.0</td>\n",
       "      <td>9.45</td>\n",
       "    </tr>\n",
       "    <tr>\n",
       "      <th>64</th>\n",
       "      <td>166400.0</td>\n",
       "      <td>2018-05</td>\n",
       "      <td>1445.0</td>\n",
       "      <td>9.31</td>\n",
       "      <td>0.0533</td>\n",
       "      <td>174975.0</td>\n",
       "      <td>13.919414</td>\n",
       "      <td>3.159558</td>\n",
       "      <td>179.0</td>\n",
       "      <td>114.0</td>\n",
       "      <td>9.74</td>\n",
       "    </tr>\n",
       "    <tr>\n",
       "      <th>65</th>\n",
       "      <td>166900.0</td>\n",
       "      <td>2018-06</td>\n",
       "      <td>1445.0</td>\n",
       "      <td>9.71</td>\n",
       "      <td>0.1264</td>\n",
       "      <td>182000.0</td>\n",
       "      <td>18.855219</td>\n",
       "      <td>2.829380</td>\n",
       "      <td>182.0</td>\n",
       "      <td>129.0</td>\n",
       "      <td>9.82</td>\n",
       "    </tr>\n",
       "    <tr>\n",
       "      <th>66</th>\n",
       "      <td>167200.0</td>\n",
       "      <td>2018-07</td>\n",
       "      <td>1445.0</td>\n",
       "      <td>9.8</td>\n",
       "      <td>0.0746</td>\n",
       "      <td>184900.0</td>\n",
       "      <td>15.064103</td>\n",
       "      <td>3.125000</td>\n",
       "      <td>209.0</td>\n",
       "      <td>141.0</td>\n",
       "      <td>9.83</td>\n",
       "    </tr>\n",
       "    <tr>\n",
       "      <th>67</th>\n",
       "      <td>167800.0</td>\n",
       "      <td>2018-08</td>\n",
       "      <td>1445.0</td>\n",
       "      <td>10</td>\n",
       "      <td>0.0649</td>\n",
       "      <td>189900.0</td>\n",
       "      <td>16.207951</td>\n",
       "      <td>2.918567</td>\n",
       "      <td>221.0</td>\n",
       "      <td>142.0</td>\n",
       "      <td>9.82</td>\n",
       "    </tr>\n",
       "    <tr>\n",
       "      <th>68</th>\n",
       "      <td>168400.0</td>\n",
       "      <td>2018-09</td>\n",
       "      <td>1444.0</td>\n",
       "      <td>9.9</td>\n",
       "      <td>0.0541</td>\n",
       "      <td>189900.0</td>\n",
       "      <td>14.240506</td>\n",
       "      <td>4.000000</td>\n",
       "      <td>199.0</td>\n",
       "      <td>144.0</td>\n",
       "      <td>9.92</td>\n",
       "    </tr>\n",
       "    <tr>\n",
       "      <th>69</th>\n",
       "      <td>169400.0</td>\n",
       "      <td>2018-10</td>\n",
       "      <td>1448.0</td>\n",
       "      <td>9.61</td>\n",
       "      <td>0.0600</td>\n",
       "      <td>189900.0</td>\n",
       "      <td>14.705882</td>\n",
       "      <td>2.500000</td>\n",
       "      <td>203.0</td>\n",
       "      <td>133.0</td>\n",
       "      <td>9.97</td>\n",
       "    </tr>\n",
       "    <tr>\n",
       "      <th>70</th>\n",
       "      <td>170600.0</td>\n",
       "      <td>2018-11</td>\n",
       "      <td>1465.0</td>\n",
       "      <td>9.22</td>\n",
       "      <td>0.0779</td>\n",
       "      <td>189900.0</td>\n",
       "      <td>13.978495</td>\n",
       "      <td>2.382087</td>\n",
       "      <td>165.0</td>\n",
       "      <td>116.0</td>\n",
       "      <td>9.92</td>\n",
       "    </tr>\n",
       "    <tr>\n",
       "      <th>71</th>\n",
       "      <td>171000.0</td>\n",
       "      <td>2018-12</td>\n",
       "      <td>1487.0</td>\n",
       "      <td>8.33</td>\n",
       "      <td>0.1404</td>\n",
       "      <td>185000.0</td>\n",
       "      <td>9.871245</td>\n",
       "      <td>3.111556</td>\n",
       "      <td>149.0</td>\n",
       "      <td>116.0</td>\n",
       "      <td>10.17</td>\n",
       "    </tr>\n",
       "    <tr>\n",
       "      <th>72</th>\n",
       "      <td>171100.0</td>\n",
       "      <td>2019-01</td>\n",
       "      <td>1505.0</td>\n",
       "      <td>7.94</td>\n",
       "      <td>0.1000</td>\n",
       "      <td>185245.0</td>\n",
       "      <td>17.840376</td>\n",
       "      <td>3.140046</td>\n",
       "      <td>157.0</td>\n",
       "      <td>108.0</td>\n",
       "      <td>10.19</td>\n",
       "    </tr>\n",
       "    <tr>\n",
       "      <th>73</th>\n",
       "      <td>172500.0</td>\n",
       "      <td>2019-02</td>\n",
       "      <td>1511.0</td>\n",
       "      <td>8.14</td>\n",
       "      <td>0.1207</td>\n",
       "      <td>184900.0</td>\n",
       "      <td>11.707317</td>\n",
       "      <td>4.052033</td>\n",
       "      <td>133.0</td>\n",
       "      <td>92.0</td>\n",
       "      <td>10.13</td>\n",
       "    </tr>\n",
       "    <tr>\n",
       "      <th>74</th>\n",
       "      <td>173400.0</td>\n",
       "      <td>2019-03</td>\n",
       "      <td>1514.0</td>\n",
       "      <td>7.75</td>\n",
       "      <td>0.0702</td>\n",
       "      <td>186718.5</td>\n",
       "      <td>20.379147</td>\n",
       "      <td>2.434946</td>\n",
       "      <td>131.0</td>\n",
       "      <td>91.0</td>\n",
       "      <td>10.19</td>\n",
       "    </tr>\n",
       "    <tr>\n",
       "      <th>75</th>\n",
       "      <td>172500.0</td>\n",
       "      <td>2019-04</td>\n",
       "      <td>1519.0</td>\n",
       "      <td>8.73</td>\n",
       "      <td>0.1667</td>\n",
       "      <td>194450.0</td>\n",
       "      <td>14.925373</td>\n",
       "      <td>2.530969</td>\n",
       "      <td>124.0</td>\n",
       "      <td>86.0</td>\n",
       "      <td>10.17</td>\n",
       "    </tr>\n",
       "  </tbody>\n",
       "</table>\n",
       "<p>76 rows × 11 columns</p>\n",
       "</div>"
      ],
      "text/plain": [
       "        zhvi     Date  zhvi_rental buyer_seller_index  foreclose_resales  \\\n",
       "0   113200.0  2013-01       1271.0               5.39             0.1867   \n",
       "1   113400.0  2013-02       1274.0               2.55             0.2857   \n",
       "2   113900.0  2013-03       1276.0               0.98             0.1724   \n",
       "3   114700.0  2013-04       1284.0               0.69             0.3284   \n",
       "4   116000.0  2013-05       1288.0               1.37             0.1846   \n",
       "5   118000.0  2013-06       1292.0               2.45             0.3542   \n",
       "6   119500.0  2013-07       1294.0               3.24             0.2800   \n",
       "7   119700.0  2013-08       1299.0               3.73             0.2262   \n",
       "8   119600.0  2013-09       1308.0               4.22             0.2090   \n",
       "9   119700.0  2013-10       1324.0                  5             0.2841   \n",
       "10  119100.0  2013-11       1340.0               5.69             0.2436   \n",
       "11  118400.0  2013-12       1349.0               5.98             0.2838   \n",
       "12  118000.0  2014-01       1361.0               6.76             0.3467   \n",
       "13  118200.0  2014-02       1358.0               7.16             0.1905   \n",
       "14  118800.0  2014-03       1350.0               7.35             0.3600   \n",
       "15  119800.0  2014-04       1327.0               3.92             0.1714   \n",
       "16  120700.0  2014-05       1326.0               2.65             0.1867   \n",
       "17  121500.0  2014-06       1327.0               1.08             0.2206   \n",
       "18  122500.0  2014-07       1337.0               3.33             0.1286   \n",
       "19  124100.0  2014-08       1344.0               4.61             0.1200   \n",
       "20  125400.0  2014-09       1369.0               7.65             0.1011   \n",
       "21  126100.0  2014-10       1385.0               7.25             0.0889   \n",
       "22  127300.0  2014-11       1390.0               4.41             0.0417   \n",
       "23  129400.0  2014-12       1381.0               3.82             0.0759   \n",
       "24  131100.0  2015-01       1375.0               2.16             0.1449   \n",
       "25  132100.0  2015-02       1373.0               1.96             0.1321   \n",
       "26  132900.0  2015-03       1369.0               1.18             0.0882   \n",
       "27  133900.0  2015-04       1365.0               3.43             0.0946   \n",
       "28  134700.0  2015-05       1357.0               7.06             0.0725   \n",
       "29  135500.0  2015-06       1350.0               9.02             0.1600   \n",
       "..       ...      ...          ...                ...                ...   \n",
       "46  152100.0  2016-11       1442.0               6.67             0.1139   \n",
       "47  151900.0  2016-12       1440.0               5.59             0.1375   \n",
       "48  151300.0  2017-01       1435.0               5.49             0.1216   \n",
       "49  151600.0  2017-02       1431.0               4.51             0.2414   \n",
       "50  152800.0  2017-03       1431.0               1.47             0.0959   \n",
       "51  153800.0  2017-04       1434.0               0.49             0.1500   \n",
       "52  154600.0  2017-05       1439.0               0.59             0.1477   \n",
       "53  156000.0  2017-06       1444.0               2.06             0.0556   \n",
       "54  157600.0  2017-07       1449.0               4.71             0.0364   \n",
       "55  158800.0  2017-08       1453.0               6.37             0.1429   \n",
       "56  159900.0  2017-09       1456.0               6.86             0.0875   \n",
       "57  161000.0  2017-10       1456.0               6.18             0.0761   \n",
       "58  162200.0  2017-11       1453.0               6.47             0.0972   \n",
       "59  163200.0  2017-12       1448.0               5.78             0.0694   \n",
       "60  164200.0  2018-01       1444.0                4.8             0.1186   \n",
       "61  164600.0  2018-02       1443.0               5.88             0.1765   \n",
       "62  164600.0  2018-03       1445.0               7.55             0.1746   \n",
       "63  165300.0  2018-04       1445.0               8.43             0.0781   \n",
       "64  166400.0  2018-05       1445.0               9.31             0.0533   \n",
       "65  166900.0  2018-06       1445.0               9.71             0.1264   \n",
       "66  167200.0  2018-07       1445.0                9.8             0.0746   \n",
       "67  167800.0  2018-08       1445.0                 10             0.0649   \n",
       "68  168400.0  2018-09       1444.0                9.9             0.0541   \n",
       "69  169400.0  2018-10       1448.0               9.61             0.0600   \n",
       "70  170600.0  2018-11       1465.0               9.22             0.0779   \n",
       "71  171000.0  2018-12       1487.0               8.33             0.1404   \n",
       "72  171100.0  2019-01       1505.0               7.94             0.1000   \n",
       "73  172500.0  2019-02       1511.0               8.14             0.1207   \n",
       "74  173400.0  2019-03       1514.0               7.75             0.0702   \n",
       "75  172500.0  2019-04       1519.0               8.73             0.1667   \n",
       "\n",
       "    median_listing_price  percent_listing_price_reductions  \\\n",
       "0                99900.0                         11.000000   \n",
       "1               102500.0                         11.805556   \n",
       "2                99000.0                          8.813559   \n",
       "3                99900.0                          7.692308   \n",
       "4               101250.0                          9.150327   \n",
       "5               115000.0                         11.575563   \n",
       "6               115000.0                         10.248447   \n",
       "7               116500.0                         14.121037   \n",
       "8               117950.0                         12.380952   \n",
       "9               119000.0                         15.362319   \n",
       "10              119900.0                         14.678899   \n",
       "11              120000.0                         12.542373   \n",
       "12              120000.0                         14.878893   \n",
       "13              119900.0                         13.356164   \n",
       "14              124900.0                         13.307985   \n",
       "15              119900.0                         10.652921   \n",
       "16              123250.0                         15.679443   \n",
       "17              124438.0                          9.836066   \n",
       "18              126250.0                         13.289037   \n",
       "19              129450.0                         18.556701   \n",
       "20              129900.0                         14.285714   \n",
       "21              129900.0                         16.000000   \n",
       "22              124900.0                         15.238095   \n",
       "23              123000.0                         12.457912   \n",
       "24              124900.0                         18.152866   \n",
       "25              124950.0                         16.286645   \n",
       "26              127350.0                         14.826498   \n",
       "27              129000.0                         11.936340   \n",
       "28              136150.0                         12.276215   \n",
       "29              139900.0                         12.383178   \n",
       "..                   ...                               ...   \n",
       "46              150000.0                         15.718157   \n",
       "47              150000.0                         14.197531   \n",
       "48              152800.0                         14.420063   \n",
       "49              159900.0                         16.065574   \n",
       "50              165000.0                         16.332378   \n",
       "51              169900.0                         15.773810   \n",
       "52              169500.0                         13.774105   \n",
       "53              169900.0                         14.945652   \n",
       "54              166000.0                         14.450867   \n",
       "55              166400.0                         17.002882   \n",
       "56              169450.0                         15.680473   \n",
       "57              169900.0                         16.871166   \n",
       "58              169949.5                         10.793651   \n",
       "59              168702.5                         10.211268   \n",
       "60              164999.0                         12.552301   \n",
       "61              171400.0                         15.384615   \n",
       "62              169900.0                         13.928571   \n",
       "63              170700.0                         14.981273   \n",
       "64              174975.0                         13.919414   \n",
       "65              182000.0                         18.855219   \n",
       "66              184900.0                         15.064103   \n",
       "67              189900.0                         16.207951   \n",
       "68              189900.0                         14.240506   \n",
       "69              189900.0                         14.705882   \n",
       "70              189900.0                         13.978495   \n",
       "71              185000.0                          9.871245   \n",
       "72              185245.0                         17.840376   \n",
       "73              184900.0                         11.707317   \n",
       "74              186718.5                         20.379147   \n",
       "75              194450.0                         14.925373   \n",
       "\n",
       "    median_percent_price_reductions  monthly_listings_allhomes  \\\n",
       "0                          7.240596                      241.0   \n",
       "1                          5.313402                      221.0   \n",
       "2                          8.060897                      224.0   \n",
       "3                          6.253909                      242.0   \n",
       "4                          8.386029                      252.0   \n",
       "5                          6.643240                      247.0   \n",
       "6                          5.221215                      260.0   \n",
       "7                          6.499430                      268.0   \n",
       "8                          6.071819                      246.0   \n",
       "9                          7.722008                      289.0   \n",
       "10                         4.003203                      257.0   \n",
       "11                         6.250000                      239.0   \n",
       "12                         4.334077                      244.0   \n",
       "13                         3.799557                      241.0   \n",
       "14                         5.067921                      210.0   \n",
       "15                         3.174603                      218.0   \n",
       "16                         3.840549                      182.0   \n",
       "17                         4.461440                      208.0   \n",
       "18                         4.761905                      217.0   \n",
       "19                         6.814081                      208.0   \n",
       "20                         6.071595                      221.0   \n",
       "21                         3.527913                      239.0   \n",
       "22                         4.718379                      236.0   \n",
       "23                         4.930358                      234.0   \n",
       "24                         3.502502                      226.0   \n",
       "25                         5.558644                      224.0   \n",
       "26                         5.611111                      215.0   \n",
       "27                         6.879936                      262.0   \n",
       "28                         5.520563                      243.0   \n",
       "29                         4.102564                      251.0   \n",
       "..                              ...                        ...   \n",
       "46                         3.419886                      243.0   \n",
       "47                         3.602402                      212.0   \n",
       "48                         3.658307                      217.0   \n",
       "49                         2.752294                      211.0   \n",
       "50                         2.744361                      251.0   \n",
       "51                         3.362757                      214.0   \n",
       "52                         3.535448                      236.0   \n",
       "53                         2.779322                      229.0   \n",
       "54                         3.474903                      222.0   \n",
       "55                         3.824051                      243.0   \n",
       "56                         3.145130                      218.0   \n",
       "57                         2.777793                      217.0   \n",
       "58                         2.812847                      214.0   \n",
       "59                         3.227889                      181.0   \n",
       "60                         3.975786                      179.0   \n",
       "61                         2.273761                      178.0   \n",
       "62                         2.785515                      187.0   \n",
       "63                         3.033088                      166.0   \n",
       "64                         3.159558                      179.0   \n",
       "65                         2.829380                      182.0   \n",
       "66                         3.125000                      209.0   \n",
       "67                         2.918567                      221.0   \n",
       "68                         4.000000                      199.0   \n",
       "69                         2.500000                      203.0   \n",
       "70                         2.382087                      165.0   \n",
       "71                         3.111556                      149.0   \n",
       "72                         3.140046                      157.0   \n",
       "73                         4.052033                      133.0   \n",
       "74                         2.434946                      131.0   \n",
       "75                         2.530969                      124.0   \n",
       "\n",
       "    median_daily_listings  price_to_rent_ratio  \n",
       "0                   181.0                 7.51  \n",
       "1                   174.0                 7.53  \n",
       "2                   174.0                 7.65  \n",
       "3                   194.0                 7.77  \n",
       "4                   184.0                 7.86  \n",
       "5                   186.0                 7.95  \n",
       "6                   199.0                 8.04  \n",
       "7                   201.0                 8.05  \n",
       "8                   190.0                 8.01  \n",
       "9                   218.0                 7.96  \n",
       "10                  206.0                 7.98  \n",
       "11                  198.0                 7.98  \n",
       "12                  185.0                 7.90  \n",
       "13                  184.0                 8.07  \n",
       "14                  164.0                 8.12  \n",
       "15                  137.0                 8.16  \n",
       "16                  140.0                 8.11  \n",
       "17                  148.0                 8.15  \n",
       "18                  150.0                 8.15  \n",
       "19                  160.0                 8.12  \n",
       "20                  168.0                 8.07  \n",
       "21                  172.0                 8.10  \n",
       "22                  176.0                 8.06  \n",
       "23                  165.0                 8.08  \n",
       "24                  170.0                 8.04  \n",
       "25                  161.0                 8.03  \n",
       "26                  166.0                 8.03  \n",
       "27                  164.0                 8.12  \n",
       "28                  174.0                 8.22  \n",
       "29                  194.0                 8.32  \n",
       "..                    ...                  ...  \n",
       "46                  176.0                 9.05  \n",
       "47                  172.0                 9.11  \n",
       "48                  159.0                 9.18  \n",
       "49                  158.0                 9.20  \n",
       "50                  167.0                 9.26  \n",
       "51                  158.0                 9.10  \n",
       "52                  155.0                 9.08  \n",
       "53                  169.0                 9.04  \n",
       "54                  159.0                 9.02  \n",
       "55                  160.0                 9.03  \n",
       "56                  158.0                 9.09  \n",
       "57                  158.0                 9.31  \n",
       "58                  151.0                 9.41  \n",
       "59                  136.0                 9.46  \n",
       "60                  122.0                 9.42  \n",
       "61                  132.0                 9.41  \n",
       "62                  126.0                 9.41  \n",
       "63                  110.0                 9.45  \n",
       "64                  114.0                 9.74  \n",
       "65                  129.0                 9.82  \n",
       "66                  141.0                 9.83  \n",
       "67                  142.0                 9.82  \n",
       "68                  144.0                 9.92  \n",
       "69                  133.0                 9.97  \n",
       "70                  116.0                 9.92  \n",
       "71                  116.0                10.17  \n",
       "72                  108.0                10.19  \n",
       "73                   92.0                10.13  \n",
       "74                   91.0                10.19  \n",
       "75                   86.0                10.17  \n",
       "\n",
       "[76 rows x 11 columns]"
      ]
     },
     "execution_count": 1039,
     "metadata": {},
     "output_type": "execute_result"
    }
   ],
   "source": [
    "join_data_available(60629, data_sets_dict)"
   ]
  },
  {
   "cell_type": "code",
   "execution_count": 1291,
   "metadata": {},
   "outputs": [],
   "source": [
    "# code that takes in a zip_code and loads all available data, then performs train/test split and model fitting with a \n",
    "# random forest classifier\n",
    "\n",
    "def run_full_model(zip_code, target_col):\n",
    "    data = join_data_available(zip_code, data_sets_dict).set_index('Date')\n",
    "    \n",
    "    # converts object type to float to take as a model input\n",
    "    data[\"buyer_seller_index\"] = data[\"buyer_seller_index\"].astype(float)\n",
    "    \n",
    "    scaler = StandardScaler()\n",
    "    data[['median_listing_price',\n",
    "     'percent_listing_price_reductions',\n",
    "     'median_percent_price_reductions',\n",
    "     'monthly_listings_allhomes',\n",
    "     'median_daily_listings',\n",
    "     'price_to_rent_ratio']] = scaler.fit_transform(data[['median_listing_price',\n",
    "     'percent_listing_price_reductions',\n",
    "     'median_percent_price_reductions',\n",
    "     'monthly_listings_allhomes',\n",
    "     'median_daily_listings',\n",
    "     'price_to_rent_ratio']])\n",
    "    \n",
    "    data['zhvi_+3mo'] = data['zhvi'].shift(-3)\n",
    "    data['zhvi_+6mo'] = data['zhvi'].shift(-6)\n",
    "    data['zhvi_+9mo'] = data['zhvi'].shift(-9)\n",
    "    data['zhvi_+12mo'] = data['zhvi'].shift(-12)\n",
    "\n",
    "    data['pct_change_3mo'] = (data['zhvi_+3mo'] - data['zhvi'])/data['zhvi']\n",
    "    data['pct_change_6mo'] = (data['zhvi_+6mo'] - data['zhvi'])/data['zhvi']\n",
    "    data['pct_change_9mo'] = (data['zhvi_+9mo'] - data['zhvi'])/data['zhvi']\n",
    "    data['pct_change_12mo'] = (data['zhvi_+12mo'] - data['zhvi'])/data['zhvi']\n",
    "\n",
    "    data['positive_3mo_change'] = data['pct_change_3mo'].apply(lambda x: 1 if x>0 else 0)\n",
    "    data['positive_6mo_change'] = data['pct_change_6mo'].apply(lambda x: 1 if x>0 else 0)\n",
    "    data['positive_9mo_change'] = data['pct_change_9mo'].apply(lambda x: 1 if x>0 else 0)\n",
    "    data['positive_12mo_change'] = data['pct_change_12mo'].apply(lambda x: 1 if x>0 else 0)\n",
    "    \n",
    "    data['two_percent_plus_12mo'] = data['pct_change_12mo'].apply(lambda x: 1 if x>0.02 else 0)\n",
    "    data['five_percent_plus_12mo'] = data['pct_change_12mo'].apply(lambda x: 1 if x>0.05 else 0)\n",
    "    data['ten_percent_plus_12mo'] = data['pct_change_12mo'].apply(lambda x: 1 if x>0.1 else 0)\n",
    "    \n",
    "    # some NaN values after this date\n",
    "    data = data[data.index<'2018-05']\n",
    "    \n",
    "    # make this an input variable\n",
    "    # testing removal of features:'zhvi','zhvi_rental',\n",
    "    features = data[[\n",
    "     'buyer_seller_index',\n",
    "     'median_listing_price',\n",
    "     'percent_listing_price_reductions',\n",
    "     'median_percent_price_reductions',\n",
    "     'monthly_listings_allhomes',\n",
    "     'median_daily_listings',\n",
    "     'price_to_rent_ratio']]\n",
    "    \n",
    "    #,'foreclose_resales' -> removed, values only current through 2019-01\n",
    "    \n",
    "    #,'buyer_seller_index' -> removed, data type caused an XGBoost error?\n",
    "    \n",
    "    # make this an input variable\n",
    "    target = data[target_col]\n",
    "    \n",
    "    # adjust to deal with date range\n",
    "    features = features[features.index>='2013-01']\n",
    "    target = target #[12:]\n",
    "    \n",
    "    X_train, X_test, y_train, y_test = train_test_split(features, target, test_size=0.33, random_state=42)\n",
    "    \n",
    "    \n",
    "    # Random Classifier Fitting\n",
    "    clf = RandomForestClassifier(n_estimators=100, max_depth=2, random_state=0)\n",
    "    clf.fit(X_train, y_train)\n",
    "    \n",
    "    print(clf.feature_importances_)\n",
    "    \n",
    "    y_pred = clf.predict(X_test)\n",
    "    #print(clf.predict_proba(X_test))\n",
    "    y_proba = pd.DataFrame(clf.predict_proba(X_test))[1]\n",
    "    #print(y_proba)\n",
    "    fpr, tpr, thresholds = metrics.roc_curve(y_test, y_proba)\n",
    "    \n",
    "    x = fpr\n",
    "    y = tpr\n",
    "\n",
    "    # This is the ROC curve\n",
    "    plt.plot(x,y)\n",
    "    plt.show() \n",
    "\n",
    "    # This is the AUC\n",
    "    auc = np.trapz(y,x)\n",
    "    \n",
    "    print(\"AUC: \",metrics.auc(fpr, tpr))\n",
    "    \n",
    "    print(\"---------\")\n",
    "    print(\"Predicting \" + target_col + \"...\")\n",
    "    print(\"Random Forest F1 Score:\",f1_score(y_test, y_pred, average='weighted'))\n",
    "    random_forest_f1 = f1_score(y_test, y_pred, average='weighted')\n",
    "    print(pd.crosstab(y_test, y_pred, rownames=['Actual Result'], colnames=['Predicted Result']))\n",
    "    \n",
    "    # XGBoost Classifier\n",
    "    model = XGBClassifier(scale_pos_weight=1,learning_rate=0.3,\n",
    "                      colsample_bytree=0.4,subsample=0.8,objective='binary:logistic',\n",
    "                     n_estimators=100,reg_alpha=0.3,max_depth=6,gamma=10)\n",
    "    model.fit(X_train, y_train)\n",
    "    xgboost_predictions = model.predict(X_test)\n",
    "    pd.crosstab(y_test, xgboost_predictions, rownames=['Actual Result'], colnames=['Predicted Result'])\n",
    "    print(\"XGBoost F1 Score:\",f1_score(y_test, xgboost_predictions, average='weighted'))\n",
    "    print(pd.crosstab(y_test, xgboost_predictions, rownames=['Actual Result'], colnames=['Predicted Result']))\n",
    "    xgboost_f1 = f1_score(y_test, xgboost_predictions, average='weighted')\n",
    "    \n",
    "    if random_forest_f1>=xgboost_f1:\n",
    "        return clf\n",
    "    else:\n",
    "        return model\n",
    "    \n",
    "    data['zhvi'].plot()\n",
    "    \n",
    "    #return data [77449, 37013, 37042, 77479]\n",
    "    \n",
    "    #good_zips2 = [60629, 78704, 75287, 30024, 78745, 28027,48197, 66062, 95630, 90044, 90805]\n",
    "    \n",
    "    #good_zips4 = [77845, 45011, 29732, 28314, 87120, 40475, 23320]"
   ]
  },
  {
   "cell_type": "code",
   "execution_count": 1292,
   "metadata": {},
   "outputs": [
    {
     "name": "stderr",
     "output_type": "stream",
     "text": [
      "/Users/philglazer/anaconda3/lib/python3.7/site-packages/pandas/core/frame.py:3940: SettingWithCopyWarning:\n",
      "\n",
      "\n",
      "A value is trying to be set on a copy of a slice from a DataFrame\n",
      "\n",
      "See the caveats in the documentation: http://pandas.pydata.org/pandas-docs/stable/indexing.html#indexing-view-versus-copy\n",
      "\n"
     ]
    },
    {
     "name": "stdout",
     "output_type": "stream",
     "text": [
      "[0.1522281  0.07859916 0.34194477 0.11878304 0.07743816 0.11816525\n",
      " 0.11284153]\n"
     ]
    },
    {
     "data": {
      "image/png": "[encoded data removed]",
      "text/plain": [
       "<Figure size 432x288 with 1 Axes>"
      ]
     },
     "metadata": {
      "needs_background": "light"
     },
     "output_type": "display_data"
    },
    {
     "name": "stdout",
     "output_type": "stream",
     "text": [
      "AUC:  0.8839285714285714\n",
      "---------\n",
      "Predicting positive_6mo_change...\n",
      "Random Forest F1 Score: 0.8181818181818182\n",
      "Predicted Result  0   1\n",
      "Actual Result          \n",
      "0                 6   2\n",
      "1                 2  12\n",
      "XGBoost F1 Score: 0.494949494949495\n",
      "Predicted Result   1\n",
      "Actual Result       \n",
      "0                  8\n",
      "1                 14\n"
     ]
    },
    {
     "name": "stderr",
     "output_type": "stream",
     "text": [
      "/Users/philglazer/anaconda3/lib/python3.7/site-packages/sklearn/metrics/classification.py:1143: UndefinedMetricWarning:\n",
      "\n",
      "F-score is ill-defined and being set to 0.0 in labels with no predicted samples.\n",
      "\n"
     ]
    }
   ],
   "source": [
    "returned_model = run_full_model(37042, 'positive_6mo_change')"
   ]
  },
  {
   "cell_type": "code",
   "execution_count": 1084,
   "metadata": {},
   "outputs": [
    {
     "data": {
      "text/plain": [
       "RandomForestClassifier(bootstrap=True, class_weight=None, criterion='gini',\n",
       "            max_depth=2, max_features='auto', max_leaf_nodes=None,\n",
       "            min_impurity_decrease=0.0, min_impurity_split=None,\n",
       "            min_samples_leaf=1, min_samples_split=2,\n",
       "            min_weight_fraction_leaf=0.0, n_estimators=100, n_jobs=None,\n",
       "            oob_score=False, random_state=0, verbose=0, warm_start=False)"
      ]
     },
     "execution_count": 1084,
     "metadata": {},
     "output_type": "execute_result"
    }
   ],
   "source": [
    "returned_model"
   ]
  },
  {
   "cell_type": "markdown",
   "metadata": {},
   "source": [
    "### Iterate Over Predictions"
   ]
  },
  {
   "cell_type": "code",
   "execution_count": 1126,
   "metadata": {},
   "outputs": [],
   "source": [
    "good_zips = [77449, 37013, 37042, 77479]\n",
    "\n",
    "good_zips2 = [60629, 78704, 75287, 30024, 78745, 28027,\n",
    "              48197, 66062, 95630, 90044, 90805]\n",
    "\n",
    "good_zips3 = [92683, 37075, 87114, 6010, 78240, 87111, 76063, 33908, 97229, 91709, 92677]\n",
    "\n",
    "good_zips4 = [77845, 45011, 29732, 28314, 87120, 40475, 23320]\n",
    "\n",
    "good_zips5 = [21740, 34711, 19111, 74012, 27834, 21117, 92109, 48103, 30062, 75206, 2360]"
   ]
  },
  {
   "cell_type": "code",
   "execution_count": 1106,
   "metadata": {},
   "outputs": [],
   "source": [
    "prediction_list = ['positive_3mo_change', 'positive_6mo_change', 'positive_12mo_change', \n",
    "                   'two_percent_plus_12mo', 'five_percent_plus_12mo'] \n",
    "# 'positive_3mo_change', 'positive_6mo_change', 'positive_12mo_change', ,'ten_percent_plus_12mo' removed for being imbalanced\n",
    "\n",
    "# iterate over a list of types of predictions and show the results for each\n",
    "def iterate_over_predictions(zip_code, prediction_list):\n",
    "    for p in prediction_list:\n",
    "        print(run_full_model(zip_code,p))"
   ]
  },
  {
   "cell_type": "code",
   "execution_count": 1293,
   "metadata": {
    "scrolled": true
   },
   "outputs": [
    {
     "name": "stderr",
     "output_type": "stream",
     "text": [
      "/Users/philglazer/anaconda3/lib/python3.7/site-packages/pandas/core/frame.py:3940: SettingWithCopyWarning:\n",
      "\n",
      "\n",
      "A value is trying to be set on a copy of a slice from a DataFrame\n",
      "\n",
      "See the caveats in the documentation: http://pandas.pydata.org/pandas-docs/stable/indexing.html#indexing-view-versus-copy\n",
      "\n"
     ]
    },
    {
     "name": "stdout",
     "output_type": "stream",
     "text": [
      "[0.06890525 0.13398226 0.28662752 0.12230862 0.0763358  0.1063531\n",
      " 0.20548745]\n"
     ]
    },
    {
     "data": {
      "image/png": "[encoded data removed]",
      "text/plain": [
       "<Figure size 432x288 with 1 Axes>"
      ]
     },
     "metadata": {
      "needs_background": "light"
     },
     "output_type": "display_data"
    },
    {
     "name": "stdout",
     "output_type": "stream",
     "text": [
      "AUC:  0.8285714285714285\n",
      "---------\n",
      "Predicting positive_3mo_change...\n",
      "Random Forest F1 Score: 0.7365967365967365\n",
      "Predicted Result  0   1\n",
      "Actual Result          \n",
      "0                 6   1\n",
      "1                 5  10\n",
      "XGBoost F1 Score: 0.7801544860368389\n",
      "Predicted Result  0   1\n",
      "Actual Result          \n",
      "0                 6   1\n",
      "1                 4  11\n",
      "XGBClassifier(base_score=0.5, booster='gbtree', colsample_bylevel=1,\n",
      "       colsample_bytree=0.4, gamma=10, learning_rate=0.3, max_delta_step=0,\n",
      "       max_depth=6, min_child_weight=1, missing=None, n_estimators=100,\n",
      "       n_jobs=1, nthread=None, objective='binary:logistic', random_state=0,\n",
      "       reg_alpha=0.3, reg_lambda=1, scale_pos_weight=1, seed=None,\n",
      "       silent=True, subsample=0.8)\n"
     ]
    },
    {
     "name": "stderr",
     "output_type": "stream",
     "text": [
      "/Users/philglazer/anaconda3/lib/python3.7/site-packages/pandas/core/frame.py:3940: SettingWithCopyWarning:\n",
      "\n",
      "\n",
      "A value is trying to be set on a copy of a slice from a DataFrame\n",
      "\n",
      "See the caveats in the documentation: http://pandas.pydata.org/pandas-docs/stable/indexing.html#indexing-view-versus-copy\n",
      "\n"
     ]
    },
    {
     "name": "stdout",
     "output_type": "stream",
     "text": [
      "[0.1522281  0.07859916 0.34194477 0.11878304 0.07743816 0.11816525\n",
      " 0.11284153]\n"
     ]
    },
    {
     "data": {
      "image/png": "[encoded data removed]",
      "text/plain": [
       "<Figure size 432x288 with 1 Axes>"
      ]
     },
     "metadata": {
      "needs_background": "light"
     },
     "output_type": "display_data"
    },
    {
     "name": "stdout",
     "output_type": "stream",
     "text": [
      "AUC:  0.8839285714285714\n",
      "---------\n",
      "Predicting positive_6mo_change...\n",
      "Random Forest F1 Score: 0.8181818181818182\n",
      "Predicted Result  0   1\n",
      "Actual Result          \n",
      "0                 6   2\n",
      "1                 2  12\n",
      "XGBoost F1 Score: 0.494949494949495\n",
      "Predicted Result   1\n",
      "Actual Result       \n",
      "0                  8\n",
      "1                 14\n",
      "RandomForestClassifier(bootstrap=True, class_weight=None, criterion='gini',\n",
      "            max_depth=2, max_features='auto', max_leaf_nodes=None,\n",
      "            min_impurity_decrease=0.0, min_impurity_split=None,\n",
      "            min_samples_leaf=1, min_samples_split=2,\n",
      "            min_weight_fraction_leaf=0.0, n_estimators=100, n_jobs=None,\n",
      "            oob_score=False, random_state=0, verbose=0, warm_start=False)\n"
     ]
    },
    {
     "name": "stderr",
     "output_type": "stream",
     "text": [
      "/Users/philglazer/anaconda3/lib/python3.7/site-packages/sklearn/metrics/classification.py:1143: UndefinedMetricWarning:\n",
      "\n",
      "F-score is ill-defined and being set to 0.0 in labels with no predicted samples.\n",
      "\n",
      "/Users/philglazer/anaconda3/lib/python3.7/site-packages/pandas/core/frame.py:3940: SettingWithCopyWarning:\n",
      "\n",
      "\n",
      "A value is trying to be set on a copy of a slice from a DataFrame\n",
      "\n",
      "See the caveats in the documentation: http://pandas.pydata.org/pandas-docs/stable/indexing.html#indexing-view-versus-copy\n",
      "\n"
     ]
    },
    {
     "name": "stdout",
     "output_type": "stream",
     "text": [
      "[0.22916267 0.1889636  0.11361163 0.08211502 0.18651752 0.16380747\n",
      " 0.0358221 ]\n"
     ]
    },
    {
     "data": {
      "image/png": "[encoded data removed]",
      "text/plain": [
       "<Figure size 432x288 with 1 Axes>"
      ]
     },
     "metadata": {
      "needs_background": "light"
     },
     "output_type": "display_data"
    },
    {
     "name": "stdout",
     "output_type": "stream",
     "text": [
      "AUC:  0.85\n",
      "---------\n",
      "Predicting positive_12mo_change...\n",
      "Random Forest F1 Score: 0.8755244755244757\n",
      "Predicted Result  0   1\n",
      "Actual Result          \n",
      "0                 1   1\n",
      "1                 2  18\n",
      "XGBoost F1 Score: 0.8658008658008658\n",
      "Predicted Result   1\n",
      "Actual Result       \n",
      "0                  2\n",
      "1                 20\n",
      "RandomForestClassifier(bootstrap=True, class_weight=None, criterion='gini',\n",
      "            max_depth=2, max_features='auto', max_leaf_nodes=None,\n",
      "            min_impurity_decrease=0.0, min_impurity_split=None,\n",
      "            min_samples_leaf=1, min_samples_split=2,\n",
      "            min_weight_fraction_leaf=0.0, n_estimators=100, n_jobs=None,\n",
      "            oob_score=False, random_state=0, verbose=0, warm_start=False)\n"
     ]
    },
    {
     "name": "stderr",
     "output_type": "stream",
     "text": [
      "/Users/philglazer/anaconda3/lib/python3.7/site-packages/sklearn/metrics/classification.py:1143: UndefinedMetricWarning:\n",
      "\n",
      "F-score is ill-defined and being set to 0.0 in labels with no predicted samples.\n",
      "\n",
      "/Users/philglazer/anaconda3/lib/python3.7/site-packages/pandas/core/frame.py:3940: SettingWithCopyWarning:\n",
      "\n",
      "\n",
      "A value is trying to be set on a copy of a slice from a DataFrame\n",
      "\n",
      "See the caveats in the documentation: http://pandas.pydata.org/pandas-docs/stable/indexing.html#indexing-view-versus-copy\n",
      "\n"
     ]
    },
    {
     "name": "stdout",
     "output_type": "stream",
     "text": [
      "[0.0885857  0.30319216 0.17086362 0.0090725  0.156837   0.14048673\n",
      " 0.13096229]\n"
     ]
    },
    {
     "data": {
      "image/png": "[encoded data removed]",
      "text/plain": [
       "<Figure size 432x288 with 1 Axes>"
      ]
     },
     "metadata": {
      "needs_background": "light"
     },
     "output_type": "display_data"
    },
    {
     "name": "stdout",
     "output_type": "stream",
     "text": [
      "AUC:  1.0\n",
      "---------\n",
      "Predicting two_percent_plus_12mo...\n",
      "Random Forest F1 Score: 1.0\n",
      "Predicted Result   0   1\n",
      "Actual Result           \n",
      "0                 11   0\n",
      "1                  0  11\n",
      "XGBoost F1 Score: 1.0\n",
      "Predicted Result   0   1\n",
      "Actual Result           \n",
      "0                 11   0\n",
      "1                  0  11\n",
      "RandomForestClassifier(bootstrap=True, class_weight=None, criterion='gini',\n",
      "            max_depth=2, max_features='auto', max_leaf_nodes=None,\n",
      "            min_impurity_decrease=0.0, min_impurity_split=None,\n",
      "            min_samples_leaf=1, min_samples_split=2,\n",
      "            min_weight_fraction_leaf=0.0, n_estimators=100, n_jobs=None,\n",
      "            oob_score=False, random_state=0, verbose=0, warm_start=False)\n"
     ]
    },
    {
     "name": "stderr",
     "output_type": "stream",
     "text": [
      "/Users/philglazer/anaconda3/lib/python3.7/site-packages/pandas/core/frame.py:3940: SettingWithCopyWarning:\n",
      "\n",
      "\n",
      "A value is trying to be set on a copy of a slice from a DataFrame\n",
      "\n",
      "See the caveats in the documentation: http://pandas.pydata.org/pandas-docs/stable/indexing.html#indexing-view-versus-copy\n",
      "\n"
     ]
    },
    {
     "name": "stdout",
     "output_type": "stream",
     "text": [
      "[0.19648142 0.29209166 0.12433287 0.0436542  0.13032636 0.12208397\n",
      " 0.09102953]\n"
     ]
    },
    {
     "data": {
      "image/png": "[encoded data removed]",
      "text/plain": [
       "<Figure size 432x288 with 1 Axes>"
      ]
     },
     "metadata": {
      "needs_background": "light"
     },
     "output_type": "display_data"
    },
    {
     "name": "stdout",
     "output_type": "stream",
     "text": [
      "AUC:  0.9305555555555556\n",
      "---------\n",
      "Predicting five_percent_plus_12mo...\n",
      "Random Forest F1 Score: 0.951912951912952\n",
      "Predicted Result   0  1\n",
      "Actual Result          \n",
      "0                 18  0\n",
      "1                  1  3\n",
      "XGBoost F1 Score: 0.951912951912952\n",
      "Predicted Result   0  1\n",
      "Actual Result          \n",
      "0                 18  0\n",
      "1                  1  3\n",
      "RandomForestClassifier(bootstrap=True, class_weight=None, criterion='gini',\n",
      "            max_depth=2, max_features='auto', max_leaf_nodes=None,\n",
      "            min_impurity_decrease=0.0, min_impurity_split=None,\n",
      "            min_samples_leaf=1, min_samples_split=2,\n",
      "            min_weight_fraction_leaf=0.0, n_estimators=100, n_jobs=None,\n",
      "            oob_score=False, random_state=0, verbose=0, warm_start=False)\n"
     ]
    },
    {
     "name": "stderr",
     "output_type": "stream",
     "text": [
      "/Users/philglazer/anaconda3/lib/python3.7/site-packages/pandas/core/frame.py:3940: SettingWithCopyWarning:\n",
      "\n",
      "\n",
      "A value is trying to be set on a copy of a slice from a DataFrame\n",
      "\n",
      "See the caveats in the documentation: http://pandas.pydata.org/pandas-docs/stable/indexing.html#indexing-view-versus-copy\n",
      "\n"
     ]
    },
    {
     "name": "stdout",
     "output_type": "stream",
     "text": [
      "[0.19473617 0.10639839 0.06196964 0.09988552 0.14479189 0.09828771\n",
      " 0.2939307 ]\n"
     ]
    },
    {
     "data": {
      "image/png": "[encoded data removed]",
      "text/plain": [
       "<Figure size 432x288 with 1 Axes>"
      ]
     },
     "metadata": {
      "needs_background": "light"
     },
     "output_type": "display_data"
    },
    {
     "name": "stdout",
     "output_type": "stream",
     "text": [
      "AUC:  0.9166666666666667\n",
      "---------\n",
      "Predicting positive_3mo_change...\n",
      "Random Forest F1 Score: 0.7363636363636363\n",
      "Predicted Result   1\n",
      "Actual Result       \n",
      "0                  4\n",
      "1                 18\n",
      "XGBoost F1 Score: 0.7363636363636363\n",
      "Predicted Result   1\n",
      "Actual Result       \n",
      "0                  4\n",
      "1                 18\n",
      "RandomForestClassifier(bootstrap=True, class_weight=None, criterion='gini',\n",
      "            max_depth=2, max_features='auto', max_leaf_nodes=None,\n",
      "            min_impurity_decrease=0.0, min_impurity_split=None,\n",
      "            min_samples_leaf=1, min_samples_split=2,\n",
      "            min_weight_fraction_leaf=0.0, n_estimators=100, n_jobs=None,\n",
      "            oob_score=False, random_state=0, verbose=0, warm_start=False)\n"
     ]
    },
    {
     "name": "stderr",
     "output_type": "stream",
     "text": [
      "/Users/philglazer/anaconda3/lib/python3.7/site-packages/sklearn/metrics/classification.py:1143: UndefinedMetricWarning:\n",
      "\n",
      "F-score is ill-defined and being set to 0.0 in labels with no predicted samples.\n",
      "\n",
      "/Users/philglazer/anaconda3/lib/python3.7/site-packages/pandas/core/frame.py:3940: SettingWithCopyWarning:\n",
      "\n",
      "\n",
      "A value is trying to be set on a copy of a slice from a DataFrame\n",
      "\n",
      "See the caveats in the documentation: http://pandas.pydata.org/pandas-docs/stable/indexing.html#indexing-view-versus-copy\n",
      "\n"
     ]
    },
    {
     "name": "stdout",
     "output_type": "stream",
     "text": [
      "[0.23910521 0.15360077 0.09531932 0.06505488 0.11499501 0.11876717\n",
      " 0.21315764]\n"
     ]
    },
    {
     "data": {
      "image/png": "[encoded data removed]",
      "text/plain": [
       "<Figure size 432x288 with 1 Axes>"
      ]
     },
     "metadata": {
      "needs_background": "light"
     },
     "output_type": "display_data"
    },
    {
     "name": "stdout",
     "output_type": "stream",
     "text": [
      "AUC:  0.8771929824561403\n",
      "---------\n",
      "Predicting positive_6mo_change...\n",
      "Random Forest F1 Score: 0.8004434589800443\n",
      "Predicted Result   1\n",
      "Actual Result       \n",
      "0                  3\n",
      "1                 19\n",
      "XGBoost F1 Score: 0.8004434589800443\n",
      "Predicted Result   1\n",
      "Actual Result       \n",
      "0                  3\n",
      "1                 19\n",
      "RandomForestClassifier(bootstrap=True, class_weight=None, criterion='gini',\n",
      "            max_depth=2, max_features='auto', max_leaf_nodes=None,\n",
      "            min_impurity_decrease=0.0, min_impurity_split=None,\n",
      "            min_samples_leaf=1, min_samples_split=2,\n",
      "            min_weight_fraction_leaf=0.0, n_estimators=100, n_jobs=None,\n",
      "            oob_score=False, random_state=0, verbose=0, warm_start=False)\n"
     ]
    },
    {
     "name": "stderr",
     "output_type": "stream",
     "text": [
      "/Users/philglazer/anaconda3/lib/python3.7/site-packages/sklearn/metrics/classification.py:1143: UndefinedMetricWarning:\n",
      "\n",
      "F-score is ill-defined and being set to 0.0 in labels with no predicted samples.\n",
      "\n",
      "/Users/philglazer/anaconda3/lib/python3.7/site-packages/pandas/core/frame.py:3940: SettingWithCopyWarning:\n",
      "\n",
      "\n",
      "A value is trying to be set on a copy of a slice from a DataFrame\n",
      "\n",
      "See the caveats in the documentation: http://pandas.pydata.org/pandas-docs/stable/indexing.html#indexing-view-versus-copy\n",
      "\n"
     ]
    },
    {
     "name": "stdout",
     "output_type": "stream",
     "text": [
      "[0.2342915  0.20846975 0.10325439 0.05665702 0.12138483 0.1460784\n",
      " 0.12986411]\n"
     ]
    },
    {
     "data": {
      "image/png": "[encoded data removed]",
      "text/plain": [
       "<Figure size 432x288 with 1 Axes>"
      ]
     },
     "metadata": {
      "needs_background": "light"
     },
     "output_type": "display_data"
    },
    {
     "name": "stdout",
     "output_type": "stream",
     "text": [
      "AUC:  1.0\n",
      "---------\n",
      "Predicting positive_12mo_change...\n",
      "Random Forest F1 Score: 1.0\n",
      "Predicted Result  0   1\n",
      "Actual Result          \n",
      "0                 1   0\n",
      "1                 0  21\n",
      "XGBoost F1 Score: 0.9323467230443975\n",
      "Predicted Result   1\n",
      "Actual Result       \n",
      "0                  1\n",
      "1                 21\n",
      "RandomForestClassifier(bootstrap=True, class_weight=None, criterion='gini',\n",
      "            max_depth=2, max_features='auto', max_leaf_nodes=None,\n",
      "            min_impurity_decrease=0.0, min_impurity_split=None,\n",
      "            min_samples_leaf=1, min_samples_split=2,\n",
      "            min_weight_fraction_leaf=0.0, n_estimators=100, n_jobs=None,\n",
      "            oob_score=False, random_state=0, verbose=0, warm_start=False)\n"
     ]
    },
    {
     "name": "stderr",
     "output_type": "stream",
     "text": [
      "/Users/philglazer/anaconda3/lib/python3.7/site-packages/sklearn/metrics/classification.py:1143: UndefinedMetricWarning:\n",
      "\n",
      "F-score is ill-defined and being set to 0.0 in labels with no predicted samples.\n",
      "\n",
      "/Users/philglazer/anaconda3/lib/python3.7/site-packages/pandas/core/frame.py:3940: SettingWithCopyWarning:\n",
      "\n",
      "\n",
      "A value is trying to be set on a copy of a slice from a DataFrame\n",
      "\n",
      "See the caveats in the documentation: http://pandas.pydata.org/pandas-docs/stable/indexing.html#indexing-view-versus-copy\n",
      "\n"
     ]
    },
    {
     "name": "stdout",
     "output_type": "stream",
     "text": [
      "[0.2956263  0.02187858 0.06824495 0.02878169 0.1405002  0.16199735\n",
      " 0.28297093]\n"
     ]
    },
    {
     "data": {
      "image/png": "[encoded data removed]",
      "text/plain": [
       "<Figure size 432x288 with 1 Axes>"
      ]
     },
     "metadata": {
      "needs_background": "light"
     },
     "output_type": "display_data"
    },
    {
     "name": "stdout",
     "output_type": "stream",
     "text": [
      "AUC:  1.0\n",
      "---------\n",
      "Predicting two_percent_plus_12mo...\n",
      "Random Forest F1 Score: 1.0\n",
      "Predicted Result  0   1\n",
      "Actual Result          \n",
      "0                 8   0\n",
      "1                 0  14\n",
      "XGBoost F1 Score: 0.9550406020994257\n",
      "Predicted Result  0   1\n",
      "Actual Result          \n",
      "0                 8   0\n",
      "1                 1  13\n",
      "RandomForestClassifier(bootstrap=True, class_weight=None, criterion='gini',\n",
      "            max_depth=2, max_features='auto', max_leaf_nodes=None,\n",
      "            min_impurity_decrease=0.0, min_impurity_split=None,\n",
      "            min_samples_leaf=1, min_samples_split=2,\n",
      "            min_weight_fraction_leaf=0.0, n_estimators=100, n_jobs=None,\n",
      "            oob_score=False, random_state=0, verbose=0, warm_start=False)\n"
     ]
    },
    {
     "name": "stderr",
     "output_type": "stream",
     "text": [
      "/Users/philglazer/anaconda3/lib/python3.7/site-packages/pandas/core/frame.py:3940: SettingWithCopyWarning:\n",
      "\n",
      "\n",
      "A value is trying to be set on a copy of a slice from a DataFrame\n",
      "\n",
      "See the caveats in the documentation: http://pandas.pydata.org/pandas-docs/stable/indexing.html#indexing-view-versus-copy\n",
      "\n"
     ]
    },
    {
     "name": "stdout",
     "output_type": "stream",
     "text": [
      "[0.30830437 0.03071023 0.07268913 0.02972655 0.1111658  0.13147888\n",
      " 0.31592505]\n"
     ]
    },
    {
     "data": {
      "image/png": "[encoded data removed]",
      "text/plain": [
       "<Figure size 432x288 with 1 Axes>"
      ]
     },
     "metadata": {
      "needs_background": "light"
     },
     "output_type": "display_data"
    },
    {
     "name": "stdout",
     "output_type": "stream",
     "text": [
      "AUC:  1.0\n",
      "---------\n",
      "Predicting five_percent_plus_12mo...\n",
      "Random Forest F1 Score: 1.0\n",
      "Predicted Result  0   1\n",
      "Actual Result          \n",
      "0                 9   0\n",
      "1                 0  13\n",
      "XGBoost F1 Score: 1.0\n",
      "Predicted Result  0   1\n",
      "Actual Result          \n",
      "0                 9   0\n",
      "1                 0  13\n",
      "RandomForestClassifier(bootstrap=True, class_weight=None, criterion='gini',\n",
      "            max_depth=2, max_features='auto', max_leaf_nodes=None,\n",
      "            min_impurity_decrease=0.0, min_impurity_split=None,\n",
      "            min_samples_leaf=1, min_samples_split=2,\n",
      "            min_weight_fraction_leaf=0.0, n_estimators=100, n_jobs=None,\n",
      "            oob_score=False, random_state=0, verbose=0, warm_start=False)\n"
     ]
    },
    {
     "name": "stderr",
     "output_type": "stream",
     "text": [
      "/Users/philglazer/anaconda3/lib/python3.7/site-packages/pandas/core/frame.py:3940: SettingWithCopyWarning:\n",
      "\n",
      "\n",
      "A value is trying to be set on a copy of a slice from a DataFrame\n",
      "\n",
      "See the caveats in the documentation: http://pandas.pydata.org/pandas-docs/stable/indexing.html#indexing-view-versus-copy\n",
      "\n"
     ]
    },
    {
     "name": "stdout",
     "output_type": "stream",
     "text": [
      "[0.27420668 0.16651658 0.09711494 0.13830056 0.08131912 0.0660123\n",
      " 0.17652981]\n"
     ]
    },
    {
     "data": {
      "image/png": "[encoded data removed]",
      "text/plain": [
       "<Figure size 432x288 with 1 Axes>"
      ]
     },
     "metadata": {
      "needs_background": "light"
     },
     "output_type": "display_data"
    },
    {
     "name": "stdout",
     "output_type": "stream",
     "text": [
      "AUC:  0.84375\n",
      "---------\n",
      "Predicting positive_3mo_change...\n",
      "Random Forest F1 Score: 0.7828282828282828\n",
      "Predicted Result  0   1\n",
      "Actual Result          \n",
      "0                 2   4\n",
      "1                 0  16\n",
      "XGBoost F1 Score: 0.6124401913875599\n",
      "Predicted Result   1\n",
      "Actual Result       \n",
      "0                  6\n",
      "1                 16\n",
      "RandomForestClassifier(bootstrap=True, class_weight=None, criterion='gini',\n",
      "            max_depth=2, max_features='auto', max_leaf_nodes=None,\n",
      "            min_impurity_decrease=0.0, min_impurity_split=None,\n",
      "            min_samples_leaf=1, min_samples_split=2,\n",
      "            min_weight_fraction_leaf=0.0, n_estimators=100, n_jobs=None,\n",
      "            oob_score=False, random_state=0, verbose=0, warm_start=False)\n"
     ]
    },
    {
     "name": "stderr",
     "output_type": "stream",
     "text": [
      "/Users/philglazer/anaconda3/lib/python3.7/site-packages/sklearn/metrics/classification.py:1143: UndefinedMetricWarning:\n",
      "\n",
      "F-score is ill-defined and being set to 0.0 in labels with no predicted samples.\n",
      "\n",
      "/Users/philglazer/anaconda3/lib/python3.7/site-packages/pandas/core/frame.py:3940: SettingWithCopyWarning:\n",
      "\n",
      "\n",
      "A value is trying to be set on a copy of a slice from a DataFrame\n",
      "\n",
      "See the caveats in the documentation: http://pandas.pydata.org/pandas-docs/stable/indexing.html#indexing-view-versus-copy\n",
      "\n"
     ]
    },
    {
     "name": "stdout",
     "output_type": "stream",
     "text": [
      "[0.146161   0.15914269 0.09976292 0.15642362 0.08891211 0.05641688\n",
      " 0.27318077]\n"
     ]
    },
    {
     "data": {
      "image/png": "[encoded data removed]",
      "text/plain": [
       "<Figure size 432x288 with 1 Axes>"
      ]
     },
     "metadata": {
      "needs_background": "light"
     },
     "output_type": "display_data"
    },
    {
     "name": "stdout",
     "output_type": "stream",
     "text": [
      "AUC:  0.6979166666666667\n",
      "---------\n",
      "Predicting positive_6mo_change...\n",
      "Random Forest F1 Score: 0.6124401913875599\n",
      "Predicted Result   1\n",
      "Actual Result       \n",
      "0                  6\n",
      "1                 16\n",
      "XGBoost F1 Score: 0.6124401913875599\n",
      "Predicted Result   1\n",
      "Actual Result       \n",
      "0                  6\n",
      "1                 16\n",
      "RandomForestClassifier(bootstrap=True, class_weight=None, criterion='gini',\n",
      "            max_depth=2, max_features='auto', max_leaf_nodes=None,\n",
      "            min_impurity_decrease=0.0, min_impurity_split=None,\n",
      "            min_samples_leaf=1, min_samples_split=2,\n",
      "            min_weight_fraction_leaf=0.0, n_estimators=100, n_jobs=None,\n",
      "            oob_score=False, random_state=0, verbose=0, warm_start=False)\n"
     ]
    },
    {
     "name": "stderr",
     "output_type": "stream",
     "text": [
      "/Users/philglazer/anaconda3/lib/python3.7/site-packages/sklearn/metrics/classification.py:1143: UndefinedMetricWarning:\n",
      "\n",
      "F-score is ill-defined and being set to 0.0 in labels with no predicted samples.\n",
      "\n"
     ]
    },
    {
     "name": "stdout",
     "output_type": "stream",
     "text": [
      "[0.09495117 0.13298577 0.08571354 0.14066414 0.04137997 0.01781461\n",
      " 0.1464908 ]\n"
     ]
    },
    {
     "name": "stderr",
     "output_type": "stream",
     "text": [
      "/Users/philglazer/anaconda3/lib/python3.7/site-packages/pandas/core/frame.py:3940: SettingWithCopyWarning:\n",
      "\n",
      "\n",
      "A value is trying to be set on a copy of a slice from a DataFrame\n",
      "\n",
      "See the caveats in the documentation: http://pandas.pydata.org/pandas-docs/stable/indexing.html#indexing-view-versus-copy\n",
      "\n"
     ]
    },
    {
     "data": {
      "image/png": "[encoded data removed]",
      "text/plain": [
       "<Figure size 432x288 with 1 Axes>"
      ]
     },
     "metadata": {
      "needs_background": "light"
     },
     "output_type": "display_data"
    },
    {
     "name": "stdout",
     "output_type": "stream",
     "text": [
      "AUC:  0.8947368421052632\n",
      "---------\n",
      "Predicting positive_12mo_change...\n",
      "Random Forest F1 Score: 0.8004434589800443\n",
      "Predicted Result   1\n",
      "Actual Result       \n",
      "0                  3\n",
      "1                 19\n",
      "XGBoost F1 Score: 0.8004434589800443\n",
      "Predicted Result   1\n",
      "Actual Result       \n",
      "0                  3\n",
      "1                 19\n",
      "RandomForestClassifier(bootstrap=True, class_weight=None, criterion='gini',\n",
      "            max_depth=2, max_features='auto', max_leaf_nodes=None,\n",
      "            min_impurity_decrease=0.0, min_impurity_split=None,\n",
      "            min_samples_leaf=1, min_samples_split=2,\n",
      "            min_weight_fraction_leaf=0.0, n_estimators=100, n_jobs=None,\n",
      "            oob_score=False, random_state=0, verbose=0, warm_start=False)\n"
     ]
    },
    {
     "name": "stderr",
     "output_type": "stream",
     "text": [
      "/Users/philglazer/anaconda3/lib/python3.7/site-packages/sklearn/metrics/classification.py:1143: UndefinedMetricWarning:\n",
      "\n",
      "F-score is ill-defined and being set to 0.0 in labels with no predicted samples.\n",
      "\n",
      "/Users/philglazer/anaconda3/lib/python3.7/site-packages/pandas/core/frame.py:3940: SettingWithCopyWarning:\n",
      "\n",
      "\n",
      "A value is trying to be set on a copy of a slice from a DataFrame\n",
      "\n",
      "See the caveats in the documentation: http://pandas.pydata.org/pandas-docs/stable/indexing.html#indexing-view-versus-copy\n",
      "\n"
     ]
    },
    {
     "name": "stdout",
     "output_type": "stream",
     "text": [
      "[0.13476954 0.19998964 0.13150707 0.10908808 0.09371784 0.17532945\n",
      " 0.15559837]\n"
     ]
    },
    {
     "data": {
      "image/png": "[encoded data removed]",
      "text/plain": [
       "<Figure size 432x288 with 1 Axes>"
      ]
     },
     "metadata": {
      "needs_background": "light"
     },
     "output_type": "display_data"
    },
    {
     "name": "stdout",
     "output_type": "stream",
     "text": [
      "AUC:  0.875\n",
      "---------\n",
      "Predicting two_percent_plus_12mo...\n",
      "Random Forest F1 Score: 0.47933884297520657\n",
      "Predicted Result  0   1\n",
      "Actual Result          \n",
      "0                 1   9\n",
      "1                 0  12\n",
      "XGBoost F1 Score: 0.38502673796791437\n",
      "Predicted Result   1\n",
      "Actual Result       \n",
      "0                 10\n",
      "1                 12\n",
      "RandomForestClassifier(bootstrap=True, class_weight=None, criterion='gini',\n",
      "            max_depth=2, max_features='auto', max_leaf_nodes=None,\n",
      "            min_impurity_decrease=0.0, min_impurity_split=None,\n",
      "            min_samples_leaf=1, min_samples_split=2,\n",
      "            min_weight_fraction_leaf=0.0, n_estimators=100, n_jobs=None,\n",
      "            oob_score=False, random_state=0, verbose=0, warm_start=False)\n"
     ]
    },
    {
     "name": "stderr",
     "output_type": "stream",
     "text": [
      "/Users/philglazer/anaconda3/lib/python3.7/site-packages/sklearn/metrics/classification.py:1143: UndefinedMetricWarning:\n",
      "\n",
      "F-score is ill-defined and being set to 0.0 in labels with no predicted samples.\n",
      "\n",
      "/Users/philglazer/anaconda3/lib/python3.7/site-packages/pandas/core/frame.py:3940: SettingWithCopyWarning:\n",
      "\n",
      "\n",
      "A value is trying to be set on a copy of a slice from a DataFrame\n",
      "\n",
      "See the caveats in the documentation: http://pandas.pydata.org/pandas-docs/stable/indexing.html#indexing-view-versus-copy\n",
      "\n"
     ]
    },
    {
     "name": "stdout",
     "output_type": "stream",
     "text": [
      "[0.31241255 0.35548337 0.05449492 0.09073347 0.01227654 0.04034338\n",
      " 0.13425576]\n"
     ]
    },
    {
     "data": {
      "image/png": "[encoded data removed]",
      "text/plain": [
       "<Figure size 432x288 with 1 Axes>"
      ]
     },
     "metadata": {
      "needs_background": "light"
     },
     "output_type": "display_data"
    },
    {
     "name": "stdout",
     "output_type": "stream",
     "text": [
      "AUC:  1.0\n",
      "---------\n",
      "Predicting five_percent_plus_12mo...\n",
      "Random Forest F1 Score: 0.955276907001045\n",
      "Predicted Result   0  1\n",
      "Actual Result          \n",
      "0                 14  1\n",
      "1                  0  7\n",
      "XGBoost F1 Score: 0.955276907001045\n",
      "Predicted Result   0  1\n",
      "Actual Result          \n",
      "0                 14  1\n",
      "1                  0  7\n",
      "RandomForestClassifier(bootstrap=True, class_weight=None, criterion='gini',\n",
      "            max_depth=2, max_features='auto', max_leaf_nodes=None,\n",
      "            min_impurity_decrease=0.0, min_impurity_split=None,\n",
      "            min_samples_leaf=1, min_samples_split=2,\n",
      "            min_weight_fraction_leaf=0.0, n_estimators=100, n_jobs=None,\n",
      "            oob_score=False, random_state=0, verbose=0, warm_start=False)\n"
     ]
    },
    {
     "name": "stderr",
     "output_type": "stream",
     "text": [
      "/Users/philglazer/anaconda3/lib/python3.7/site-packages/pandas/core/frame.py:3940: SettingWithCopyWarning:\n",
      "\n",
      "\n",
      "A value is trying to be set on a copy of a slice from a DataFrame\n",
      "\n",
      "See the caveats in the documentation: http://pandas.pydata.org/pandas-docs/stable/indexing.html#indexing-view-versus-copy\n",
      "\n"
     ]
    },
    {
     "name": "stdout",
     "output_type": "stream",
     "text": [
      "[0.15676484 0.24014504 0.09877289 0.09394446 0.19744715 0.118176\n",
      " 0.09474961]\n"
     ]
    },
    {
     "data": {
      "image/png": "[encoded data removed]",
      "text/plain": [
       "<Figure size 432x288 with 1 Axes>"
      ]
     },
     "metadata": {
      "needs_background": "light"
     },
     "output_type": "display_data"
    },
    {
     "name": "stdout",
     "output_type": "stream",
     "text": [
      "AUC:  0.7333333333333333\n",
      "---------\n",
      "Predicting positive_3mo_change...\n",
      "Random Forest F1 Score: 0.6562173458725181\n",
      "Predicted Result  0   1\n",
      "Actual Result          \n",
      "0                 4   6\n",
      "1                 1  11\n",
      "XGBoost F1 Score: 0.38502673796791437\n",
      "Predicted Result   1\n",
      "Actual Result       \n",
      "0                 10\n",
      "1                 12\n",
      "RandomForestClassifier(bootstrap=True, class_weight=None, criterion='gini',\n",
      "            max_depth=2, max_features='auto', max_leaf_nodes=None,\n",
      "            min_impurity_decrease=0.0, min_impurity_split=None,\n",
      "            min_samples_leaf=1, min_samples_split=2,\n",
      "            min_weight_fraction_leaf=0.0, n_estimators=100, n_jobs=None,\n",
      "            oob_score=False, random_state=0, verbose=0, warm_start=False)\n"
     ]
    },
    {
     "name": "stderr",
     "output_type": "stream",
     "text": [
      "/Users/philglazer/anaconda3/lib/python3.7/site-packages/sklearn/metrics/classification.py:1143: UndefinedMetricWarning:\n",
      "\n",
      "F-score is ill-defined and being set to 0.0 in labels with no predicted samples.\n",
      "\n",
      "/Users/philglazer/anaconda3/lib/python3.7/site-packages/pandas/core/frame.py:3940: SettingWithCopyWarning:\n",
      "\n",
      "\n",
      "A value is trying to be set on a copy of a slice from a DataFrame\n",
      "\n",
      "See the caveats in the documentation: http://pandas.pydata.org/pandas-docs/stable/indexing.html#indexing-view-versus-copy\n",
      "\n"
     ]
    },
    {
     "name": "stdout",
     "output_type": "stream",
     "text": [
      "[0.21527321 0.07406169 0.08443828 0.07729535 0.2558338  0.18263578\n",
      " 0.11046189]\n"
     ]
    },
    {
     "data": {
      "image/png": "[encoded data removed]",
      "text/plain": [
       "<Figure size 432x288 with 1 Axes>"
      ]
     },
     "metadata": {
      "needs_background": "light"
     },
     "output_type": "display_data"
    },
    {
     "name": "stdout",
     "output_type": "stream",
     "text": [
      "AUC:  0.7719298245614035\n",
      "---------\n",
      "Predicting positive_6mo_change...\n",
      "Random Forest F1 Score: 0.7858897858897861\n",
      "Predicted Result  0   1\n",
      "Actual Result          \n",
      "0                 1   2\n",
      "1                 3  16\n",
      "XGBoost F1 Score: 0.6877005347593584\n",
      "Predicted Result  0   1\n",
      "Actual Result          \n",
      "0                 1   2\n",
      "1                 6  13\n",
      "RandomForestClassifier(bootstrap=True, class_weight=None, criterion='gini',\n",
      "            max_depth=2, max_features='auto', max_leaf_nodes=None,\n",
      "            min_impurity_decrease=0.0, min_impurity_split=None,\n",
      "            min_samples_leaf=1, min_samples_split=2,\n",
      "            min_weight_fraction_leaf=0.0, n_estimators=100, n_jobs=None,\n",
      "            oob_score=False, random_state=0, verbose=0, warm_start=False)\n"
     ]
    },
    {
     "name": "stderr",
     "output_type": "stream",
     "text": [
      "/Users/philglazer/anaconda3/lib/python3.7/site-packages/pandas/core/frame.py:3940: SettingWithCopyWarning:\n",
      "\n",
      "\n",
      "A value is trying to be set on a copy of a slice from a DataFrame\n",
      "\n",
      "See the caveats in the documentation: http://pandas.pydata.org/pandas-docs/stable/indexing.html#indexing-view-versus-copy\n",
      "\n"
     ]
    },
    {
     "name": "stdout",
     "output_type": "stream",
     "text": [
      "[0.08821896 0.21737659 0.10638776 0.04171854 0.22202426 0.16974811\n",
      " 0.15452578]\n"
     ]
    },
    {
     "data": {
      "image/png": "[encoded data removed]",
      "text/plain": [
       "<Figure size 432x288 with 1 Axes>"
      ]
     },
     "metadata": {
      "needs_background": "light"
     },
     "output_type": "display_data"
    },
    {
     "name": "stdout",
     "output_type": "stream",
     "text": [
      "AUC:  0.9882352941176471\n",
      "---------\n",
      "Predicting positive_12mo_change...\n",
      "Random Forest F1 Score: 0.8399438399438399\n",
      "Predicted Result  0   1\n",
      "Actual Result          \n",
      "0                 2   3\n",
      "1                 0  17\n",
      "XGBoost F1 Score: 0.6736596736596737\n",
      "Predicted Result   1\n",
      "Actual Result       \n",
      "0                  5\n",
      "1                 17\n",
      "RandomForestClassifier(bootstrap=True, class_weight=None, criterion='gini',\n",
      "            max_depth=2, max_features='auto', max_leaf_nodes=None,\n",
      "            min_impurity_decrease=0.0, min_impurity_split=None,\n",
      "            min_samples_leaf=1, min_samples_split=2,\n",
      "            min_weight_fraction_leaf=0.0, n_estimators=100, n_jobs=None,\n",
      "            oob_score=False, random_state=0, verbose=0, warm_start=False)\n"
     ]
    },
    {
     "name": "stderr",
     "output_type": "stream",
     "text": [
      "/Users/philglazer/anaconda3/lib/python3.7/site-packages/sklearn/metrics/classification.py:1143: UndefinedMetricWarning:\n",
      "\n",
      "F-score is ill-defined and being set to 0.0 in labels with no predicted samples.\n",
      "\n"
     ]
    },
    {
     "name": "stdout",
     "output_type": "stream",
     "text": [
      "[0.09969953 0.22224036 0.07288211 0.12204496 0.12259417 0.07999564\n",
      " 0.28054323]\n"
     ]
    },
    {
     "name": "stderr",
     "output_type": "stream",
     "text": [
      "/Users/philglazer/anaconda3/lib/python3.7/site-packages/pandas/core/frame.py:3940: SettingWithCopyWarning:\n",
      "\n",
      "\n",
      "A value is trying to be set on a copy of a slice from a DataFrame\n",
      "\n",
      "See the caveats in the documentation: http://pandas.pydata.org/pandas-docs/stable/indexing.html#indexing-view-versus-copy\n",
      "\n"
     ]
    },
    {
     "data": {
      "image/png": "[encoded data removed]",
      "text/plain": [
       "<Figure size 432x288 with 1 Axes>"
      ]
     },
     "metadata": {
      "needs_background": "light"
     },
     "output_type": "display_data"
    },
    {
     "name": "stdout",
     "output_type": "stream",
     "text": [
      "AUC:  0.7264957264957266\n",
      "---------\n",
      "Predicting two_percent_plus_12mo...\n",
      "Random Forest F1 Score: 0.6393939393939394\n",
      "Predicted Result  0  1\n",
      "Actual Result         \n",
      "0                 6  3\n",
      "1                 5  8\n",
      "XGBoost F1 Score: 0.23753665689149564\n",
      "Predicted Result   0\n",
      "Actual Result       \n",
      "0                  9\n",
      "1                 13\n",
      "RandomForestClassifier(bootstrap=True, class_weight=None, criterion='gini',\n",
      "            max_depth=2, max_features='auto', max_leaf_nodes=None,\n",
      "            min_impurity_decrease=0.0, min_impurity_split=None,\n",
      "            min_samples_leaf=1, min_samples_split=2,\n",
      "            min_weight_fraction_leaf=0.0, n_estimators=100, n_jobs=None,\n",
      "            oob_score=False, random_state=0, verbose=0, warm_start=False)\n"
     ]
    },
    {
     "name": "stderr",
     "output_type": "stream",
     "text": [
      "/Users/philglazer/anaconda3/lib/python3.7/site-packages/sklearn/metrics/classification.py:1143: UndefinedMetricWarning:\n",
      "\n",
      "F-score is ill-defined and being set to 0.0 in labels with no predicted samples.\n",
      "\n",
      "/Users/philglazer/anaconda3/lib/python3.7/site-packages/pandas/core/frame.py:3940: SettingWithCopyWarning:\n",
      "\n",
      "\n",
      "A value is trying to be set on a copy of a slice from a DataFrame\n",
      "\n",
      "See the caveats in the documentation: http://pandas.pydata.org/pandas-docs/stable/indexing.html#indexing-view-versus-copy\n",
      "\n"
     ]
    },
    {
     "name": "stdout",
     "output_type": "stream",
     "text": [
      "[0.22094598 0.06213797 0.08223018 0.12446069 0.05810188 0.05826875\n",
      " 0.39385456]\n"
     ]
    },
    {
     "data": {
      "image/png": "[encoded data removed]",
      "text/plain": [
       "<Figure size 432x288 with 1 Axes>"
      ]
     },
     "metadata": {
      "needs_background": "light"
     },
     "output_type": "display_data"
    },
    {
     "name": "stdout",
     "output_type": "stream",
     "text": [
      "AUC:  1.0\n",
      "---------\n",
      "Predicting five_percent_plus_12mo...\n",
      "Random Forest F1 Score: 0.827972027972028\n",
      "Predicted Result   0  1\n",
      "Actual Result          \n",
      "0                 18  0\n",
      "1                  3  1\n",
      "XGBoost F1 Score: 0.7363636363636363\n",
      "Predicted Result   0\n",
      "Actual Result       \n",
      "0                 18\n",
      "1                  4\n",
      "RandomForestClassifier(bootstrap=True, class_weight=None, criterion='gini',\n",
      "            max_depth=2, max_features='auto', max_leaf_nodes=None,\n",
      "            min_impurity_decrease=0.0, min_impurity_split=None,\n",
      "            min_samples_leaf=1, min_samples_split=2,\n",
      "            min_weight_fraction_leaf=0.0, n_estimators=100, n_jobs=None,\n",
      "            oob_score=False, random_state=0, verbose=0, warm_start=False)\n"
     ]
    },
    {
     "name": "stderr",
     "output_type": "stream",
     "text": [
      "/Users/philglazer/anaconda3/lib/python3.7/site-packages/sklearn/metrics/classification.py:1143: UndefinedMetricWarning:\n",
      "\n",
      "F-score is ill-defined and being set to 0.0 in labels with no predicted samples.\n",
      "\n",
      "/Users/philglazer/anaconda3/lib/python3.7/site-packages/pandas/core/frame.py:3940: SettingWithCopyWarning:\n",
      "\n",
      "\n",
      "A value is trying to be set on a copy of a slice from a DataFrame\n",
      "\n",
      "See the caveats in the documentation: http://pandas.pydata.org/pandas-docs/stable/indexing.html#indexing-view-versus-copy\n",
      "\n"
     ]
    },
    {
     "name": "stdout",
     "output_type": "stream",
     "text": [
      "[0.27513045 0.06838564 0.13627687 0.08115037 0.07956228 0.13757644\n",
      " 0.22191795]\n"
     ]
    },
    {
     "data": {
      "image/png": "[encoded data removed]",
      "text/plain": [
       "<Figure size 432x288 with 1 Axes>"
      ]
     },
     "metadata": {
      "needs_background": "light"
     },
     "output_type": "display_data"
    },
    {
     "name": "stdout",
     "output_type": "stream",
     "text": [
      "AUC:  0.9027777777777777\n",
      "---------\n",
      "Predicting positive_3mo_change...\n",
      "Random Forest F1 Score: 0.7363636363636363\n",
      "Predicted Result   1\n",
      "Actual Result       \n",
      "0                  4\n",
      "1                 18\n",
      "XGBoost F1 Score: 0.7363636363636363\n",
      "Predicted Result   1\n",
      "Actual Result       \n",
      "0                  4\n",
      "1                 18\n",
      "RandomForestClassifier(bootstrap=True, class_weight=None, criterion='gini',\n",
      "            max_depth=2, max_features='auto', max_leaf_nodes=None,\n",
      "            min_impurity_decrease=0.0, min_impurity_split=None,\n",
      "            min_samples_leaf=1, min_samples_split=2,\n",
      "            min_weight_fraction_leaf=0.0, n_estimators=100, n_jobs=None,\n",
      "            oob_score=False, random_state=0, verbose=0, warm_start=False)\n"
     ]
    },
    {
     "name": "stderr",
     "output_type": "stream",
     "text": [
      "/Users/philglazer/anaconda3/lib/python3.7/site-packages/sklearn/metrics/classification.py:1143: UndefinedMetricWarning:\n",
      "\n",
      "F-score is ill-defined and being set to 0.0 in labels with no predicted samples.\n",
      "\n",
      "/Users/philglazer/anaconda3/lib/python3.7/site-packages/pandas/core/frame.py:3940: SettingWithCopyWarning:\n",
      "\n",
      "\n",
      "A value is trying to be set on a copy of a slice from a DataFrame\n",
      "\n",
      "See the caveats in the documentation: http://pandas.pydata.org/pandas-docs/stable/indexing.html#indexing-view-versus-copy\n",
      "\n"
     ]
    },
    {
     "name": "stdout",
     "output_type": "stream",
     "text": [
      "[0.21529359 0.06351834 0.17282917 0.10470581 0.10219697 0.06102137\n",
      " 0.28043474]\n"
     ]
    },
    {
     "data": {
      "image/png": "[encoded data removed]",
      "text/plain": [
       "<Figure size 432x288 with 1 Axes>"
      ]
     },
     "metadata": {
      "needs_background": "light"
     },
     "output_type": "display_data"
    },
    {
     "name": "stdout",
     "output_type": "stream",
     "text": [
      "AUC:  0.9824561403508772\n",
      "---------\n",
      "Predicting positive_6mo_change...\n",
      "Random Forest F1 Score: 0.8004434589800443\n",
      "Predicted Result   1\n",
      "Actual Result       \n",
      "0                  3\n",
      "1                 19\n",
      "XGBoost F1 Score: 0.8004434589800443\n",
      "Predicted Result   1\n",
      "Actual Result       \n",
      "0                  3\n",
      "1                 19\n",
      "RandomForestClassifier(bootstrap=True, class_weight=None, criterion='gini',\n",
      "            max_depth=2, max_features='auto', max_leaf_nodes=None,\n",
      "            min_impurity_decrease=0.0, min_impurity_split=None,\n",
      "            min_samples_leaf=1, min_samples_split=2,\n",
      "            min_weight_fraction_leaf=0.0, n_estimators=100, n_jobs=None,\n",
      "            oob_score=False, random_state=0, verbose=0, warm_start=False)\n"
     ]
    },
    {
     "name": "stderr",
     "output_type": "stream",
     "text": [
      "/Users/philglazer/anaconda3/lib/python3.7/site-packages/sklearn/metrics/classification.py:1143: UndefinedMetricWarning:\n",
      "\n",
      "F-score is ill-defined and being set to 0.0 in labels with no predicted samples.\n",
      "\n",
      "/Users/philglazer/anaconda3/lib/python3.7/site-packages/pandas/core/frame.py:3940: SettingWithCopyWarning:\n",
      "\n",
      "\n",
      "A value is trying to be set on a copy of a slice from a DataFrame\n",
      "\n",
      "See the caveats in the documentation: http://pandas.pydata.org/pandas-docs/stable/indexing.html#indexing-view-versus-copy\n",
      "\n"
     ]
    },
    {
     "ename": "KeyboardInterrupt",
     "evalue": "",
     "output_type": "error",
     "traceback": [
      "\u001b[0;31m---------------------------------------------------------------------------\u001b[0m",
      "\u001b[0;31mKeyboardInterrupt\u001b[0m                         Traceback (most recent call last)",
      "\u001b[0;32m<ipython-input-1293-7f7751dec3e5>\u001b[0m in \u001b[0;36m<module>\u001b[0;34m\u001b[0m\n\u001b[1;32m      1\u001b[0m \u001b[0;32mfor\u001b[0m \u001b[0mm\u001b[0m \u001b[0;32min\u001b[0m \u001b[0mmodeled_zipcodes\u001b[0m\u001b[0;34m:\u001b[0m\u001b[0;34m\u001b[0m\u001b[0;34m\u001b[0m\u001b[0m\n\u001b[0;32m----> 2\u001b[0;31m     \u001b[0miterate_over_predictions\u001b[0m\u001b[0;34m(\u001b[0m\u001b[0mm\u001b[0m\u001b[0;34m,\u001b[0m \u001b[0mprediction_list\u001b[0m\u001b[0;34m)\u001b[0m\u001b[0;34m\u001b[0m\u001b[0;34m\u001b[0m\u001b[0m\n\u001b[0m",
      "\u001b[0;32m<ipython-input-1106-9844ae70c855>\u001b[0m in \u001b[0;36miterate_over_predictions\u001b[0;34m(zip_code, prediction_list)\u001b[0m\n\u001b[1;32m      6\u001b[0m \u001b[0;32mdef\u001b[0m \u001b[0miterate_over_predictions\u001b[0m\u001b[0;34m(\u001b[0m\u001b[0mzip_code\u001b[0m\u001b[0;34m,\u001b[0m \u001b[0mprediction_list\u001b[0m\u001b[0;34m)\u001b[0m\u001b[0;34m:\u001b[0m\u001b[0;34m\u001b[0m\u001b[0;34m\u001b[0m\u001b[0m\n\u001b[1;32m      7\u001b[0m     \u001b[0;32mfor\u001b[0m \u001b[0mp\u001b[0m \u001b[0;32min\u001b[0m \u001b[0mprediction_list\u001b[0m\u001b[0;34m:\u001b[0m\u001b[0;34m\u001b[0m\u001b[0;34m\u001b[0m\u001b[0m\n\u001b[0;32m----> 8\u001b[0;31m         \u001b[0mprint\u001b[0m\u001b[0;34m(\u001b[0m\u001b[0mrun_full_model\u001b[0m\u001b[0;34m(\u001b[0m\u001b[0mzip_code\u001b[0m\u001b[0;34m,\u001b[0m\u001b[0mp\u001b[0m\u001b[0;34m)\u001b[0m\u001b[0;34m)\u001b[0m\u001b[0;34m\u001b[0m\u001b[0;34m\u001b[0m\u001b[0m\n\u001b[0m",
      "\u001b[0;32m<ipython-input-1291-29749b319880>\u001b[0m in \u001b[0;36mrun_full_model\u001b[0;34m(zip_code, target_col)\u001b[0m\n\u001b[1;32m      3\u001b[0m \u001b[0;34m\u001b[0m\u001b[0m\n\u001b[1;32m      4\u001b[0m \u001b[0;32mdef\u001b[0m \u001b[0mrun_full_model\u001b[0m\u001b[0;34m(\u001b[0m\u001b[0mzip_code\u001b[0m\u001b[0;34m,\u001b[0m \u001b[0mtarget_col\u001b[0m\u001b[0;34m)\u001b[0m\u001b[0;34m:\u001b[0m\u001b[0;34m\u001b[0m\u001b[0;34m\u001b[0m\u001b[0m\n\u001b[0;32m----> 5\u001b[0;31m     \u001b[0mdata\u001b[0m \u001b[0;34m=\u001b[0m \u001b[0mjoin_data_available\u001b[0m\u001b[0;34m(\u001b[0m\u001b[0mzip_code\u001b[0m\u001b[0;34m,\u001b[0m \u001b[0mdata_sets_dict\u001b[0m\u001b[0;34m)\u001b[0m\u001b[0;34m.\u001b[0m\u001b[0mset_index\u001b[0m\u001b[0;34m(\u001b[0m\u001b[0;34m'Date'\u001b[0m\u001b[0;34m)\u001b[0m\u001b[0;34m\u001b[0m\u001b[0;34m\u001b[0m\u001b[0m\n\u001b[0m\u001b[1;32m      6\u001b[0m \u001b[0;34m\u001b[0m\u001b[0m\n\u001b[1;32m      7\u001b[0m     \u001b[0;31m# converts object type to float to take as a model input\u001b[0m\u001b[0;34m\u001b[0m\u001b[0;34m\u001b[0m\u001b[0;34m\u001b[0m\u001b[0m\n",
      "\u001b[0;32m<ipython-input-985-b6330f205236>\u001b[0m in \u001b[0;36mjoin_data_available\u001b[0;34m(zip_code, data_sets)\u001b[0m\n\u001b[1;32m      8\u001b[0m         \u001b[0mdata\u001b[0m \u001b[0;34m=\u001b[0m \u001b[0mprepare_df_for_zip\u001b[0m\u001b[0;34m(\u001b[0m\u001b[0mzip_code\u001b[0m\u001b[0;34m,\u001b[0m \u001b[0mdata_sets_dict\u001b[0m\u001b[0;34m[\u001b[0m\u001b[0mk\u001b[0m\u001b[0;34m]\u001b[0m\u001b[0;34m)\u001b[0m\u001b[0;31m#.add_prefix(k)\u001b[0m\u001b[0;34m\u001b[0m\u001b[0;34m\u001b[0m\u001b[0m\n\u001b[1;32m      9\u001b[0m         \u001b[0;32mfor\u001b[0m \u001b[0mi\u001b[0m \u001b[0;32min\u001b[0m \u001b[0mrange\u001b[0m\u001b[0;34m(\u001b[0m\u001b[0;36m1750\u001b[0m\u001b[0;34m)\u001b[0m\u001b[0;34m:\u001b[0m\u001b[0;34m\u001b[0m\u001b[0;34m\u001b[0m\u001b[0m\n\u001b[0;32m---> 10\u001b[0;31m                 \u001b[0mdata\u001b[0m\u001b[0;34m.\u001b[0m\u001b[0mrename\u001b[0m\u001b[0;34m(\u001b[0m\u001b[0mcolumns\u001b[0m\u001b[0;34m=\u001b[0m\u001b[0;34m{\u001b[0m\u001b[0mi\u001b[0m\u001b[0;34m:\u001b[0m\u001b[0mk\u001b[0m\u001b[0;34m}\u001b[0m\u001b[0;34m,\u001b[0m \u001b[0minplace\u001b[0m\u001b[0;34m=\u001b[0m\u001b[0;32mTrue\u001b[0m\u001b[0;34m)\u001b[0m\u001b[0;34m\u001b[0m\u001b[0;34m\u001b[0m\u001b[0m\n\u001b[0m\u001b[1;32m     11\u001b[0m         \u001b[0mdf_list\u001b[0m\u001b[0;34m.\u001b[0m\u001b[0mappend\u001b[0m\u001b[0;34m(\u001b[0m\u001b[0mdata\u001b[0m\u001b[0;34m)\u001b[0m\u001b[0;34m\u001b[0m\u001b[0;34m\u001b[0m\u001b[0m\n\u001b[1;32m     12\u001b[0m \u001b[0;34m\u001b[0m\u001b[0m\n",
      "\u001b[0;32m~/anaconda3/lib/python3.7/site-packages/pandas/util/_decorators.py\u001b[0m in \u001b[0;36mwrapper\u001b[0;34m(*args, **kwargs)\u001b[0m\n\u001b[1;32m    195\u001b[0m         \u001b[0;34m@\u001b[0m\u001b[0mwraps\u001b[0m\u001b[0;34m(\u001b[0m\u001b[0mfunc\u001b[0m\u001b[0;34m)\u001b[0m\u001b[0;34m\u001b[0m\u001b[0;34m\u001b[0m\u001b[0m\n\u001b[1;32m    196\u001b[0m         \u001b[0;32mdef\u001b[0m \u001b[0mwrapper\u001b[0m\u001b[0;34m(\u001b[0m\u001b[0;34m*\u001b[0m\u001b[0margs\u001b[0m\u001b[0;34m,\u001b[0m \u001b[0;34m**\u001b[0m\u001b[0mkwargs\u001b[0m\u001b[0;34m)\u001b[0m\u001b[0;34m:\u001b[0m\u001b[0;34m\u001b[0m\u001b[0;34m\u001b[0m\u001b[0m\n\u001b[0;32m--> 197\u001b[0;31m             \u001b[0;32mreturn\u001b[0m \u001b[0mfunc\u001b[0m\u001b[0;34m(\u001b[0m\u001b[0;34m*\u001b[0m\u001b[0margs\u001b[0m\u001b[0;34m,\u001b[0m \u001b[0;34m**\u001b[0m\u001b[0mkwargs\u001b[0m\u001b[0;34m)\u001b[0m\u001b[0;34m\u001b[0m\u001b[0;34m\u001b[0m\u001b[0m\n\u001b[0m\u001b[1;32m    198\u001b[0m \u001b[0;34m\u001b[0m\u001b[0m\n\u001b[1;32m    199\u001b[0m         \u001b[0;32mif\u001b[0m \u001b[0;32mnot\u001b[0m \u001b[0mPY2\u001b[0m\u001b[0;34m:\u001b[0m\u001b[0;34m\u001b[0m\u001b[0;34m\u001b[0m\u001b[0m\n",
      "\u001b[0;32m~/anaconda3/lib/python3.7/site-packages/pandas/core/frame.py\u001b[0m in \u001b[0;36mrename\u001b[0;34m(self, *args, **kwargs)\u001b[0m\n\u001b[1;32m   4023\u001b[0m         \u001b[0mkwargs\u001b[0m\u001b[0;34m.\u001b[0m\u001b[0mpop\u001b[0m\u001b[0;34m(\u001b[0m\u001b[0;34m'axis'\u001b[0m\u001b[0;34m,\u001b[0m \u001b[0;32mNone\u001b[0m\u001b[0;34m)\u001b[0m\u001b[0;34m\u001b[0m\u001b[0;34m\u001b[0m\u001b[0m\n\u001b[1;32m   4024\u001b[0m         \u001b[0mkwargs\u001b[0m\u001b[0;34m.\u001b[0m\u001b[0mpop\u001b[0m\u001b[0;34m(\u001b[0m\u001b[0;34m'mapper'\u001b[0m\u001b[0;34m,\u001b[0m \u001b[0;32mNone\u001b[0m\u001b[0;34m)\u001b[0m\u001b[0;34m\u001b[0m\u001b[0;34m\u001b[0m\u001b[0m\n\u001b[0;32m-> 4025\u001b[0;31m         \u001b[0;32mreturn\u001b[0m \u001b[0msuper\u001b[0m\u001b[0;34m(\u001b[0m\u001b[0mDataFrame\u001b[0m\u001b[0;34m,\u001b[0m \u001b[0mself\u001b[0m\u001b[0;34m)\u001b[0m\u001b[0;34m.\u001b[0m\u001b[0mrename\u001b[0m\u001b[0;34m(\u001b[0m\u001b[0;34m**\u001b[0m\u001b[0mkwargs\u001b[0m\u001b[0;34m)\u001b[0m\u001b[0;34m\u001b[0m\u001b[0;34m\u001b[0m\u001b[0m\n\u001b[0m\u001b[1;32m   4026\u001b[0m \u001b[0;34m\u001b[0m\u001b[0m\n\u001b[1;32m   4027\u001b[0m     \u001b[0;34m@\u001b[0m\u001b[0mSubstitution\u001b[0m\u001b[0;34m(\u001b[0m\u001b[0;34m**\u001b[0m\u001b[0m_shared_doc_kwargs\u001b[0m\u001b[0;34m)\u001b[0m\u001b[0;34m\u001b[0m\u001b[0;34m\u001b[0m\u001b[0m\n",
      "\u001b[0;32m~/anaconda3/lib/python3.7/site-packages/pandas/core/generic.py\u001b[0m in \u001b[0;36mrename\u001b[0;34m(self, *args, **kwargs)\u001b[0m\n\u001b[1;32m   1089\u001b[0m                 \u001b[0mlevel\u001b[0m \u001b[0;34m=\u001b[0m \u001b[0mself\u001b[0m\u001b[0;34m.\u001b[0m\u001b[0maxes\u001b[0m\u001b[0;34m[\u001b[0m\u001b[0maxis\u001b[0m\u001b[0;34m]\u001b[0m\u001b[0;34m.\u001b[0m\u001b[0m_get_level_number\u001b[0m\u001b[0;34m(\u001b[0m\u001b[0mlevel\u001b[0m\u001b[0;34m)\u001b[0m\u001b[0;34m\u001b[0m\u001b[0;34m\u001b[0m\u001b[0m\n\u001b[1;32m   1090\u001b[0m             result._data = result._data.rename_axis(f, axis=baxis, copy=copy,\n\u001b[0;32m-> 1091\u001b[0;31m                                                     level=level)\n\u001b[0m\u001b[1;32m   1092\u001b[0m             \u001b[0mresult\u001b[0m\u001b[0;34m.\u001b[0m\u001b[0m_clear_item_cache\u001b[0m\u001b[0;34m(\u001b[0m\u001b[0;34m)\u001b[0m\u001b[0;34m\u001b[0m\u001b[0;34m\u001b[0m\u001b[0m\n\u001b[1;32m   1093\u001b[0m \u001b[0;34m\u001b[0m\u001b[0m\n",
      "\u001b[0;32m~/anaconda3/lib/python3.7/site-packages/pandas/core/internals/managers.py\u001b[0m in \u001b[0;36mrename_axis\u001b[0;34m(self, mapper, axis, copy, level)\u001b[0m\n\u001b[1;32m    169\u001b[0m         \"\"\"\n\u001b[1;32m    170\u001b[0m         \u001b[0mobj\u001b[0m \u001b[0;34m=\u001b[0m \u001b[0mself\u001b[0m\u001b[0;34m.\u001b[0m\u001b[0mcopy\u001b[0m\u001b[0;34m(\u001b[0m\u001b[0mdeep\u001b[0m\u001b[0;34m=\u001b[0m\u001b[0mcopy\u001b[0m\u001b[0;34m)\u001b[0m\u001b[0;34m\u001b[0m\u001b[0;34m\u001b[0m\u001b[0m\n\u001b[0;32m--> 171\u001b[0;31m         \u001b[0mobj\u001b[0m\u001b[0;34m.\u001b[0m\u001b[0mset_axis\u001b[0m\u001b[0;34m(\u001b[0m\u001b[0maxis\u001b[0m\u001b[0;34m,\u001b[0m \u001b[0m_transform_index\u001b[0m\u001b[0;34m(\u001b[0m\u001b[0mself\u001b[0m\u001b[0;34m.\u001b[0m\u001b[0maxes\u001b[0m\u001b[0;34m[\u001b[0m\u001b[0maxis\u001b[0m\u001b[0;34m]\u001b[0m\u001b[0;34m,\u001b[0m \u001b[0mmapper\u001b[0m\u001b[0;34m,\u001b[0m \u001b[0mlevel\u001b[0m\u001b[0;34m)\u001b[0m\u001b[0;34m)\u001b[0m\u001b[0;34m\u001b[0m\u001b[0;34m\u001b[0m\u001b[0m\n\u001b[0m\u001b[1;32m    172\u001b[0m         \u001b[0;32mreturn\u001b[0m \u001b[0mobj\u001b[0m\u001b[0;34m\u001b[0m\u001b[0;34m\u001b[0m\u001b[0m\n\u001b[1;32m    173\u001b[0m \u001b[0;34m\u001b[0m\u001b[0m\n",
      "\u001b[0;32m~/anaconda3/lib/python3.7/site-packages/pandas/core/internals/managers.py\u001b[0m in \u001b[0;36m_transform_index\u001b[0;34m(index, func, level)\u001b[0m\n\u001b[1;32m   2003\u001b[0m     \u001b[0;32melse\u001b[0m\u001b[0;34m:\u001b[0m\u001b[0;34m\u001b[0m\u001b[0;34m\u001b[0m\u001b[0m\n\u001b[1;32m   2004\u001b[0m         \u001b[0mitems\u001b[0m \u001b[0;34m=\u001b[0m \u001b[0;34m[\u001b[0m\u001b[0mfunc\u001b[0m\u001b[0;34m(\u001b[0m\u001b[0mx\u001b[0m\u001b[0;34m)\u001b[0m \u001b[0;32mfor\u001b[0m \u001b[0mx\u001b[0m \u001b[0;32min\u001b[0m \u001b[0mindex\u001b[0m\u001b[0;34m]\u001b[0m\u001b[0;34m\u001b[0m\u001b[0;34m\u001b[0m\u001b[0m\n\u001b[0;32m-> 2005\u001b[0;31m         \u001b[0;32mreturn\u001b[0m \u001b[0mIndex\u001b[0m\u001b[0;34m(\u001b[0m\u001b[0mitems\u001b[0m\u001b[0;34m,\u001b[0m \u001b[0mname\u001b[0m\u001b[0;34m=\u001b[0m\u001b[0mindex\u001b[0m\u001b[0;34m.\u001b[0m\u001b[0mname\u001b[0m\u001b[0;34m,\u001b[0m \u001b[0mtupleize_cols\u001b[0m\u001b[0;34m=\u001b[0m\u001b[0;32mFalse\u001b[0m\u001b[0;34m)\u001b[0m\u001b[0;34m\u001b[0m\u001b[0;34m\u001b[0m\u001b[0m\n\u001b[0m\u001b[1;32m   2006\u001b[0m \u001b[0;34m\u001b[0m\u001b[0m\n\u001b[1;32m   2007\u001b[0m \u001b[0;34m\u001b[0m\u001b[0m\n",
      "\u001b[0;32m~/anaconda3/lib/python3.7/site-packages/pandas/core/indexes/base.py\u001b[0m in \u001b[0;36m__new__\u001b[0;34m(cls, data, dtype, copy, name, fastpath, tupleize_cols, **kwargs)\u001b[0m\n\u001b[1;32m    277\u001b[0m \u001b[0;34m\u001b[0m\u001b[0m\n\u001b[1;32m    278\u001b[0m         \u001b[0;31m# categorical\u001b[0m\u001b[0;34m\u001b[0m\u001b[0;34m\u001b[0m\u001b[0;34m\u001b[0m\u001b[0m\n\u001b[0;32m--> 279\u001b[0;31m         \u001b[0;32melif\u001b[0m \u001b[0mis_categorical_dtype\u001b[0m\u001b[0;34m(\u001b[0m\u001b[0mdata\u001b[0m\u001b[0;34m)\u001b[0m \u001b[0;32mor\u001b[0m \u001b[0mis_categorical_dtype\u001b[0m\u001b[0;34m(\u001b[0m\u001b[0mdtype\u001b[0m\u001b[0;34m)\u001b[0m\u001b[0;34m:\u001b[0m\u001b[0;34m\u001b[0m\u001b[0;34m\u001b[0m\u001b[0m\n\u001b[0m\u001b[1;32m    280\u001b[0m             \u001b[0;32mfrom\u001b[0m \u001b[0;34m.\u001b[0m\u001b[0mcategory\u001b[0m \u001b[0;32mimport\u001b[0m \u001b[0mCategoricalIndex\u001b[0m\u001b[0;34m\u001b[0m\u001b[0;34m\u001b[0m\u001b[0m\n\u001b[1;32m    281\u001b[0m             return CategoricalIndex(data, dtype=dtype, copy=copy, name=name,\n",
      "\u001b[0;32m~/anaconda3/lib/python3.7/site-packages/pandas/core/dtypes/common.py\u001b[0m in \u001b[0;36mis_categorical_dtype\u001b[0;34m(arr_or_dtype)\u001b[0m\n\u001b[1;32m    600\u001b[0m     \u001b[0;32mif\u001b[0m \u001b[0marr_or_dtype\u001b[0m \u001b[0;32mis\u001b[0m \u001b[0;32mNone\u001b[0m\u001b[0;34m:\u001b[0m\u001b[0;34m\u001b[0m\u001b[0;34m\u001b[0m\u001b[0m\n\u001b[1;32m    601\u001b[0m         \u001b[0;32mreturn\u001b[0m \u001b[0;32mFalse\u001b[0m\u001b[0;34m\u001b[0m\u001b[0;34m\u001b[0m\u001b[0m\n\u001b[0;32m--> 602\u001b[0;31m     \u001b[0;32mreturn\u001b[0m \u001b[0mCategoricalDtype\u001b[0m\u001b[0;34m.\u001b[0m\u001b[0mis_dtype\u001b[0m\u001b[0;34m(\u001b[0m\u001b[0marr_or_dtype\u001b[0m\u001b[0;34m)\u001b[0m\u001b[0;34m\u001b[0m\u001b[0;34m\u001b[0m\u001b[0m\n\u001b[0m\u001b[1;32m    603\u001b[0m \u001b[0;34m\u001b[0m\u001b[0m\n\u001b[1;32m    604\u001b[0m \u001b[0;34m\u001b[0m\u001b[0m\n",
      "\u001b[0;32m~/anaconda3/lib/python3.7/site-packages/pandas/core/dtypes/base.py\u001b[0m in \u001b[0;36mis_dtype\u001b[0;34m(cls, dtype)\u001b[0m\n\u001b[1;32m     99\u001b[0m \u001b[0;34m\u001b[0m\u001b[0m\n\u001b[1;32m    100\u001b[0m         if isinstance(dtype, (ABCSeries, ABCIndexClass,\n\u001b[0;32m--> 101\u001b[0;31m                               ABCDataFrame, np.dtype)):\n\u001b[0m\u001b[1;32m    102\u001b[0m             \u001b[0;31m# https://github.com/pandas-dev/pandas/issues/22960\u001b[0m\u001b[0;34m\u001b[0m\u001b[0;34m\u001b[0m\u001b[0;34m\u001b[0m\u001b[0m\n\u001b[1;32m    103\u001b[0m             \u001b[0;31m# avoid passing data to `construct_from_string`. This could\u001b[0m\u001b[0;34m\u001b[0m\u001b[0;34m\u001b[0m\u001b[0;34m\u001b[0m\u001b[0m\n",
      "\u001b[0;32m~/anaconda3/lib/python3.7/site-packages/pandas/core/dtypes/generic.py\u001b[0m in \u001b[0;36m_check\u001b[0;34m(cls, inst)\u001b[0m\n\u001b[1;32m      7\u001b[0m     \u001b[0;34m@\u001b[0m\u001b[0mclassmethod\u001b[0m\u001b[0;34m\u001b[0m\u001b[0;34m\u001b[0m\u001b[0m\n\u001b[1;32m      8\u001b[0m     \u001b[0;32mdef\u001b[0m \u001b[0m_check\u001b[0m\u001b[0;34m(\u001b[0m\u001b[0mcls\u001b[0m\u001b[0;34m,\u001b[0m \u001b[0minst\u001b[0m\u001b[0;34m)\u001b[0m\u001b[0;34m:\u001b[0m\u001b[0;34m\u001b[0m\u001b[0;34m\u001b[0m\u001b[0m\n\u001b[0;32m----> 9\u001b[0;31m         \u001b[0;32mreturn\u001b[0m \u001b[0mgetattr\u001b[0m\u001b[0;34m(\u001b[0m\u001b[0minst\u001b[0m\u001b[0;34m,\u001b[0m \u001b[0mattr\u001b[0m\u001b[0;34m,\u001b[0m \u001b[0;34m'_typ'\u001b[0m\u001b[0;34m)\u001b[0m \u001b[0;32min\u001b[0m \u001b[0mcomp\u001b[0m\u001b[0;34m\u001b[0m\u001b[0;34m\u001b[0m\u001b[0m\n\u001b[0m\u001b[1;32m     10\u001b[0m \u001b[0;34m\u001b[0m\u001b[0m\n\u001b[1;32m     11\u001b[0m     \u001b[0mdct\u001b[0m \u001b[0;34m=\u001b[0m \u001b[0mdict\u001b[0m\u001b[0;34m(\u001b[0m\u001b[0m__instancecheck__\u001b[0m\u001b[0;34m=\u001b[0m\u001b[0m_check\u001b[0m\u001b[0;34m,\u001b[0m \u001b[0m__subclasscheck__\u001b[0m\u001b[0;34m=\u001b[0m\u001b[0m_check\u001b[0m\u001b[0;34m)\u001b[0m\u001b[0;34m\u001b[0m\u001b[0;34m\u001b[0m\u001b[0m\n",
      "\u001b[0;31mKeyboardInterrupt\u001b[0m: "
     ]
    }
   ],
   "source": [
    "for m in modeled_zipcodes:\n",
    "    iterate_over_predictions(m, prediction_list)"
   ]
  },
  {
   "cell_type": "code",
   "execution_count": 1009,
   "metadata": {},
   "outputs": [],
   "source": [
    "# iterate over a list of types of predictions and get the best model for each prediction, save to a [dictionary]?\n",
    "\n",
    "def gather_models_zip(zip_code, prediction_list):\n",
    "    models_dict = {}\n",
    "    for p in prediction_list:\n",
    "        models_dict[p] = run_full_model(zip_code,p)\n",
    "    return models_dict"
   ]
  },
  {
   "cell_type": "code",
   "execution_count": 1010,
   "metadata": {
    "scrolled": true
   },
   "outputs": [
    {
     "name": "stderr",
     "output_type": "stream",
     "text": [
      "/Users/philglazer/anaconda3/lib/python3.7/site-packages/pandas/core/frame.py:3940: SettingWithCopyWarning:\n",
      "\n",
      "\n",
      "A value is trying to be set on a copy of a slice from a DataFrame\n",
      "\n",
      "See the caveats in the documentation: http://pandas.pydata.org/pandas-docs/stable/indexing.html#indexing-view-versus-copy\n",
      "\n"
     ]
    },
    {
     "name": "stdout",
     "output_type": "stream",
     "text": [
      "[0.31806897 0.0549442  0.14948799 0.03701764 0.07307767 0.15223911\n",
      " 0.21516443]\n",
      "---------\n",
      "Predicting positive_3mo_change...\n",
      "Random Forest F1 Score: 0.9526695526695526\n",
      "Predicted Result  0   1\n",
      "Actual Result          \n",
      "0                 4   1\n",
      "1                 0  17\n",
      "XGBoost F1 Score: 0.6736596736596737\n",
      "Predicted Result   1\n",
      "Actual Result       \n",
      "0                  5\n",
      "1                 17\n"
     ]
    },
    {
     "name": "stderr",
     "output_type": "stream",
     "text": [
      "/Users/philglazer/anaconda3/lib/python3.7/site-packages/sklearn/metrics/classification.py:1143: UndefinedMetricWarning:\n",
      "\n",
      "F-score is ill-defined and being set to 0.0 in labels with no predicted samples.\n",
      "\n",
      "/Users/philglazer/anaconda3/lib/python3.7/site-packages/pandas/core/frame.py:3940: SettingWithCopyWarning:\n",
      "\n",
      "\n",
      "A value is trying to be set on a copy of a slice from a DataFrame\n",
      "\n",
      "See the caveats in the documentation: http://pandas.pydata.org/pandas-docs/stable/indexing.html#indexing-view-versus-copy\n",
      "\n"
     ]
    },
    {
     "name": "stdout",
     "output_type": "stream",
     "text": [
      "[0.35351473 0.07952628 0.05824746 0.09667748 0.10822902 0.07365014\n",
      " 0.23015489]\n",
      "---------\n",
      "Predicting positive_6mo_change...\n",
      "Random Forest F1 Score: 1.0\n",
      "Predicted Result  0   1\n",
      "Actual Result          \n",
      "0                 4   0\n",
      "1                 0  18\n",
      "XGBoost F1 Score: 0.7363636363636363\n",
      "Predicted Result   1\n",
      "Actual Result       \n",
      "0                  4\n",
      "1                 18\n"
     ]
    },
    {
     "name": "stderr",
     "output_type": "stream",
     "text": [
      "/Users/philglazer/anaconda3/lib/python3.7/site-packages/sklearn/metrics/classification.py:1143: UndefinedMetricWarning:\n",
      "\n",
      "F-score is ill-defined and being set to 0.0 in labels with no predicted samples.\n",
      "\n",
      "/Users/philglazer/anaconda3/lib/python3.7/site-packages/pandas/core/frame.py:3940: SettingWithCopyWarning:\n",
      "\n",
      "\n",
      "A value is trying to be set on a copy of a slice from a DataFrame\n",
      "\n",
      "See the caveats in the documentation: http://pandas.pydata.org/pandas-docs/stable/indexing.html#indexing-view-versus-copy\n",
      "\n"
     ]
    },
    {
     "name": "stdout",
     "output_type": "stream",
     "text": [
      "[0.33582065 0.07782843 0.03485946 0.16836697 0.09124368 0.05235119\n",
      " 0.23952962]\n",
      "---------\n",
      "Predicting positive_12mo_change...\n",
      "Random Forest F1 Score: 0.8715338715338716\n",
      "Predicted Result  0   1\n",
      "Actual Result          \n",
      "0                 2   1\n",
      "1                 2  17\n",
      "XGBoost F1 Score: 0.8004434589800443\n",
      "Predicted Result   1\n",
      "Actual Result       \n",
      "0                  3\n",
      "1                 19\n"
     ]
    },
    {
     "name": "stderr",
     "output_type": "stream",
     "text": [
      "/Users/philglazer/anaconda3/lib/python3.7/site-packages/sklearn/metrics/classification.py:1143: UndefinedMetricWarning:\n",
      "\n",
      "F-score is ill-defined and being set to 0.0 in labels with no predicted samples.\n",
      "\n",
      "/Users/philglazer/anaconda3/lib/python3.7/site-packages/pandas/core/frame.py:3940: SettingWithCopyWarning:\n",
      "\n",
      "\n",
      "A value is trying to be set on a copy of a slice from a DataFrame\n",
      "\n",
      "See the caveats in the documentation: http://pandas.pydata.org/pandas-docs/stable/indexing.html#indexing-view-versus-copy\n",
      "\n"
     ]
    },
    {
     "name": "stdout",
     "output_type": "stream",
     "text": [
      "[0.29773204 0.11190981 0.06350553 0.11983203 0.08527267 0.04012233\n",
      " 0.28162559]\n",
      "---------\n",
      "Predicting two_percent_plus_12mo...\n",
      "Random Forest F1 Score: 0.8053475935828878\n",
      "Predicted Result  0   1\n",
      "Actual Result          \n",
      "0                 3   3\n",
      "1                 1  15\n",
      "XGBoost F1 Score: 0.6124401913875599\n",
      "Predicted Result   1\n",
      "Actual Result       \n",
      "0                  6\n",
      "1                 16\n"
     ]
    },
    {
     "name": "stderr",
     "output_type": "stream",
     "text": [
      "/Users/philglazer/anaconda3/lib/python3.7/site-packages/sklearn/metrics/classification.py:1143: UndefinedMetricWarning:\n",
      "\n",
      "F-score is ill-defined and being set to 0.0 in labels with no predicted samples.\n",
      "\n",
      "/Users/philglazer/anaconda3/lib/python3.7/site-packages/pandas/core/frame.py:3940: SettingWithCopyWarning:\n",
      "\n",
      "\n",
      "A value is trying to be set on a copy of a slice from a DataFrame\n",
      "\n",
      "See the caveats in the documentation: http://pandas.pydata.org/pandas-docs/stable/indexing.html#indexing-view-versus-copy\n",
      "\n"
     ]
    },
    {
     "name": "stdout",
     "output_type": "stream",
     "text": [
      "[0.31954668 0.12658443 0.11807664 0.04878831 0.06808655 0.03051754\n",
      " 0.28839986]\n",
      "---------\n",
      "Predicting five_percent_plus_12mo...\n",
      "Random Forest F1 Score: 0.9546395633352156\n",
      "Predicted Result   0   1\n",
      "Actual Result           \n",
      "0                 10   0\n",
      "1                  1  11\n",
      "XGBoost F1 Score: 0.8627893845285151\n",
      "Predicted Result   0  1\n",
      "Actual Result          \n",
      "0                 10  0\n",
      "1                  3  9\n"
     ]
    },
    {
     "name": "stderr",
     "output_type": "stream",
     "text": [
      "/Users/philglazer/anaconda3/lib/python3.7/site-packages/pandas/core/frame.py:3940: SettingWithCopyWarning:\n",
      "\n",
      "\n",
      "A value is trying to be set on a copy of a slice from a DataFrame\n",
      "\n",
      "See the caveats in the documentation: http://pandas.pydata.org/pandas-docs/stable/indexing.html#indexing-view-versus-copy\n",
      "\n"
     ]
    },
    {
     "name": "stdout",
     "output_type": "stream",
     "text": [
      "[0.02855022 0.12096558 0.20021013 0.03997154 0.0717228  0.02489801\n",
      " 0.12368172]\n",
      "---------\n",
      "Predicting ten_percent_plus_12mo...\n",
      "Random Forest F1 Score: 0.7363636363636363\n",
      "Predicted Result   0\n",
      "Actual Result       \n",
      "0                 18\n",
      "1                  4\n",
      "XGBoost F1 Score: 0.7363636363636363\n",
      "Predicted Result   0\n",
      "Actual Result       \n",
      "0                 18\n",
      "1                  4\n"
     ]
    },
    {
     "name": "stderr",
     "output_type": "stream",
     "text": [
      "/Users/philglazer/anaconda3/lib/python3.7/site-packages/sklearn/metrics/classification.py:1143: UndefinedMetricWarning:\n",
      "\n",
      "F-score is ill-defined and being set to 0.0 in labels with no predicted samples.\n",
      "\n"
     ]
    },
    {
     "data": {
      "text/plain": [
       "{'positive_3mo_change': RandomForestClassifier(bootstrap=True, class_weight=None, criterion='gini',\n",
       "             max_depth=2, max_features='auto', max_leaf_nodes=None,\n",
       "             min_impurity_decrease=0.0, min_impurity_split=None,\n",
       "             min_samples_leaf=1, min_samples_split=2,\n",
       "             min_weight_fraction_leaf=0.0, n_estimators=100, n_jobs=None,\n",
       "             oob_score=False, random_state=0, verbose=0, warm_start=False),\n",
       " 'positive_6mo_change': RandomForestClassifier(bootstrap=True, class_weight=None, criterion='gini',\n",
       "             max_depth=2, max_features='auto', max_leaf_nodes=None,\n",
       "             min_impurity_decrease=0.0, min_impurity_split=None,\n",
       "             min_samples_leaf=1, min_samples_split=2,\n",
       "             min_weight_fraction_leaf=0.0, n_estimators=100, n_jobs=None,\n",
       "             oob_score=False, random_state=0, verbose=0, warm_start=False),\n",
       " 'positive_12mo_change': RandomForestClassifier(bootstrap=True, class_weight=None, criterion='gini',\n",
       "             max_depth=2, max_features='auto', max_leaf_nodes=None,\n",
       "             min_impurity_decrease=0.0, min_impurity_split=None,\n",
       "             min_samples_leaf=1, min_samples_split=2,\n",
       "             min_weight_fraction_leaf=0.0, n_estimators=100, n_jobs=None,\n",
       "             oob_score=False, random_state=0, verbose=0, warm_start=False),\n",
       " 'two_percent_plus_12mo': RandomForestClassifier(bootstrap=True, class_weight=None, criterion='gini',\n",
       "             max_depth=2, max_features='auto', max_leaf_nodes=None,\n",
       "             min_impurity_decrease=0.0, min_impurity_split=None,\n",
       "             min_samples_leaf=1, min_samples_split=2,\n",
       "             min_weight_fraction_leaf=0.0, n_estimators=100, n_jobs=None,\n",
       "             oob_score=False, random_state=0, verbose=0, warm_start=False),\n",
       " 'five_percent_plus_12mo': RandomForestClassifier(bootstrap=True, class_weight=None, criterion='gini',\n",
       "             max_depth=2, max_features='auto', max_leaf_nodes=None,\n",
       "             min_impurity_decrease=0.0, min_impurity_split=None,\n",
       "             min_samples_leaf=1, min_samples_split=2,\n",
       "             min_weight_fraction_leaf=0.0, n_estimators=100, n_jobs=None,\n",
       "             oob_score=False, random_state=0, verbose=0, warm_start=False),\n",
       " 'ten_percent_plus_12mo': RandomForestClassifier(bootstrap=True, class_weight=None, criterion='gini',\n",
       "             max_depth=2, max_features='auto', max_leaf_nodes=None,\n",
       "             min_impurity_decrease=0.0, min_impurity_split=None,\n",
       "             min_samples_leaf=1, min_samples_split=2,\n",
       "             min_weight_fraction_leaf=0.0, n_estimators=100, n_jobs=None,\n",
       "             oob_score=False, random_state=0, verbose=0, warm_start=False)}"
      ]
     },
     "execution_count": 1010,
     "metadata": {},
     "output_type": "execute_result"
    }
   ],
   "source": [
    "gather_models_zip(77494, prediction_list)"
   ]
  },
  {
   "cell_type": "code",
   "execution_count": 1014,
   "metadata": {},
   "outputs": [],
   "source": [
    "# iterate over a list of zip codes and get the models for each prediction in prediction list\n",
    "# combine the models dictionary for each zip code into a master dictionary\n",
    "\n",
    "def gather_models_list_of_zips(list_of_zips, prediction_list):\n",
    "    master_dict = {}\n",
    "    for l in list_of_zips:\n",
    "        data = gather_models_zip(l,prediction_list)\n",
    "        master_dict[l] = data\n",
    "    \n",
    "    return master_dict"
   ]
  },
  {
   "cell_type": "code",
   "execution_count": 1294,
   "metadata": {},
   "outputs": [
    {
     "name": "stdout",
     "output_type": "stream",
     "text": [
      "[0.06890525 0.13398226 0.28662752 0.12230862 0.0763358  0.1063531\n",
      " 0.20548745]\n"
     ]
    },
    {
     "data": {
      "image/png": "[encoded data removed]",
      "text/plain": [
       "<Figure size 432x288 with 1 Axes>"
      ]
     },
     "metadata": {
      "needs_background": "light"
     },
     "output_type": "display_data"
    },
    {
     "name": "stdout",
     "output_type": "stream",
     "text": [
      "AUC:  0.8285714285714285\n",
      "---------\n",
      "Predicting positive_3mo_change...\n",
      "Random Forest F1 Score: 0.7365967365967365\n",
      "Predicted Result  0   1\n",
      "Actual Result          \n",
      "0                 6   1\n",
      "1                 5  10\n",
      "XGBoost F1 Score: 0.7801544860368389\n",
      "Predicted Result  0   1\n",
      "Actual Result          \n",
      "0                 6   1\n",
      "1                 4  11\n"
     ]
    },
    {
     "name": "stderr",
     "output_type": "stream",
     "text": [
      "/Users/philglazer/anaconda3/lib/python3.7/site-packages/pandas/core/frame.py:3940: SettingWithCopyWarning:\n",
      "\n",
      "\n",
      "A value is trying to be set on a copy of a slice from a DataFrame\n",
      "\n",
      "See the caveats in the documentation: http://pandas.pydata.org/pandas-docs/stable/indexing.html#indexing-view-versus-copy\n",
      "\n"
     ]
    },
    {
     "name": "stdout",
     "output_type": "stream",
     "text": [
      "[0.1522281  0.07859916 0.34194477 0.11878304 0.07743816 0.11816525\n",
      " 0.11284153]\n"
     ]
    },
    {
     "data": {
      "image/png": "[encoded data removed]",
      "text/plain": [
       "<Figure size 432x288 with 1 Axes>"
      ]
     },
     "metadata": {
      "needs_background": "light"
     },
     "output_type": "display_data"
    },
    {
     "name": "stdout",
     "output_type": "stream",
     "text": [
      "AUC:  0.8839285714285714\n",
      "---------\n",
      "Predicting positive_6mo_change...\n",
      "Random Forest F1 Score: 0.8181818181818182\n",
      "Predicted Result  0   1\n",
      "Actual Result          \n",
      "0                 6   2\n",
      "1                 2  12\n",
      "XGBoost F1 Score: 0.494949494949495\n",
      "Predicted Result   1\n",
      "Actual Result       \n",
      "0                  8\n",
      "1                 14\n"
     ]
    },
    {
     "name": "stderr",
     "output_type": "stream",
     "text": [
      "/Users/philglazer/anaconda3/lib/python3.7/site-packages/sklearn/metrics/classification.py:1143: UndefinedMetricWarning:\n",
      "\n",
      "F-score is ill-defined and being set to 0.0 in labels with no predicted samples.\n",
      "\n",
      "/Users/philglazer/anaconda3/lib/python3.7/site-packages/pandas/core/frame.py:3940: SettingWithCopyWarning:\n",
      "\n",
      "\n",
      "A value is trying to be set on a copy of a slice from a DataFrame\n",
      "\n",
      "See the caveats in the documentation: http://pandas.pydata.org/pandas-docs/stable/indexing.html#indexing-view-versus-copy\n",
      "\n"
     ]
    },
    {
     "name": "stdout",
     "output_type": "stream",
     "text": [
      "[0.22916267 0.1889636  0.11361163 0.08211502 0.18651752 0.16380747\n",
      " 0.0358221 ]\n"
     ]
    },
    {
     "data": {
      "image/png": "[encoded data removed]",
      "text/plain": [
       "<Figure size 432x288 with 1 Axes>"
      ]
     },
     "metadata": {
      "needs_background": "light"
     },
     "output_type": "display_data"
    },
    {
     "name": "stdout",
     "output_type": "stream",
     "text": [
      "AUC:  0.85\n",
      "---------\n",
      "Predicting positive_12mo_change...\n",
      "Random Forest F1 Score: 0.8755244755244757\n",
      "Predicted Result  0   1\n",
      "Actual Result          \n",
      "0                 1   1\n",
      "1                 2  18\n",
      "XGBoost F1 Score: 0.8658008658008658\n",
      "Predicted Result   1\n",
      "Actual Result       \n",
      "0                  2\n",
      "1                 20\n"
     ]
    },
    {
     "name": "stderr",
     "output_type": "stream",
     "text": [
      "/Users/philglazer/anaconda3/lib/python3.7/site-packages/sklearn/metrics/classification.py:1143: UndefinedMetricWarning:\n",
      "\n",
      "F-score is ill-defined and being set to 0.0 in labels with no predicted samples.\n",
      "\n",
      "/Users/philglazer/anaconda3/lib/python3.7/site-packages/pandas/core/frame.py:3940: SettingWithCopyWarning:\n",
      "\n",
      "\n",
      "A value is trying to be set on a copy of a slice from a DataFrame\n",
      "\n",
      "See the caveats in the documentation: http://pandas.pydata.org/pandas-docs/stable/indexing.html#indexing-view-versus-copy\n",
      "\n"
     ]
    },
    {
     "name": "stdout",
     "output_type": "stream",
     "text": [
      "[0.0885857  0.30319216 0.17086362 0.0090725  0.156837   0.14048673\n",
      " 0.13096229]\n"
     ]
    },
    {
     "data": {
      "image/png": "[encoded data removed]",
      "text/plain": [
       "<Figure size 432x288 with 1 Axes>"
      ]
     },
     "metadata": {
      "needs_background": "light"
     },
     "output_type": "display_data"
    },
    {
     "name": "stdout",
     "output_type": "stream",
     "text": [
      "AUC:  1.0\n",
      "---------\n",
      "Predicting two_percent_plus_12mo...\n",
      "Random Forest F1 Score: 1.0\n",
      "Predicted Result   0   1\n",
      "Actual Result           \n",
      "0                 11   0\n",
      "1                  0  11\n",
      "XGBoost F1 Score: 1.0\n",
      "Predicted Result   0   1\n",
      "Actual Result           \n",
      "0                 11   0\n",
      "1                  0  11\n"
     ]
    },
    {
     "name": "stderr",
     "output_type": "stream",
     "text": [
      "/Users/philglazer/anaconda3/lib/python3.7/site-packages/pandas/core/frame.py:3940: SettingWithCopyWarning:\n",
      "\n",
      "\n",
      "A value is trying to be set on a copy of a slice from a DataFrame\n",
      "\n",
      "See the caveats in the documentation: http://pandas.pydata.org/pandas-docs/stable/indexing.html#indexing-view-versus-copy\n",
      "\n"
     ]
    },
    {
     "name": "stdout",
     "output_type": "stream",
     "text": [
      "[0.19648142 0.29209166 0.12433287 0.0436542  0.13032636 0.12208397\n",
      " 0.09102953]\n"
     ]
    },
    {
     "data": {
      "image/png": "[encoded data removed]",
      "text/plain": [
       "<Figure size 432x288 with 1 Axes>"
      ]
     },
     "metadata": {
      "needs_background": "light"
     },
     "output_type": "display_data"
    },
    {
     "name": "stdout",
     "output_type": "stream",
     "text": [
      "AUC:  0.9305555555555556\n",
      "---------\n",
      "Predicting five_percent_plus_12mo...\n",
      "Random Forest F1 Score: 0.951912951912952\n",
      "Predicted Result   0  1\n",
      "Actual Result          \n",
      "0                 18  0\n",
      "1                  1  3\n",
      "XGBoost F1 Score: 0.951912951912952\n",
      "Predicted Result   0  1\n",
      "Actual Result          \n",
      "0                 18  0\n",
      "1                  1  3\n"
     ]
    },
    {
     "name": "stderr",
     "output_type": "stream",
     "text": [
      "/Users/philglazer/anaconda3/lib/python3.7/site-packages/pandas/core/frame.py:3940: SettingWithCopyWarning:\n",
      "\n",
      "\n",
      "A value is trying to be set on a copy of a slice from a DataFrame\n",
      "\n",
      "See the caveats in the documentation: http://pandas.pydata.org/pandas-docs/stable/indexing.html#indexing-view-versus-copy\n",
      "\n"
     ]
    },
    {
     "name": "stdout",
     "output_type": "stream",
     "text": [
      "[0.19473617 0.10639839 0.06196964 0.09988552 0.14479189 0.09828771\n",
      " 0.2939307 ]\n"
     ]
    },
    {
     "data": {
      "image/png": "[encoded data removed]",
      "text/plain": [
       "<Figure size 432x288 with 1 Axes>"
      ]
     },
     "metadata": {
      "needs_background": "light"
     },
     "output_type": "display_data"
    },
    {
     "name": "stdout",
     "output_type": "stream",
     "text": [
      "AUC:  0.9166666666666667\n",
      "---------\n",
      "Predicting positive_3mo_change...\n",
      "Random Forest F1 Score: 0.7363636363636363\n",
      "Predicted Result   1\n",
      "Actual Result       \n",
      "0                  4\n",
      "1                 18\n",
      "XGBoost F1 Score: 0.7363636363636363\n",
      "Predicted Result   1\n",
      "Actual Result       \n",
      "0                  4\n",
      "1                 18\n"
     ]
    },
    {
     "name": "stderr",
     "output_type": "stream",
     "text": [
      "/Users/philglazer/anaconda3/lib/python3.7/site-packages/sklearn/metrics/classification.py:1143: UndefinedMetricWarning:\n",
      "\n",
      "F-score is ill-defined and being set to 0.0 in labels with no predicted samples.\n",
      "\n",
      "/Users/philglazer/anaconda3/lib/python3.7/site-packages/pandas/core/frame.py:3940: SettingWithCopyWarning:\n",
      "\n",
      "\n",
      "A value is trying to be set on a copy of a slice from a DataFrame\n",
      "\n",
      "See the caveats in the documentation: http://pandas.pydata.org/pandas-docs/stable/indexing.html#indexing-view-versus-copy\n",
      "\n"
     ]
    },
    {
     "name": "stdout",
     "output_type": "stream",
     "text": [
      "[0.23910521 0.15360077 0.09531932 0.06505488 0.11499501 0.11876717\n",
      " 0.21315764]\n"
     ]
    },
    {
     "data": {
      "image/png": "[encoded data removed]",
      "text/plain": [
       "<Figure size 432x288 with 1 Axes>"
      ]
     },
     "metadata": {
      "needs_background": "light"
     },
     "output_type": "display_data"
    },
    {
     "name": "stdout",
     "output_type": "stream",
     "text": [
      "AUC:  0.8771929824561403\n",
      "---------\n",
      "Predicting positive_6mo_change...\n",
      "Random Forest F1 Score: 0.8004434589800443\n",
      "Predicted Result   1\n",
      "Actual Result       \n",
      "0                  3\n",
      "1                 19\n",
      "XGBoost F1 Score: 0.8004434589800443\n",
      "Predicted Result   1\n",
      "Actual Result       \n",
      "0                  3\n",
      "1                 19\n"
     ]
    },
    {
     "name": "stderr",
     "output_type": "stream",
     "text": [
      "/Users/philglazer/anaconda3/lib/python3.7/site-packages/sklearn/metrics/classification.py:1143: UndefinedMetricWarning:\n",
      "\n",
      "F-score is ill-defined and being set to 0.0 in labels with no predicted samples.\n",
      "\n",
      "/Users/philglazer/anaconda3/lib/python3.7/site-packages/pandas/core/frame.py:3940: SettingWithCopyWarning:\n",
      "\n",
      "\n",
      "A value is trying to be set on a copy of a slice from a DataFrame\n",
      "\n",
      "See the caveats in the documentation: http://pandas.pydata.org/pandas-docs/stable/indexing.html#indexing-view-versus-copy\n",
      "\n"
     ]
    },
    {
     "name": "stdout",
     "output_type": "stream",
     "text": [
      "[0.2342915  0.20846975 0.10325439 0.05665702 0.12138483 0.1460784\n",
      " 0.12986411]\n"
     ]
    },
    {
     "data": {
      "image/png": "[encoded data removed]",
      "text/plain": [
       "<Figure size 432x288 with 1 Axes>"
      ]
     },
     "metadata": {
      "needs_background": "light"
     },
     "output_type": "display_data"
    },
    {
     "name": "stdout",
     "output_type": "stream",
     "text": [
      "AUC:  1.0\n",
      "---------\n",
      "Predicting positive_12mo_change...\n",
      "Random Forest F1 Score: 1.0\n",
      "Predicted Result  0   1\n",
      "Actual Result          \n",
      "0                 1   0\n",
      "1                 0  21\n",
      "XGBoost F1 Score: 0.9323467230443975\n",
      "Predicted Result   1\n",
      "Actual Result       \n",
      "0                  1\n",
      "1                 21\n"
     ]
    },
    {
     "name": "stderr",
     "output_type": "stream",
     "text": [
      "/Users/philglazer/anaconda3/lib/python3.7/site-packages/sklearn/metrics/classification.py:1143: UndefinedMetricWarning:\n",
      "\n",
      "F-score is ill-defined and being set to 0.0 in labels with no predicted samples.\n",
      "\n"
     ]
    },
    {
     "name": "stdout",
     "output_type": "stream",
     "text": [
      "[0.2956263  0.02187858 0.06824495 0.02878169 0.1405002  0.16199735\n",
      " 0.28297093]\n"
     ]
    },
    {
     "name": "stderr",
     "output_type": "stream",
     "text": [
      "/Users/philglazer/anaconda3/lib/python3.7/site-packages/pandas/core/frame.py:3940: SettingWithCopyWarning:\n",
      "\n",
      "\n",
      "A value is trying to be set on a copy of a slice from a DataFrame\n",
      "\n",
      "See the caveats in the documentation: http://pandas.pydata.org/pandas-docs/stable/indexing.html#indexing-view-versus-copy\n",
      "\n"
     ]
    },
    {
     "data": {
      "image/png": "[encoded data removed]",
      "text/plain": [
       "<Figure size 432x288 with 1 Axes>"
      ]
     },
     "metadata": {
      "needs_background": "light"
     },
     "output_type": "display_data"
    },
    {
     "name": "stdout",
     "output_type": "stream",
     "text": [
      "AUC:  1.0\n",
      "---------\n",
      "Predicting two_percent_plus_12mo...\n",
      "Random Forest F1 Score: 1.0\n",
      "Predicted Result  0   1\n",
      "Actual Result          \n",
      "0                 8   0\n",
      "1                 0  14\n",
      "XGBoost F1 Score: 0.9550406020994257\n",
      "Predicted Result  0   1\n",
      "Actual Result          \n",
      "0                 8   0\n",
      "1                 1  13\n"
     ]
    },
    {
     "name": "stderr",
     "output_type": "stream",
     "text": [
      "/Users/philglazer/anaconda3/lib/python3.7/site-packages/pandas/core/frame.py:3940: SettingWithCopyWarning:\n",
      "\n",
      "\n",
      "A value is trying to be set on a copy of a slice from a DataFrame\n",
      "\n",
      "See the caveats in the documentation: http://pandas.pydata.org/pandas-docs/stable/indexing.html#indexing-view-versus-copy\n",
      "\n"
     ]
    },
    {
     "name": "stdout",
     "output_type": "stream",
     "text": [
      "[0.30830437 0.03071023 0.07268913 0.02972655 0.1111658  0.13147888\n",
      " 0.31592505]\n"
     ]
    },
    {
     "data": {
      "image/png": "[encoded data removed]",
      "text/plain": [
       "<Figure size 432x288 with 1 Axes>"
      ]
     },
     "metadata": {
      "needs_background": "light"
     },
     "output_type": "display_data"
    },
    {
     "name": "stdout",
     "output_type": "stream",
     "text": [
      "AUC:  1.0\n",
      "---------\n",
      "Predicting five_percent_plus_12mo...\n",
      "Random Forest F1 Score: 1.0\n",
      "Predicted Result  0   1\n",
      "Actual Result          \n",
      "0                 9   0\n",
      "1                 0  13\n",
      "XGBoost F1 Score: 1.0\n",
      "Predicted Result  0   1\n",
      "Actual Result          \n",
      "0                 9   0\n",
      "1                 0  13\n"
     ]
    },
    {
     "name": "stderr",
     "output_type": "stream",
     "text": [
      "/Users/philglazer/anaconda3/lib/python3.7/site-packages/pandas/core/frame.py:3940: SettingWithCopyWarning:\n",
      "\n",
      "\n",
      "A value is trying to be set on a copy of a slice from a DataFrame\n",
      "\n",
      "See the caveats in the documentation: http://pandas.pydata.org/pandas-docs/stable/indexing.html#indexing-view-versus-copy\n",
      "\n"
     ]
    },
    {
     "name": "stdout",
     "output_type": "stream",
     "text": [
      "[0.27420668 0.16651658 0.09711494 0.13830056 0.08131912 0.0660123\n",
      " 0.17652981]\n"
     ]
    },
    {
     "data": {
      "image/png": "[encoded data removed]",
      "text/plain": [
       "<Figure size 432x288 with 1 Axes>"
      ]
     },
     "metadata": {
      "needs_background": "light"
     },
     "output_type": "display_data"
    },
    {
     "name": "stdout",
     "output_type": "stream",
     "text": [
      "AUC:  0.84375\n",
      "---------\n",
      "Predicting positive_3mo_change...\n",
      "Random Forest F1 Score: 0.7828282828282828\n",
      "Predicted Result  0   1\n",
      "Actual Result          \n",
      "0                 2   4\n",
      "1                 0  16\n",
      "XGBoost F1 Score: 0.6124401913875599\n",
      "Predicted Result   1\n",
      "Actual Result       \n",
      "0                  6\n",
      "1                 16\n"
     ]
    },
    {
     "name": "stderr",
     "output_type": "stream",
     "text": [
      "/Users/philglazer/anaconda3/lib/python3.7/site-packages/sklearn/metrics/classification.py:1143: UndefinedMetricWarning:\n",
      "\n",
      "F-score is ill-defined and being set to 0.0 in labels with no predicted samples.\n",
      "\n",
      "/Users/philglazer/anaconda3/lib/python3.7/site-packages/pandas/core/frame.py:3940: SettingWithCopyWarning:\n",
      "\n",
      "\n",
      "A value is trying to be set on a copy of a slice from a DataFrame\n",
      "\n",
      "See the caveats in the documentation: http://pandas.pydata.org/pandas-docs/stable/indexing.html#indexing-view-versus-copy\n",
      "\n"
     ]
    },
    {
     "name": "stdout",
     "output_type": "stream",
     "text": [
      "[0.146161   0.15914269 0.09976292 0.15642362 0.08891211 0.05641688\n",
      " 0.27318077]\n"
     ]
    },
    {
     "data": {
      "image/png": "[encoded data removed]",
      "text/plain": [
       "<Figure size 432x288 with 1 Axes>"
      ]
     },
     "metadata": {
      "needs_background": "light"
     },
     "output_type": "display_data"
    },
    {
     "name": "stdout",
     "output_type": "stream",
     "text": [
      "AUC:  0.6979166666666667\n",
      "---------\n",
      "Predicting positive_6mo_change...\n",
      "Random Forest F1 Score: 0.6124401913875599\n",
      "Predicted Result   1\n",
      "Actual Result       \n",
      "0                  6\n",
      "1                 16\n",
      "XGBoost F1 Score: 0.6124401913875599\n",
      "Predicted Result   1\n",
      "Actual Result       \n",
      "0                  6\n",
      "1                 16\n"
     ]
    },
    {
     "name": "stderr",
     "output_type": "stream",
     "text": [
      "/Users/philglazer/anaconda3/lib/python3.7/site-packages/sklearn/metrics/classification.py:1143: UndefinedMetricWarning:\n",
      "\n",
      "F-score is ill-defined and being set to 0.0 in labels with no predicted samples.\n",
      "\n",
      "/Users/philglazer/anaconda3/lib/python3.7/site-packages/pandas/core/frame.py:3940: SettingWithCopyWarning:\n",
      "\n",
      "\n",
      "A value is trying to be set on a copy of a slice from a DataFrame\n",
      "\n",
      "See the caveats in the documentation: http://pandas.pydata.org/pandas-docs/stable/indexing.html#indexing-view-versus-copy\n",
      "\n"
     ]
    },
    {
     "name": "stdout",
     "output_type": "stream",
     "text": [
      "[0.09495117 0.13298577 0.08571354 0.14066414 0.04137997 0.01781461\n",
      " 0.1464908 ]\n"
     ]
    },
    {
     "data": {
      "image/png": "[encoded data removed]",
      "text/plain": [
       "<Figure size 432x288 with 1 Axes>"
      ]
     },
     "metadata": {
      "needs_background": "light"
     },
     "output_type": "display_data"
    },
    {
     "name": "stdout",
     "output_type": "stream",
     "text": [
      "AUC:  0.8947368421052632\n",
      "---------\n",
      "Predicting positive_12mo_change...\n",
      "Random Forest F1 Score: 0.8004434589800443\n",
      "Predicted Result   1\n",
      "Actual Result       \n",
      "0                  3\n",
      "1                 19\n",
      "XGBoost F1 Score: 0.8004434589800443\n",
      "Predicted Result   1\n",
      "Actual Result       \n",
      "0                  3\n",
      "1                 19\n"
     ]
    },
    {
     "name": "stderr",
     "output_type": "stream",
     "text": [
      "/Users/philglazer/anaconda3/lib/python3.7/site-packages/sklearn/metrics/classification.py:1143: UndefinedMetricWarning:\n",
      "\n",
      "F-score is ill-defined and being set to 0.0 in labels with no predicted samples.\n",
      "\n"
     ]
    },
    {
     "name": "stdout",
     "output_type": "stream",
     "text": [
      "[0.13476954 0.19998964 0.13150707 0.10908808 0.09371784 0.17532945\n",
      " 0.15559837]\n"
     ]
    },
    {
     "name": "stderr",
     "output_type": "stream",
     "text": [
      "/Users/philglazer/anaconda3/lib/python3.7/site-packages/pandas/core/frame.py:3940: SettingWithCopyWarning:\n",
      "\n",
      "\n",
      "A value is trying to be set on a copy of a slice from a DataFrame\n",
      "\n",
      "See the caveats in the documentation: http://pandas.pydata.org/pandas-docs/stable/indexing.html#indexing-view-versus-copy\n",
      "\n"
     ]
    },
    {
     "data": {
      "image/png": "[encoded data removed]",
      "text/plain": [
       "<Figure size 432x288 with 1 Axes>"
      ]
     },
     "metadata": {
      "needs_background": "light"
     },
     "output_type": "display_data"
    },
    {
     "name": "stdout",
     "output_type": "stream",
     "text": [
      "AUC:  0.875\n",
      "---------\n",
      "Predicting two_percent_plus_12mo...\n",
      "Random Forest F1 Score: 0.47933884297520657\n",
      "Predicted Result  0   1\n",
      "Actual Result          \n",
      "0                 1   9\n",
      "1                 0  12\n",
      "XGBoost F1 Score: 0.38502673796791437\n",
      "Predicted Result   1\n",
      "Actual Result       \n",
      "0                 10\n",
      "1                 12\n"
     ]
    },
    {
     "name": "stderr",
     "output_type": "stream",
     "text": [
      "/Users/philglazer/anaconda3/lib/python3.7/site-packages/sklearn/metrics/classification.py:1143: UndefinedMetricWarning:\n",
      "\n",
      "F-score is ill-defined and being set to 0.0 in labels with no predicted samples.\n",
      "\n"
     ]
    },
    {
     "name": "stdout",
     "output_type": "stream",
     "text": [
      "[0.31241255 0.35548337 0.05449492 0.09073347 0.01227654 0.04034338\n",
      " 0.13425576]\n"
     ]
    },
    {
     "name": "stderr",
     "output_type": "stream",
     "text": [
      "/Users/philglazer/anaconda3/lib/python3.7/site-packages/pandas/core/frame.py:3940: SettingWithCopyWarning:\n",
      "\n",
      "\n",
      "A value is trying to be set on a copy of a slice from a DataFrame\n",
      "\n",
      "See the caveats in the documentation: http://pandas.pydata.org/pandas-docs/stable/indexing.html#indexing-view-versus-copy\n",
      "\n"
     ]
    },
    {
     "data": {
      "image/png": "[encoded data removed]",
      "text/plain": [
       "<Figure size 432x288 with 1 Axes>"
      ]
     },
     "metadata": {
      "needs_background": "light"
     },
     "output_type": "display_data"
    },
    {
     "name": "stdout",
     "output_type": "stream",
     "text": [
      "AUC:  1.0\n",
      "---------\n",
      "Predicting five_percent_plus_12mo...\n",
      "Random Forest F1 Score: 0.955276907001045\n",
      "Predicted Result   0  1\n",
      "Actual Result          \n",
      "0                 14  1\n",
      "1                  0  7\n",
      "XGBoost F1 Score: 0.955276907001045\n",
      "Predicted Result   0  1\n",
      "Actual Result          \n",
      "0                 14  1\n",
      "1                  0  7\n"
     ]
    },
    {
     "name": "stderr",
     "output_type": "stream",
     "text": [
      "/Users/philglazer/anaconda3/lib/python3.7/site-packages/pandas/core/frame.py:3940: SettingWithCopyWarning:\n",
      "\n",
      "\n",
      "A value is trying to be set on a copy of a slice from a DataFrame\n",
      "\n",
      "See the caveats in the documentation: http://pandas.pydata.org/pandas-docs/stable/indexing.html#indexing-view-versus-copy\n",
      "\n"
     ]
    },
    {
     "name": "stdout",
     "output_type": "stream",
     "text": [
      "[0.15676484 0.24014504 0.09877289 0.09394446 0.19744715 0.118176\n",
      " 0.09474961]\n"
     ]
    },
    {
     "data": {
      "image/png": "[encoded data removed]",
      "text/plain": [
       "<Figure size 432x288 with 1 Axes>"
      ]
     },
     "metadata": {
      "needs_background": "light"
     },
     "output_type": "display_data"
    },
    {
     "name": "stdout",
     "output_type": "stream",
     "text": [
      "AUC:  0.7333333333333333\n",
      "---------\n",
      "Predicting positive_3mo_change...\n",
      "Random Forest F1 Score: 0.6562173458725181\n",
      "Predicted Result  0   1\n",
      "Actual Result          \n",
      "0                 4   6\n",
      "1                 1  11\n",
      "XGBoost F1 Score: 0.38502673796791437\n",
      "Predicted Result   1\n",
      "Actual Result       \n",
      "0                 10\n",
      "1                 12\n"
     ]
    },
    {
     "name": "stderr",
     "output_type": "stream",
     "text": [
      "/Users/philglazer/anaconda3/lib/python3.7/site-packages/sklearn/metrics/classification.py:1143: UndefinedMetricWarning:\n",
      "\n",
      "F-score is ill-defined and being set to 0.0 in labels with no predicted samples.\n",
      "\n",
      "/Users/philglazer/anaconda3/lib/python3.7/site-packages/pandas/core/frame.py:3940: SettingWithCopyWarning:\n",
      "\n",
      "\n",
      "A value is trying to be set on a copy of a slice from a DataFrame\n",
      "\n",
      "See the caveats in the documentation: http://pandas.pydata.org/pandas-docs/stable/indexing.html#indexing-view-versus-copy\n",
      "\n"
     ]
    },
    {
     "name": "stdout",
     "output_type": "stream",
     "text": [
      "[0.21527321 0.07406169 0.08443828 0.07729535 0.2558338  0.18263578\n",
      " 0.11046189]\n"
     ]
    },
    {
     "data": {
      "image/png": "[encoded data removed]",
      "text/plain": [
       "<Figure size 432x288 with 1 Axes>"
      ]
     },
     "metadata": {
      "needs_background": "light"
     },
     "output_type": "display_data"
    },
    {
     "name": "stdout",
     "output_type": "stream",
     "text": [
      "AUC:  0.7719298245614035\n",
      "---------\n",
      "Predicting positive_6mo_change...\n",
      "Random Forest F1 Score: 0.7858897858897861\n",
      "Predicted Result  0   1\n",
      "Actual Result          \n",
      "0                 1   2\n",
      "1                 3  16\n",
      "XGBoost F1 Score: 0.6877005347593584\n",
      "Predicted Result  0   1\n",
      "Actual Result          \n",
      "0                 1   2\n",
      "1                 6  13\n"
     ]
    },
    {
     "name": "stderr",
     "output_type": "stream",
     "text": [
      "/Users/philglazer/anaconda3/lib/python3.7/site-packages/pandas/core/frame.py:3940: SettingWithCopyWarning:\n",
      "\n",
      "\n",
      "A value is trying to be set on a copy of a slice from a DataFrame\n",
      "\n",
      "See the caveats in the documentation: http://pandas.pydata.org/pandas-docs/stable/indexing.html#indexing-view-versus-copy\n",
      "\n"
     ]
    },
    {
     "name": "stdout",
     "output_type": "stream",
     "text": [
      "[0.08821896 0.21737659 0.10638776 0.04171854 0.22202426 0.16974811\n",
      " 0.15452578]\n"
     ]
    },
    {
     "data": {
      "image/png": "[encoded data removed]",
      "text/plain": [
       "<Figure size 432x288 with 1 Axes>"
      ]
     },
     "metadata": {
      "needs_background": "light"
     },
     "output_type": "display_data"
    },
    {
     "name": "stdout",
     "output_type": "stream",
     "text": [
      "AUC:  0.9882352941176471\n",
      "---------\n",
      "Predicting positive_12mo_change...\n",
      "Random Forest F1 Score: 0.8399438399438399\n",
      "Predicted Result  0   1\n",
      "Actual Result          \n",
      "0                 2   3\n",
      "1                 0  17\n",
      "XGBoost F1 Score: 0.6736596736596737\n",
      "Predicted Result   1\n",
      "Actual Result       \n",
      "0                  5\n",
      "1                 17\n"
     ]
    },
    {
     "name": "stderr",
     "output_type": "stream",
     "text": [
      "/Users/philglazer/anaconda3/lib/python3.7/site-packages/sklearn/metrics/classification.py:1143: UndefinedMetricWarning:\n",
      "\n",
      "F-score is ill-defined and being set to 0.0 in labels with no predicted samples.\n",
      "\n",
      "/Users/philglazer/anaconda3/lib/python3.7/site-packages/pandas/core/frame.py:3940: SettingWithCopyWarning:\n",
      "\n",
      "\n",
      "A value is trying to be set on a copy of a slice from a DataFrame\n",
      "\n",
      "See the caveats in the documentation: http://pandas.pydata.org/pandas-docs/stable/indexing.html#indexing-view-versus-copy\n",
      "\n"
     ]
    },
    {
     "name": "stdout",
     "output_type": "stream",
     "text": [
      "[0.09969953 0.22224036 0.07288211 0.12204496 0.12259417 0.07999564\n",
      " 0.28054323]\n"
     ]
    },
    {
     "data": {
      "image/png": "[encoded data removed]",
      "text/plain": [
       "<Figure size 432x288 with 1 Axes>"
      ]
     },
     "metadata": {
      "needs_background": "light"
     },
     "output_type": "display_data"
    },
    {
     "name": "stdout",
     "output_type": "stream",
     "text": [
      "AUC:  0.7264957264957266\n",
      "---------\n",
      "Predicting two_percent_plus_12mo...\n",
      "Random Forest F1 Score: 0.6393939393939394\n",
      "Predicted Result  0  1\n",
      "Actual Result         \n",
      "0                 6  3\n",
      "1                 5  8\n",
      "XGBoost F1 Score: 0.23753665689149564\n",
      "Predicted Result   0\n",
      "Actual Result       \n",
      "0                  9\n",
      "1                 13\n"
     ]
    },
    {
     "name": "stderr",
     "output_type": "stream",
     "text": [
      "/Users/philglazer/anaconda3/lib/python3.7/site-packages/sklearn/metrics/classification.py:1143: UndefinedMetricWarning:\n",
      "\n",
      "F-score is ill-defined and being set to 0.0 in labels with no predicted samples.\n",
      "\n",
      "/Users/philglazer/anaconda3/lib/python3.7/site-packages/pandas/core/frame.py:3940: SettingWithCopyWarning:\n",
      "\n",
      "\n",
      "A value is trying to be set on a copy of a slice from a DataFrame\n",
      "\n",
      "See the caveats in the documentation: http://pandas.pydata.org/pandas-docs/stable/indexing.html#indexing-view-versus-copy\n",
      "\n"
     ]
    },
    {
     "name": "stdout",
     "output_type": "stream",
     "text": [
      "[0.22094598 0.06213797 0.08223018 0.12446069 0.05810188 0.05826875\n",
      " 0.39385456]\n"
     ]
    },
    {
     "data": {
      "image/png": "[encoded data removed]",
      "text/plain": [
       "<Figure size 432x288 with 1 Axes>"
      ]
     },
     "metadata": {
      "needs_background": "light"
     },
     "output_type": "display_data"
    },
    {
     "name": "stdout",
     "output_type": "stream",
     "text": [
      "AUC:  1.0\n",
      "---------\n",
      "Predicting five_percent_plus_12mo...\n",
      "Random Forest F1 Score: 0.827972027972028\n",
      "Predicted Result   0  1\n",
      "Actual Result          \n",
      "0                 18  0\n",
      "1                  3  1\n",
      "XGBoost F1 Score: 0.7363636363636363\n",
      "Predicted Result   0\n",
      "Actual Result       \n",
      "0                 18\n",
      "1                  4\n"
     ]
    },
    {
     "name": "stderr",
     "output_type": "stream",
     "text": [
      "/Users/philglazer/anaconda3/lib/python3.7/site-packages/sklearn/metrics/classification.py:1143: UndefinedMetricWarning:\n",
      "\n",
      "F-score is ill-defined and being set to 0.0 in labels with no predicted samples.\n",
      "\n",
      "/Users/philglazer/anaconda3/lib/python3.7/site-packages/pandas/core/frame.py:3940: SettingWithCopyWarning:\n",
      "\n",
      "\n",
      "A value is trying to be set on a copy of a slice from a DataFrame\n",
      "\n",
      "See the caveats in the documentation: http://pandas.pydata.org/pandas-docs/stable/indexing.html#indexing-view-versus-copy\n",
      "\n"
     ]
    },
    {
     "name": "stdout",
     "output_type": "stream",
     "text": [
      "[0.27513045 0.06838564 0.13627687 0.08115037 0.07956228 0.13757644\n",
      " 0.22191795]\n"
     ]
    },
    {
     "data": {
      "image/png": "[encoded data removed]",
      "text/plain": [
       "<Figure size 432x288 with 1 Axes>"
      ]
     },
     "metadata": {
      "needs_background": "light"
     },
     "output_type": "display_data"
    },
    {
     "name": "stdout",
     "output_type": "stream",
     "text": [
      "AUC:  0.9027777777777777\n",
      "---------\n",
      "Predicting positive_3mo_change...\n",
      "Random Forest F1 Score: 0.7363636363636363\n",
      "Predicted Result   1\n",
      "Actual Result       \n",
      "0                  4\n",
      "1                 18\n",
      "XGBoost F1 Score: 0.7363636363636363\n",
      "Predicted Result   1\n",
      "Actual Result       \n",
      "0                  4\n",
      "1                 18\n"
     ]
    },
    {
     "name": "stderr",
     "output_type": "stream",
     "text": [
      "/Users/philglazer/anaconda3/lib/python3.7/site-packages/sklearn/metrics/classification.py:1143: UndefinedMetricWarning:\n",
      "\n",
      "F-score is ill-defined and being set to 0.0 in labels with no predicted samples.\n",
      "\n",
      "/Users/philglazer/anaconda3/lib/python3.7/site-packages/pandas/core/frame.py:3940: SettingWithCopyWarning:\n",
      "\n",
      "\n",
      "A value is trying to be set on a copy of a slice from a DataFrame\n",
      "\n",
      "See the caveats in the documentation: http://pandas.pydata.org/pandas-docs/stable/indexing.html#indexing-view-versus-copy\n",
      "\n"
     ]
    },
    {
     "name": "stdout",
     "output_type": "stream",
     "text": [
      "[0.21529359 0.06351834 0.17282917 0.10470581 0.10219697 0.06102137\n",
      " 0.28043474]\n"
     ]
    },
    {
     "data": {
      "image/png": "[encoded data removed]",
      "text/plain": [
       "<Figure size 432x288 with 1 Axes>"
      ]
     },
     "metadata": {
      "needs_background": "light"
     },
     "output_type": "display_data"
    },
    {
     "name": "stdout",
     "output_type": "stream",
     "text": [
      "AUC:  0.9824561403508772\n",
      "---------\n",
      "Predicting positive_6mo_change...\n",
      "Random Forest F1 Score: 0.8004434589800443\n",
      "Predicted Result   1\n",
      "Actual Result       \n",
      "0                  3\n",
      "1                 19\n",
      "XGBoost F1 Score: 0.8004434589800443\n",
      "Predicted Result   1\n",
      "Actual Result       \n",
      "0                  3\n",
      "1                 19\n"
     ]
    },
    {
     "name": "stderr",
     "output_type": "stream",
     "text": [
      "/Users/philglazer/anaconda3/lib/python3.7/site-packages/sklearn/metrics/classification.py:1143: UndefinedMetricWarning:\n",
      "\n",
      "F-score is ill-defined and being set to 0.0 in labels with no predicted samples.\n",
      "\n",
      "/Users/philglazer/anaconda3/lib/python3.7/site-packages/pandas/core/frame.py:3940: SettingWithCopyWarning:\n",
      "\n",
      "\n",
      "A value is trying to be set on a copy of a slice from a DataFrame\n",
      "\n",
      "See the caveats in the documentation: http://pandas.pydata.org/pandas-docs/stable/indexing.html#indexing-view-versus-copy\n",
      "\n"
     ]
    },
    {
     "name": "stdout",
     "output_type": "stream",
     "text": [
      "[0.20479081 0.07673935 0.14500501 0.10882096 0.09148696 0.05073322\n",
      " 0.3224237 ]\n"
     ]
    },
    {
     "data": {
      "image/png": "[encoded data removed]",
      "text/plain": [
       "<Figure size 432x288 with 1 Axes>"
      ]
     },
     "metadata": {
      "needs_background": "light"
     },
     "output_type": "display_data"
    },
    {
     "name": "stdout",
     "output_type": "stream",
     "text": [
      "AUC:  1.0\n",
      "---------\n",
      "Predicting positive_12mo_change...\n",
      "Random Forest F1 Score: 1.0\n",
      "Predicted Result  0   1\n",
      "Actual Result          \n",
      "0                 1   0\n",
      "1                 0  21\n",
      "XGBoost F1 Score: 0.9323467230443975\n",
      "Predicted Result   1\n",
      "Actual Result       \n",
      "0                  1\n",
      "1                 21\n"
     ]
    },
    {
     "name": "stderr",
     "output_type": "stream",
     "text": [
      "/Users/philglazer/anaconda3/lib/python3.7/site-packages/sklearn/metrics/classification.py:1143: UndefinedMetricWarning:\n",
      "\n",
      "F-score is ill-defined and being set to 0.0 in labels with no predicted samples.\n",
      "\n",
      "/Users/philglazer/anaconda3/lib/python3.7/site-packages/pandas/core/frame.py:3940: SettingWithCopyWarning:\n",
      "\n",
      "\n",
      "A value is trying to be set on a copy of a slice from a DataFrame\n",
      "\n",
      "See the caveats in the documentation: http://pandas.pydata.org/pandas-docs/stable/indexing.html#indexing-view-versus-copy\n",
      "\n"
     ]
    },
    {
     "name": "stdout",
     "output_type": "stream",
     "text": [
      "[0.05153762 0.10235125 0.26829303 0.13997427 0.07673067 0.149268\n",
      " 0.21184516]\n"
     ]
    },
    {
     "data": {
      "image/png": "[encoded data removed]",
      "text/plain": [
       "<Figure size 432x288 with 1 Axes>"
      ]
     },
     "metadata": {
      "needs_background": "light"
     },
     "output_type": "display_data"
    },
    {
     "name": "stdout",
     "output_type": "stream",
     "text": [
      "AUC:  0.9166666666666666\n",
      "---------\n",
      "Predicting two_percent_plus_12mo...\n",
      "Random Forest F1 Score: 0.9090909090909091\n",
      "Predicted Result  0   1\n",
      "Actual Result          \n",
      "0                 3   1\n",
      "1                 1  17\n",
      "XGBoost F1 Score: 0.7363636363636363\n",
      "Predicted Result   1\n",
      "Actual Result       \n",
      "0                  4\n",
      "1                 18\n"
     ]
    },
    {
     "name": "stderr",
     "output_type": "stream",
     "text": [
      "/Users/philglazer/anaconda3/lib/python3.7/site-packages/sklearn/metrics/classification.py:1143: UndefinedMetricWarning:\n",
      "\n",
      "F-score is ill-defined and being set to 0.0 in labels with no predicted samples.\n",
      "\n",
      "/Users/philglazer/anaconda3/lib/python3.7/site-packages/pandas/core/frame.py:3940: SettingWithCopyWarning:\n",
      "\n",
      "\n",
      "A value is trying to be set on a copy of a slice from a DataFrame\n",
      "\n",
      "See the caveats in the documentation: http://pandas.pydata.org/pandas-docs/stable/indexing.html#indexing-view-versus-copy\n",
      "\n"
     ]
    },
    {
     "name": "stdout",
     "output_type": "stream",
     "text": [
      "[0.11625009 0.11387306 0.15763811 0.12671105 0.05159254 0.08175802\n",
      " 0.35217712]\n"
     ]
    },
    {
     "data": {
      "image/png": "[encoded data removed]",
      "text/plain": [
       "<Figure size 432x288 with 1 Axes>"
      ]
     },
     "metadata": {
      "needs_background": "light"
     },
     "output_type": "display_data"
    },
    {
     "name": "stdout",
     "output_type": "stream",
     "text": [
      "AUC:  0.9914529914529915\n",
      "---------\n",
      "Predicting five_percent_plus_12mo...\n",
      "Random Forest F1 Score: 0.9098484848484848\n",
      "Predicted Result  0   1\n",
      "Actual Result          \n",
      "0                 9   0\n",
      "1                 2  11\n",
      "XGBoost F1 Score: 0.8181818181818182\n",
      "Predicted Result  0  1\n",
      "Actual Result         \n",
      "0                 9  0\n",
      "1                 4  9\n"
     ]
    },
    {
     "name": "stderr",
     "output_type": "stream",
     "text": [
      "/Users/philglazer/anaconda3/lib/python3.7/site-packages/pandas/core/frame.py:3940: SettingWithCopyWarning:\n",
      "\n",
      "\n",
      "A value is trying to be set on a copy of a slice from a DataFrame\n",
      "\n",
      "See the caveats in the documentation: http://pandas.pydata.org/pandas-docs/stable/indexing.html#indexing-view-versus-copy\n",
      "\n"
     ]
    },
    {
     "name": "stdout",
     "output_type": "stream",
     "text": [
      "[0.1310376  0.14524945 0.05943777 0.20375395 0.14247723 0.07759753\n",
      " 0.15044646]\n"
     ]
    },
    {
     "data": {
      "image/png": "[encoded data removed]",
      "text/plain": [
       "<Figure size 432x288 with 1 Axes>"
      ]
     },
     "metadata": {
      "needs_background": "light"
     },
     "output_type": "display_data"
    },
    {
     "name": "stdout",
     "output_type": "stream",
     "text": [
      "AUC:  0.6666666666666667\n",
      "---------\n",
      "Predicting positive_3mo_change...\n",
      "Random Forest F1 Score: 0.8004434589800443\n",
      "Predicted Result   1\n",
      "Actual Result       \n",
      "0                  3\n",
      "1                 19\n",
      "XGBoost F1 Score: 0.8004434589800443\n",
      "Predicted Result   1\n",
      "Actual Result       \n",
      "0                  3\n",
      "1                 19\n"
     ]
    },
    {
     "name": "stderr",
     "output_type": "stream",
     "text": [
      "/Users/philglazer/anaconda3/lib/python3.7/site-packages/sklearn/metrics/classification.py:1143: UndefinedMetricWarning:\n",
      "\n",
      "F-score is ill-defined and being set to 0.0 in labels with no predicted samples.\n",
      "\n",
      "/Users/philglazer/anaconda3/lib/python3.7/site-packages/pandas/core/frame.py:3940: SettingWithCopyWarning:\n",
      "\n",
      "\n",
      "A value is trying to be set on a copy of a slice from a DataFrame\n",
      "\n",
      "See the caveats in the documentation: http://pandas.pydata.org/pandas-docs/stable/indexing.html#indexing-view-versus-copy\n",
      "\n"
     ]
    },
    {
     "name": "stdout",
     "output_type": "stream",
     "text": [
      "[0.07061714 0.16098671 0.06892863 0.16837055 0.11241212 0.09065414\n",
      " 0.18803071]\n"
     ]
    },
    {
     "data": {
      "image/png": "[encoded data removed]",
      "text/plain": [
       "<Figure size 432x288 with 1 Axes>"
      ]
     },
     "metadata": {
      "needs_background": "light"
     },
     "output_type": "display_data"
    },
    {
     "name": "stdout",
     "output_type": "stream",
     "text": [
      "AUC:  1.0\n",
      "---------\n",
      "Predicting positive_6mo_change...\n",
      "Random Forest F1 Score: 0.8658008658008658\n",
      "Predicted Result   1\n",
      "Actual Result       \n",
      "0                  2\n",
      "1                 20\n",
      "XGBoost F1 Score: 0.8658008658008658\n",
      "Predicted Result   1\n",
      "Actual Result       \n",
      "0                  2\n",
      "1                 20\n"
     ]
    },
    {
     "name": "stderr",
     "output_type": "stream",
     "text": [
      "/Users/philglazer/anaconda3/lib/python3.7/site-packages/sklearn/metrics/classification.py:1143: UndefinedMetricWarning:\n",
      "\n",
      "F-score is ill-defined and being set to 0.0 in labels with no predicted samples.\n",
      "\n",
      "/Users/philglazer/anaconda3/lib/python3.7/site-packages/pandas/core/frame.py:3940: SettingWithCopyWarning:\n",
      "\n",
      "\n",
      "A value is trying to be set on a copy of a slice from a DataFrame\n",
      "\n",
      "See the caveats in the documentation: http://pandas.pydata.org/pandas-docs/stable/indexing.html#indexing-view-versus-copy\n",
      "\n"
     ]
    },
    {
     "name": "stdout",
     "output_type": "stream",
     "text": [
      "[0.06332279 0.13895315 0.09844359 0.09843419 0.1475375  0.03121332\n",
      " 0.10209547]\n"
     ]
    },
    {
     "data": {
      "image/png": "[encoded data removed]",
      "text/plain": [
       "<Figure size 432x288 with 1 Axes>"
      ]
     },
     "metadata": {
      "needs_background": "light"
     },
     "output_type": "display_data"
    },
    {
     "name": "stdout",
     "output_type": "stream",
     "text": [
      "AUC:  0.9047619047619048\n",
      "---------\n",
      "Predicting positive_12mo_change...\n",
      "Random Forest F1 Score: 0.9323467230443975\n",
      "Predicted Result   1\n",
      "Actual Result       \n",
      "0                  1\n",
      "1                 21\n",
      "XGBoost F1 Score: 0.9323467230443975\n",
      "Predicted Result   1\n",
      "Actual Result       \n",
      "0                  1\n",
      "1                 21\n"
     ]
    },
    {
     "name": "stderr",
     "output_type": "stream",
     "text": [
      "/Users/philglazer/anaconda3/lib/python3.7/site-packages/sklearn/metrics/classification.py:1143: UndefinedMetricWarning:\n",
      "\n",
      "F-score is ill-defined and being set to 0.0 in labels with no predicted samples.\n",
      "\n",
      "/Users/philglazer/anaconda3/lib/python3.7/site-packages/pandas/core/frame.py:3940: SettingWithCopyWarning:\n",
      "\n",
      "\n",
      "A value is trying to be set on a copy of a slice from a DataFrame\n",
      "\n",
      "See the caveats in the documentation: http://pandas.pydata.org/pandas-docs/stable/indexing.html#indexing-view-versus-copy\n",
      "\n"
     ]
    },
    {
     "name": "stdout",
     "output_type": "stream",
     "text": [
      "[0.08803483 0.38669867 0.12781116 0.10241267 0.08265221 0.0635393\n",
      " 0.14885116]\n"
     ]
    },
    {
     "data": {
      "image/png": "[encoded data removed]",
      "text/plain": [
       "<Figure size 432x288 with 1 Axes>"
      ]
     },
     "metadata": {
      "needs_background": "light"
     },
     "output_type": "display_data"
    },
    {
     "name": "stdout",
     "output_type": "stream",
     "text": [
      "AUC:  0.9722222222222222\n",
      "---------\n",
      "Predicting two_percent_plus_12mo...\n",
      "Random Forest F1 Score: 0.8963317384370018\n",
      "Predicted Result  0   1\n",
      "Actual Result          \n",
      "0                 2   2\n",
      "1                 0  18\n",
      "XGBoost F1 Score: 0.7363636363636363\n",
      "Predicted Result   1\n",
      "Actual Result       \n",
      "0                  4\n",
      "1                 18\n"
     ]
    },
    {
     "name": "stderr",
     "output_type": "stream",
     "text": [
      "/Users/philglazer/anaconda3/lib/python3.7/site-packages/sklearn/metrics/classification.py:1143: UndefinedMetricWarning:\n",
      "\n",
      "F-score is ill-defined and being set to 0.0 in labels with no predicted samples.\n",
      "\n",
      "/Users/philglazer/anaconda3/lib/python3.7/site-packages/pandas/core/frame.py:3940: SettingWithCopyWarning:\n",
      "\n",
      "\n",
      "A value is trying to be set on a copy of a slice from a DataFrame\n",
      "\n",
      "See the caveats in the documentation: http://pandas.pydata.org/pandas-docs/stable/indexing.html#indexing-view-versus-copy\n",
      "\n"
     ]
    },
    {
     "name": "stdout",
     "output_type": "stream",
     "text": [
      "[0.07218719 0.46643964 0.0408971  0.08237115 0.06858284 0.01989171\n",
      " 0.24963036]\n"
     ]
    },
    {
     "data": {
      "image/png": "[encoded data removed]",
      "text/plain": [
       "<Figure size 432x288 with 1 Axes>"
      ]
     },
     "metadata": {
      "needs_background": "light"
     },
     "output_type": "display_data"
    },
    {
     "name": "stdout",
     "output_type": "stream",
     "text": [
      "AUC:  0.9821428571428571\n",
      "---------\n",
      "Predicting five_percent_plus_12mo...\n",
      "Random Forest F1 Score: 0.9538140020898641\n",
      "Predicted Result  0   1\n",
      "Actual Result          \n",
      "0                 7   1\n",
      "1                 0  14\n",
      "XGBoost F1 Score: 0.9550406020994257\n",
      "Predicted Result  0   1\n",
      "Actual Result          \n",
      "0                 8   0\n",
      "1                 1  13\n"
     ]
    },
    {
     "name": "stderr",
     "output_type": "stream",
     "text": [
      "/Users/philglazer/anaconda3/lib/python3.7/site-packages/pandas/core/frame.py:3940: SettingWithCopyWarning:\n",
      "\n",
      "\n",
      "A value is trying to be set on a copy of a slice from a DataFrame\n",
      "\n",
      "See the caveats in the documentation: http://pandas.pydata.org/pandas-docs/stable/indexing.html#indexing-view-versus-copy\n",
      "\n"
     ]
    },
    {
     "name": "stdout",
     "output_type": "stream",
     "text": [
      "[0.20683204 0.18758757 0.05218657 0.09015111 0.12004393 0.05466387\n",
      " 0.27853492]\n"
     ]
    },
    {
     "data": {
      "image/png": "[encoded data removed]",
      "text/plain": [
       "<Figure size 432x288 with 1 Axes>"
      ]
     },
     "metadata": {
      "needs_background": "light"
     },
     "output_type": "display_data"
    },
    {
     "name": "stdout",
     "output_type": "stream",
     "text": [
      "AUC:  0.8194444444444444\n",
      "---------\n",
      "Predicting positive_3mo_change...\n",
      "Random Forest F1 Score: 0.7363636363636363\n",
      "Predicted Result   1\n",
      "Actual Result       \n",
      "0                  4\n",
      "1                 18\n",
      "XGBoost F1 Score: 0.7363636363636363\n",
      "Predicted Result   1\n",
      "Actual Result       \n",
      "0                  4\n",
      "1                 18\n"
     ]
    },
    {
     "name": "stderr",
     "output_type": "stream",
     "text": [
      "/Users/philglazer/anaconda3/lib/python3.7/site-packages/sklearn/metrics/classification.py:1143: UndefinedMetricWarning:\n",
      "\n",
      "F-score is ill-defined and being set to 0.0 in labels with no predicted samples.\n",
      "\n",
      "/Users/philglazer/anaconda3/lib/python3.7/site-packages/pandas/core/frame.py:3940: SettingWithCopyWarning:\n",
      "\n",
      "\n",
      "A value is trying to be set on a copy of a slice from a DataFrame\n",
      "\n",
      "See the caveats in the documentation: http://pandas.pydata.org/pandas-docs/stable/indexing.html#indexing-view-versus-copy\n",
      "\n"
     ]
    },
    {
     "name": "stdout",
     "output_type": "stream",
     "text": [
      "[0.14217267 0.23082971 0.04160481 0.09345916 0.12879851 0.16461519\n",
      " 0.18851994]\n"
     ]
    },
    {
     "data": {
      "image/png": "[encoded data removed]",
      "text/plain": [
       "<Figure size 432x288 with 1 Axes>"
      ]
     },
     "metadata": {
      "needs_background": "light"
     },
     "output_type": "display_data"
    },
    {
     "name": "stdout",
     "output_type": "stream",
     "text": [
      "AUC:  0.8421052631578947\n",
      "---------\n",
      "Predicting positive_6mo_change...\n",
      "Random Forest F1 Score: 0.8004434589800443\n",
      "Predicted Result   1\n",
      "Actual Result       \n",
      "0                  3\n",
      "1                 19\n",
      "XGBoost F1 Score: 0.8004434589800443\n",
      "Predicted Result   1\n",
      "Actual Result       \n",
      "0                  3\n",
      "1                 19\n"
     ]
    },
    {
     "name": "stderr",
     "output_type": "stream",
     "text": [
      "/Users/philglazer/anaconda3/lib/python3.7/site-packages/sklearn/metrics/classification.py:1143: UndefinedMetricWarning:\n",
      "\n",
      "F-score is ill-defined and being set to 0.0 in labels with no predicted samples.\n",
      "\n",
      "/Users/philglazer/anaconda3/lib/python3.7/site-packages/pandas/core/frame.py:3940: SettingWithCopyWarning:\n",
      "\n",
      "\n",
      "A value is trying to be set on a copy of a slice from a DataFrame\n",
      "\n",
      "See the caveats in the documentation: http://pandas.pydata.org/pandas-docs/stable/indexing.html#indexing-view-versus-copy\n",
      "\n"
     ]
    },
    {
     "name": "stdout",
     "output_type": "stream",
     "text": [
      "[0.11931273 0.13390216 0.26210997 0.08754385 0.12413491 0.1201541\n",
      " 0.06284229]\n"
     ]
    },
    {
     "data": {
      "image/png": "[encoded data removed]",
      "text/plain": [
       "<Figure size 432x288 with 1 Axes>"
      ]
     },
     "metadata": {
      "needs_background": "light"
     },
     "output_type": "display_data"
    },
    {
     "name": "stdout",
     "output_type": "stream",
     "text": [
      "AUC:  0.9298245614035088\n",
      "---------\n",
      "Predicting positive_12mo_change...\n",
      "Random Forest F1 Score: 0.8004434589800443\n",
      "Predicted Result   1\n",
      "Actual Result       \n",
      "0                  3\n",
      "1                 19\n",
      "XGBoost F1 Score: 0.8004434589800443\n",
      "Predicted Result   1\n",
      "Actual Result       \n",
      "0                  3\n",
      "1                 19\n"
     ]
    },
    {
     "name": "stderr",
     "output_type": "stream",
     "text": [
      "/Users/philglazer/anaconda3/lib/python3.7/site-packages/sklearn/metrics/classification.py:1143: UndefinedMetricWarning:\n",
      "\n",
      "F-score is ill-defined and being set to 0.0 in labels with no predicted samples.\n",
      "\n",
      "/Users/philglazer/anaconda3/lib/python3.7/site-packages/pandas/core/frame.py:3940: SettingWithCopyWarning:\n",
      "\n",
      "\n",
      "A value is trying to be set on a copy of a slice from a DataFrame\n",
      "\n",
      "See the caveats in the documentation: http://pandas.pydata.org/pandas-docs/stable/indexing.html#indexing-view-versus-copy\n",
      "\n"
     ]
    },
    {
     "name": "stdout",
     "output_type": "stream",
     "text": [
      "[0.18256831 0.16568422 0.04397163 0.15545113 0.17818707 0.15840338\n",
      " 0.10573426]\n"
     ]
    },
    {
     "data": {
      "image/png": "[encoded data removed]",
      "text/plain": [
       "<Figure size 432x288 with 1 Axes>"
      ]
     },
     "metadata": {
      "needs_background": "light"
     },
     "output_type": "display_data"
    },
    {
     "name": "stdout",
     "output_type": "stream",
     "text": [
      "AUC:  0.9333333333333333\n",
      "---------\n",
      "Predicting two_percent_plus_12mo...\n",
      "Random Forest F1 Score: 0.6887700534759358\n",
      "Predicted Result  0   1\n",
      "Actual Result          \n",
      "0                 2   5\n",
      "1                 1  14\n",
      "XGBoost F1 Score: 0.5528255528255529\n",
      "Predicted Result   1\n",
      "Actual Result       \n",
      "0                  7\n",
      "1                 15\n"
     ]
    },
    {
     "name": "stderr",
     "output_type": "stream",
     "text": [
      "/Users/philglazer/anaconda3/lib/python3.7/site-packages/sklearn/metrics/classification.py:1143: UndefinedMetricWarning:\n",
      "\n",
      "F-score is ill-defined and being set to 0.0 in labels with no predicted samples.\n",
      "\n",
      "/Users/philglazer/anaconda3/lib/python3.7/site-packages/pandas/core/frame.py:3940: SettingWithCopyWarning:\n",
      "\n",
      "\n",
      "A value is trying to be set on a copy of a slice from a DataFrame\n",
      "\n",
      "See the caveats in the documentation: http://pandas.pydata.org/pandas-docs/stable/indexing.html#indexing-view-versus-copy\n",
      "\n"
     ]
    },
    {
     "name": "stdout",
     "output_type": "stream",
     "text": [
      "[0.19299956 0.24904863 0.05705846 0.15638105 0.15605788 0.14579852\n",
      " 0.0426559 ]\n"
     ]
    },
    {
     "data": {
      "image/png": "[encoded data removed]",
      "text/plain": [
       "<Figure size 432x288 with 1 Axes>"
      ]
     },
     "metadata": {
      "needs_background": "light"
     },
     "output_type": "display_data"
    },
    {
     "name": "stdout",
     "output_type": "stream",
     "text": [
      "AUC:  0.9750000000000001\n",
      "---------\n",
      "Predicting five_percent_plus_12mo...\n",
      "Random Forest F1 Score: 0.8627751196172249\n",
      "Predicted Result  0   1\n",
      "Actual Result          \n",
      "0                 8   2\n",
      "1                 1  11\n",
      "XGBoost F1 Score: 0.5606060606060606\n",
      "Predicted Result  0   1\n",
      "Actual Result          \n",
      "0                 2   8\n",
      "1                 0  12\n"
     ]
    },
    {
     "name": "stderr",
     "output_type": "stream",
     "text": [
      "/Users/philglazer/anaconda3/lib/python3.7/site-packages/pandas/core/frame.py:3940: SettingWithCopyWarning:\n",
      "\n",
      "\n",
      "A value is trying to be set on a copy of a slice from a DataFrame\n",
      "\n",
      "See the caveats in the documentation: http://pandas.pydata.org/pandas-docs/stable/indexing.html#indexing-view-versus-copy\n",
      "\n"
     ]
    },
    {
     "name": "stdout",
     "output_type": "stream",
     "text": [
      "[0.08243951 0.27454015 0.07647702 0.12828745 0.14258694 0.10926657\n",
      " 0.18640236]\n"
     ]
    },
    {
     "data": {
      "image/png": "[encoded data removed]",
      "text/plain": [
       "<Figure size 432x288 with 1 Axes>"
      ]
     },
     "metadata": {
      "needs_background": "light"
     },
     "output_type": "display_data"
    },
    {
     "name": "stdout",
     "output_type": "stream",
     "text": [
      "AUC:  0.5726495726495726\n",
      "---------\n",
      "Predicting positive_3mo_change...\n",
      "Random Forest F1 Score: 0.4171122994652407\n",
      "Predicted Result  0   1\n",
      "Actual Result          \n",
      "0                 0   9\n",
      "1                 1  12\n",
      "XGBoost F1 Score: 0.438961038961039\n",
      "Predicted Result   1\n",
      "Actual Result       \n",
      "0                  9\n",
      "1                 13\n"
     ]
    },
    {
     "name": "stderr",
     "output_type": "stream",
     "text": [
      "/Users/philglazer/anaconda3/lib/python3.7/site-packages/sklearn/metrics/classification.py:1143: UndefinedMetricWarning:\n",
      "\n",
      "F-score is ill-defined and being set to 0.0 in labels with no predicted samples.\n",
      "\n",
      "/Users/philglazer/anaconda3/lib/python3.7/site-packages/pandas/core/frame.py:3940: SettingWithCopyWarning:\n",
      "\n",
      "\n",
      "A value is trying to be set on a copy of a slice from a DataFrame\n",
      "\n",
      "See the caveats in the documentation: http://pandas.pydata.org/pandas-docs/stable/indexing.html#indexing-view-versus-copy\n",
      "\n"
     ]
    },
    {
     "name": "stdout",
     "output_type": "stream",
     "text": [
      "[0.12916325 0.18218296 0.15372901 0.20511143 0.16647601 0.12163651\n",
      " 0.04170083]\n"
     ]
    },
    {
     "data": {
      "image/png": "[encoded data removed]",
      "text/plain": [
       "<Figure size 432x288 with 1 Axes>"
      ]
     },
     "metadata": {
      "needs_background": "light"
     },
     "output_type": "display_data"
    },
    {
     "name": "stdout",
     "output_type": "stream",
     "text": [
      "AUC:  0.7264957264957266\n",
      "---------\n",
      "Predicting positive_6mo_change...\n",
      "Random Forest F1 Score: 0.6846590909090909\n",
      "Predicted Result  0   1\n",
      "Actual Result          \n",
      "0                 3   6\n",
      "1                 0  13\n",
      "XGBoost F1 Score: 0.438961038961039\n",
      "Predicted Result   1\n",
      "Actual Result       \n",
      "0                  9\n",
      "1                 13\n"
     ]
    },
    {
     "name": "stderr",
     "output_type": "stream",
     "text": [
      "/Users/philglazer/anaconda3/lib/python3.7/site-packages/sklearn/metrics/classification.py:1143: UndefinedMetricWarning:\n",
      "\n",
      "F-score is ill-defined and being set to 0.0 in labels with no predicted samples.\n",
      "\n",
      "/Users/philglazer/anaconda3/lib/python3.7/site-packages/pandas/core/frame.py:3940: SettingWithCopyWarning:\n",
      "\n",
      "\n",
      "A value is trying to be set on a copy of a slice from a DataFrame\n",
      "\n",
      "See the caveats in the documentation: http://pandas.pydata.org/pandas-docs/stable/indexing.html#indexing-view-versus-copy\n",
      "\n"
     ]
    },
    {
     "name": "stdout",
     "output_type": "stream",
     "text": [
      "[0.11115343 0.13606971 0.10262609 0.2381674  0.21314522 0.16089677\n",
      " 0.03794139]\n"
     ]
    },
    {
     "data": {
      "image/png": "[encoded data removed]",
      "text/plain": [
       "<Figure size 432x288 with 1 Axes>"
      ]
     },
     "metadata": {
      "needs_background": "light"
     },
     "output_type": "display_data"
    },
    {
     "name": "stdout",
     "output_type": "stream",
     "text": [
      "AUC:  0.7946428571428572\n",
      "---------\n",
      "Predicting positive_12mo_change...\n",
      "Random Forest F1 Score: 0.6225108225108226\n",
      "Predicted Result  0   1\n",
      "Actual Result          \n",
      "0                 3   5\n",
      "1                 3  11\n",
      "XGBoost F1 Score: 0.494949494949495\n",
      "Predicted Result   1\n",
      "Actual Result       \n",
      "0                  8\n",
      "1                 14\n"
     ]
    },
    {
     "name": "stderr",
     "output_type": "stream",
     "text": [
      "/Users/philglazer/anaconda3/lib/python3.7/site-packages/sklearn/metrics/classification.py:1143: UndefinedMetricWarning:\n",
      "\n",
      "F-score is ill-defined and being set to 0.0 in labels with no predicted samples.\n",
      "\n",
      "/Users/philglazer/anaconda3/lib/python3.7/site-packages/pandas/core/frame.py:3940: SettingWithCopyWarning:\n",
      "\n",
      "\n",
      "A value is trying to be set on a copy of a slice from a DataFrame\n",
      "\n",
      "See the caveats in the documentation: http://pandas.pydata.org/pandas-docs/stable/indexing.html#indexing-view-versus-copy\n",
      "\n"
     ]
    },
    {
     "name": "stdout",
     "output_type": "stream",
     "text": [
      "[0.07076447 0.21857199 0.05695563 0.18148976 0.19219231 0.15484879\n",
      " 0.12517706]\n"
     ]
    },
    {
     "data": {
      "image/png": "[encoded data removed]",
      "text/plain": [
       "<Figure size 432x288 with 1 Axes>"
      ]
     },
     "metadata": {
      "needs_background": "light"
     },
     "output_type": "display_data"
    },
    {
     "name": "stdout",
     "output_type": "stream",
     "text": [
      "AUC:  0.75\n",
      "---------\n",
      "Predicting two_percent_plus_12mo...\n",
      "Random Forest F1 Score: 0.6721763085399449\n",
      "Predicted Result   0  1\n",
      "Actual Result          \n",
      "0                 13  3\n",
      "1                  4  2\n",
      "XGBoost F1 Score: 0.6124401913875599\n",
      "Predicted Result   0\n",
      "Actual Result       \n",
      "0                 16\n",
      "1                  6\n"
     ]
    },
    {
     "name": "stderr",
     "output_type": "stream",
     "text": [
      "/Users/philglazer/anaconda3/lib/python3.7/site-packages/sklearn/metrics/classification.py:1143: UndefinedMetricWarning:\n",
      "\n",
      "F-score is ill-defined and being set to 0.0 in labels with no predicted samples.\n",
      "\n",
      "/Users/philglazer/anaconda3/lib/python3.7/site-packages/pandas/core/frame.py:3940: SettingWithCopyWarning:\n",
      "\n",
      "\n",
      "A value is trying to be set on a copy of a slice from a DataFrame\n",
      "\n",
      "See the caveats in the documentation: http://pandas.pydata.org/pandas-docs/stable/indexing.html#indexing-view-versus-copy\n",
      "\n"
     ]
    },
    {
     "name": "stdout",
     "output_type": "stream",
     "text": [
      "[0.08986336 0.04547629 0.18679179 0.10527314 0.0736098  0.04373741\n",
      " 0.05524821]\n"
     ]
    },
    {
     "name": "stderr",
     "output_type": "stream",
     "text": [
      "/Users/philglazer/anaconda3/lib/python3.7/site-packages/sklearn/metrics/ranking.py:656: UndefinedMetricWarning:\n",
      "\n",
      "No positive samples in y_true, true positive value should be meaningless\n",
      "\n"
     ]
    },
    {
     "data": {
      "image/png": "[encoded data removed]",
      "text/plain": [
       "<Figure size 432x288 with 1 Axes>"
      ]
     },
     "metadata": {
      "needs_background": "light"
     },
     "output_type": "display_data"
    },
    {
     "name": "stdout",
     "output_type": "stream",
     "text": [
      "AUC:  nan\n",
      "---------\n",
      "Predicting five_percent_plus_12mo...\n",
      "Random Forest F1 Score: 1.0\n",
      "Predicted Result   0\n",
      "Actual Result       \n",
      "0                 22\n",
      "XGBoost F1 Score: 1.0\n",
      "Predicted Result   0\n",
      "Actual Result       \n",
      "0                 22\n"
     ]
    },
    {
     "name": "stderr",
     "output_type": "stream",
     "text": [
      "/Users/philglazer/anaconda3/lib/python3.7/site-packages/pandas/core/frame.py:3940: SettingWithCopyWarning:\n",
      "\n",
      "\n",
      "A value is trying to be set on a copy of a slice from a DataFrame\n",
      "\n",
      "See the caveats in the documentation: http://pandas.pydata.org/pandas-docs/stable/indexing.html#indexing-view-versus-copy\n",
      "\n"
     ]
    },
    {
     "name": "stdout",
     "output_type": "stream",
     "text": [
      "[0.06152005 0.13476841 0.11221484 0.12114332 0.28058283 0.25894628\n",
      " 0.03082427]\n"
     ]
    },
    {
     "data": {
      "image/png": "[encoded data removed]",
      "text/plain": [
       "<Figure size 432x288 with 1 Axes>"
      ]
     },
     "metadata": {
      "needs_background": "light"
     },
     "output_type": "display_data"
    },
    {
     "name": "stdout",
     "output_type": "stream",
     "text": [
      "AUC:  0.8235294117647058\n",
      "---------\n",
      "Predicting positive_3mo_change...\n",
      "Random Forest F1 Score: 0.7272727272727273\n",
      "Predicted Result  0   1\n",
      "Actual Result          \n",
      "0                 2   3\n",
      "1                 3  14\n",
      "XGBoost F1 Score: 0.6736596736596737\n",
      "Predicted Result   1\n",
      "Actual Result       \n",
      "0                  5\n",
      "1                 17\n"
     ]
    },
    {
     "name": "stderr",
     "output_type": "stream",
     "text": [
      "/Users/philglazer/anaconda3/lib/python3.7/site-packages/sklearn/metrics/classification.py:1143: UndefinedMetricWarning:\n",
      "\n",
      "F-score is ill-defined and being set to 0.0 in labels with no predicted samples.\n",
      "\n",
      "/Users/philglazer/anaconda3/lib/python3.7/site-packages/pandas/core/frame.py:3940: SettingWithCopyWarning:\n",
      "\n",
      "\n",
      "A value is trying to be set on a copy of a slice from a DataFrame\n",
      "\n",
      "See the caveats in the documentation: http://pandas.pydata.org/pandas-docs/stable/indexing.html#indexing-view-versus-copy\n",
      "\n"
     ]
    },
    {
     "name": "stdout",
     "output_type": "stream",
     "text": [
      "[0.08313006 0.10199958 0.1217085  0.10894127 0.31213881 0.21971065\n",
      " 0.05237115]\n"
     ]
    },
    {
     "data": {
      "image/png": "[encoded data removed]",
      "text/plain": [
       "<Figure size 432x288 with 1 Axes>"
      ]
     },
     "metadata": {
      "needs_background": "light"
     },
     "output_type": "display_data"
    },
    {
     "name": "stdout",
     "output_type": "stream",
     "text": [
      "AUC:  0.8854166666666667\n",
      "---------\n",
      "Predicting positive_6mo_change...\n",
      "Random Forest F1 Score: 0.8053475935828878\n",
      "Predicted Result  0   1\n",
      "Actual Result          \n",
      "0                 3   3\n",
      "1                 1  15\n",
      "XGBoost F1 Score: 0.6124401913875599\n",
      "Predicted Result   1\n",
      "Actual Result       \n",
      "0                  6\n",
      "1                 16\n"
     ]
    },
    {
     "name": "stderr",
     "output_type": "stream",
     "text": [
      "/Users/philglazer/anaconda3/lib/python3.7/site-packages/sklearn/metrics/classification.py:1143: UndefinedMetricWarning:\n",
      "\n",
      "F-score is ill-defined and being set to 0.0 in labels with no predicted samples.\n",
      "\n",
      "/Users/philglazer/anaconda3/lib/python3.7/site-packages/pandas/core/frame.py:3940: SettingWithCopyWarning:\n",
      "\n",
      "\n",
      "A value is trying to be set on a copy of a slice from a DataFrame\n",
      "\n",
      "See the caveats in the documentation: http://pandas.pydata.org/pandas-docs/stable/indexing.html#indexing-view-versus-copy\n",
      "\n"
     ]
    },
    {
     "name": "stdout",
     "output_type": "stream",
     "text": [
      "[0.08906324 0.19133372 0.04551384 0.1022439  0.09433056 0.06655366\n",
      " 0.06096108]\n"
     ]
    },
    {
     "data": {
      "image/png": "[encoded data removed]",
      "text/plain": [
       "<Figure size 432x288 with 1 Axes>"
      ]
     },
     "metadata": {
      "needs_background": "light"
     },
     "output_type": "display_data"
    },
    {
     "name": "stdout",
     "output_type": "stream",
     "text": [
      "AUC:  0.925\n",
      "---------\n",
      "Predicting positive_12mo_change...\n",
      "Random Forest F1 Score: 0.8658008658008658\n",
      "Predicted Result   1\n",
      "Actual Result       \n",
      "0                  2\n",
      "1                 20\n",
      "XGBoost F1 Score: 0.8658008658008658\n",
      "Predicted Result   1\n",
      "Actual Result       \n",
      "0                  2\n",
      "1                 20\n"
     ]
    },
    {
     "name": "stderr",
     "output_type": "stream",
     "text": [
      "/Users/philglazer/anaconda3/lib/python3.7/site-packages/sklearn/metrics/classification.py:1143: UndefinedMetricWarning:\n",
      "\n",
      "F-score is ill-defined and being set to 0.0 in labels with no predicted samples.\n",
      "\n",
      "/Users/philglazer/anaconda3/lib/python3.7/site-packages/pandas/core/frame.py:3940: SettingWithCopyWarning:\n",
      "\n",
      "\n",
      "A value is trying to be set on a copy of a slice from a DataFrame\n",
      "\n",
      "See the caveats in the documentation: http://pandas.pydata.org/pandas-docs/stable/indexing.html#indexing-view-versus-copy\n",
      "\n"
     ]
    },
    {
     "name": "stdout",
     "output_type": "stream",
     "text": [
      "[0.05904671 0.18375561 0.03834119 0.0992474  0.32288364 0.26404765\n",
      " 0.03267779]\n"
     ]
    },
    {
     "data": {
      "image/png": "[encoded data removed]",
      "text/plain": [
       "<Figure size 432x288 with 1 Axes>"
      ]
     },
     "metadata": {
      "needs_background": "light"
     },
     "output_type": "display_data"
    },
    {
     "name": "stdout",
     "output_type": "stream",
     "text": [
      "AUC:  1.0\n",
      "---------\n",
      "Predicting two_percent_plus_12mo...\n",
      "Random Forest F1 Score: 0.9542583732057417\n",
      "Predicted Result  0   1\n",
      "Actual Result          \n",
      "0                 9   1\n",
      "1                 0  12\n",
      "XGBoost F1 Score: 0.38502673796791437\n",
      "Predicted Result   1\n",
      "Actual Result       \n",
      "0                 10\n",
      "1                 12\n"
     ]
    },
    {
     "name": "stderr",
     "output_type": "stream",
     "text": [
      "/Users/philglazer/anaconda3/lib/python3.7/site-packages/sklearn/metrics/classification.py:1143: UndefinedMetricWarning:\n",
      "\n",
      "F-score is ill-defined and being set to 0.0 in labels with no predicted samples.\n",
      "\n",
      "/Users/philglazer/anaconda3/lib/python3.7/site-packages/pandas/core/frame.py:3940: SettingWithCopyWarning:\n",
      "\n",
      "\n",
      "A value is trying to be set on a copy of a slice from a DataFrame\n",
      "\n",
      "See the caveats in the documentation: http://pandas.pydata.org/pandas-docs/stable/indexing.html#indexing-view-versus-copy\n",
      "\n"
     ]
    },
    {
     "name": "stdout",
     "output_type": "stream",
     "text": [
      "[0.07846334 0.143334   0.0403531  0.14360471 0.27610105 0.201116\n",
      " 0.11702781]\n"
     ]
    },
    {
     "data": {
      "image/png": "[encoded data removed]",
      "text/plain": [
       "<Figure size 432x288 with 1 Axes>"
      ]
     },
     "metadata": {
      "needs_background": "light"
     },
     "output_type": "display_data"
    },
    {
     "name": "stdout",
     "output_type": "stream",
     "text": [
      "AUC:  0.9316239316239316\n",
      "---------\n",
      "Predicting five_percent_plus_12mo...\n",
      "Random Forest F1 Score: 0.8621509209744506\n",
      "Predicted Result   0  1\n",
      "Actual Result          \n",
      "0                 12  1\n",
      "1                  2  7\n",
      "XGBoost F1 Score: 0.8181818181818182\n",
      "Predicted Result   0  1\n",
      "Actual Result          \n",
      "0                 11  2\n",
      "1                  2  7\n"
     ]
    },
    {
     "name": "stderr",
     "output_type": "stream",
     "text": [
      "/Users/philglazer/anaconda3/lib/python3.7/site-packages/pandas/core/frame.py:3940: SettingWithCopyWarning:\n",
      "\n",
      "\n",
      "A value is trying to be set on a copy of a slice from a DataFrame\n",
      "\n",
      "See the caveats in the documentation: http://pandas.pydata.org/pandas-docs/stable/indexing.html#indexing-view-versus-copy\n",
      "\n"
     ]
    },
    {
     "name": "stdout",
     "output_type": "stream",
     "text": [
      "[0.24550867 0.11487954 0.09546178 0.13332217 0.16788727 0.15999293\n",
      " 0.08294764]\n"
     ]
    },
    {
     "data": {
      "image/png": "[encoded data removed]",
      "text/plain": [
       "<Figure size 432x288 with 1 Axes>"
      ]
     },
     "metadata": {
      "needs_background": "light"
     },
     "output_type": "display_data"
    },
    {
     "name": "stdout",
     "output_type": "stream",
     "text": [
      "AUC:  0.9375\n",
      "---------\n",
      "Predicting positive_3mo_change...\n",
      "Random Forest F1 Score: 0.6988636363636365\n",
      "Predicted Result  0   1\n",
      "Actual Result          \n",
      "0                 3   5\n",
      "1                 1  13\n",
      "XGBoost F1 Score: 0.494949494949495\n",
      "Predicted Result   1\n",
      "Actual Result       \n",
      "0                  8\n",
      "1                 14\n"
     ]
    },
    {
     "name": "stderr",
     "output_type": "stream",
     "text": [
      "/Users/philglazer/anaconda3/lib/python3.7/site-packages/sklearn/metrics/classification.py:1143: UndefinedMetricWarning:\n",
      "\n",
      "F-score is ill-defined and being set to 0.0 in labels with no predicted samples.\n",
      "\n",
      "/Users/philglazer/anaconda3/lib/python3.7/site-packages/pandas/core/frame.py:3940: SettingWithCopyWarning:\n",
      "\n",
      "\n",
      "A value is trying to be set on a copy of a slice from a DataFrame\n",
      "\n",
      "See the caveats in the documentation: http://pandas.pydata.org/pandas-docs/stable/indexing.html#indexing-view-versus-copy\n",
      "\n"
     ]
    },
    {
     "name": "stdout",
     "output_type": "stream",
     "text": [
      "[0.23358446 0.19459528 0.04000381 0.11882205 0.13347655 0.18812774\n",
      " 0.09139011]\n"
     ]
    },
    {
     "data": {
      "image/png": "[encoded data removed]",
      "text/plain": [
       "<Figure size 432x288 with 1 Axes>"
      ]
     },
     "metadata": {
      "needs_background": "light"
     },
     "output_type": "display_data"
    },
    {
     "name": "stdout",
     "output_type": "stream",
     "text": [
      "AUC:  0.9743589743589743\n",
      "---------\n",
      "Predicting positive_6mo_change...\n",
      "Random Forest F1 Score: 0.6846590909090909\n",
      "Predicted Result  0   1\n",
      "Actual Result          \n",
      "0                 3   6\n",
      "1                 0  13\n",
      "XGBoost F1 Score: 0.438961038961039\n",
      "Predicted Result   1\n",
      "Actual Result       \n",
      "0                  9\n",
      "1                 13\n"
     ]
    },
    {
     "name": "stderr",
     "output_type": "stream",
     "text": [
      "/Users/philglazer/anaconda3/lib/python3.7/site-packages/sklearn/metrics/classification.py:1143: UndefinedMetricWarning:\n",
      "\n",
      "F-score is ill-defined and being set to 0.0 in labels with no predicted samples.\n",
      "\n",
      "/Users/philglazer/anaconda3/lib/python3.7/site-packages/pandas/core/frame.py:3940: SettingWithCopyWarning:\n",
      "\n",
      "\n",
      "A value is trying to be set on a copy of a slice from a DataFrame\n",
      "\n",
      "See the caveats in the documentation: http://pandas.pydata.org/pandas-docs/stable/indexing.html#indexing-view-versus-copy\n",
      "\n"
     ]
    },
    {
     "name": "stdout",
     "output_type": "stream",
     "text": [
      "[0.21832543 0.1828667  0.04951243 0.09712239 0.19977692 0.14746684\n",
      " 0.10492928]\n"
     ]
    },
    {
     "data": {
      "image/png": "[encoded data removed]",
      "text/plain": [
       "<Figure size 432x288 with 1 Axes>"
      ]
     },
     "metadata": {
      "needs_background": "light"
     },
     "output_type": "display_data"
    },
    {
     "name": "stdout",
     "output_type": "stream",
     "text": [
      "AUC:  0.9666666666666668\n",
      "---------\n",
      "Predicting positive_12mo_change...\n",
      "Random Forest F1 Score: 0.754440961337513\n",
      "Predicted Result  0   1\n",
      "Actual Result          \n",
      "0                 5   5\n",
      "1                 0  12\n",
      "XGBoost F1 Score: 0.38502673796791437\n",
      "Predicted Result   1\n",
      "Actual Result       \n",
      "0                 10\n",
      "1                 12\n"
     ]
    },
    {
     "name": "stderr",
     "output_type": "stream",
     "text": [
      "/Users/philglazer/anaconda3/lib/python3.7/site-packages/sklearn/metrics/classification.py:1143: UndefinedMetricWarning:\n",
      "\n",
      "F-score is ill-defined and being set to 0.0 in labels with no predicted samples.\n",
      "\n",
      "/Users/philglazer/anaconda3/lib/python3.7/site-packages/pandas/core/frame.py:3940: SettingWithCopyWarning:\n",
      "\n",
      "\n",
      "A value is trying to be set on a copy of a slice from a DataFrame\n",
      "\n",
      "See the caveats in the documentation: http://pandas.pydata.org/pandas-docs/stable/indexing.html#indexing-view-versus-copy\n",
      "\n"
     ]
    },
    {
     "name": "stdout",
     "output_type": "stream",
     "text": [
      "[0.20445128 0.17604298 0.03803851 0.08340199 0.20172324 0.19694716\n",
      " 0.09939485]\n"
     ]
    },
    {
     "data": {
      "image/png": "[encoded data removed]",
      "text/plain": [
       "<Figure size 432x288 with 1 Axes>"
      ]
     },
     "metadata": {
      "needs_background": "light"
     },
     "output_type": "display_data"
    },
    {
     "name": "stdout",
     "output_type": "stream",
     "text": [
      "AUC:  0.9666666666666667\n",
      "---------\n",
      "Predicting two_percent_plus_12mo...\n",
      "Random Forest F1 Score: 0.8084415584415584\n",
      "Predicted Result  0   1\n",
      "Actual Result          \n",
      "0                 6   4\n",
      "1                 0  12\n",
      "XGBoost F1 Score: 0.38502673796791437\n",
      "Predicted Result   1\n",
      "Actual Result       \n",
      "0                 10\n",
      "1                 12\n"
     ]
    },
    {
     "name": "stderr",
     "output_type": "stream",
     "text": [
      "/Users/philglazer/anaconda3/lib/python3.7/site-packages/sklearn/metrics/classification.py:1143: UndefinedMetricWarning:\n",
      "\n",
      "F-score is ill-defined and being set to 0.0 in labels with no predicted samples.\n",
      "\n",
      "/Users/philglazer/anaconda3/lib/python3.7/site-packages/pandas/core/frame.py:3940: SettingWithCopyWarning:\n",
      "\n",
      "\n",
      "A value is trying to be set on a copy of a slice from a DataFrame\n",
      "\n",
      "See the caveats in the documentation: http://pandas.pydata.org/pandas-docs/stable/indexing.html#indexing-view-versus-copy\n",
      "\n"
     ]
    },
    {
     "name": "stdout",
     "output_type": "stream",
     "text": [
      "[0.27842521 0.17767957 0.02364304 0.06813198 0.14224818 0.1508245\n",
      " 0.15904751]\n"
     ]
    },
    {
     "data": {
      "image/png": "[encoded data removed]",
      "text/plain": [
       "<Figure size 432x288 with 1 Axes>"
      ]
     },
     "metadata": {
      "needs_background": "light"
     },
     "output_type": "display_data"
    },
    {
     "name": "stdout",
     "output_type": "stream",
     "text": [
      "AUC:  0.9834710743801652\n",
      "---------\n",
      "Predicting five_percent_plus_12mo...\n",
      "Random Forest F1 Score: 0.9544513457556936\n",
      "Predicted Result   0   1\n",
      "Actual Result           \n",
      "0                 11   0\n",
      "1                  1  10\n",
      "XGBoost F1 Score: 0.8610526315789474\n",
      "Predicted Result  0   1\n",
      "Actual Result          \n",
      "0                 8   3\n",
      "1                 0  11\n"
     ]
    }
   ],
   "source": [
    "#good_zips = [77449, 37013, 37042, 77479]\n",
    "\n",
    "output = gather_models_list_of_zips(modeled_zipcodes, prediction_list)"
   ]
  },
  {
   "cell_type": "code",
   "execution_count": 1295,
   "metadata": {},
   "outputs": [],
   "source": [
    "pickle_out = open(\"modeled_zipcodes_dict.pickle\",\"wb\")\n",
    "pickle.dump(output, pickle_out)\n",
    "pickle_out.close()"
   ]
  },
  {
   "cell_type": "markdown",
   "metadata": {},
   "source": [
    "### Get Feature Importances"
   ]
  },
  {
   "cell_type": "code",
   "execution_count": 1299,
   "metadata": {},
   "outputs": [],
   "source": [
    "predictions = ['positive_3mo_change','positive_6mo_change','positive_12mo_change',\n",
    "              'two_percent_plus_12mo', 'five_percent_plus_12mo']"
   ]
  },
  {
   "cell_type": "code",
   "execution_count": 1298,
   "metadata": {},
   "outputs": [
    {
     "data": {
      "text/plain": [
       "{37042: {'positive_3mo_change': XGBClassifier(base_score=0.5, booster='gbtree', colsample_bylevel=1,\n",
       "         colsample_bytree=0.4, gamma=10, learning_rate=0.3, max_delta_step=0,\n",
       "         max_depth=6, min_child_weight=1, missing=None, n_estimators=100,\n",
       "         n_jobs=1, nthread=None, objective='binary:logistic', random_state=0,\n",
       "         reg_alpha=0.3, reg_lambda=1, scale_pos_weight=1, seed=None,\n",
       "         silent=True, subsample=0.8),\n",
       "  'positive_6mo_change': RandomForestClassifier(bootstrap=True, class_weight=None, criterion='gini',\n",
       "              max_depth=2, max_features='auto', max_leaf_nodes=None,\n",
       "              min_impurity_decrease=0.0, min_impurity_split=None,\n",
       "              min_samples_leaf=1, min_samples_split=2,\n",
       "              min_weight_fraction_leaf=0.0, n_estimators=100, n_jobs=None,\n",
       "              oob_score=False, random_state=0, verbose=0, warm_start=False),\n",
       "  'positive_12mo_change': RandomForestClassifier(bootstrap=True, class_weight=None, criterion='gini',\n",
       "              max_depth=2, max_features='auto', max_leaf_nodes=None,\n",
       "              min_impurity_decrease=0.0, min_impurity_split=None,\n",
       "              min_samples_leaf=1, min_samples_split=2,\n",
       "              min_weight_fraction_leaf=0.0, n_estimators=100, n_jobs=None,\n",
       "              oob_score=False, random_state=0, verbose=0, warm_start=False),\n",
       "  'two_percent_plus_12mo': RandomForestClassifier(bootstrap=True, class_weight=None, criterion='gini',\n",
       "              max_depth=2, max_features='auto', max_leaf_nodes=None,\n",
       "              min_impurity_decrease=0.0, min_impurity_split=None,\n",
       "              min_samples_leaf=1, min_samples_split=2,\n",
       "              min_weight_fraction_leaf=0.0, n_estimators=100, n_jobs=None,\n",
       "              oob_score=False, random_state=0, verbose=0, warm_start=False),\n",
       "  'five_percent_plus_12mo': RandomForestClassifier(bootstrap=True, class_weight=None, criterion='gini',\n",
       "              max_depth=2, max_features='auto', max_leaf_nodes=None,\n",
       "              min_impurity_decrease=0.0, min_impurity_split=None,\n",
       "              min_samples_leaf=1, min_samples_split=2,\n",
       "              min_weight_fraction_leaf=0.0, n_estimators=100, n_jobs=None,\n",
       "              oob_score=False, random_state=0, verbose=0, warm_start=False)},\n",
       " 77479: {'positive_3mo_change': RandomForestClassifier(bootstrap=True, class_weight=None, criterion='gini',\n",
       "              max_depth=2, max_features='auto', max_leaf_nodes=None,\n",
       "              min_impurity_decrease=0.0, min_impurity_split=None,\n",
       "              min_samples_leaf=1, min_samples_split=2,\n",
       "              min_weight_fraction_leaf=0.0, n_estimators=100, n_jobs=None,\n",
       "              oob_score=False, random_state=0, verbose=0, warm_start=False),\n",
       "  'positive_6mo_change': RandomForestClassifier(bootstrap=True, class_weight=None, criterion='gini',\n",
       "              max_depth=2, max_features='auto', max_leaf_nodes=None,\n",
       "              min_impurity_decrease=0.0, min_impurity_split=None,\n",
       "              min_samples_leaf=1, min_samples_split=2,\n",
       "              min_weight_fraction_leaf=0.0, n_estimators=100, n_jobs=None,\n",
       "              oob_score=False, random_state=0, verbose=0, warm_start=False),\n",
       "  'positive_12mo_change': RandomForestClassifier(bootstrap=True, class_weight=None, criterion='gini',\n",
       "              max_depth=2, max_features='auto', max_leaf_nodes=None,\n",
       "              min_impurity_decrease=0.0, min_impurity_split=None,\n",
       "              min_samples_leaf=1, min_samples_split=2,\n",
       "              min_weight_fraction_leaf=0.0, n_estimators=100, n_jobs=None,\n",
       "              oob_score=False, random_state=0, verbose=0, warm_start=False),\n",
       "  'two_percent_plus_12mo': RandomForestClassifier(bootstrap=True, class_weight=None, criterion='gini',\n",
       "              max_depth=2, max_features='auto', max_leaf_nodes=None,\n",
       "              min_impurity_decrease=0.0, min_impurity_split=None,\n",
       "              min_samples_leaf=1, min_samples_split=2,\n",
       "              min_weight_fraction_leaf=0.0, n_estimators=100, n_jobs=None,\n",
       "              oob_score=False, random_state=0, verbose=0, warm_start=False),\n",
       "  'five_percent_plus_12mo': RandomForestClassifier(bootstrap=True, class_weight=None, criterion='gini',\n",
       "              max_depth=2, max_features='auto', max_leaf_nodes=None,\n",
       "              min_impurity_decrease=0.0, min_impurity_split=None,\n",
       "              min_samples_leaf=1, min_samples_split=2,\n",
       "              min_weight_fraction_leaf=0.0, n_estimators=100, n_jobs=None,\n",
       "              oob_score=False, random_state=0, verbose=0, warm_start=False)},\n",
       " 87114: {'positive_3mo_change': RandomForestClassifier(bootstrap=True, class_weight=None, criterion='gini',\n",
       "              max_depth=2, max_features='auto', max_leaf_nodes=None,\n",
       "              min_impurity_decrease=0.0, min_impurity_split=None,\n",
       "              min_samples_leaf=1, min_samples_split=2,\n",
       "              min_weight_fraction_leaf=0.0, n_estimators=100, n_jobs=None,\n",
       "              oob_score=False, random_state=0, verbose=0, warm_start=False),\n",
       "  'positive_6mo_change': RandomForestClassifier(bootstrap=True, class_weight=None, criterion='gini',\n",
       "              max_depth=2, max_features='auto', max_leaf_nodes=None,\n",
       "              min_impurity_decrease=0.0, min_impurity_split=None,\n",
       "              min_samples_leaf=1, min_samples_split=2,\n",
       "              min_weight_fraction_leaf=0.0, n_estimators=100, n_jobs=None,\n",
       "              oob_score=False, random_state=0, verbose=0, warm_start=False),\n",
       "  'positive_12mo_change': RandomForestClassifier(bootstrap=True, class_weight=None, criterion='gini',\n",
       "              max_depth=2, max_features='auto', max_leaf_nodes=None,\n",
       "              min_impurity_decrease=0.0, min_impurity_split=None,\n",
       "              min_samples_leaf=1, min_samples_split=2,\n",
       "              min_weight_fraction_leaf=0.0, n_estimators=100, n_jobs=None,\n",
       "              oob_score=False, random_state=0, verbose=0, warm_start=False),\n",
       "  'two_percent_plus_12mo': RandomForestClassifier(bootstrap=True, class_weight=None, criterion='gini',\n",
       "              max_depth=2, max_features='auto', max_leaf_nodes=None,\n",
       "              min_impurity_decrease=0.0, min_impurity_split=None,\n",
       "              min_samples_leaf=1, min_samples_split=2,\n",
       "              min_weight_fraction_leaf=0.0, n_estimators=100, n_jobs=None,\n",
       "              oob_score=False, random_state=0, verbose=0, warm_start=False),\n",
       "  'five_percent_plus_12mo': RandomForestClassifier(bootstrap=True, class_weight=None, criterion='gini',\n",
       "              max_depth=2, max_features='auto', max_leaf_nodes=None,\n",
       "              min_impurity_decrease=0.0, min_impurity_split=None,\n",
       "              min_samples_leaf=1, min_samples_split=2,\n",
       "              min_weight_fraction_leaf=0.0, n_estimators=100, n_jobs=None,\n",
       "              oob_score=False, random_state=0, verbose=0, warm_start=False)},\n",
       " 6010: {'positive_3mo_change': RandomForestClassifier(bootstrap=True, class_weight=None, criterion='gini',\n",
       "              max_depth=2, max_features='auto', max_leaf_nodes=None,\n",
       "              min_impurity_decrease=0.0, min_impurity_split=None,\n",
       "              min_samples_leaf=1, min_samples_split=2,\n",
       "              min_weight_fraction_leaf=0.0, n_estimators=100, n_jobs=None,\n",
       "              oob_score=False, random_state=0, verbose=0, warm_start=False),\n",
       "  'positive_6mo_change': RandomForestClassifier(bootstrap=True, class_weight=None, criterion='gini',\n",
       "              max_depth=2, max_features='auto', max_leaf_nodes=None,\n",
       "              min_impurity_decrease=0.0, min_impurity_split=None,\n",
       "              min_samples_leaf=1, min_samples_split=2,\n",
       "              min_weight_fraction_leaf=0.0, n_estimators=100, n_jobs=None,\n",
       "              oob_score=False, random_state=0, verbose=0, warm_start=False),\n",
       "  'positive_12mo_change': RandomForestClassifier(bootstrap=True, class_weight=None, criterion='gini',\n",
       "              max_depth=2, max_features='auto', max_leaf_nodes=None,\n",
       "              min_impurity_decrease=0.0, min_impurity_split=None,\n",
       "              min_samples_leaf=1, min_samples_split=2,\n",
       "              min_weight_fraction_leaf=0.0, n_estimators=100, n_jobs=None,\n",
       "              oob_score=False, random_state=0, verbose=0, warm_start=False),\n",
       "  'two_percent_plus_12mo': RandomForestClassifier(bootstrap=True, class_weight=None, criterion='gini',\n",
       "              max_depth=2, max_features='auto', max_leaf_nodes=None,\n",
       "              min_impurity_decrease=0.0, min_impurity_split=None,\n",
       "              min_samples_leaf=1, min_samples_split=2,\n",
       "              min_weight_fraction_leaf=0.0, n_estimators=100, n_jobs=None,\n",
       "              oob_score=False, random_state=0, verbose=0, warm_start=False),\n",
       "  'five_percent_plus_12mo': RandomForestClassifier(bootstrap=True, class_weight=None, criterion='gini',\n",
       "              max_depth=2, max_features='auto', max_leaf_nodes=None,\n",
       "              min_impurity_decrease=0.0, min_impurity_split=None,\n",
       "              min_samples_leaf=1, min_samples_split=2,\n",
       "              min_weight_fraction_leaf=0.0, n_estimators=100, n_jobs=None,\n",
       "              oob_score=False, random_state=0, verbose=0, warm_start=False)},\n",
       " 33908: {'positive_3mo_change': RandomForestClassifier(bootstrap=True, class_weight=None, criterion='gini',\n",
       "              max_depth=2, max_features='auto', max_leaf_nodes=None,\n",
       "              min_impurity_decrease=0.0, min_impurity_split=None,\n",
       "              min_samples_leaf=1, min_samples_split=2,\n",
       "              min_weight_fraction_leaf=0.0, n_estimators=100, n_jobs=None,\n",
       "              oob_score=False, random_state=0, verbose=0, warm_start=False),\n",
       "  'positive_6mo_change': RandomForestClassifier(bootstrap=True, class_weight=None, criterion='gini',\n",
       "              max_depth=2, max_features='auto', max_leaf_nodes=None,\n",
       "              min_impurity_decrease=0.0, min_impurity_split=None,\n",
       "              min_samples_leaf=1, min_samples_split=2,\n",
       "              min_weight_fraction_leaf=0.0, n_estimators=100, n_jobs=None,\n",
       "              oob_score=False, random_state=0, verbose=0, warm_start=False),\n",
       "  'positive_12mo_change': RandomForestClassifier(bootstrap=True, class_weight=None, criterion='gini',\n",
       "              max_depth=2, max_features='auto', max_leaf_nodes=None,\n",
       "              min_impurity_decrease=0.0, min_impurity_split=None,\n",
       "              min_samples_leaf=1, min_samples_split=2,\n",
       "              min_weight_fraction_leaf=0.0, n_estimators=100, n_jobs=None,\n",
       "              oob_score=False, random_state=0, verbose=0, warm_start=False),\n",
       "  'two_percent_plus_12mo': RandomForestClassifier(bootstrap=True, class_weight=None, criterion='gini',\n",
       "              max_depth=2, max_features='auto', max_leaf_nodes=None,\n",
       "              min_impurity_decrease=0.0, min_impurity_split=None,\n",
       "              min_samples_leaf=1, min_samples_split=2,\n",
       "              min_weight_fraction_leaf=0.0, n_estimators=100, n_jobs=None,\n",
       "              oob_score=False, random_state=0, verbose=0, warm_start=False),\n",
       "  'five_percent_plus_12mo': RandomForestClassifier(bootstrap=True, class_weight=None, criterion='gini',\n",
       "              max_depth=2, max_features='auto', max_leaf_nodes=None,\n",
       "              min_impurity_decrease=0.0, min_impurity_split=None,\n",
       "              min_samples_leaf=1, min_samples_split=2,\n",
       "              min_weight_fraction_leaf=0.0, n_estimators=100, n_jobs=None,\n",
       "              oob_score=False, random_state=0, verbose=0, warm_start=False)},\n",
       " 97229: {'positive_3mo_change': RandomForestClassifier(bootstrap=True, class_weight=None, criterion='gini',\n",
       "              max_depth=2, max_features='auto', max_leaf_nodes=None,\n",
       "              min_impurity_decrease=0.0, min_impurity_split=None,\n",
       "              min_samples_leaf=1, min_samples_split=2,\n",
       "              min_weight_fraction_leaf=0.0, n_estimators=100, n_jobs=None,\n",
       "              oob_score=False, random_state=0, verbose=0, warm_start=False),\n",
       "  'positive_6mo_change': RandomForestClassifier(bootstrap=True, class_weight=None, criterion='gini',\n",
       "              max_depth=2, max_features='auto', max_leaf_nodes=None,\n",
       "              min_impurity_decrease=0.0, min_impurity_split=None,\n",
       "              min_samples_leaf=1, min_samples_split=2,\n",
       "              min_weight_fraction_leaf=0.0, n_estimators=100, n_jobs=None,\n",
       "              oob_score=False, random_state=0, verbose=0, warm_start=False),\n",
       "  'positive_12mo_change': RandomForestClassifier(bootstrap=True, class_weight=None, criterion='gini',\n",
       "              max_depth=2, max_features='auto', max_leaf_nodes=None,\n",
       "              min_impurity_decrease=0.0, min_impurity_split=None,\n",
       "              min_samples_leaf=1, min_samples_split=2,\n",
       "              min_weight_fraction_leaf=0.0, n_estimators=100, n_jobs=None,\n",
       "              oob_score=False, random_state=0, verbose=0, warm_start=False),\n",
       "  'two_percent_plus_12mo': RandomForestClassifier(bootstrap=True, class_weight=None, criterion='gini',\n",
       "              max_depth=2, max_features='auto', max_leaf_nodes=None,\n",
       "              min_impurity_decrease=0.0, min_impurity_split=None,\n",
       "              min_samples_leaf=1, min_samples_split=2,\n",
       "              min_weight_fraction_leaf=0.0, n_estimators=100, n_jobs=None,\n",
       "              oob_score=False, random_state=0, verbose=0, warm_start=False),\n",
       "  'five_percent_plus_12mo': XGBClassifier(base_score=0.5, booster='gbtree', colsample_bylevel=1,\n",
       "         colsample_bytree=0.4, gamma=10, learning_rate=0.3, max_delta_step=0,\n",
       "         max_depth=6, min_child_weight=1, missing=None, n_estimators=100,\n",
       "         n_jobs=1, nthread=None, objective='binary:logistic', random_state=0,\n",
       "         reg_alpha=0.3, reg_lambda=1, scale_pos_weight=1, seed=None,\n",
       "         silent=True, subsample=0.8)},\n",
       " 29732: {'positive_3mo_change': RandomForestClassifier(bootstrap=True, class_weight=None, criterion='gini',\n",
       "              max_depth=2, max_features='auto', max_leaf_nodes=None,\n",
       "              min_impurity_decrease=0.0, min_impurity_split=None,\n",
       "              min_samples_leaf=1, min_samples_split=2,\n",
       "              min_weight_fraction_leaf=0.0, n_estimators=100, n_jobs=None,\n",
       "              oob_score=False, random_state=0, verbose=0, warm_start=False),\n",
       "  'positive_6mo_change': RandomForestClassifier(bootstrap=True, class_weight=None, criterion='gini',\n",
       "              max_depth=2, max_features='auto', max_leaf_nodes=None,\n",
       "              min_impurity_decrease=0.0, min_impurity_split=None,\n",
       "              min_samples_leaf=1, min_samples_split=2,\n",
       "              min_weight_fraction_leaf=0.0, n_estimators=100, n_jobs=None,\n",
       "              oob_score=False, random_state=0, verbose=0, warm_start=False),\n",
       "  'positive_12mo_change': RandomForestClassifier(bootstrap=True, class_weight=None, criterion='gini',\n",
       "              max_depth=2, max_features='auto', max_leaf_nodes=None,\n",
       "              min_impurity_decrease=0.0, min_impurity_split=None,\n",
       "              min_samples_leaf=1, min_samples_split=2,\n",
       "              min_weight_fraction_leaf=0.0, n_estimators=100, n_jobs=None,\n",
       "              oob_score=False, random_state=0, verbose=0, warm_start=False),\n",
       "  'two_percent_plus_12mo': RandomForestClassifier(bootstrap=True, class_weight=None, criterion='gini',\n",
       "              max_depth=2, max_features='auto', max_leaf_nodes=None,\n",
       "              min_impurity_decrease=0.0, min_impurity_split=None,\n",
       "              min_samples_leaf=1, min_samples_split=2,\n",
       "              min_weight_fraction_leaf=0.0, n_estimators=100, n_jobs=None,\n",
       "              oob_score=False, random_state=0, verbose=0, warm_start=False),\n",
       "  'five_percent_plus_12mo': RandomForestClassifier(bootstrap=True, class_weight=None, criterion='gini',\n",
       "              max_depth=2, max_features='auto', max_leaf_nodes=None,\n",
       "              min_impurity_decrease=0.0, min_impurity_split=None,\n",
       "              min_samples_leaf=1, min_samples_split=2,\n",
       "              min_weight_fraction_leaf=0.0, n_estimators=100, n_jobs=None,\n",
       "              oob_score=False, random_state=0, verbose=0, warm_start=False)},\n",
       " 28314: {'positive_3mo_change': XGBClassifier(base_score=0.5, booster='gbtree', colsample_bylevel=1,\n",
       "         colsample_bytree=0.4, gamma=10, learning_rate=0.3, max_delta_step=0,\n",
       "         max_depth=6, min_child_weight=1, missing=None, n_estimators=100,\n",
       "         n_jobs=1, nthread=None, objective='binary:logistic', random_state=0,\n",
       "         reg_alpha=0.3, reg_lambda=1, scale_pos_weight=1, seed=None,\n",
       "         silent=True, subsample=0.8),\n",
       "  'positive_6mo_change': RandomForestClassifier(bootstrap=True, class_weight=None, criterion='gini',\n",
       "              max_depth=2, max_features='auto', max_leaf_nodes=None,\n",
       "              min_impurity_decrease=0.0, min_impurity_split=None,\n",
       "              min_samples_leaf=1, min_samples_split=2,\n",
       "              min_weight_fraction_leaf=0.0, n_estimators=100, n_jobs=None,\n",
       "              oob_score=False, random_state=0, verbose=0, warm_start=False),\n",
       "  'positive_12mo_change': RandomForestClassifier(bootstrap=True, class_weight=None, criterion='gini',\n",
       "              max_depth=2, max_features='auto', max_leaf_nodes=None,\n",
       "              min_impurity_decrease=0.0, min_impurity_split=None,\n",
       "              min_samples_leaf=1, min_samples_split=2,\n",
       "              min_weight_fraction_leaf=0.0, n_estimators=100, n_jobs=None,\n",
       "              oob_score=False, random_state=0, verbose=0, warm_start=False),\n",
       "  'two_percent_plus_12mo': RandomForestClassifier(bootstrap=True, class_weight=None, criterion='gini',\n",
       "              max_depth=2, max_features='auto', max_leaf_nodes=None,\n",
       "              min_impurity_decrease=0.0, min_impurity_split=None,\n",
       "              min_samples_leaf=1, min_samples_split=2,\n",
       "              min_weight_fraction_leaf=0.0, n_estimators=100, n_jobs=None,\n",
       "              oob_score=False, random_state=0, verbose=0, warm_start=False),\n",
       "  'five_percent_plus_12mo': RandomForestClassifier(bootstrap=True, class_weight=None, criterion='gini',\n",
       "              max_depth=2, max_features='auto', max_leaf_nodes=None,\n",
       "              min_impurity_decrease=0.0, min_impurity_split=None,\n",
       "              min_samples_leaf=1, min_samples_split=2,\n",
       "              min_weight_fraction_leaf=0.0, n_estimators=100, n_jobs=None,\n",
       "              oob_score=False, random_state=0, verbose=0, warm_start=False)},\n",
       " 40475: {'positive_3mo_change': RandomForestClassifier(bootstrap=True, class_weight=None, criterion='gini',\n",
       "              max_depth=2, max_features='auto', max_leaf_nodes=None,\n",
       "              min_impurity_decrease=0.0, min_impurity_split=None,\n",
       "              min_samples_leaf=1, min_samples_split=2,\n",
       "              min_weight_fraction_leaf=0.0, n_estimators=100, n_jobs=None,\n",
       "              oob_score=False, random_state=0, verbose=0, warm_start=False),\n",
       "  'positive_6mo_change': RandomForestClassifier(bootstrap=True, class_weight=None, criterion='gini',\n",
       "              max_depth=2, max_features='auto', max_leaf_nodes=None,\n",
       "              min_impurity_decrease=0.0, min_impurity_split=None,\n",
       "              min_samples_leaf=1, min_samples_split=2,\n",
       "              min_weight_fraction_leaf=0.0, n_estimators=100, n_jobs=None,\n",
       "              oob_score=False, random_state=0, verbose=0, warm_start=False),\n",
       "  'positive_12mo_change': RandomForestClassifier(bootstrap=True, class_weight=None, criterion='gini',\n",
       "              max_depth=2, max_features='auto', max_leaf_nodes=None,\n",
       "              min_impurity_decrease=0.0, min_impurity_split=None,\n",
       "              min_samples_leaf=1, min_samples_split=2,\n",
       "              min_weight_fraction_leaf=0.0, n_estimators=100, n_jobs=None,\n",
       "              oob_score=False, random_state=0, verbose=0, warm_start=False),\n",
       "  'two_percent_plus_12mo': RandomForestClassifier(bootstrap=True, class_weight=None, criterion='gini',\n",
       "              max_depth=2, max_features='auto', max_leaf_nodes=None,\n",
       "              min_impurity_decrease=0.0, min_impurity_split=None,\n",
       "              min_samples_leaf=1, min_samples_split=2,\n",
       "              min_weight_fraction_leaf=0.0, n_estimators=100, n_jobs=None,\n",
       "              oob_score=False, random_state=0, verbose=0, warm_start=False),\n",
       "  'five_percent_plus_12mo': RandomForestClassifier(bootstrap=True, class_weight=None, criterion='gini',\n",
       "              max_depth=2, max_features='auto', max_leaf_nodes=None,\n",
       "              min_impurity_decrease=0.0, min_impurity_split=None,\n",
       "              min_samples_leaf=1, min_samples_split=2,\n",
       "              min_weight_fraction_leaf=0.0, n_estimators=100, n_jobs=None,\n",
       "              oob_score=False, random_state=0, verbose=0, warm_start=False)},\n",
       " 19111: {'positive_3mo_change': RandomForestClassifier(bootstrap=True, class_weight=None, criterion='gini',\n",
       "              max_depth=2, max_features='auto', max_leaf_nodes=None,\n",
       "              min_impurity_decrease=0.0, min_impurity_split=None,\n",
       "              min_samples_leaf=1, min_samples_split=2,\n",
       "              min_weight_fraction_leaf=0.0, n_estimators=100, n_jobs=None,\n",
       "              oob_score=False, random_state=0, verbose=0, warm_start=False),\n",
       "  'positive_6mo_change': RandomForestClassifier(bootstrap=True, class_weight=None, criterion='gini',\n",
       "              max_depth=2, max_features='auto', max_leaf_nodes=None,\n",
       "              min_impurity_decrease=0.0, min_impurity_split=None,\n",
       "              min_samples_leaf=1, min_samples_split=2,\n",
       "              min_weight_fraction_leaf=0.0, n_estimators=100, n_jobs=None,\n",
       "              oob_score=False, random_state=0, verbose=0, warm_start=False),\n",
       "  'positive_12mo_change': RandomForestClassifier(bootstrap=True, class_weight=None, criterion='gini',\n",
       "              max_depth=2, max_features='auto', max_leaf_nodes=None,\n",
       "              min_impurity_decrease=0.0, min_impurity_split=None,\n",
       "              min_samples_leaf=1, min_samples_split=2,\n",
       "              min_weight_fraction_leaf=0.0, n_estimators=100, n_jobs=None,\n",
       "              oob_score=False, random_state=0, verbose=0, warm_start=False),\n",
       "  'two_percent_plus_12mo': RandomForestClassifier(bootstrap=True, class_weight=None, criterion='gini',\n",
       "              max_depth=2, max_features='auto', max_leaf_nodes=None,\n",
       "              min_impurity_decrease=0.0, min_impurity_split=None,\n",
       "              min_samples_leaf=1, min_samples_split=2,\n",
       "              min_weight_fraction_leaf=0.0, n_estimators=100, n_jobs=None,\n",
       "              oob_score=False, random_state=0, verbose=0, warm_start=False),\n",
       "  'five_percent_plus_12mo': RandomForestClassifier(bootstrap=True, class_weight=None, criterion='gini',\n",
       "              max_depth=2, max_features='auto', max_leaf_nodes=None,\n",
       "              min_impurity_decrease=0.0, min_impurity_split=None,\n",
       "              min_samples_leaf=1, min_samples_split=2,\n",
       "              min_weight_fraction_leaf=0.0, n_estimators=100, n_jobs=None,\n",
       "              oob_score=False, random_state=0, verbose=0, warm_start=False)}}"
      ]
     },
     "execution_count": 1298,
     "metadata": {},
     "output_type": "execute_result"
    }
   ],
   "source": [
    "output"
   ]
  },
  {
   "cell_type": "code",
   "execution_count": 1315,
   "metadata": {},
   "outputs": [
    {
     "data": {
      "text/html": [
       "<div>\n",
       "<style scoped>\n",
       "    .dataframe tbody tr th:only-of-type {\n",
       "        vertical-align: middle;\n",
       "    }\n",
       "\n",
       "    .dataframe tbody tr th {\n",
       "        vertical-align: top;\n",
       "    }\n",
       "\n",
       "    .dataframe thead th {\n",
       "        text-align: right;\n",
       "    }\n",
       "</style>\n",
       "<table border=\"1\" class=\"dataframe\">\n",
       "  <thead>\n",
       "    <tr style=\"text-align: right;\">\n",
       "      <th></th>\n",
       "      <th>0</th>\n",
       "      <th>1</th>\n",
       "      <th>2</th>\n",
       "      <th>3</th>\n",
       "      <th>4</th>\n",
       "      <th>5</th>\n",
       "      <th>6</th>\n",
       "    </tr>\n",
       "  </thead>\n",
       "  <tbody>\n",
       "    <tr>\n",
       "      <th>0</th>\n",
       "      <td>0.229163</td>\n",
       "      <td>0.188964</td>\n",
       "      <td>0.113612</td>\n",
       "      <td>0.082115</td>\n",
       "      <td>0.186518</td>\n",
       "      <td>0.163807</td>\n",
       "      <td>0.035822</td>\n",
       "    </tr>\n",
       "    <tr>\n",
       "      <th>1</th>\n",
       "      <td>0.234292</td>\n",
       "      <td>0.208470</td>\n",
       "      <td>0.103254</td>\n",
       "      <td>0.056657</td>\n",
       "      <td>0.121385</td>\n",
       "      <td>0.146078</td>\n",
       "      <td>0.129864</td>\n",
       "    </tr>\n",
       "    <tr>\n",
       "      <th>2</th>\n",
       "      <td>0.094951</td>\n",
       "      <td>0.132986</td>\n",
       "      <td>0.085714</td>\n",
       "      <td>0.140664</td>\n",
       "      <td>0.041380</td>\n",
       "      <td>0.017815</td>\n",
       "      <td>0.146491</td>\n",
       "    </tr>\n",
       "    <tr>\n",
       "      <th>3</th>\n",
       "      <td>0.088219</td>\n",
       "      <td>0.217377</td>\n",
       "      <td>0.106388</td>\n",
       "      <td>0.041719</td>\n",
       "      <td>0.222024</td>\n",
       "      <td>0.169748</td>\n",
       "      <td>0.154526</td>\n",
       "    </tr>\n",
       "    <tr>\n",
       "      <th>4</th>\n",
       "      <td>0.204791</td>\n",
       "      <td>0.076739</td>\n",
       "      <td>0.145005</td>\n",
       "      <td>0.108821</td>\n",
       "      <td>0.091487</td>\n",
       "      <td>0.050733</td>\n",
       "      <td>0.322424</td>\n",
       "    </tr>\n",
       "    <tr>\n",
       "      <th>5</th>\n",
       "      <td>0.063323</td>\n",
       "      <td>0.138953</td>\n",
       "      <td>0.098444</td>\n",
       "      <td>0.098434</td>\n",
       "      <td>0.147538</td>\n",
       "      <td>0.031213</td>\n",
       "      <td>0.102095</td>\n",
       "    </tr>\n",
       "    <tr>\n",
       "      <th>6</th>\n",
       "      <td>0.119313</td>\n",
       "      <td>0.133902</td>\n",
       "      <td>0.262110</td>\n",
       "      <td>0.087544</td>\n",
       "      <td>0.124135</td>\n",
       "      <td>0.120154</td>\n",
       "      <td>0.062842</td>\n",
       "    </tr>\n",
       "    <tr>\n",
       "      <th>7</th>\n",
       "      <td>0.111153</td>\n",
       "      <td>0.136070</td>\n",
       "      <td>0.102626</td>\n",
       "      <td>0.238167</td>\n",
       "      <td>0.213145</td>\n",
       "      <td>0.160897</td>\n",
       "      <td>0.037941</td>\n",
       "    </tr>\n",
       "    <tr>\n",
       "      <th>8</th>\n",
       "      <td>0.089063</td>\n",
       "      <td>0.191334</td>\n",
       "      <td>0.045514</td>\n",
       "      <td>0.102244</td>\n",
       "      <td>0.094331</td>\n",
       "      <td>0.066554</td>\n",
       "      <td>0.060961</td>\n",
       "    </tr>\n",
       "    <tr>\n",
       "      <th>9</th>\n",
       "      <td>0.218325</td>\n",
       "      <td>0.182867</td>\n",
       "      <td>0.049512</td>\n",
       "      <td>0.097122</td>\n",
       "      <td>0.199777</td>\n",
       "      <td>0.147467</td>\n",
       "      <td>0.104929</td>\n",
       "    </tr>\n",
       "  </tbody>\n",
       "</table>\n",
       "</div>"
      ],
      "text/plain": [
       "          0         1         2         3         4         5         6\n",
       "0  0.229163  0.188964  0.113612  0.082115  0.186518  0.163807  0.035822\n",
       "1  0.234292  0.208470  0.103254  0.056657  0.121385  0.146078  0.129864\n",
       "2  0.094951  0.132986  0.085714  0.140664  0.041380  0.017815  0.146491\n",
       "3  0.088219  0.217377  0.106388  0.041719  0.222024  0.169748  0.154526\n",
       "4  0.204791  0.076739  0.145005  0.108821  0.091487  0.050733  0.322424\n",
       "5  0.063323  0.138953  0.098444  0.098434  0.147538  0.031213  0.102095\n",
       "6  0.119313  0.133902  0.262110  0.087544  0.124135  0.120154  0.062842\n",
       "7  0.111153  0.136070  0.102626  0.238167  0.213145  0.160897  0.037941\n",
       "8  0.089063  0.191334  0.045514  0.102244  0.094331  0.066554  0.060961\n",
       "9  0.218325  0.182867  0.049512  0.097122  0.199777  0.147467  0.104929"
      ]
     },
     "execution_count": 1315,
     "metadata": {},
     "output_type": "execute_result"
    }
   ],
   "source": [
    "feature_importance_dict = {}\n",
    "\n",
    "for p in predictions:\n",
    "    for o in output.keys():\n",
    "        if p in feature_importance_dict.keys():\n",
    "            feature_importance_dict[p].append(output[o][p].feature_importances_)\n",
    "        else:\n",
    "            feature_importance_dict[p] = [output[o][p].feature_importances_]\n",
    "        #print(output[o][p].feature_importances_)\n",
    "        \n",
    "pd.DataFrame(feature_importance_dict['positive_12mo_change'])"
   ]
  },
  {
   "cell_type": "code",
   "execution_count": 1004,
   "metadata": {},
   "outputs": [
    {
     "name": "stderr",
     "output_type": "stream",
     "text": [
      "/Users/philglazer/anaconda3/lib/python3.7/site-packages/pandas/core/frame.py:3940: SettingWithCopyWarning:\n",
      "\n",
      "\n",
      "A value is trying to be set on a copy of a slice from a DataFrame\n",
      "\n",
      "See the caveats in the documentation: http://pandas.pydata.org/pandas-docs/stable/indexing.html#indexing-view-versus-copy\n",
      "\n"
     ]
    },
    {
     "name": "stdout",
     "output_type": "stream",
     "text": [
      "[0.31806897 0.0549442  0.14948799 0.03701764 0.07307767 0.15223911\n",
      " 0.21516443]\n",
      "---------\n",
      "Predicting positive_3mo_change...\n",
      "Random Forest F1 Score: 0.9526695526695526\n",
      "Predicted Result  0   1\n",
      "Actual Result          \n",
      "0                 4   1\n",
      "1                 0  17\n",
      "XGBoost F1 Score: 0.6736596736596737\n",
      "Predicted Result   1\n",
      "Actual Result       \n",
      "0                  5\n",
      "1                 17\n",
      "None\n"
     ]
    },
    {
     "name": "stderr",
     "output_type": "stream",
     "text": [
      "/Users/philglazer/anaconda3/lib/python3.7/site-packages/sklearn/metrics/classification.py:1143: UndefinedMetricWarning:\n",
      "\n",
      "F-score is ill-defined and being set to 0.0 in labels with no predicted samples.\n",
      "\n",
      "/Users/philglazer/anaconda3/lib/python3.7/site-packages/pandas/core/frame.py:3940: SettingWithCopyWarning:\n",
      "\n",
      "\n",
      "A value is trying to be set on a copy of a slice from a DataFrame\n",
      "\n",
      "See the caveats in the documentation: http://pandas.pydata.org/pandas-docs/stable/indexing.html#indexing-view-versus-copy\n",
      "\n"
     ]
    },
    {
     "name": "stdout",
     "output_type": "stream",
     "text": [
      "[0.35351473 0.07952628 0.05824746 0.09667748 0.10822902 0.07365014\n",
      " 0.23015489]\n",
      "---------\n",
      "Predicting positive_6mo_change...\n",
      "Random Forest F1 Score: 1.0\n",
      "Predicted Result  0   1\n",
      "Actual Result          \n",
      "0                 4   0\n",
      "1                 0  18\n",
      "XGBoost F1 Score: 0.7363636363636363\n",
      "Predicted Result   1\n",
      "Actual Result       \n",
      "0                  4\n",
      "1                 18\n",
      "None\n"
     ]
    },
    {
     "name": "stderr",
     "output_type": "stream",
     "text": [
      "/Users/philglazer/anaconda3/lib/python3.7/site-packages/sklearn/metrics/classification.py:1143: UndefinedMetricWarning:\n",
      "\n",
      "F-score is ill-defined and being set to 0.0 in labels with no predicted samples.\n",
      "\n",
      "/Users/philglazer/anaconda3/lib/python3.7/site-packages/pandas/core/frame.py:3940: SettingWithCopyWarning:\n",
      "\n",
      "\n",
      "A value is trying to be set on a copy of a slice from a DataFrame\n",
      "\n",
      "See the caveats in the documentation: http://pandas.pydata.org/pandas-docs/stable/indexing.html#indexing-view-versus-copy\n",
      "\n"
     ]
    },
    {
     "name": "stdout",
     "output_type": "stream",
     "text": [
      "[0.33582065 0.07782843 0.03485946 0.16836697 0.09124368 0.05235119\n",
      " 0.23952962]\n",
      "---------\n",
      "Predicting positive_12mo_change...\n",
      "Random Forest F1 Score: 0.8715338715338716\n",
      "Predicted Result  0   1\n",
      "Actual Result          \n",
      "0                 2   1\n",
      "1                 2  17\n",
      "XGBoost F1 Score: 0.8004434589800443\n",
      "Predicted Result   1\n",
      "Actual Result       \n",
      "0                  3\n",
      "1                 19\n",
      "None\n"
     ]
    },
    {
     "name": "stderr",
     "output_type": "stream",
     "text": [
      "/Users/philglazer/anaconda3/lib/python3.7/site-packages/sklearn/metrics/classification.py:1143: UndefinedMetricWarning:\n",
      "\n",
      "F-score is ill-defined and being set to 0.0 in labels with no predicted samples.\n",
      "\n",
      "/Users/philglazer/anaconda3/lib/python3.7/site-packages/pandas/core/frame.py:3940: SettingWithCopyWarning:\n",
      "\n",
      "\n",
      "A value is trying to be set on a copy of a slice from a DataFrame\n",
      "\n",
      "See the caveats in the documentation: http://pandas.pydata.org/pandas-docs/stable/indexing.html#indexing-view-versus-copy\n",
      "\n"
     ]
    },
    {
     "name": "stdout",
     "output_type": "stream",
     "text": [
      "[0.29773204 0.11190981 0.06350553 0.11983203 0.08527267 0.04012233\n",
      " 0.28162559]\n",
      "---------\n",
      "Predicting two_percent_plus_12mo...\n",
      "Random Forest F1 Score: 0.8053475935828878\n",
      "Predicted Result  0   1\n",
      "Actual Result          \n",
      "0                 3   3\n",
      "1                 1  15\n",
      "XGBoost F1 Score: 0.6124401913875599\n",
      "Predicted Result   1\n",
      "Actual Result       \n",
      "0                  6\n",
      "1                 16\n",
      "None\n"
     ]
    },
    {
     "name": "stderr",
     "output_type": "stream",
     "text": [
      "/Users/philglazer/anaconda3/lib/python3.7/site-packages/sklearn/metrics/classification.py:1143: UndefinedMetricWarning:\n",
      "\n",
      "F-score is ill-defined and being set to 0.0 in labels with no predicted samples.\n",
      "\n",
      "/Users/philglazer/anaconda3/lib/python3.7/site-packages/pandas/core/frame.py:3940: SettingWithCopyWarning:\n",
      "\n",
      "\n",
      "A value is trying to be set on a copy of a slice from a DataFrame\n",
      "\n",
      "See the caveats in the documentation: http://pandas.pydata.org/pandas-docs/stable/indexing.html#indexing-view-versus-copy\n",
      "\n"
     ]
    },
    {
     "name": "stdout",
     "output_type": "stream",
     "text": [
      "[0.31954668 0.12658443 0.11807664 0.04878831 0.06808655 0.03051754\n",
      " 0.28839986]\n",
      "---------\n",
      "Predicting five_percent_plus_12mo...\n",
      "Random Forest F1 Score: 0.9546395633352156\n",
      "Predicted Result   0   1\n",
      "Actual Result           \n",
      "0                 10   0\n",
      "1                  1  11\n",
      "XGBoost F1 Score: 0.8627893845285151\n",
      "Predicted Result   0  1\n",
      "Actual Result          \n",
      "0                 10  0\n",
      "1                  3  9\n",
      "None\n"
     ]
    },
    {
     "name": "stderr",
     "output_type": "stream",
     "text": [
      "/Users/philglazer/anaconda3/lib/python3.7/site-packages/pandas/core/frame.py:3940: SettingWithCopyWarning:\n",
      "\n",
      "\n",
      "A value is trying to be set on a copy of a slice from a DataFrame\n",
      "\n",
      "See the caveats in the documentation: http://pandas.pydata.org/pandas-docs/stable/indexing.html#indexing-view-versus-copy\n",
      "\n"
     ]
    },
    {
     "name": "stdout",
     "output_type": "stream",
     "text": [
      "[0.02855022 0.12096558 0.20021013 0.03997154 0.0717228  0.02489801\n",
      " 0.12368172]\n",
      "---------\n",
      "Predicting ten_percent_plus_12mo...\n",
      "Random Forest F1 Score: 0.7363636363636363\n",
      "Predicted Result   0\n",
      "Actual Result       \n",
      "0                 18\n",
      "1                  4\n",
      "XGBoost F1 Score: 0.7363636363636363\n",
      "Predicted Result   0\n",
      "Actual Result       \n",
      "0                 18\n",
      "1                  4\n",
      "None\n"
     ]
    },
    {
     "name": "stderr",
     "output_type": "stream",
     "text": [
      "/Users/philglazer/anaconda3/lib/python3.7/site-packages/sklearn/metrics/classification.py:1143: UndefinedMetricWarning:\n",
      "\n",
      "F-score is ill-defined and being set to 0.0 in labels with no predicted samples.\n",
      "\n"
     ]
    },
    {
     "data": {
      "image/png": "[encoded data removed]",
      "text/plain": [
       "<Figure size 432x288 with 1 Axes>"
      ]
     },
     "metadata": {
      "needs_background": "light"
     },
     "output_type": "display_data"
    }
   ],
   "source": [
    "iterate_over_predictions(77494, prediction_list)"
   ]
  },
  {
   "cell_type": "code",
   "execution_count": 923,
   "metadata": {},
   "outputs": [],
   "source": [
    "# write a function that finds the area codes that have data that works\n",
    "\n",
    "def check_zip(zip_code, start_date, end_date):\n",
    "    data = join_data_available(zip_code, data_sets_dict)\n",
    "    data = data[data['Date']>=start_date] \n",
    "    data = data[data['Date']<=end_date]\n",
    "    \n",
    "    for c in data.columns:\n",
    "        if data[c].isnull().sum() > 0:\n",
    "            return False\n",
    "    \n",
    "    features = ['foreclose_resales',\n",
    "     'median_listing_price',\n",
    "     'percent_listing_price_reductions',\n",
    "     'median_percent_price_reductions',\n",
    "     'monthly_listings_allhomes',\n",
    "     'median_daily_listings',\n",
    "     'price_to_rent_ratio']\n",
    "    \n",
    "    for f in features:\n",
    "        if f not in data.columns:\n",
    "            return False\n",
    "    \n",
    "    return True"
   ]
  },
  {
   "cell_type": "code",
   "execution_count": 926,
   "metadata": {},
   "outputs": [
    {
     "data": {
      "text/plain": [
       "False"
      ]
     },
     "execution_count": 926,
     "metadata": {},
     "output_type": "execute_result"
    }
   ],
   "source": [
    "check_zip(10467,'2013-12','2019-01')"
   ]
  },
  {
   "cell_type": "code",
   "execution_count": 927,
   "metadata": {},
   "outputs": [],
   "source": [
    "def check_list_of_zips(list_of_zips, start_date, end_date):\n",
    "    i = 0\n",
    "    good_zips = []\n",
    "    for l in list_of_zips:\n",
    "        if check_zip(l,start_date,end_date):\n",
    "            good_zips.append(l)\n",
    "        print(i)\n",
    "        i+=1\n",
    "    return good_zips"
   ]
  },
  {
   "cell_type": "code",
   "execution_count": 1125,
   "metadata": {},
   "outputs": [
    {
     "name": "stderr",
     "output_type": "stream",
     "text": [
      "/Users/philglazer/anaconda3/lib/python3.7/site-packages/pandas/core/frame.py:3940: SettingWithCopyWarning:\n",
      "\n",
      "\n",
      "A value is trying to be set on a copy of a slice from a DataFrame\n",
      "\n",
      "See the caveats in the documentation: http://pandas.pydata.org/pandas-docs/stable/indexing.html#indexing-view-versus-copy\n",
      "\n"
     ]
    },
    {
     "name": "stdout",
     "output_type": "stream",
     "text": [
      "0\n",
      "1\n",
      "2\n",
      "3\n",
      "4\n",
      "5\n",
      "6\n",
      "7\n",
      "8\n",
      "9\n",
      "10\n",
      "11\n",
      "12\n",
      "13\n",
      "14\n",
      "15\n",
      "16\n",
      "17\n",
      "18\n",
      "19\n",
      "20\n",
      "21\n",
      "22\n",
      "23\n",
      "24\n",
      "25\n",
      "26\n",
      "27\n",
      "28\n",
      "29\n",
      "30\n",
      "31\n",
      "32\n",
      "33\n",
      "34\n",
      "35\n",
      "36\n",
      "37\n",
      "38\n",
      "39\n",
      "40\n",
      "41\n",
      "42\n",
      "43\n",
      "44\n",
      "45\n",
      "46\n",
      "47\n",
      "48\n",
      "49\n"
     ]
    },
    {
     "data": {
      "text/plain": [
       "[21740, 34711, 19111, 74012, 27834, 21117, 92109, 48103, 30062, 75206, 2360]"
      ]
     },
     "execution_count": 1125,
     "metadata": {},
     "output_type": "execute_result"
    }
   ],
   "source": [
    "check_list_of_zips(list(zhvi_data['RegionName'][200:250]), '2013-12','2019-01')"
   ]
  },
  {
   "cell_type": "code",
   "execution_count": 1033,
   "metadata": {},
   "outputs": [],
   "source": [
    "good_zips = [77449, 37013, 37042, 77479, 30044]\n",
    "\n",
    "good_zips2 = [60629, 78704, 75287, 30024, 78745, 28027,\n",
    "              48197, 66062, 95630, 90044, 90805]\n",
    "\n",
    "good_zips3 = [92683, 37075, 87114, 6010, 78240, 87111, 76063, 33908, 97229, 91709, 92677]\n",
    "\n",
    "good_zips4 = [77845, 45011, 29732, 28314, 87120, 40475, 23320]\n",
    "\n",
    "good_zips5plus = "
   ]
  },
  {
   "cell_type": "code",
   "execution_count": 939,
   "metadata": {},
   "outputs": [
    {
     "name": "stdout",
     "output_type": "stream",
     "text": [
      "Predicting for: 60629...\n"
     ]
    },
    {
     "name": "stderr",
     "output_type": "stream",
     "text": [
      "/Users/philglazer/anaconda3/lib/python3.7/site-packages/pandas/core/frame.py:3940: SettingWithCopyWarning:\n",
      "\n",
      "\n",
      "A value is trying to be set on a copy of a slice from a DataFrame\n",
      "\n",
      "See the caveats in the documentation: http://pandas.pydata.org/pandas-docs/stable/indexing.html#indexing-view-versus-copy\n",
      "\n"
     ]
    },
    {
     "name": "stdout",
     "output_type": "stream",
     "text": [
      "---------\n",
      "Predicting positive_3mo_change...\n",
      "Random Forest F1 Score: 0.9475240206947523\n",
      "Predicted Result  0   1\n",
      "Actual Result          \n",
      "0                 1   1\n",
      "1                 0  20\n",
      "XGBoost F1 Score: 0.8658008658008658\n",
      "Predicted Result   1\n",
      "Actual Result       \n",
      "0                  2\n",
      "1                 20\n",
      "None\n"
     ]
    },
    {
     "name": "stderr",
     "output_type": "stream",
     "text": [
      "/Users/philglazer/anaconda3/lib/python3.7/site-packages/sklearn/metrics/classification.py:1143: UndefinedMetricWarning:\n",
      "\n",
      "F-score is ill-defined and being set to 0.0 in labels with no predicted samples.\n",
      "\n",
      "/Users/philglazer/anaconda3/lib/python3.7/site-packages/pandas/core/frame.py:3940: SettingWithCopyWarning:\n",
      "\n",
      "\n",
      "A value is trying to be set on a copy of a slice from a DataFrame\n",
      "\n",
      "See the caveats in the documentation: http://pandas.pydata.org/pandas-docs/stable/indexing.html#indexing-view-versus-copy\n",
      "\n"
     ]
    },
    {
     "name": "stdout",
     "output_type": "stream",
     "text": [
      "---------\n",
      "Predicting positive_6mo_change...\n",
      "Random Forest F1 Score: 0.8658008658008658\n",
      "Predicted Result   1\n",
      "Actual Result       \n",
      "0                  2\n",
      "1                 20\n",
      "XGBoost F1 Score: 0.8658008658008658\n",
      "Predicted Result   1\n",
      "Actual Result       \n",
      "0                  2\n",
      "1                 20\n",
      "None\n"
     ]
    },
    {
     "name": "stderr",
     "output_type": "stream",
     "text": [
      "/Users/philglazer/anaconda3/lib/python3.7/site-packages/sklearn/metrics/classification.py:1143: UndefinedMetricWarning:\n",
      "\n",
      "F-score is ill-defined and being set to 0.0 in labels with no predicted samples.\n",
      "\n",
      "/Users/philglazer/anaconda3/lib/python3.7/site-packages/pandas/core/frame.py:3940: SettingWithCopyWarning:\n",
      "\n",
      "\n",
      "A value is trying to be set on a copy of a slice from a DataFrame\n",
      "\n",
      "See the caveats in the documentation: http://pandas.pydata.org/pandas-docs/stable/indexing.html#indexing-view-versus-copy\n",
      "\n"
     ]
    },
    {
     "name": "stdout",
     "output_type": "stream",
     "text": [
      "---------\n",
      "Predicting positive_12mo_change...\n",
      "Random Forest F1 Score: 1.0\n",
      "Predicted Result   1\n",
      "Actual Result       \n",
      "1                 22\n",
      "XGBoost F1 Score: 1.0\n",
      "Predicted Result   1\n",
      "Actual Result       \n",
      "1                 22\n",
      "None\n"
     ]
    },
    {
     "name": "stderr",
     "output_type": "stream",
     "text": [
      "/Users/philglazer/anaconda3/lib/python3.7/site-packages/pandas/core/frame.py:3940: SettingWithCopyWarning:\n",
      "\n",
      "\n",
      "A value is trying to be set on a copy of a slice from a DataFrame\n",
      "\n",
      "See the caveats in the documentation: http://pandas.pydata.org/pandas-docs/stable/indexing.html#indexing-view-versus-copy\n",
      "\n"
     ]
    },
    {
     "name": "stdout",
     "output_type": "stream",
     "text": [
      "---------\n",
      "Predicting two_percent_plus_12mo...\n",
      "Random Forest F1 Score: 1.0\n",
      "Predicted Result   1\n",
      "Actual Result       \n",
      "1                 22\n",
      "XGBoost F1 Score: 1.0\n",
      "Predicted Result   1\n",
      "Actual Result       \n",
      "1                 22\n",
      "None\n"
     ]
    },
    {
     "name": "stderr",
     "output_type": "stream",
     "text": [
      "/Users/philglazer/anaconda3/lib/python3.7/site-packages/pandas/core/frame.py:3940: SettingWithCopyWarning:\n",
      "\n",
      "\n",
      "A value is trying to be set on a copy of a slice from a DataFrame\n",
      "\n",
      "See the caveats in the documentation: http://pandas.pydata.org/pandas-docs/stable/indexing.html#indexing-view-versus-copy\n",
      "\n"
     ]
    },
    {
     "name": "stdout",
     "output_type": "stream",
     "text": [
      "---------\n",
      "Predicting five_percent_plus_12mo...\n",
      "Random Forest F1 Score: 0.9026737967914439\n",
      "Predicted Result  0   1\n",
      "Actual Result          \n",
      "0                 4   2\n",
      "1                 0  16\n",
      "XGBoost F1 Score: 0.6124401913875599\n",
      "Predicted Result   1\n",
      "Actual Result       \n",
      "0                  6\n",
      "1                 16\n",
      "None\n"
     ]
    },
    {
     "name": "stderr",
     "output_type": "stream",
     "text": [
      "/Users/philglazer/anaconda3/lib/python3.7/site-packages/sklearn/metrics/classification.py:1143: UndefinedMetricWarning:\n",
      "\n",
      "F-score is ill-defined and being set to 0.0 in labels with no predicted samples.\n",
      "\n",
      "/Users/philglazer/anaconda3/lib/python3.7/site-packages/pandas/core/frame.py:3940: SettingWithCopyWarning:\n",
      "\n",
      "\n",
      "A value is trying to be set on a copy of a slice from a DataFrame\n",
      "\n",
      "See the caveats in the documentation: http://pandas.pydata.org/pandas-docs/stable/indexing.html#indexing-view-versus-copy\n",
      "\n"
     ]
    },
    {
     "name": "stdout",
     "output_type": "stream",
     "text": [
      "---------\n",
      "Predicting ten_percent_plus_12mo...\n",
      "Random Forest F1 Score: 0.7363636363636363\n",
      "Predicted Result   0\n",
      "Actual Result       \n",
      "0                 18\n",
      "1                  4\n",
      "XGBoost F1 Score: 0.7363636363636363\n",
      "Predicted Result   0\n",
      "Actual Result       \n",
      "0                 18\n",
      "1                  4\n",
      "None\n",
      "Predicting for: 78704...\n"
     ]
    },
    {
     "name": "stderr",
     "output_type": "stream",
     "text": [
      "/Users/philglazer/anaconda3/lib/python3.7/site-packages/sklearn/metrics/classification.py:1143: UndefinedMetricWarning:\n",
      "\n",
      "F-score is ill-defined and being set to 0.0 in labels with no predicted samples.\n",
      "\n"
     ]
    },
    {
     "name": "stdout",
     "output_type": "stream",
     "text": [
      "---------\n",
      "Predicting positive_3mo_change...\n",
      "Random Forest F1 Score: 1.0\n",
      "Predicted Result   1\n",
      "Actual Result       \n",
      "1                 22\n",
      "XGBoost F1 Score: 1.0\n",
      "Predicted Result   1\n",
      "Actual Result       \n",
      "1                 22\n",
      "None\n"
     ]
    },
    {
     "name": "stderr",
     "output_type": "stream",
     "text": [
      "/Users/philglazer/anaconda3/lib/python3.7/site-packages/pandas/core/frame.py:3940: SettingWithCopyWarning:\n",
      "\n",
      "\n",
      "A value is trying to be set on a copy of a slice from a DataFrame\n",
      "\n",
      "See the caveats in the documentation: http://pandas.pydata.org/pandas-docs/stable/indexing.html#indexing-view-versus-copy\n",
      "\n",
      "/Users/philglazer/anaconda3/lib/python3.7/site-packages/pandas/core/frame.py:3940: SettingWithCopyWarning:\n",
      "\n",
      "\n",
      "A value is trying to be set on a copy of a slice from a DataFrame\n",
      "\n",
      "See the caveats in the documentation: http://pandas.pydata.org/pandas-docs/stable/indexing.html#indexing-view-versus-copy\n",
      "\n"
     ]
    },
    {
     "name": "stdout",
     "output_type": "stream",
     "text": [
      "---------\n",
      "Predicting positive_6mo_change...\n",
      "Random Forest F1 Score: 1.0\n",
      "Predicted Result   1\n",
      "Actual Result       \n",
      "1                 22\n",
      "XGBoost F1 Score: 1.0\n",
      "Predicted Result   1\n",
      "Actual Result       \n",
      "1                 22\n",
      "None\n"
     ]
    },
    {
     "name": "stderr",
     "output_type": "stream",
     "text": [
      "/Users/philglazer/anaconda3/lib/python3.7/site-packages/pandas/core/frame.py:3940: SettingWithCopyWarning:\n",
      "\n",
      "\n",
      "A value is trying to be set on a copy of a slice from a DataFrame\n",
      "\n",
      "See the caveats in the documentation: http://pandas.pydata.org/pandas-docs/stable/indexing.html#indexing-view-versus-copy\n",
      "\n"
     ]
    },
    {
     "name": "stdout",
     "output_type": "stream",
     "text": [
      "---------\n",
      "Predicting positive_12mo_change...\n",
      "Random Forest F1 Score: 1.0\n",
      "Predicted Result   1\n",
      "Actual Result       \n",
      "1                 22\n",
      "XGBoost F1 Score: 1.0\n",
      "Predicted Result   1\n",
      "Actual Result       \n",
      "1                 22\n",
      "None\n"
     ]
    },
    {
     "name": "stderr",
     "output_type": "stream",
     "text": [
      "/Users/philglazer/anaconda3/lib/python3.7/site-packages/pandas/core/frame.py:3940: SettingWithCopyWarning:\n",
      "\n",
      "\n",
      "A value is trying to be set on a copy of a slice from a DataFrame\n",
      "\n",
      "See the caveats in the documentation: http://pandas.pydata.org/pandas-docs/stable/indexing.html#indexing-view-versus-copy\n",
      "\n"
     ]
    },
    {
     "name": "stdout",
     "output_type": "stream",
     "text": [
      "---------\n",
      "Predicting two_percent_plus_12mo...\n",
      "Random Forest F1 Score: 1.0\n",
      "Predicted Result   1\n",
      "Actual Result       \n",
      "1                 22\n",
      "XGBoost F1 Score: 1.0\n",
      "Predicted Result   1\n",
      "Actual Result       \n",
      "1                 22\n",
      "None\n"
     ]
    },
    {
     "name": "stderr",
     "output_type": "stream",
     "text": [
      "/Users/philglazer/anaconda3/lib/python3.7/site-packages/pandas/core/frame.py:3940: SettingWithCopyWarning:\n",
      "\n",
      "\n",
      "A value is trying to be set on a copy of a slice from a DataFrame\n",
      "\n",
      "See the caveats in the documentation: http://pandas.pydata.org/pandas-docs/stable/indexing.html#indexing-view-versus-copy\n",
      "\n"
     ]
    },
    {
     "name": "stdout",
     "output_type": "stream",
     "text": [
      "---------\n",
      "Predicting five_percent_plus_12mo...\n",
      "Random Forest F1 Score: 0.8886363636363637\n",
      "Predicted Result  0   1\n",
      "Actual Result          \n",
      "0                 1   2\n",
      "1                 0  19\n",
      "XGBoost F1 Score: 0.8004434589800443\n",
      "Predicted Result   1\n",
      "Actual Result       \n",
      "0                  3\n",
      "1                 19\n",
      "None\n"
     ]
    },
    {
     "name": "stderr",
     "output_type": "stream",
     "text": [
      "/Users/philglazer/anaconda3/lib/python3.7/site-packages/sklearn/metrics/classification.py:1143: UndefinedMetricWarning:\n",
      "\n",
      "F-score is ill-defined and being set to 0.0 in labels with no predicted samples.\n",
      "\n",
      "/Users/philglazer/anaconda3/lib/python3.7/site-packages/pandas/core/frame.py:3940: SettingWithCopyWarning:\n",
      "\n",
      "\n",
      "A value is trying to be set on a copy of a slice from a DataFrame\n",
      "\n",
      "See the caveats in the documentation: http://pandas.pydata.org/pandas-docs/stable/indexing.html#indexing-view-versus-copy\n",
      "\n"
     ]
    },
    {
     "name": "stdout",
     "output_type": "stream",
     "text": [
      "---------\n",
      "Predicting ten_percent_plus_12mo...\n",
      "Random Forest F1 Score: 0.9090909090909091\n",
      "Predicted Result   0  1\n",
      "Actual Result          \n",
      "0                 20  1\n",
      "1                  1  0\n",
      "XGBoost F1 Score: 0.9323467230443975\n",
      "Predicted Result   0\n",
      "Actual Result       \n",
      "0                 21\n",
      "1                  1\n",
      "None\n",
      "Predicting for: 75287...\n"
     ]
    },
    {
     "name": "stderr",
     "output_type": "stream",
     "text": [
      "/Users/philglazer/anaconda3/lib/python3.7/site-packages/sklearn/metrics/classification.py:1143: UndefinedMetricWarning:\n",
      "\n",
      "F-score is ill-defined and being set to 0.0 in labels with no predicted samples.\n",
      "\n",
      "/Users/philglazer/anaconda3/lib/python3.7/site-packages/pandas/core/frame.py:3940: SettingWithCopyWarning:\n",
      "\n",
      "\n",
      "A value is trying to be set on a copy of a slice from a DataFrame\n",
      "\n",
      "See the caveats in the documentation: http://pandas.pydata.org/pandas-docs/stable/indexing.html#indexing-view-versus-copy\n",
      "\n"
     ]
    },
    {
     "name": "stdout",
     "output_type": "stream",
     "text": [
      "---------\n",
      "Predicting positive_3mo_change...\n",
      "Random Forest F1 Score: 0.9323467230443975\n",
      "Predicted Result   1\n",
      "Actual Result       \n",
      "0                  1\n",
      "1                 21\n",
      "XGBoost F1 Score: 0.9323467230443975\n",
      "Predicted Result   1\n",
      "Actual Result       \n",
      "0                  1\n",
      "1                 21\n",
      "None\n"
     ]
    },
    {
     "name": "stderr",
     "output_type": "stream",
     "text": [
      "/Users/philglazer/anaconda3/lib/python3.7/site-packages/sklearn/metrics/classification.py:1143: UndefinedMetricWarning:\n",
      "\n",
      "F-score is ill-defined and being set to 0.0 in labels with no predicted samples.\n",
      "\n"
     ]
    },
    {
     "name": "stdout",
     "output_type": "stream",
     "text": [
      "---------\n",
      "Predicting positive_6mo_change...\n",
      "Random Forest F1 Score: 1.0\n",
      "Predicted Result   1\n",
      "Actual Result       \n",
      "1                 22\n",
      "XGBoost F1 Score: 1.0\n",
      "Predicted Result   1\n",
      "Actual Result       \n",
      "1                 22\n",
      "None\n"
     ]
    },
    {
     "name": "stderr",
     "output_type": "stream",
     "text": [
      "/Users/philglazer/anaconda3/lib/python3.7/site-packages/pandas/core/frame.py:3940: SettingWithCopyWarning:\n",
      "\n",
      "\n",
      "A value is trying to be set on a copy of a slice from a DataFrame\n",
      "\n",
      "See the caveats in the documentation: http://pandas.pydata.org/pandas-docs/stable/indexing.html#indexing-view-versus-copy\n",
      "\n",
      "/Users/philglazer/anaconda3/lib/python3.7/site-packages/pandas/core/frame.py:3940: SettingWithCopyWarning:\n",
      "\n",
      "\n",
      "A value is trying to be set on a copy of a slice from a DataFrame\n",
      "\n",
      "See the caveats in the documentation: http://pandas.pydata.org/pandas-docs/stable/indexing.html#indexing-view-versus-copy\n",
      "\n"
     ]
    },
    {
     "name": "stdout",
     "output_type": "stream",
     "text": [
      "---------\n",
      "Predicting positive_12mo_change...\n",
      "Random Forest F1 Score: 1.0\n",
      "Predicted Result   1\n",
      "Actual Result       \n",
      "1                 22\n",
      "XGBoost F1 Score: 1.0\n",
      "Predicted Result   1\n",
      "Actual Result       \n",
      "1                 22\n",
      "None\n"
     ]
    },
    {
     "name": "stderr",
     "output_type": "stream",
     "text": [
      "/Users/philglazer/anaconda3/lib/python3.7/site-packages/pandas/core/frame.py:3940: SettingWithCopyWarning:\n",
      "\n",
      "\n",
      "A value is trying to be set on a copy of a slice from a DataFrame\n",
      "\n",
      "See the caveats in the documentation: http://pandas.pydata.org/pandas-docs/stable/indexing.html#indexing-view-versus-copy\n",
      "\n"
     ]
    },
    {
     "name": "stdout",
     "output_type": "stream",
     "text": [
      "---------\n",
      "Predicting two_percent_plus_12mo...\n",
      "Random Forest F1 Score: 1.0\n",
      "Predicted Result   1\n",
      "Actual Result       \n",
      "1                 22\n",
      "XGBoost F1 Score: 1.0\n",
      "Predicted Result   1\n",
      "Actual Result       \n",
      "1                 22\n",
      "None\n"
     ]
    },
    {
     "name": "stderr",
     "output_type": "stream",
     "text": [
      "/Users/philglazer/anaconda3/lib/python3.7/site-packages/pandas/core/frame.py:3940: SettingWithCopyWarning:\n",
      "\n",
      "\n",
      "A value is trying to be set on a copy of a slice from a DataFrame\n",
      "\n",
      "See the caveats in the documentation: http://pandas.pydata.org/pandas-docs/stable/indexing.html#indexing-view-versus-copy\n",
      "\n"
     ]
    },
    {
     "name": "stdout",
     "output_type": "stream",
     "text": [
      "---------\n",
      "Predicting five_percent_plus_12mo...\n",
      "Random Forest F1 Score: 0.7069147069147068\n",
      "Predicted Result  0   1\n",
      "Actual Result          \n",
      "0                 1   5\n",
      "1                 0  16\n",
      "XGBoost F1 Score: 0.6124401913875599\n",
      "Predicted Result   1\n",
      "Actual Result       \n",
      "0                  6\n",
      "1                 16\n",
      "None\n"
     ]
    },
    {
     "name": "stderr",
     "output_type": "stream",
     "text": [
      "/Users/philglazer/anaconda3/lib/python3.7/site-packages/sklearn/metrics/classification.py:1143: UndefinedMetricWarning:\n",
      "\n",
      "F-score is ill-defined and being set to 0.0 in labels with no predicted samples.\n",
      "\n",
      "/Users/philglazer/anaconda3/lib/python3.7/site-packages/pandas/core/frame.py:3940: SettingWithCopyWarning:\n",
      "\n",
      "\n",
      "A value is trying to be set on a copy of a slice from a DataFrame\n",
      "\n",
      "See the caveats in the documentation: http://pandas.pydata.org/pandas-docs/stable/indexing.html#indexing-view-versus-copy\n",
      "\n"
     ]
    },
    {
     "name": "stdout",
     "output_type": "stream",
     "text": [
      "---------\n",
      "Predicting ten_percent_plus_12mo...\n",
      "Random Forest F1 Score: 0.827972027972028\n",
      "Predicted Result   0  1\n",
      "Actual Result          \n",
      "0                 18  0\n",
      "1                  3  1\n",
      "XGBoost F1 Score: 0.7363636363636363\n",
      "Predicted Result   0\n",
      "Actual Result       \n",
      "0                 18\n",
      "1                  4\n",
      "None\n",
      "Predicting for: 30024...\n"
     ]
    },
    {
     "name": "stderr",
     "output_type": "stream",
     "text": [
      "/Users/philglazer/anaconda3/lib/python3.7/site-packages/sklearn/metrics/classification.py:1143: UndefinedMetricWarning:\n",
      "\n",
      "F-score is ill-defined and being set to 0.0 in labels with no predicted samples.\n",
      "\n",
      "/Users/philglazer/anaconda3/lib/python3.7/site-packages/pandas/core/frame.py:3940: SettingWithCopyWarning:\n",
      "\n",
      "\n",
      "A value is trying to be set on a copy of a slice from a DataFrame\n",
      "\n",
      "See the caveats in the documentation: http://pandas.pydata.org/pandas-docs/stable/indexing.html#indexing-view-versus-copy\n",
      "\n"
     ]
    },
    {
     "name": "stdout",
     "output_type": "stream",
     "text": [
      "---------\n",
      "Predicting positive_3mo_change...\n",
      "Random Forest F1 Score: 1.0\n",
      "Predicted Result   1\n",
      "Actual Result       \n",
      "1                 22\n",
      "XGBoost F1 Score: 1.0\n",
      "Predicted Result   1\n",
      "Actual Result       \n",
      "1                 22\n",
      "None\n"
     ]
    },
    {
     "name": "stderr",
     "output_type": "stream",
     "text": [
      "/Users/philglazer/anaconda3/lib/python3.7/site-packages/pandas/core/frame.py:3940: SettingWithCopyWarning:\n",
      "\n",
      "\n",
      "A value is trying to be set on a copy of a slice from a DataFrame\n",
      "\n",
      "See the caveats in the documentation: http://pandas.pydata.org/pandas-docs/stable/indexing.html#indexing-view-versus-copy\n",
      "\n"
     ]
    },
    {
     "name": "stdout",
     "output_type": "stream",
     "text": [
      "---------\n",
      "Predicting positive_6mo_change...\n",
      "Random Forest F1 Score: 1.0\n",
      "Predicted Result   1\n",
      "Actual Result       \n",
      "1                 22\n",
      "XGBoost F1 Score: 1.0\n",
      "Predicted Result   1\n",
      "Actual Result       \n",
      "1                 22\n",
      "None\n"
     ]
    },
    {
     "name": "stderr",
     "output_type": "stream",
     "text": [
      "/Users/philglazer/anaconda3/lib/python3.7/site-packages/pandas/core/frame.py:3940: SettingWithCopyWarning:\n",
      "\n",
      "\n",
      "A value is trying to be set on a copy of a slice from a DataFrame\n",
      "\n",
      "See the caveats in the documentation: http://pandas.pydata.org/pandas-docs/stable/indexing.html#indexing-view-versus-copy\n",
      "\n"
     ]
    },
    {
     "name": "stdout",
     "output_type": "stream",
     "text": [
      "---------\n",
      "Predicting positive_12mo_change...\n",
      "Random Forest F1 Score: 1.0\n",
      "Predicted Result   1\n",
      "Actual Result       \n",
      "1                 22\n",
      "XGBoost F1 Score: 1.0\n",
      "Predicted Result   1\n",
      "Actual Result       \n",
      "1                 22\n",
      "None\n"
     ]
    },
    {
     "name": "stderr",
     "output_type": "stream",
     "text": [
      "/Users/philglazer/anaconda3/lib/python3.7/site-packages/pandas/core/frame.py:3940: SettingWithCopyWarning:\n",
      "\n",
      "\n",
      "A value is trying to be set on a copy of a slice from a DataFrame\n",
      "\n",
      "See the caveats in the documentation: http://pandas.pydata.org/pandas-docs/stable/indexing.html#indexing-view-versus-copy\n",
      "\n"
     ]
    },
    {
     "name": "stdout",
     "output_type": "stream",
     "text": [
      "---------\n",
      "Predicting two_percent_plus_12mo...\n",
      "Random Forest F1 Score: 1.0\n",
      "Predicted Result   1\n",
      "Actual Result       \n",
      "1                 22\n",
      "XGBoost F1 Score: 1.0\n",
      "Predicted Result   1\n",
      "Actual Result       \n",
      "1                 22\n",
      "None\n"
     ]
    },
    {
     "name": "stderr",
     "output_type": "stream",
     "text": [
      "/Users/philglazer/anaconda3/lib/python3.7/site-packages/pandas/core/frame.py:3940: SettingWithCopyWarning:\n",
      "\n",
      "\n",
      "A value is trying to be set on a copy of a slice from a DataFrame\n",
      "\n",
      "See the caveats in the documentation: http://pandas.pydata.org/pandas-docs/stable/indexing.html#indexing-view-versus-copy\n",
      "\n"
     ]
    },
    {
     "name": "stdout",
     "output_type": "stream",
     "text": [
      "---------\n",
      "Predicting five_percent_plus_12mo...\n",
      "Random Forest F1 Score: 0.8658008658008658\n",
      "Predicted Result   1\n",
      "Actual Result       \n",
      "0                  2\n",
      "1                 20\n",
      "XGBoost F1 Score: 0.8658008658008658\n",
      "Predicted Result   1\n",
      "Actual Result       \n",
      "0                  2\n",
      "1                 20\n",
      "None\n"
     ]
    },
    {
     "name": "stderr",
     "output_type": "stream",
     "text": [
      "/Users/philglazer/anaconda3/lib/python3.7/site-packages/sklearn/metrics/classification.py:1143: UndefinedMetricWarning:\n",
      "\n",
      "F-score is ill-defined and being set to 0.0 in labels with no predicted samples.\n",
      "\n",
      "/Users/philglazer/anaconda3/lib/python3.7/site-packages/pandas/core/frame.py:3940: SettingWithCopyWarning:\n",
      "\n",
      "\n",
      "A value is trying to be set on a copy of a slice from a DataFrame\n",
      "\n",
      "See the caveats in the documentation: http://pandas.pydata.org/pandas-docs/stable/indexing.html#indexing-view-versus-copy\n",
      "\n"
     ]
    },
    {
     "name": "stdout",
     "output_type": "stream",
     "text": [
      "---------\n",
      "Predicting ten_percent_plus_12mo...\n",
      "Random Forest F1 Score: 0.9090909090909091\n",
      "Predicted Result   0  1\n",
      "Actual Result          \n",
      "0                 19  1\n",
      "1                  1  1\n",
      "XGBoost F1 Score: 0.8658008658008658\n",
      "Predicted Result   0\n",
      "Actual Result       \n",
      "0                 20\n",
      "1                  2\n",
      "None\n",
      "Predicting for: 78745...\n"
     ]
    },
    {
     "name": "stderr",
     "output_type": "stream",
     "text": [
      "/Users/philglazer/anaconda3/lib/python3.7/site-packages/sklearn/metrics/classification.py:1143: UndefinedMetricWarning:\n",
      "\n",
      "F-score is ill-defined and being set to 0.0 in labels with no predicted samples.\n",
      "\n",
      "/Users/philglazer/anaconda3/lib/python3.7/site-packages/pandas/core/frame.py:3940: SettingWithCopyWarning:\n",
      "\n",
      "\n",
      "A value is trying to be set on a copy of a slice from a DataFrame\n",
      "\n",
      "See the caveats in the documentation: http://pandas.pydata.org/pandas-docs/stable/indexing.html#indexing-view-versus-copy\n",
      "\n"
     ]
    },
    {
     "name": "stdout",
     "output_type": "stream",
     "text": [
      "---------\n",
      "Predicting positive_3mo_change...\n",
      "Random Forest F1 Score: 1.0\n",
      "Predicted Result   1\n",
      "Actual Result       \n",
      "1                 22\n",
      "XGBoost F1 Score: 1.0\n",
      "Predicted Result   1\n",
      "Actual Result       \n",
      "1                 22\n",
      "None\n"
     ]
    },
    {
     "name": "stderr",
     "output_type": "stream",
     "text": [
      "/Users/philglazer/anaconda3/lib/python3.7/site-packages/pandas/core/frame.py:3940: SettingWithCopyWarning:\n",
      "\n",
      "\n",
      "A value is trying to be set on a copy of a slice from a DataFrame\n",
      "\n",
      "See the caveats in the documentation: http://pandas.pydata.org/pandas-docs/stable/indexing.html#indexing-view-versus-copy\n",
      "\n"
     ]
    },
    {
     "name": "stdout",
     "output_type": "stream",
     "text": [
      "---------\n",
      "Predicting positive_6mo_change...\n",
      "Random Forest F1 Score: 1.0\n",
      "Predicted Result   1\n",
      "Actual Result       \n",
      "1                 22\n",
      "XGBoost F1 Score: 1.0\n",
      "Predicted Result   1\n",
      "Actual Result       \n",
      "1                 22\n",
      "None\n"
     ]
    },
    {
     "name": "stderr",
     "output_type": "stream",
     "text": [
      "/Users/philglazer/anaconda3/lib/python3.7/site-packages/pandas/core/frame.py:3940: SettingWithCopyWarning:\n",
      "\n",
      "\n",
      "A value is trying to be set on a copy of a slice from a DataFrame\n",
      "\n",
      "See the caveats in the documentation: http://pandas.pydata.org/pandas-docs/stable/indexing.html#indexing-view-versus-copy\n",
      "\n"
     ]
    },
    {
     "name": "stdout",
     "output_type": "stream",
     "text": [
      "---------\n",
      "Predicting positive_12mo_change...\n",
      "Random Forest F1 Score: 1.0\n",
      "Predicted Result   1\n",
      "Actual Result       \n",
      "1                 22\n",
      "XGBoost F1 Score: 1.0\n",
      "Predicted Result   1\n",
      "Actual Result       \n",
      "1                 22\n",
      "None\n"
     ]
    },
    {
     "name": "stderr",
     "output_type": "stream",
     "text": [
      "/Users/philglazer/anaconda3/lib/python3.7/site-packages/pandas/core/frame.py:3940: SettingWithCopyWarning:\n",
      "\n",
      "\n",
      "A value is trying to be set on a copy of a slice from a DataFrame\n",
      "\n",
      "See the caveats in the documentation: http://pandas.pydata.org/pandas-docs/stable/indexing.html#indexing-view-versus-copy\n",
      "\n"
     ]
    },
    {
     "name": "stdout",
     "output_type": "stream",
     "text": [
      "---------\n",
      "Predicting two_percent_plus_12mo...\n",
      "Random Forest F1 Score: 1.0\n",
      "Predicted Result   1\n",
      "Actual Result       \n",
      "1                 22\n",
      "XGBoost F1 Score: 1.0\n",
      "Predicted Result   1\n",
      "Actual Result       \n",
      "1                 22\n",
      "None\n"
     ]
    },
    {
     "name": "stderr",
     "output_type": "stream",
     "text": [
      "/Users/philglazer/anaconda3/lib/python3.7/site-packages/pandas/core/frame.py:3940: SettingWithCopyWarning:\n",
      "\n",
      "\n",
      "A value is trying to be set on a copy of a slice from a DataFrame\n",
      "\n",
      "See the caveats in the documentation: http://pandas.pydata.org/pandas-docs/stable/indexing.html#indexing-view-versus-copy\n",
      "\n"
     ]
    },
    {
     "name": "stdout",
     "output_type": "stream",
     "text": [
      "---------\n",
      "Predicting five_percent_plus_12mo...\n",
      "Random Forest F1 Score: 0.9323467230443975\n",
      "Predicted Result   1\n",
      "Actual Result       \n",
      "0                  1\n",
      "1                 21\n",
      "XGBoost F1 Score: 0.9323467230443975\n",
      "Predicted Result   1\n",
      "Actual Result       \n",
      "0                  1\n",
      "1                 21\n",
      "None\n"
     ]
    },
    {
     "name": "stderr",
     "output_type": "stream",
     "text": [
      "/Users/philglazer/anaconda3/lib/python3.7/site-packages/sklearn/metrics/classification.py:1143: UndefinedMetricWarning:\n",
      "\n",
      "F-score is ill-defined and being set to 0.0 in labels with no predicted samples.\n",
      "\n",
      "/Users/philglazer/anaconda3/lib/python3.7/site-packages/pandas/core/frame.py:3940: SettingWithCopyWarning:\n",
      "\n",
      "\n",
      "A value is trying to be set on a copy of a slice from a DataFrame\n",
      "\n",
      "See the caveats in the documentation: http://pandas.pydata.org/pandas-docs/stable/indexing.html#indexing-view-versus-copy\n",
      "\n"
     ]
    },
    {
     "name": "stdout",
     "output_type": "stream",
     "text": [
      "---------\n",
      "Predicting ten_percent_plus_12mo...\n",
      "Random Forest F1 Score: 0.9090909090909091\n",
      "Predicted Result   0  1\n",
      "Actual Result          \n",
      "0                 13  1\n",
      "1                  1  7\n",
      "XGBoost F1 Score: 0.8614420062695924\n",
      "Predicted Result   0  1\n",
      "Actual Result          \n",
      "0                 13  1\n",
      "1                  2  6\n",
      "None\n",
      "Predicting for: 28027...\n"
     ]
    },
    {
     "name": "stderr",
     "output_type": "stream",
     "text": [
      "/Users/philglazer/anaconda3/lib/python3.7/site-packages/pandas/core/frame.py:3940: SettingWithCopyWarning:\n",
      "\n",
      "\n",
      "A value is trying to be set on a copy of a slice from a DataFrame\n",
      "\n",
      "See the caveats in the documentation: http://pandas.pydata.org/pandas-docs/stable/indexing.html#indexing-view-versus-copy\n",
      "\n"
     ]
    },
    {
     "name": "stdout",
     "output_type": "stream",
     "text": [
      "---------\n",
      "Predicting positive_3mo_change...\n",
      "Random Forest F1 Score: 0.8658008658008658\n",
      "Predicted Result   1\n",
      "Actual Result       \n",
      "0                  2\n",
      "1                 20\n",
      "XGBoost F1 Score: 0.8658008658008658\n",
      "Predicted Result   1\n",
      "Actual Result       \n",
      "0                  2\n",
      "1                 20\n",
      "None\n"
     ]
    },
    {
     "name": "stderr",
     "output_type": "stream",
     "text": [
      "/Users/philglazer/anaconda3/lib/python3.7/site-packages/sklearn/metrics/classification.py:1143: UndefinedMetricWarning:\n",
      "\n",
      "F-score is ill-defined and being set to 0.0 in labels with no predicted samples.\n",
      "\n",
      "/Users/philglazer/anaconda3/lib/python3.7/site-packages/pandas/core/frame.py:3940: SettingWithCopyWarning:\n",
      "\n",
      "\n",
      "A value is trying to be set on a copy of a slice from a DataFrame\n",
      "\n",
      "See the caveats in the documentation: http://pandas.pydata.org/pandas-docs/stable/indexing.html#indexing-view-versus-copy\n",
      "\n"
     ]
    },
    {
     "name": "stdout",
     "output_type": "stream",
     "text": [
      "---------\n",
      "Predicting positive_6mo_change...\n",
      "Random Forest F1 Score: 0.8658008658008658\n",
      "Predicted Result   1\n",
      "Actual Result       \n",
      "0                  2\n",
      "1                 20\n",
      "XGBoost F1 Score: 0.8658008658008658\n",
      "Predicted Result   1\n",
      "Actual Result       \n",
      "0                  2\n",
      "1                 20\n",
      "None\n"
     ]
    },
    {
     "name": "stderr",
     "output_type": "stream",
     "text": [
      "/Users/philglazer/anaconda3/lib/python3.7/site-packages/sklearn/metrics/classification.py:1143: UndefinedMetricWarning:\n",
      "\n",
      "F-score is ill-defined and being set to 0.0 in labels with no predicted samples.\n",
      "\n",
      "/Users/philglazer/anaconda3/lib/python3.7/site-packages/pandas/core/frame.py:3940: SettingWithCopyWarning:\n",
      "\n",
      "\n",
      "A value is trying to be set on a copy of a slice from a DataFrame\n",
      "\n",
      "See the caveats in the documentation: http://pandas.pydata.org/pandas-docs/stable/indexing.html#indexing-view-versus-copy\n",
      "\n"
     ]
    },
    {
     "name": "stdout",
     "output_type": "stream",
     "text": [
      "---------\n",
      "Predicting positive_12mo_change...\n",
      "Random Forest F1 Score: 1.0\n",
      "Predicted Result   1\n",
      "Actual Result       \n",
      "1                 22\n",
      "XGBoost F1 Score: 1.0\n",
      "Predicted Result   1\n",
      "Actual Result       \n",
      "1                 22\n",
      "None\n"
     ]
    },
    {
     "name": "stderr",
     "output_type": "stream",
     "text": [
      "/Users/philglazer/anaconda3/lib/python3.7/site-packages/pandas/core/frame.py:3940: SettingWithCopyWarning:\n",
      "\n",
      "\n",
      "A value is trying to be set on a copy of a slice from a DataFrame\n",
      "\n",
      "See the caveats in the documentation: http://pandas.pydata.org/pandas-docs/stable/indexing.html#indexing-view-versus-copy\n",
      "\n"
     ]
    },
    {
     "name": "stdout",
     "output_type": "stream",
     "text": [
      "---------\n",
      "Predicting two_percent_plus_12mo...\n",
      "Random Forest F1 Score: 0.7772727272727273\n",
      "Predicted Result  0   1\n",
      "Actual Result          \n",
      "0                 0   3\n",
      "1                 1  18\n",
      "XGBoost F1 Score: 0.8004434589800443\n",
      "Predicted Result   1\n",
      "Actual Result       \n",
      "0                  3\n",
      "1                 19\n",
      "None\n"
     ]
    },
    {
     "name": "stderr",
     "output_type": "stream",
     "text": [
      "/Users/philglazer/anaconda3/lib/python3.7/site-packages/sklearn/metrics/classification.py:1143: UndefinedMetricWarning:\n",
      "\n",
      "F-score is ill-defined and being set to 0.0 in labels with no predicted samples.\n",
      "\n",
      "/Users/philglazer/anaconda3/lib/python3.7/site-packages/pandas/core/frame.py:3940: SettingWithCopyWarning:\n",
      "\n",
      "\n",
      "A value is trying to be set on a copy of a slice from a DataFrame\n",
      "\n",
      "See the caveats in the documentation: http://pandas.pydata.org/pandas-docs/stable/indexing.html#indexing-view-versus-copy\n",
      "\n"
     ]
    },
    {
     "name": "stdout",
     "output_type": "stream",
     "text": [
      "---------\n",
      "Predicting five_percent_plus_12mo...\n",
      "Random Forest F1 Score: 0.9542583732057417\n",
      "Predicted Result  0   1\n",
      "Actual Result          \n",
      "0                 9   1\n",
      "1                 0  12\n",
      "XGBoost F1 Score: 0.859180035650624\n",
      "Predicted Result  0   1\n",
      "Actual Result          \n",
      "0                 7   3\n",
      "1                 0  12\n",
      "None\n"
     ]
    },
    {
     "name": "stderr",
     "output_type": "stream",
     "text": [
      "/Users/philglazer/anaconda3/lib/python3.7/site-packages/pandas/core/frame.py:3940: SettingWithCopyWarning:\n",
      "\n",
      "\n",
      "A value is trying to be set on a copy of a slice from a DataFrame\n",
      "\n",
      "See the caveats in the documentation: http://pandas.pydata.org/pandas-docs/stable/indexing.html#indexing-view-versus-copy\n",
      "\n"
     ]
    },
    {
     "name": "stdout",
     "output_type": "stream",
     "text": [
      "---------\n",
      "Predicting ten_percent_plus_12mo...\n",
      "Random Forest F1 Score: 1.0\n",
      "Predicted Result   0\n",
      "Actual Result       \n",
      "0                 22\n",
      "XGBoost F1 Score: 1.0\n",
      "Predicted Result   0\n",
      "Actual Result       \n",
      "0                 22\n",
      "None\n",
      "Predicting for: 48197...\n"
     ]
    },
    {
     "name": "stderr",
     "output_type": "stream",
     "text": [
      "/Users/philglazer/anaconda3/lib/python3.7/site-packages/pandas/core/frame.py:3940: SettingWithCopyWarning:\n",
      "\n",
      "\n",
      "A value is trying to be set on a copy of a slice from a DataFrame\n",
      "\n",
      "See the caveats in the documentation: http://pandas.pydata.org/pandas-docs/stable/indexing.html#indexing-view-versus-copy\n",
      "\n"
     ]
    },
    {
     "name": "stdout",
     "output_type": "stream",
     "text": [
      "---------\n",
      "Predicting positive_3mo_change...\n",
      "Random Forest F1 Score: 1.0\n",
      "Predicted Result   1\n",
      "Actual Result       \n",
      "1                 22\n",
      "XGBoost F1 Score: 1.0\n",
      "Predicted Result   1\n",
      "Actual Result       \n",
      "1                 22\n",
      "None\n"
     ]
    },
    {
     "name": "stderr",
     "output_type": "stream",
     "text": [
      "/Users/philglazer/anaconda3/lib/python3.7/site-packages/pandas/core/frame.py:3940: SettingWithCopyWarning:\n",
      "\n",
      "\n",
      "A value is trying to be set on a copy of a slice from a DataFrame\n",
      "\n",
      "See the caveats in the documentation: http://pandas.pydata.org/pandas-docs/stable/indexing.html#indexing-view-versus-copy\n",
      "\n"
     ]
    },
    {
     "name": "stdout",
     "output_type": "stream",
     "text": [
      "---------\n",
      "Predicting positive_6mo_change...\n",
      "Random Forest F1 Score: 1.0\n",
      "Predicted Result   1\n",
      "Actual Result       \n",
      "1                 22\n",
      "XGBoost F1 Score: 1.0\n",
      "Predicted Result   1\n",
      "Actual Result       \n",
      "1                 22\n",
      "None\n"
     ]
    },
    {
     "name": "stderr",
     "output_type": "stream",
     "text": [
      "/Users/philglazer/anaconda3/lib/python3.7/site-packages/pandas/core/frame.py:3940: SettingWithCopyWarning:\n",
      "\n",
      "\n",
      "A value is trying to be set on a copy of a slice from a DataFrame\n",
      "\n",
      "See the caveats in the documentation: http://pandas.pydata.org/pandas-docs/stable/indexing.html#indexing-view-versus-copy\n",
      "\n"
     ]
    },
    {
     "name": "stdout",
     "output_type": "stream",
     "text": [
      "---------\n",
      "Predicting positive_12mo_change...\n",
      "Random Forest F1 Score: 1.0\n",
      "Predicted Result   1\n",
      "Actual Result       \n",
      "1                 22\n",
      "XGBoost F1 Score: 1.0\n",
      "Predicted Result   1\n",
      "Actual Result       \n",
      "1                 22\n",
      "None\n"
     ]
    },
    {
     "name": "stderr",
     "output_type": "stream",
     "text": [
      "/Users/philglazer/anaconda3/lib/python3.7/site-packages/pandas/core/frame.py:3940: SettingWithCopyWarning:\n",
      "\n",
      "\n",
      "A value is trying to be set on a copy of a slice from a DataFrame\n",
      "\n",
      "See the caveats in the documentation: http://pandas.pydata.org/pandas-docs/stable/indexing.html#indexing-view-versus-copy\n",
      "\n"
     ]
    },
    {
     "name": "stdout",
     "output_type": "stream",
     "text": [
      "---------\n",
      "Predicting two_percent_plus_12mo...\n",
      "Random Forest F1 Score: 1.0\n",
      "Predicted Result   1\n",
      "Actual Result       \n",
      "1                 22\n",
      "XGBoost F1 Score: 1.0\n",
      "Predicted Result   1\n",
      "Actual Result       \n",
      "1                 22\n",
      "None\n"
     ]
    },
    {
     "name": "stderr",
     "output_type": "stream",
     "text": [
      "/Users/philglazer/anaconda3/lib/python3.7/site-packages/pandas/core/frame.py:3940: SettingWithCopyWarning:\n",
      "\n",
      "\n",
      "A value is trying to be set on a copy of a slice from a DataFrame\n",
      "\n",
      "See the caveats in the documentation: http://pandas.pydata.org/pandas-docs/stable/indexing.html#indexing-view-versus-copy\n",
      "\n"
     ]
    },
    {
     "name": "stdout",
     "output_type": "stream",
     "text": [
      "---------\n",
      "Predicting five_percent_plus_12mo...\n",
      "Random Forest F1 Score: 0.8658008658008658\n",
      "Predicted Result   1\n",
      "Actual Result       \n",
      "0                  2\n",
      "1                 20\n",
      "XGBoost F1 Score: 0.8658008658008658\n",
      "Predicted Result   1\n",
      "Actual Result       \n",
      "0                  2\n",
      "1                 20\n",
      "None\n"
     ]
    },
    {
     "name": "stderr",
     "output_type": "stream",
     "text": [
      "/Users/philglazer/anaconda3/lib/python3.7/site-packages/sklearn/metrics/classification.py:1143: UndefinedMetricWarning:\n",
      "\n",
      "F-score is ill-defined and being set to 0.0 in labels with no predicted samples.\n",
      "\n",
      "/Users/philglazer/anaconda3/lib/python3.7/site-packages/pandas/core/frame.py:3940: SettingWithCopyWarning:\n",
      "\n",
      "\n",
      "A value is trying to be set on a copy of a slice from a DataFrame\n",
      "\n",
      "See the caveats in the documentation: http://pandas.pydata.org/pandas-docs/stable/indexing.html#indexing-view-versus-copy\n",
      "\n"
     ]
    },
    {
     "name": "stdout",
     "output_type": "stream",
     "text": [
      "---------\n",
      "Predicting ten_percent_plus_12mo...\n",
      "Random Forest F1 Score: 0.7992424242424243\n",
      "Predicted Result   0  1\n",
      "Actual Result          \n",
      "0                 14  0\n",
      "1                  4  4\n",
      "XGBoost F1 Score: 0.494949494949495\n",
      "Predicted Result   0\n",
      "Actual Result       \n",
      "0                 14\n",
      "1                  8\n",
      "None\n",
      "Predicting for: 66062...\n"
     ]
    },
    {
     "name": "stderr",
     "output_type": "stream",
     "text": [
      "/Users/philglazer/anaconda3/lib/python3.7/site-packages/sklearn/metrics/classification.py:1143: UndefinedMetricWarning:\n",
      "\n",
      "F-score is ill-defined and being set to 0.0 in labels with no predicted samples.\n",
      "\n",
      "/Users/philglazer/anaconda3/lib/python3.7/site-packages/pandas/core/frame.py:3940: SettingWithCopyWarning:\n",
      "\n",
      "\n",
      "A value is trying to be set on a copy of a slice from a DataFrame\n",
      "\n",
      "See the caveats in the documentation: http://pandas.pydata.org/pandas-docs/stable/indexing.html#indexing-view-versus-copy\n",
      "\n"
     ]
    },
    {
     "ename": "ValueError",
     "evalue": "Input contains NaN, infinity or a value too large for dtype('float32').",
     "output_type": "error",
     "traceback": [
      "\u001b[0;31m---------------------------------------------------------------------------\u001b[0m",
      "\u001b[0;31mValueError\u001b[0m                                Traceback (most recent call last)",
      "\u001b[0;32m<ipython-input-939-30c1ea497e46>\u001b[0m in \u001b[0;36m<module>\u001b[0;34m\u001b[0m\n\u001b[1;32m      1\u001b[0m \u001b[0;32mfor\u001b[0m \u001b[0mg\u001b[0m \u001b[0;32min\u001b[0m \u001b[0mgood_zips2\u001b[0m\u001b[0;34m:\u001b[0m\u001b[0;34m\u001b[0m\u001b[0;34m\u001b[0m\u001b[0m\n\u001b[1;32m      2\u001b[0m     \u001b[0mprint\u001b[0m\u001b[0;34m(\u001b[0m\u001b[0;34m\"Predicting for: \"\u001b[0m \u001b[0;34m+\u001b[0m \u001b[0mstr\u001b[0m\u001b[0;34m(\u001b[0m\u001b[0mg\u001b[0m\u001b[0;34m)\u001b[0m \u001b[0;34m+\u001b[0m \u001b[0;34m\"...\"\u001b[0m\u001b[0;34m)\u001b[0m\u001b[0;34m\u001b[0m\u001b[0;34m\u001b[0m\u001b[0m\n\u001b[0;32m----> 3\u001b[0;31m     \u001b[0miterate_over_predictions\u001b[0m\u001b[0;34m(\u001b[0m\u001b[0mg\u001b[0m\u001b[0;34m)\u001b[0m\u001b[0;34m\u001b[0m\u001b[0;34m\u001b[0m\u001b[0m\n\u001b[0m",
      "\u001b[0;32m<ipython-input-889-23c72180474d>\u001b[0m in \u001b[0;36miterate_over_predictions\u001b[0;34m(zip_code)\u001b[0m\n\u001b[1;32m      4\u001b[0m \u001b[0;32mdef\u001b[0m \u001b[0miterate_over_predictions\u001b[0m\u001b[0;34m(\u001b[0m\u001b[0mzip_code\u001b[0m\u001b[0;34m)\u001b[0m\u001b[0;34m:\u001b[0m\u001b[0;34m\u001b[0m\u001b[0;34m\u001b[0m\u001b[0m\n\u001b[1;32m      5\u001b[0m     \u001b[0;32mfor\u001b[0m \u001b[0mp\u001b[0m \u001b[0;32min\u001b[0m \u001b[0mprediction_list\u001b[0m\u001b[0;34m:\u001b[0m\u001b[0;34m\u001b[0m\u001b[0;34m\u001b[0m\u001b[0m\n\u001b[0;32m----> 6\u001b[0;31m         \u001b[0mprint\u001b[0m\u001b[0;34m(\u001b[0m\u001b[0mrun_full_model\u001b[0m\u001b[0;34m(\u001b[0m\u001b[0mzip_code\u001b[0m\u001b[0;34m,\u001b[0m\u001b[0mp\u001b[0m\u001b[0;34m)\u001b[0m\u001b[0;34m)\u001b[0m\u001b[0;34m\u001b[0m\u001b[0;34m\u001b[0m\u001b[0m\n\u001b[0m",
      "\u001b[0;32m<ipython-input-887-8a06d7d7301b>\u001b[0m in \u001b[0;36mrun_full_model\u001b[0;34m(zip_code, target_col)\u001b[0m\n\u001b[1;32m     52\u001b[0m     \u001b[0;31m# Random Classifier Fitting\u001b[0m\u001b[0;34m\u001b[0m\u001b[0;34m\u001b[0m\u001b[0;34m\u001b[0m\u001b[0m\n\u001b[1;32m     53\u001b[0m     \u001b[0mclf\u001b[0m \u001b[0;34m=\u001b[0m \u001b[0mRandomForestClassifier\u001b[0m\u001b[0;34m(\u001b[0m\u001b[0mn_estimators\u001b[0m\u001b[0;34m=\u001b[0m\u001b[0;36m100\u001b[0m\u001b[0;34m,\u001b[0m \u001b[0mmax_depth\u001b[0m\u001b[0;34m=\u001b[0m\u001b[0;36m2\u001b[0m\u001b[0;34m,\u001b[0m \u001b[0mrandom_state\u001b[0m\u001b[0;34m=\u001b[0m\u001b[0;36m0\u001b[0m\u001b[0;34m)\u001b[0m\u001b[0;34m\u001b[0m\u001b[0;34m\u001b[0m\u001b[0m\n\u001b[0;32m---> 54\u001b[0;31m     \u001b[0mclf\u001b[0m\u001b[0;34m.\u001b[0m\u001b[0mfit\u001b[0m\u001b[0;34m(\u001b[0m\u001b[0mX_train\u001b[0m\u001b[0;34m,\u001b[0m \u001b[0my_train\u001b[0m\u001b[0;34m)\u001b[0m\u001b[0;34m\u001b[0m\u001b[0;34m\u001b[0m\u001b[0m\n\u001b[0m\u001b[1;32m     55\u001b[0m \u001b[0;34m\u001b[0m\u001b[0m\n\u001b[1;32m     56\u001b[0m     \u001b[0my_pred\u001b[0m \u001b[0;34m=\u001b[0m \u001b[0mclf\u001b[0m\u001b[0;34m.\u001b[0m\u001b[0mpredict\u001b[0m\u001b[0;34m(\u001b[0m\u001b[0mX_test\u001b[0m\u001b[0;34m)\u001b[0m\u001b[0;34m\u001b[0m\u001b[0;34m\u001b[0m\u001b[0m\n",
      "\u001b[0;32m~/anaconda3/lib/python3.7/site-packages/sklearn/ensemble/forest.py\u001b[0m in \u001b[0;36mfit\u001b[0;34m(self, X, y, sample_weight)\u001b[0m\n\u001b[1;32m    248\u001b[0m \u001b[0;34m\u001b[0m\u001b[0m\n\u001b[1;32m    249\u001b[0m         \u001b[0;31m# Validate or convert input data\u001b[0m\u001b[0;34m\u001b[0m\u001b[0;34m\u001b[0m\u001b[0;34m\u001b[0m\u001b[0m\n\u001b[0;32m--> 250\u001b[0;31m         \u001b[0mX\u001b[0m \u001b[0;34m=\u001b[0m \u001b[0mcheck_array\u001b[0m\u001b[0;34m(\u001b[0m\u001b[0mX\u001b[0m\u001b[0;34m,\u001b[0m \u001b[0maccept_sparse\u001b[0m\u001b[0;34m=\u001b[0m\u001b[0;34m\"csc\"\u001b[0m\u001b[0;34m,\u001b[0m \u001b[0mdtype\u001b[0m\u001b[0;34m=\u001b[0m\u001b[0mDTYPE\u001b[0m\u001b[0;34m)\u001b[0m\u001b[0;34m\u001b[0m\u001b[0;34m\u001b[0m\u001b[0m\n\u001b[0m\u001b[1;32m    251\u001b[0m         \u001b[0my\u001b[0m \u001b[0;34m=\u001b[0m \u001b[0mcheck_array\u001b[0m\u001b[0;34m(\u001b[0m\u001b[0my\u001b[0m\u001b[0;34m,\u001b[0m \u001b[0maccept_sparse\u001b[0m\u001b[0;34m=\u001b[0m\u001b[0;34m'csc'\u001b[0m\u001b[0;34m,\u001b[0m \u001b[0mensure_2d\u001b[0m\u001b[0;34m=\u001b[0m\u001b[0;32mFalse\u001b[0m\u001b[0;34m,\u001b[0m \u001b[0mdtype\u001b[0m\u001b[0;34m=\u001b[0m\u001b[0;32mNone\u001b[0m\u001b[0;34m)\u001b[0m\u001b[0;34m\u001b[0m\u001b[0;34m\u001b[0m\u001b[0m\n\u001b[1;32m    252\u001b[0m         \u001b[0;32mif\u001b[0m \u001b[0msample_weight\u001b[0m \u001b[0;32mis\u001b[0m \u001b[0;32mnot\u001b[0m \u001b[0;32mNone\u001b[0m\u001b[0;34m:\u001b[0m\u001b[0;34m\u001b[0m\u001b[0;34m\u001b[0m\u001b[0m\n",
      "\u001b[0;32m~/anaconda3/lib/python3.7/site-packages/sklearn/utils/validation.py\u001b[0m in \u001b[0;36mcheck_array\u001b[0;34m(array, accept_sparse, accept_large_sparse, dtype, order, copy, force_all_finite, ensure_2d, allow_nd, ensure_min_samples, ensure_min_features, warn_on_dtype, estimator)\u001b[0m\n\u001b[1;32m    571\u001b[0m         \u001b[0;32mif\u001b[0m \u001b[0mforce_all_finite\u001b[0m\u001b[0;34m:\u001b[0m\u001b[0;34m\u001b[0m\u001b[0;34m\u001b[0m\u001b[0m\n\u001b[1;32m    572\u001b[0m             _assert_all_finite(array,\n\u001b[0;32m--> 573\u001b[0;31m                                allow_nan=force_all_finite == 'allow-nan')\n\u001b[0m\u001b[1;32m    574\u001b[0m \u001b[0;34m\u001b[0m\u001b[0m\n\u001b[1;32m    575\u001b[0m     \u001b[0mshape_repr\u001b[0m \u001b[0;34m=\u001b[0m \u001b[0m_shape_repr\u001b[0m\u001b[0;34m(\u001b[0m\u001b[0marray\u001b[0m\u001b[0;34m.\u001b[0m\u001b[0mshape\u001b[0m\u001b[0;34m)\u001b[0m\u001b[0;34m\u001b[0m\u001b[0;34m\u001b[0m\u001b[0m\n",
      "\u001b[0;32m~/anaconda3/lib/python3.7/site-packages/sklearn/utils/validation.py\u001b[0m in \u001b[0;36m_assert_all_finite\u001b[0;34m(X, allow_nan)\u001b[0m\n\u001b[1;32m     54\u001b[0m                 not allow_nan and not np.isfinite(X).all()):\n\u001b[1;32m     55\u001b[0m             \u001b[0mtype_err\u001b[0m \u001b[0;34m=\u001b[0m \u001b[0;34m'infinity'\u001b[0m \u001b[0;32mif\u001b[0m \u001b[0mallow_nan\u001b[0m \u001b[0;32melse\u001b[0m \u001b[0;34m'NaN, infinity'\u001b[0m\u001b[0;34m\u001b[0m\u001b[0;34m\u001b[0m\u001b[0m\n\u001b[0;32m---> 56\u001b[0;31m             \u001b[0;32mraise\u001b[0m \u001b[0mValueError\u001b[0m\u001b[0;34m(\u001b[0m\u001b[0mmsg_err\u001b[0m\u001b[0;34m.\u001b[0m\u001b[0mformat\u001b[0m\u001b[0;34m(\u001b[0m\u001b[0mtype_err\u001b[0m\u001b[0;34m,\u001b[0m \u001b[0mX\u001b[0m\u001b[0;34m.\u001b[0m\u001b[0mdtype\u001b[0m\u001b[0;34m)\u001b[0m\u001b[0;34m)\u001b[0m\u001b[0;34m\u001b[0m\u001b[0;34m\u001b[0m\u001b[0m\n\u001b[0m\u001b[1;32m     57\u001b[0m \u001b[0;34m\u001b[0m\u001b[0m\n\u001b[1;32m     58\u001b[0m \u001b[0;34m\u001b[0m\u001b[0m\n",
      "\u001b[0;31mValueError\u001b[0m: Input contains NaN, infinity or a value too large for dtype('float32')."
     ]
    },
    {
     "data": {
      "image/png": "[encoded data removed]",
      "text/plain": [
       "<Figure size 432x288 with 1 Axes>"
      ]
     },
     "metadata": {
      "needs_background": "light"
     },
     "output_type": "display_data"
    }
   ],
   "source": [
    "for g in good_zips2:\n",
    "    print(\"Predicting for: \" + str(g) + \"...\")\n",
    "    iterate_over_predictions(g)"
   ]
  }
 ],
 "metadata": {
  "kernelspec": {
   "display_name": "Python 3",
   "language": "python",
   "name": "python3"
  },
  "language_info": {
   "codemirror_mode": {
    "name": "ipython",
    "version": 3
   },
   "file_extension": ".py",
   "mimetype": "text/x-python",
   "name": "python",
   "nbconvert_exporter": "python",
   "pygments_lexer": "ipython3",
   "version": "3.7.3"
  }
 },
 "nbformat": 4,
 "nbformat_minor": 2
}
